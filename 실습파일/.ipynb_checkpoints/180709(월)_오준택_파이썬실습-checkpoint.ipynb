{
 "cells": [
  {
   "cell_type": "markdown",
   "metadata": {},
   "source": [
    "# Exercise 129:Two Dice Simulation\n",
    "- 주사위를 천번 굴리나? 일단 주사위 굴리는 함수로 시작해라\n",
    "- 함수는 인자가 없다. 결과로서 두개의 주사위가 던져진 총합..??\n",
    "- 1000번 던지는거 프로그램 만들어라 \n",
    "- 1000번 던져서 총합이 얼마 나왔는지 100퍼에서 비율 계산하는거 만들어라.. 어렵네"
   ]
  },
  {
   "cell_type": "code",
   "execution_count": 123,
   "metadata": {},
   "outputs": [
    {
     "name": "stdout",
     "output_type": "stream",
     "text": [
      "[0, 0, 26, 45, 93, 116, 133, 162, 144, 126, 73, 57, 25]\n",
      "Total\tSimulated Percent\t\tExpected Percent\n",
      "2 \t\t 2.6 \t\t\t 2.78\n",
      "3 \t\t 4.5 \t\t\t 5.56\n",
      "4 \t\t 9.3 \t\t\t 8.33\n",
      "5 \t\t 11.6 \t\t\t 11.11\n",
      "6 \t\t 13.3 \t\t\t 13.89\n",
      "7 \t\t 16.2 \t\t\t 16.67\n",
      "8 \t\t 14.4 \t\t\t 13.89\n",
      "9 \t\t 12.6 \t\t\t 11.11\n",
      "10 \t\t 7.3 \t\t\t 8.33\n",
      "11 \t\t 5.7 \t\t\t 5.56\n",
      "12 \t\t 2.5 \t\t\t 2.78\n"
     ]
    }
   ],
   "source": [
    "import random\n",
    "def rollTwoDice() :\n",
    "    a = random.randrange(1,7)\n",
    "    b = random.randrange(1,7)\n",
    "    return a+b\n",
    "D = [0 for _ in range(13)]\n",
    "ED = {2 : 2.78, 3 : 5.56, 4 : 8.33, 5 : 11.11, 6 : 13.89, 7 : 16.67, 8 : 13.89, 9 : 11.11, 10 : 8.33, 11 : 5.56, 12 : 2.78}\n",
    "for i in range(1,1001) :\n",
    "    D[rollTwoDice()] += 1\n",
    "print(D)\n",
    "S = sum(D)\n",
    "for i in range(2,13) :\n",
    "    D[i] = round((D[i]/S)*100, 2)\n",
    "print('Total\\tSimulated Percent\\t\\tExpected Percent')\n",
    "for i in range(2,13) :\n",
    "    print(i,\"\\t\\t\",D[i],\"\\t\\t\\t\",ED[i])\n"
   ]
  },
  {
   "cell_type": "code",
   "execution_count": null,
   "metadata": {},
   "outputs": [],
   "source": []
  }
 ],
 "metadata": {
  "kernelspec": {
   "display_name": "Python 3",
   "language": "python",
   "name": "python3"
  },
  "language_info": {
   "codemirror_mode": {
    "name": "ipython",
    "version": 3
   },
   "file_extension": ".py",
   "mimetype": "text/x-python",
   "name": "python",
   "nbconvert_exporter": "python",
   "pygments_lexer": "ipython3",
   "version": "3.6.5"
  }
 },
 "nbformat": 4,
 "nbformat_minor": 2
}
