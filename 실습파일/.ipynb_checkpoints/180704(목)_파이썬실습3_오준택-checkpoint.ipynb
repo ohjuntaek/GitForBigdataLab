{
 "cells": [
  {
   "cell_type": "markdown",
   "metadata": {},
   "source": [
    "# Exercise 82: Texi Fare\n",
    "* 기본요금 4.00, 추가 요금 140미터당 0.25\n",
    "* 킬로미터로 거리를 받아서 총 요금을 리턴하는 함수 작성\n",
    "* 힌트는 뭐 잘해라 이런내용"
   ]
  },
  {
   "cell_type": "code",
   "execution_count": 5,
   "metadata": {},
   "outputs": [
    {
     "name": "stdout",
     "output_type": "stream",
     "text": [
      "12.928571428571427\n",
      "5.785714285714286\n",
      "4.25\n",
      "4.5\n"
     ]
    }
   ],
   "source": [
    "base = 4.00\n",
    "plus = 0.25\n",
    "def taxiFare(distance) :\n",
    "    return base+(distance/0.14)*plus\n",
    "print(taxiFare(5))\n",
    "print(taxiFare(1))\n",
    "print(taxiFare(0.14))\n",
    "print(taxiFare(0.28))\n"
   ]
  },
  {
   "cell_type": "markdown",
   "metadata": {},
   "source": [
    "# Exercise 84: Median of Three Values\n",
    "* 인자로 3개를 받고, 중앙값을 리턴하라. 중앙값은말야 평균이 아니라 중앙값.."
   ]
  },
  {
   "cell_type": "code",
   "execution_count": 27,
   "metadata": {},
   "outputs": [
    {
     "name": "stdout",
     "output_type": "stream",
     "text": [
      "3\n"
     ]
    }
   ],
   "source": [
    "def printMedian(L) :\n",
    "    L = sorted([1,7,3])\n",
    "    return L[((len(L))//2) if len(L)%2 == 1 else ((len(L))//2)-1]\n",
    "print(printMedian([1,7,3]))"
   ]
  },
  {
   "cell_type": "markdown",
   "metadata": {},
   "source": [
    "# Exercise 85: Convert an Integer to its Ordinal Number\n",
    "* 제목 : 정수를 Ordinal 수로 변환하라\n",
    "* 단어는 first, second, third 같은 건데 이런게 ordinal number란다\n",
    "* 정수를 인자로 받아서 그걸 ordinal number로 리턴하라\n",
    "* 예를들어 1부터 12까지 인자로 받으면 그것의 ordinal number를 출력하는거..\n",
    "* 이게 다른 프로그램에서 imported 되면 안된다.. 이건 뭐야?"
   ]
  },
  {
   "cell_type": "code",
   "execution_count": 10,
   "metadata": {},
   "outputs": [
    {
     "name": "stdout",
     "output_type": "stream",
     "text": [
      "3 third\n",
      "4 fourth\n",
      "13 땡\n"
     ]
    }
   ],
   "source": [
    "L = {1 : \"first\", 2 : \"second\", 3 : \"third\", 4 : \"fourth\", 5 : \"fifth\", 6 : \"sixth\", 7: \"seventh\"}\n",
    "def printOrdinal(a) :\n",
    "    if 0 < a < 12 :\n",
    "        return L[a]\n",
    "    else :\n",
    "        return \"\"\n",
    "print(3, printOrdinal(3))\n",
    "print(4, printOrdinal(4))\n",
    "print(13, printOrdinal(13))"
   ]
  },
  {
   "cell_type": "markdown",
   "metadata": {},
   "source": [
    "# Exercise 88: is it a Valid Triangle?\n",
    "* 3개의 straws? 다른 길이, 삼각형만들기 끝닿게해서.. 빨대맞네\n",
    "* 예로 다 6인치면 정삼각형 쉽게만들고 \n",
    "* 한개만 6인치고 딴건 2인치면 안된다\n",
    "* 일반적으로 한개가 다른거의 합보다 크면 안된다..\n",
    "* 이게 되나안되나 확인해주는 함수를 짜라. 인자 3개, boolean return main작성"
   ]
  },
  {
   "cell_type": "code",
   "execution_count": 16,
   "metadata": {},
   "outputs": [
    {
     "name": "stdout",
     "output_type": "stream",
     "text": [
      "True\n",
      "False\n"
     ]
    }
   ],
   "source": [
    "def isPossibleTri(a, b, c) :\n",
    "    L = sorted([a, b, c], reverse=True)\n",
    "    if L[0] > L[1]+L[2] : \n",
    "        return False\n",
    "    else :\n",
    "        return True\n",
    "print(isPossibleTri(6,6,6))\n",
    "print(isPossibleTri(6,2,2))"
   ]
  },
  {
   "cell_type": "markdown",
   "metadata": {},
   "source": [
    "# Exercise 92 : is a Number Prime?\n",
    "* 소수냐? 함수작성..\n",
    "* 메인 뭐시기"
   ]
  },
  {
   "cell_type": "code",
   "execution_count": 30,
   "metadata": {},
   "outputs": [
    {
     "name": "stdout",
     "output_type": "stream",
     "text": [
      "True\n",
      "False\n",
      "True\n",
      "True\n",
      "False\n",
      "True\n"
     ]
    }
   ],
   "source": [
    "def isPrime(a) :\n",
    "    for i in range(2, a//2+1) :\n",
    "        if a % i == 0 :\n",
    "            return False\n",
    "    else :\n",
    "        return True\n",
    "print(isPrime(2))\n",
    "print(isPrime(4))\n",
    "print(isPrime(5))\n",
    "print(isPrime(31))\n",
    "print(isPrime(32))\n",
    "print(isPrime(1297))"
   ]
  },
  {
   "cell_type": "markdown",
   "metadata": {},
   "source": [
    "# Exercise 86 : The Twelve Days of Christmas\n",
    "* 12일의 크리스마스..? 반복되는 노래인데 12일동안 각각 진정한 사랑에게 보내는 뭐야이게\n",
    "* 여튼 벌스를 보면.. \n",
    "* on the () day of Christmas \\n my true love sent to me: 똑같고\n",
    "* 마지막에 And a patridge in a pear tree 똑같고.. 뭐야 모르겠는데 뭔지\n",
    "* 뭔가 이어붙이는거 같은데.. 걍 내맘대로 이어붙이는건가? 일단 해보자\n",
    "* 인터넷에 가사가 있는데 이걸 여튼 잘 만들어서 하는거 같다. 함수를 이용하라. printOrdinal도 이용하라(7까지만한다)\n"
   ]
  },
  {
   "cell_type": "code",
   "execution_count": 47,
   "metadata": {},
   "outputs": [
    {
     "name": "stdout",
     "output_type": "stream",
     "text": [
      "On the  first day of Christmas my true love sent to me\n",
      "A partridge in a pear tree\n",
      "\n",
      "On the  second day of Christmas my true love sent to me\n",
      "Two turtle doves\n",
      "And a partridge in a pear tree\n",
      "\n",
      "On the  third day of Christmas my true love sent to me\n",
      "Three French hens, partridge in a pear tree\n",
      "\n",
      "On the  fourth day of Christmas my true love sent to me\n",
      "Four calling birds, partridge in a pear tree\n",
      "\n",
      "On the  fifth day of Christmas my true love sent to me\n",
      "Five gold rings, partridge in a pear tree\n",
      "\n",
      "On the  sixth day of Christmas my true love sent to me\n",
      "Six geese a laying, partridge in a pear tree\n",
      "\n",
      "On the  seventh day of Christmas my true love sent to me\n",
      "Seven swans a swimming, partridge in a pear tree\n",
      "\n"
     ]
    },
    {
     "data": {
      "text/plain": [
       "0"
      ]
     },
     "execution_count": 47,
     "metadata": {},
     "output_type": "execute_result"
    }
   ],
   "source": [
    "L = {1 : \"first\", 2 : \"second\", 3 : \"third\", 4 : \"fourth\", 5 : \"fifth\", 6 : \"sixth\", 7: \"seventh\"}\n",
    "def printOrdinal(a) :\n",
    "    if 0 < a < 12 :\n",
    "        return L[a]\n",
    "    else :\n",
    "        return \"\"\n",
    "s = 0\n",
    "Lyrics = {1 : 'A', 2 : 'Two turtle doves\\nAnd a', 3: 'Three French hens,', 4: 'Four calling birds,', 5: 'Five gold rings,', 6: 'Six geese a laying,', 7:'Seven swans a swimming,'}\n",
    "def printLyrics(a) :\n",
    "    global s\n",
    "    if a == 8 : \n",
    "        return 0\n",
    "    print('On the ', printOrdinal(a) ,'day of Christmas my true love sent to me')\n",
    "    print(Lyrics[a],end=\" \")\n",
    "    print('partridge in a pear tree')\n",
    "    print()\n",
    "    return printLyrics(a+1)\n",
    "printLyrics(1)"
   ]
  },
  {
   "cell_type": "code",
   "execution_count": null,
   "metadata": {},
   "outputs": [],
   "source": []
  }
 ],
 "metadata": {
  "kernelspec": {
   "display_name": "Python 3",
   "language": "python",
   "name": "python3"
  },
  "language_info": {
   "codemirror_mode": {
    "name": "ipython",
    "version": 3
   },
   "file_extension": ".py",
   "mimetype": "text/x-python",
   "name": "python",
   "nbconvert_exporter": "python",
   "pygments_lexer": "ipython3",
   "version": "3.6.5"
  }
 },
 "nbformat": 4,
 "nbformat_minor": 2
}
