{
 "cells": [
  {
   "cell_type": "markdown",
   "metadata": {},
   "source": [
    "# Exercise 61 : Average\n",
    "* 값의 collection의 평균을 구하는 프로그램 작성하라\n",
    "* 0은 종료 표시다\n",
    "* 만약에 처음 입력이 0 이면 에러 메세지 출력하라"
   ]
  },
  {
   "cell_type": "code",
   "execution_count": 31,
   "metadata": {},
   "outputs": [
    {
     "name": "stdout",
     "output_type": "stream",
     "text": [
      "0\n",
      "error! you have to enter value again except 0\n",
      "3\n",
      "4\n",
      "5\n",
      "0\n",
      "4.0\n"
     ]
    }
   ],
   "source": [
    "L = []\n",
    "while(True) :\n",
    "    a = input()\n",
    "    if int(a) == 0 :\n",
    "        try : \n",
    "            b = sum(L)/len(L)\n",
    "        except:\n",
    "            print(\"error! you have to enter value again except 0\")\n",
    "            continue\n",
    "        break\n",
    "    else :\n",
    "        L.append(int(a))\n",
    "print(b)\n",
    "        \n",
    "        "
   ]
  },
  {
   "cell_type": "markdown",
   "metadata": {},
   "source": [
    "# Excercise 63: Temperature Conversion Table\n",
    "* C와 F 테이블 작성하라.\n",
    "* C는 0 100 사이, 10의 배수인거 표시\n",
    "* 적절한 칼럼의 이름 넣고 해라\n",
    "* 32화씨 = 0섭씨\n",
    "* °F = °C × 1.8 + 32"
   ]
  },
  {
   "cell_type": "code",
   "execution_count": 29,
   "metadata": {},
   "outputs": [
    {
     "name": "stdout",
     "output_type": "stream",
     "text": [
      "°C\t|\t°F\n",
      "0\t|\t32.0\n",
      "10\t|\t50.0\n",
      "20\t|\t68.0\n",
      "30\t|\t86.0\n",
      "40\t|\t104.0\n",
      "50\t|\t122.0\n",
      "60\t|\t140.0\n",
      "70\t|\t158.0\n",
      "80\t|\t176.0\n",
      "90\t|\t194.0\n",
      "100\t|\t212.0\n"
     ]
    }
   ],
   "source": [
    "print(\"°C\\t|\\t°F\")\n",
    "for i in range(0,11):\n",
    "    C = 10*i\n",
    "    F = C*1.8+32\n",
    "    print(str(C)+\"\\t|\\t\"+str(F))"
   ]
  },
  {
   "cell_type": "markdown",
   "metadata": {},
   "source": [
    "# Exercise 66: Compute a grade Point Average\n",
    "* 학점 입력하는 건데 블랭크 입력하면 다 입력된거\n",
    "* A+ : 4.0, A:4.0, A- : 3.7, B+ : 3.3, B:3.0, B-:2.7, C+:2.3, C:2.0, C-:1.7, D+:1.3, D : 1.0, F:0, 평균 계산\n",
    "* 이상한거 입력하면 오류메세지 출력하게\n",
    "* map? hash? dict 쓰고, 값 있는지 없는지 보고 in 이였나 있으면 밸류 더해줘서 평균 구하기"
   ]
  },
  {
   "cell_type": "code",
   "execution_count": 2,
   "metadata": {},
   "outputs": [
    {
     "name": "stdout",
     "output_type": "stream",
     "text": [
      "a\n",
      "retry\n",
      "g\n",
      "retry\n",
      "3\n",
      "retry\n",
      "4\n",
      "retry\n",
      "A\n",
      "A+\n",
      "B\n",
      "B+\n",
      "F\n",
      "D\n",
      "\n",
      "2.5500000000000003\n"
     ]
    }
   ],
   "source": [
    "D = dict()\n",
    "D = {'A+' : 4.0, 'A':4.0, 'A-' : 3.7, 'B+' : 3.3, 'B':3.0, 'B-':2.7, 'C+':2.3, 'C':2.0, 'C-':1.7, 'D+':1.3, 'D' : 1.0, 'F':0}\n",
    "s = 0\n",
    "i = 0\n",
    "while(True):\n",
    "    try :\n",
    "        a = input()\n",
    "        if(a == \"\") :\n",
    "            break\n",
    "        s += D[str(a)]\n",
    "        i += 1\n",
    "    except : \n",
    "        print(\"retry\")\n",
    "print(s/i)\n"
   ]
  },
  {
   "cell_type": "markdown",
   "metadata": {},
   "source": [
    "# Excercise 67: Admission Price\n",
    "* 특정 동물원은 나이에 따라 입장료를 계산한다\n",
    "* 2살 이하는 공짜, 3~12세 14달러, 65 이상 18달러, 나머지 23달러\n",
    "* 블랭크 입력 끝\n",
    "* 소수점이하 두자리"
   ]
  },
  {
   "cell_type": "code",
   "execution_count": 15,
   "metadata": {},
   "outputs": [
    {
     "name": "stdout",
     "output_type": "stream",
     "text": [
      "15\n",
      "14\n",
      "1\n",
      "2\n",
      "3\n",
      "\n",
      "60.00\n"
     ]
    }
   ],
   "source": [
    "s = float()\n",
    "while(True) :\n",
    "    a = input()\n",
    "    if a == \"\" :\n",
    "        break\n",
    "    if int(a) <= 2 :\n",
    "        pass\n",
    "    elif 3 <= int(a) < 12 :\n",
    "        s += 14\n",
    "    elif int(a) >= 65 :\n",
    "        s += 18\n",
    "    else :\n",
    "        s += 23\n",
    "print('%.2f' % s)\n",
    "        \n",
    "    "
   ]
  },
  {
   "cell_type": "markdown",
   "metadata": {},
   "source": [
    "# is a String a Palindrome?\n",
    "* palindrome이 뭐냐.. 포워드랑 백워드랑 같으면 이효리 같은거네\n",
    "* 그래서 palindrome이면 맞다고 하고 아니면 아니라고 해라"
   ]
  },
  {
   "cell_type": "code",
   "execution_count": 1,
   "metadata": {},
   "outputs": [
    {
     "name": "stdout",
     "output_type": "stream",
     "text": [
      "anna\n",
      "Palindrome\n",
      "civic\n",
      "Palindrome\n",
      "vicic\n",
      "Nope\n",
      "speof\n",
      "Nope\n",
      "level\n",
      "Palindrome\n",
      "hannah\n",
      "Palindrome\n",
      "\n"
     ]
    }
   ],
   "source": [
    "while(True) :\n",
    "    a = input()\n",
    "    l = 0\n",
    "    flag = True\n",
    "    if a == \"\" : break\n",
    "    for i in a :\n",
    "        if(i == a[len(a)-1-l]) :\n",
    "           pass\n",
    "        else :\n",
    "            flag = False\n",
    "            break\n",
    "        l += 1\n",
    "    if flag == True :\n",
    "        print(\"Palindrome\")\n",
    "    else :\n",
    "        print(\"Nope\")\n",
    "        \n",
    "        \n",
    "        \n",
    "        "
   ]
  },
  {
   "cell_type": "markdown",
   "metadata": {},
   "source": [
    "# Exercise 74: Multiplication Table\n",
    "* 그림 나온대로 구구단 비슷한거 테이블 그려라"
   ]
  },
  {
   "cell_type": "code",
   "execution_count": 5,
   "metadata": {},
   "outputs": [
    {
     "name": "stdout",
     "output_type": "stream",
     "text": [
      "1\t2\t3\t4\t5\t6\t7\t8\t9\t10\t\n",
      "2\t4\t6\t8\t10\t12\t14\t16\t18\t20\t\n",
      "3\t6\t9\t12\t15\t18\t21\t24\t27\t30\t\n",
      "4\t8\t12\t16\t20\t24\t28\t32\t36\t40\t\n",
      "5\t10\t15\t20\t25\t30\t35\t40\t45\t50\t\n",
      "6\t12\t18\t24\t30\t36\t42\t48\t54\t60\t\n",
      "7\t14\t21\t28\t35\t42\t49\t56\t63\t70\t\n",
      "8\t16\t24\t32\t40\t48\t56\t64\t72\t80\t\n",
      "9\t18\t27\t36\t45\t54\t63\t72\t81\t90\t\n",
      "10\t20\t30\t40\t50\t60\t70\t80\t90\t100\t\n"
     ]
    }
   ],
   "source": [
    "for i in range(1,11):\n",
    "    for j in range(1,11):\n",
    "        print(i*j, end=\"\\t\")\n",
    "    print()"
   ]
  },
  {
   "cell_type": "markdown",
   "metadata": {},
   "source": [
    "# Exercise 75 : Greatest Common Divisor\n",
    "* 딱봐도 최대 공약수네\n",
    "* 두개 입력 받아서 최대공약수 출력해라"
   ]
  },
  {
   "cell_type": "code",
   "execution_count": 12,
   "metadata": {},
   "outputs": [
    {
     "name": "stdout",
     "output_type": "stream",
     "text": [
      "25\n",
      "20\n",
      "5\n"
     ]
    }
   ],
   "source": [
    "n = input()\n",
    "m = input()\n",
    "d = min(int(n) ,int(m))-1\n",
    "while (int(m)%d != 0) | (int(n)%d != 0) :\n",
    "    d-=1\n",
    "print(d)"
   ]
  },
  {
   "cell_type": "markdown",
   "metadata": {},
   "source": [
    "# Exercise 77 : Binary to Decimal\n",
    "* 십진수를 2진수로 바꾸어라"
   ]
  },
  {
   "cell_type": "code",
   "execution_count": 35,
   "metadata": {},
   "outputs": [
    {
     "name": "stdout",
     "output_type": "stream",
     "text": [
      "402\n",
      "110010010\n"
     ]
    }
   ],
   "source": [
    "result = \"\"\n",
    "q = int(input())\n",
    "while(q != 0) :\n",
    "    r = q%2\n",
    "    result = str(r) + result\n",
    "    #print(result)\n",
    "    q = q//2\n",
    "print(result)"
   ]
  }
 ],
 "metadata": {
  "kernelspec": {
   "display_name": "Python 3",
   "language": "python",
   "name": "python3"
  },
  "language_info": {
   "codemirror_mode": {
    "name": "ipython",
    "version": 3
   },
   "file_extension": ".py",
   "mimetype": "text/x-python",
   "name": "python",
   "nbconvert_exporter": "python",
   "pygments_lexer": "ipython3",
   "version": "3.6.5"
  }
 },
 "nbformat": 4,
 "nbformat_minor": 2
}
