{
 "cells": [
  {
   "cell_type": "markdown",
   "metadata": {},
   "source": [
    "# 105 Reverse Order\n",
    "* 리스트로부터 정수를 읽는 프로그램을 작성하라\n",
    "* 0을 뭐 끝 알리는 기준값(표시, sentinal)으로 잡아라?\n",
    "* 값을 다 읽고 나서 그거를 역순으로 출력하라\n",
    "* 하나의 값은 하나의 라인에 나타나야함"
   ]
  },
  {
   "cell_type": "code",
   "execution_count": 4,
   "metadata": {},
   "outputs": [
    {
     "name": "stdout",
     "output_type": "stream",
     "text": [
      "8\n",
      "4\n",
      "9\n",
      "2\n",
      "0\n",
      "-------------\n",
      "2\n",
      "9\n",
      "4\n",
      "8\n"
     ]
    }
   ],
   "source": [
    "L = []\n",
    "while(True) :\n",
    "    a = input()\n",
    "    try :\n",
    "        if(int(a) == 0) : \n",
    "            break\n",
    "    except :\n",
    "        continue\n",
    "    L.append(a)\n",
    "L.reverse()\n",
    "i = 0\n",
    "print('-------------')\n",
    "for i in L :\n",
    "    print(i)\n",
    "\n",
    "    "
   ]
  },
  {
   "cell_type": "markdown",
   "metadata": {},
   "source": [
    "# 107 Avoiding Duplicates\n",
    "* 단어를 읽는다.\n",
    "* 만약 공백을 입력하면 끝낸다\n",
    "* 중복 없이 해야한다.."
   ]
  },
  {
   "cell_type": "code",
   "execution_count": 47,
   "metadata": {},
   "outputs": [
    {
     "name": "stdout",
     "output_type": "stream",
     "text": [
      "first\n",
      "second\n",
      "first\n",
      "third\n",
      "\n",
      "\n",
      "second\n",
      "first\n",
      "third\n"
     ]
    }
   ],
   "source": [
    "S = set()\n",
    "\n",
    "while(True) :\n",
    "    a = input()\n",
    "    S.add(a)\n",
    "    if a == '' : break\n",
    "for a in S :\n",
    "    print(a)\n",
    "    "
   ]
  },
  {
   "cell_type": "markdown",
   "metadata": {},
   "source": [
    "# 108: Negatives, Zeros and Positives\n",
    "* 빈칸 입력할떄까지 정수를 읽는 프로그램 작성\n",
    "* 음수먼저 출력, 그다음 0 그다음 양수 출력"
   ]
  },
  {
   "cell_type": "code",
   "execution_count": 6,
   "metadata": {},
   "outputs": [
    {
     "name": "stdout",
     "output_type": "stream",
     "text": [
      "3\n",
      "-4\n",
      "1\n",
      "0\n",
      "-1\n",
      "0\n",
      "-2\n",
      "\n",
      "-4\n",
      "-1\n",
      "-2\n",
      "0\n",
      "0\n",
      "3\n",
      "1\n"
     ]
    }
   ],
   "source": [
    "N = []; Z = []; P = [];\n",
    "while(True) :\n",
    "    a = input()\n",
    "    try : \n",
    "        a = int(a)\n",
    "    except :\n",
    "        break\n",
    "    if a < 0 :\n",
    "        N.append(a)\n",
    "    elif a > 0 :\n",
    "        P.append(a)\n",
    "    else :\n",
    "        Z.append(a)\n",
    "        \n",
    "N.extend(Z)\n",
    "N.extend(P)\n",
    "for i in N :\n",
    "    print(i)\n"
   ]
  },
  {
   "cell_type": "markdown",
   "metadata": {},
   "source": [
    "# Exercise 110 : Perfect Numbers\n",
    "* n을 입력받는데, perfect하다는 건 나눌 수 있는 숫자의 합이 그 숫자가 되는지의 여부\n",
    "* 함수 써서 해라\n",
    "* 메인에서 1부터 10000까지 숫자만 받아라\n",
    "\n",
    "- 어캐하냐?? 1부터 N/2까지 돌려서 일단 나눌수 있는지 따지고 그거를 리스트에 넣어서 sum을 구하라"
   ]
  },
  {
   "cell_type": "code",
   "execution_count": 46,
   "metadata": {},
   "outputs": [
    {
     "name": "stdout",
     "output_type": "stream",
     "text": [
      "28\n",
      "True\n",
      "[1, 2, 4, 7, 14]\n"
     ]
    }
   ],
   "source": [
    "L = []\n",
    "def isPerfect(a):\n",
    "    for i in range(1,a//2+1) :\n",
    "        if a%i == 0 :\n",
    "            L.append(i)\n",
    "    return True if sum(L) == a else False\n",
    "n = input()\n",
    "if(0 < int(n) < 10001) :\n",
    "    print(isPerfect(int(n)))\n",
    "print(L)\n",
    "    "
   ]
  },
  {
   "cell_type": "markdown",
   "metadata": {},
   "source": [
    "# Exercise 113: Formatting a List\n",
    "* 문장 입력하는데, 보통 콤마나 and로 구분한다. and는 보통마지막에 들어간다\n",
    "* parameter만 받는 스트링 리스트를 작성하라\n",
    "* 이게 먼.. 아이템을 입력하면 콤마, 콤마, 마지막에 and 이런걸 반환하는 함수를 작성하라 이런거인듯?"
   ]
  },
  {
   "cell_type": "code",
   "execution_count": 42,
   "metadata": {},
   "outputs": [
    {
     "name": "stdout",
     "output_type": "stream",
     "text": [
      "hi\n",
      "hello\n",
      "bye\n",
      "\n",
      "hi, hello and bye\n"
     ]
    }
   ],
   "source": [
    "\n",
    "def outFommatedStr(s) :\n",
    "    S = \"\"\n",
    "    S = S + s[0]\n",
    "    k = 0\n",
    "    for i in s[1:len(s)] :\n",
    "        k += 1\n",
    "        if k == len(s)-1 :\n",
    "            S = S+' and '+i\n",
    "        else :\n",
    "            S = S+', '+i\n",
    "    return S\n",
    "L = []\n",
    "while(True) :\n",
    "    a = input()\n",
    "    if a == '' : break\n",
    "    else : L.append(a)\n",
    "print(outFommatedStr(L))        \n",
    "\n"
   ]
  },
  {
   "cell_type": "markdown",
   "metadata": {},
   "source": [
    "# Excercise 114 : Random Lottery \n",
    "* 6개의 랜덤 넘버를 생성해라 안똑같은 오름차순으로 보여라.."
   ]
  },
  {
   "cell_type": "code",
   "execution_count": 49,
   "metadata": {},
   "outputs": [],
   "source": [
    "from random import randint"
   ]
  },
  {
   "cell_type": "code",
   "execution_count": 51,
   "metadata": {},
   "outputs": [
    {
     "name": "stdout",
     "output_type": "stream",
     "text": [
      "19\n",
      "23\n",
      "35\n",
      "15\n",
      "9\n",
      "7\n"
     ]
    }
   ],
   "source": [
    "for i in range(6) :\n",
    "    print(randint(0, 49))"
   ]
  }
 ],
 "metadata": {
  "kernelspec": {
   "display_name": "Python 3",
   "language": "python",
   "name": "python3"
  },
  "language_info": {
   "codemirror_mode": {
    "name": "ipython",
    "version": 3
   },
   "file_extension": ".py",
   "mimetype": "text/x-python",
   "name": "python",
   "nbconvert_exporter": "python",
   "pygments_lexer": "ipython3",
   "version": "3.6.5"
  }
 },
 "nbformat": 4,
 "nbformat_minor": 2
}
