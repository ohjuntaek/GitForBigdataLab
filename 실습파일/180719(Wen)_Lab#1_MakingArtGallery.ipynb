{
 "cells": [
  {
   "cell_type": "markdown",
   "metadata": {},
   "source": [
    "# 작가 목록 뽑아서 크롤링 해서 sqlite랑 몽고디비에 데이터 넣어서 그림 쫙 출력할 수 있게"
   ]
  },
  {
   "cell_type": "code",
   "execution_count": 130,
   "metadata": {},
   "outputs": [],
   "source": [
    "import requests"
   ]
  },
  {
   "cell_type": "code",
   "execution_count": 132,
   "metadata": {},
   "outputs": [],
   "source": [
    "resp = requests.get(\"https://www.biographyonline.net/artists/top-10-painters.html\")"
   ]
  },
  {
   "cell_type": "code",
   "execution_count": 133,
   "metadata": {},
   "outputs": [
    {
     "name": "stdout",
     "output_type": "stream",
     "text": [
      "<!DOCTYPE html>\n",
      "<!--[if IE 7 | IE 8]>\n",
      "<html class=\"ie\" lang=\"en-US\">\n",
      "<![endif]-->\n",
      "<!--[if (gte IE 9) | !(IE)]><!-->\n",
      "<html lang=\"en-GB\" prefix=\"og: http://ogp.me/ns#\">\n",
      "<!--<![endif]-->\n",
      "<head>\n",
      "<meta charset=\"UTF-8\" />\n",
      "<meta name=\"viewport\" content=\"width=device-width\" />\n",
      "<meta http-equiv=\"X-UA-Compatible\" content=\"IE=edge,chrome=1\" />\n",
      "<script async src=\"//pagead2.googlesyndication.com/pagead/js/adsbygoogle.js\"></script>\n",
      "<script>\n",
      "  (adsbygoogle = window.adsbygoogle || []).push({\n",
      "    google_ad_client: \"ca-pub-9224516673945257\",\n",
      "    enable_page_level_ads: true\n",
      "  });\n",
      "</script>\n",
      "<title>\n",
      "\t\t Top 10 Artists / Painters of all time | &nbsp;Biography Online \n",
      "\t</title>\n",
      "<link rel=\"pingback\" href=\"https://www.biographyonline.net/xmlrpc.php\" />\n",
      "\n",
      "<link rel=\"canonical\" href=\"https://www.biographyonline.net/artists/top-10-painters.html\" />\n",
      "<meta property=\"og:locale\" content=\"en_GB\" />\n",
      "<meta property=\"og:type\" content=\"article\" />\n",
      "<meta property=\"og:title\" content=\"Top 10 Artists / Painters of all time | &nbsp;\" />\n",
      "<meta property=\"og:description\" content=\"A selection of the greatest top 10 artists of all time. &nbsp; 1. Leonardo Da Vinci (1452–1519) Renaissance painter, scientist, inventor, and more. Da Vinci is one of most famous painters in the world for his iconic Mona Lisa and Last Supper. 2. Vincent Van Gogh (1853–1890). Dutch post-impressionist painter. Famous paintings include; Sunflowers, The &hellip;\" />\n",
      "<meta property=\"og:url\" content=\"https://www.biographyonline.net/artists/top-10-painters.html\" />\n",
      "<meta property=\"og:site_name\" content=\"Biography Online\" />\n",
      "<meta property=\"article:section\" content=\"biography\" />\n",
      "<meta property=\"og:image\" content=\"https://www.biographyonline.net/artists/artists-images/leonardo-da-vinci.jpg\" />\n",
      "<meta property=\"og:image:secure_url\" content=\"https://www.biographyonline.net/artists/artists-images/leonardo-da-vinci.jpg\" />\n",
      "<meta property=\"og:image\" content=\"https://www.biographyonline.net/artists/artists-images/Van_Gogh-150.jpg\" />\n",
      "<meta property=\"og:image:secure_url\" content=\"https://www.biographyonline.net/artists/artists-images/Van_Gogh-150.jpg\" />\n",
      "<meta property=\"og:image\" content=\"https://www.biographyonline.net/artists/artists-images/Rembrandt150.jpg\" />\n",
      "<meta property=\"og:image:secure_url\" content=\"https://www.biographyonline.net/artists/artists-images/Rembrandt150.jpg\" />\n",
      "<meta property=\"og:image\" content=\"https://www.biographyonline.net/artists/artists-images/Michelangelo-150.jpg\" />\n",
      "<meta property=\"og:image:secure_url\" content=\"https://www.biographyonline.net/artists/artists-images/Michelangelo-150.jpg\" />\n",
      "<meta property=\"og:image\" content=\"https://www.biographyonline.net/artists/artists-images/Claude_Monet150.jpg\" />\n",
      "<meta property=\"og:image:secure_url\" content=\"https://www.biographyonline.net/artists/artists-images/Claude_Monet150.jpg\" />\n",
      "<meta property=\"og:image\" content=\"https://www.biographyonline.net/artists/artists-images/picasso150.jpg\" />\n",
      "<meta property=\"og:image:secure_url\" content=\"https://www.biographyonline.net/artists/artists-images/picasso150.jpg\" />\n",
      "<meta property=\"og:image\" content=\"https://www.biographyonline.net/artists/artists-images/raphael-150.jpg\" />\n",
      "<meta property=\"og:image:secure_url\" content=\"https://www.biographyonline.net/artists/artists-images/raphael-150.jpg\" />\n",
      "<meta property=\"og:image\" content=\"https://www.biographyonline.net/artists/artists-images/renoir-150.jpg\" />\n",
      "<meta property=\"og:image:secure_url\" content=\"https://www.biographyonline.net/artists/artists-images/renoir-150.jpg\" />\n",
      "<meta property=\"og:image\" content=\"https://www.biographyonline.net/artists/artists-images/jan-vermeer-150.jpg\" />\n",
      "<meta property=\"og:image:secure_url\" content=\"https://www.biographyonline.net/artists/artists-images/jan-vermeer-150.jpg\" />\n",
      "<meta property=\"og:image\" content=\"https://www.biographyonline.net/artists/artists-images/Cezanne_150.jpg\" />\n",
      "<meta property=\"og:image:secure_url\" content=\"https://www.biographyonline.net/artists/artists-images/Cezanne_150.jpg\" />\n",
      "<meta property=\"og:image\" content=\"https://images-na.ssl-images-amazon.com/images/I/51fwJyV3iQL._SX397_BO1,204,203,200_.jpg\" />\n",
      "<meta property=\"og:image:secure_url\" content=\"https://images-na.ssl-images-amazon.com/images/I/51fwJyV3iQL._SX397_BO1,204,203,200_.jpg\" />\n",
      "\n",
      "<link rel='dns-prefetch' href='//maps.google.com' />\n",
      "<link rel='dns-prefetch' href='//s.w.org' />\n",
      "<link rel=\"alternate\" type=\"application/rss+xml\" title=\"Biography Online &raquo; Feed\" href=\"https://www.biographyonline.net/feed/\" />\n",
      "<link rel=\"alternate\" type=\"application/rss+xml\" title=\"Biography Online &raquo; Comments Feed\" href=\"https://www.biographyonline.net/comments/feed/\" />\n",
      "<link rel=\"alternate\" type=\"application/rss+xml\" title=\"Biography Online &raquo; Top 10 Artists / Painters of all time Comments Feed\" href=\"https://www.biographyonline.net/artists/top-10-painters.html/feed/\" />\n",
      "<script>\n",
      "\t\t\t\t\tadvanced_ads_ready=function(){var fns=[],listener,doc=typeof document===\"object\"&&document,hack=doc&&doc.documentElement.doScroll,domContentLoaded=\"DOMContentLoaded\",loaded=doc&&(hack?/^loaded|^c/:/^loaded|^i|^c/).test(doc.readyState);if(!loaded&&doc){listener=function(){doc.removeEventListener(domContentLoaded,listener);window.removeEventListener(\"load\",listener);loaded=1;while(listener=fns.shift())listener()};doc.addEventListener(domContentLoaded,listener);window.addEventListener(\"load\",listener)}return function(fn){loaded?setTimeout(fn,0):fns.push(fn)}}();\n",
      "\t\t\t</script><link rel='stylesheet' id='frank_stylesheet-css' href='https://www.biographyonline.net/wp-content/themes/Frank-master/style.css' type='text/css' media='all' />\n",
      "<!--[if IE]>\n",
      "<link rel='stylesheet' id='frank_stylesheet_ie-css'  href='https://www.biographyonline.net/wp-content/themes/Frank-master/ie.css' type='text/css' media='all' />\n",
      "<![endif]-->\n",
      "<link rel='stylesheet' id='jquery-ui-css' href='https://www.biographyonline.net/wp-content/plugins/contact-form-maker/css/jquery-ui-1.10.3.custom.css' type='text/css' media='all' />\n",
      "<link rel='stylesheet' id='jquery-ui-spinner-css' href='https://www.biographyonline.net/wp-content/plugins/contact-form-maker/css/jquery-ui-spinner.css' type='text/css' media='all' />\n",
      "<link rel='stylesheet' id='form_maker_calendar-jos-css' href='https://www.biographyonline.net/wp-content/plugins/contact-form-maker/css/calendar-jos.css' type='text/css' media='all' />\n",
      "<link rel='stylesheet' id='form_maker_frontend-css' href='https://www.biographyonline.net/wp-content/plugins/contact-form-maker/css/form_maker_frontend.css' type='text/css' media='all' />\n",
      "<link rel='stylesheet' id='simple-social-share-main-css' href='https://www.biographyonline.net/wp-content/plugins/simple-social-share/css/style.css' type='text/css' media='all' />\n",
      "<link rel='stylesheet' id='tooltipster-css-css' href='https://www.biographyonline.net/wp-content/plugins/simple-social-share/css/tooltipster.css' type='text/css' media='all' />\n",
      "<link rel='stylesheet' id='sccss_style-css' href='https://www.biographyonline.net/' type='text/css' media='all' />\n",
      "<script type='text/javascript' src='https://www.biographyonline.net/wp-includes/js/jquery/jquery.js'></script>\n",
      "<script type='text/javascript' src='https://www.biographyonline.net/wp-includes/js/jquery/jquery-migrate.min.js'></script>\n",
      "<script type='text/javascript' src='https://www.biographyonline.net/wp-content/plugins/contact-form-maker/js/if_gmap_front_end.js'></script>\n",
      "<script type='text/javascript' src='https://www.biographyonline.net/wp-content/plugins/contact-form-maker/js/jelly.min.js'></script>\n",
      "<script type='text/javascript' src='https://www.biographyonline.net/wp-content/plugins/contact-form-maker/js/file-upload.js'></script>\n",
      "<script type='text/javascript' src='https://www.biographyonline.net/wp-content/plugins/contact-form-maker/js/calendar/calendar.js'></script>\n",
      "<script type='text/javascript' src='https://www.biographyonline.net/wp-content/plugins/contact-form-maker/js/calendar/calendar_function.js'></script>\n",
      "<script type='text/javascript'>\n",
      "/* <![CDATA[ */\n",
      "var fm_objectL10n = {\"plugin_url\":\"https:\\/\\/www.biographyonline.net\\/wp-content\\/plugins\\/contact-form-maker\"};\n",
      "/* ]]> */\n",
      "</script>\n",
      "<script type='text/javascript' src='https://www.biographyonline.net/wp-content/plugins/contact-form-maker/js/main_div_front_end.js'></script>\n",
      "<script type='text/javascript' src='https://www.biographyonline.net/wp-content/plugins/simple-social-share/js/jquery.tooltipster.js'></script>\n",
      "<script type='text/javascript' src='https://www.biographyonline.net/wp-content/uploads/384/367/public/assets/js/advanced.js'></script>\n",
      "<script type='text/javascript'>\n",
      "/* <![CDATA[ */\n",
      "var advanced_ads_responsive = {\"reload_on_resize\":\"0\"};\n",
      "/* ]]> */\n",
      "</script>\n",
      "<script type='text/javascript' src='https://www.biographyonline.net/wp-content/uploads/384/293/public/assets/js/427.js'></script>\n",
      "<script type='text/javascript'>\n",
      "/* <![CDATA[ */\n",
      "var advanced_ads_pro_visitor_conditions = {\"referrer_cookie_name\":\"advanced_ads_pro_visitor_referrer\",\"referrer_exdays\":\"365\",\"page_impr_cookie_name\":\"advanced_ads_page_impressions\",\"page_impr_exdays\":\"3650\"};\n",
      "/* ]]> */\n",
      "</script>\n",
      "<script type='text/javascript' src='https://www.biographyonline.net/wp-content/uploads/384/64/5/51/576/447.js'></script>\n",
      "<script type='text/javascript' src='https://www.biographyonline.net/wp-content/uploads/384/64/5/778/assets/js/290.js'></script>\n",
      "<script type='text/javascript'>\n",
      "/* <![CDATA[ */\n",
      "var advanced_ads_pro_ajax_object = {\"ajax_url\":\"https:\\/\\/www.biographyonline.net\\/wp-admin\\/admin-ajax.php\",\"lazy_load_module_enabled\":\"\"};\n",
      "/* ]]> */\n",
      "</script>\n",
      "<script type='text/javascript' src='https://www.biographyonline.net/wp-content/uploads/384/64/5/279/576/453.js'></script>\n",
      "<link rel=\"alternate\" type=\"application/json+oembed\" href=\"https://www.biographyonline.net/wp-json/oembed/1.0/embed?url=https%3A%2F%2Fwww.biographyonline.net%2Fartists%2Ftop-10-painters.html\" />\n",
      "<link rel=\"alternate\" type=\"text/xml+oembed\" href=\"https://www.biographyonline.net/wp-json/oembed/1.0/embed?url=https%3A%2F%2Fwww.biographyonline.net%2Fartists%2Ftop-10-painters.html&#038;format=xml\" />\n",
      "<script type=\"text/javascript\">\n",
      "\t\t;var advadsCfpQueue = [], advadsCfpExpHours = 3;\n",
      "\t\tvar advadsCfpClickLimit = 3;\n",
      "\t\t;\n",
      "\t\tvar advadsCfpPath = '';\n",
      "\t\tvar advadsCfpDomain = 'www.biographyonline.net';\n",
      "\t\tvar advadsCfpAd = function( adID ){\n",
      "\t\t\tif ( 'undefined' == typeof advadsProCfp ) { advadsCfpQueue.push( adID ) } else { advadsProCfp.addElement( adID ) }\n",
      "\t\t};\n",
      "\t\t</script><!--[if lt IE 9]><script src=\"https://www.biographyonline.net/wp-content/themes/Frank-master/javascripts/html5.js\"></script><![endif]--><!--[if lt IE 7]><script src=\"https://www.biographyonline.net/wp-content/themes/Frank-master/javascripts/ie7.js\"></script><![endif]--><style type=\"text/css\">.broken_link, a.broken_link {\r\n",
      "\ttext-decoration: line-through;\r\n",
      "}</style><style type=\"text/css\">.removed_link, a.removed_link {\r\n",
      "\ttext-decoration: line-through;\r\n",
      "}</style> <style type=\"text/css\">\n",
      "\t\t\t\t\t#site-title-description {\n",
      "\t\t\t\tposition: absolute !important;\n",
      "\t\t\t\tclip: rect(1px 1px 1px 1px); /* IE6, IE7 */\n",
      "\t\t\t\tclip: rect(1px, 1px, 1px, 1px);\n",
      "\t\t\t}\n",
      "\t\t\t\t</style>\n",
      "<link rel=\"icon\" href=\"https://www.biographyonline.net/wp-content/uploads/2018/01/biography-logo-icon.png\" sizes=\"32x32\" />\n",
      "<link rel=\"icon\" href=\"https://www.biographyonline.net/wp-content/uploads/2018/01/biography-logo-icon.png\" sizes=\"192x192\" />\n",
      "<link rel=\"apple-touch-icon-precomposed\" href=\"https://www.biographyonline.net/wp-content/uploads/2018/01/biography-logo-icon.png\" />\n",
      "<meta name=\"msapplication-TileImage\" content=\"https://www.biographyonline.net/wp-content/uploads/2018/01/biography-logo-icon.png\" />\n",
      "<script>\n",
      "\t\tjQuery(document).ready(function () {\n",
      "\t\t\tjQuery('#burgerMenu').on('click', function () {\n",
      "\t\t\t\tvar $this = jQuery(this);\n",
      "\t\t\t\t$this.toggleClass('menu-on');\n",
      "\t\t\t\tjQuery('#menu-menu5').slideToggle(300);\n",
      "\t\t\t});\n",
      "\t\t});\n",
      "\t</script>\n",
      "</head>\n",
      "<body id=\"page\" class=\"page-template-default page page-id-5572 page-child parent-pageid-5561\">\n",
      "<!--[if lt IE 9]>\n",
      "\t\t<div class=\"chromeframe\">Your browser is out of date. Please <a href=\"https://browsehappy.com/\">upgrade your browser </a> or <a href=\"https://www.google.com/chromeframe/?redirect=true\">install Google Chrome Frame</a>.</div>\n",
      "\t<![endif]-->\n",
      "<div class=\"container\">\n",
      "<header id=\"page-header\" class=\"row\">\n",
      "<hgroup id=\"site-title-description\">\n",
      "<h1 id=\"site-title\"><a href=\"https://www.biographyonline.net\">Biography Online</a></h1>\n",
      "<h2 id=\"site-description\"></h2>\n",
      "</hgroup>\n",
      "<div style=\"padding-top:5px;\" class=\"logo-wrap\"><a href=\"/\"><img src=\"https://www.biographyonline.net/wp-content/uploads/2014/06/biography2.jpg\" alt=\"Biography\" /></a></div>\n",
      "<div class=\"search-form\" style=\"float:right; padding-left:25px;\">\n",
      "<form action=\"https://www.google.com\" id=\"cse-search-box\">\n",
      "<div>\n",
      "<input type=\"hidden\" name=\"cx\" value=\"partner-pub-9224516673945257:1472291286\" />\n",
      "<input type=\"hidden\" name=\"ie\" value=\"UTF-8\" />\n",
      "<input type=\"text\" name=\"q\" size=\"35\" />\n",
      "<input type=\"submit\" name=\"sa\" value=\"Search\" />\n",
      "</div>\n",
      "</form>\n",
      "<script type=\"text/javascript\" src=\"https://www.google.com/coop/cse/brand?form=cse-search-box&amp;lang=en\"></script>\n",
      "</div>\n",
      "<style>\n",
      "\t\t\t/* the tasty burger */\n",
      "\t\t\t.burger-menu {\n",
      "\t\t\t\tdisplay: none;\n",
      "\t\t\t\tposition: relative;\n",
      "\t\t\t\twidth: 40px;\n",
      "\t\t\t\theight: 40px;\n",
      "\t\t\t\tcursor: pointer;\n",
      "\t\t\t}\n",
      "\t\t\t.burger {\n",
      "\t\t\t\tposition: absolute;\n",
      "\t\t\t\tbackground: #050000;\n",
      "\t\t\t\twidth: 100%;\n",
      "\t\t\t\theight: 4px;\n",
      "\t\t\t\ttop: 50%;\n",
      "\t\t\t\tright: 0px;\n",
      "\t\t\t\tmargin-top: -2px;\n",
      "\t\t\t\topacity: 1;\n",
      "\t\t\t\tborder-radius: 2px;\n",
      "\t\t\t}\n",
      "\t\t\t.burger::before {\n",
      "\t\t\t\tposition: absolute;\n",
      "\t\t\t\tbackground: #050000;\n",
      "\t\t\t\twidth: 40px;\n",
      "\t\t\t\theight: 4px;\n",
      "\t\t\t\ttop: 12px;\n",
      "\t\t\t\tcontent: \"\";\n",
      "\t\t\t\tdisplay: block;\n",
      "\t\t\t\tborder-radius: 2px;\n",
      "\t\t\t}\n",
      "\t\t\t.burger::after {\n",
      "\t\t\t\tposition: absolute;\n",
      "\t\t\t\tbackground: #050000;\n",
      "\t\t\t\twidth: 40px;\n",
      "\t\t\t\theight: 4px;\n",
      "\t\t\t\tbottom: 12px;\n",
      "\t\t\t\tcontent: \"\";\n",
      "\t\t\t\tdisplay: block;\n",
      "\t\t\t\tborder-radius: 2px;\n",
      "\t\t\t}\n",
      "\t\t\t.burger::after, .burger::before, .burger {\n",
      "\t\t\t\ttransition: all .3s ease-in-out;\n",
      "\t\t\t\t-webkit-transition: all .3s ease-in-out;\n",
      "\t\t\t}\n",
      "\t\t\t.burger-menu.menu-on .burger::after{\n",
      "\t\t\t\ttransform: rotate(-45deg);\n",
      "\t\t\t\t-webkit-transform: rotate(-45deg);\n",
      "\t\t\t\tbottom: 0px;\n",
      "\t\t\t}\n",
      "\t\t\t.burger-menu.menu-on .burger::before{\n",
      "\t\t\t\ttransform: rotate(45deg);\n",
      "\t\t\t\t-webkit-transform: rotate(45deg);\n",
      "\t\t\t\ttop: 0px;\n",
      "\t\t\t}\n",
      "\t\t\t.burger-menu.menu-on .burger{\n",
      "\t\t\t\tbackground: transparent;\n",
      "\t\t\t}\n",
      "\t\t\t@media (max-width: 900px) {\n",
      "\t\t\t\t.burger-menu {\n",
      "\t\t\t\t\tdisplay: inline-block;\n",
      "\t\t\t\t}\n",
      "\t\t\t\t.search-form {\n",
      "\t\t\t\t\tmargin-top: 15px;\n",
      "\t\t\t\t}\n",
      "\t\t\t\t.menu {\n",
      "\t\t\t\t\tdisplay: none;\n",
      "\t\t\t\t\tclear: both;\n",
      "\t\t\t\t}\n",
      "\t\t\t\t.menu > .menu-item {\n",
      "\t\t\t\t\tdisplay: block;\n",
      "\t\t\t\t\tfloat: none;\n",
      "\t\t\t\t\ttext-align: center;\n",
      "\t\t\t\t\tmargin: 0;\n",
      "\t\t\t\t}\n",
      "\t\t\t\t.menu-item a {\n",
      "\t\t\t\t\tfont-size: 12px;\n",
      "\t\t\t\t}\n",
      "\t\t\t\t.menu>.menu-item>.sub-menu {\n",
      "\t\t\t\t\tdisplay: none;\n",
      "\t\t\t\t\t/*position: static;*/\n",
      "\t\t\t\t}\n",
      "\t\t\t\t.menu > .menu-item:hover {\n",
      "\t\t\t\t\tborder: none;\n",
      "\t\t\t\t\tmargin-top: 0;\n",
      "\t\t\t\t}\n",
      "\t\t\t\t/*.sub-menu>.menu-item a {*/\n",
      "\t\t\t\t\t/*padding-left: 20px;*/\n",
      "\t\t\t\t\t/*padding-right: 20px;*/\n",
      "\t\t\t\t/*}*/\n",
      "\t\t\t}\n",
      "\t\t\t@media (max-width: 767px) {\n",
      "\t\t\t\t.search-form:after {\n",
      "\t\t\t\t\tcontent: '';\n",
      "\t\t\t\t\tdisplay: block;\n",
      "\t\t\t\t\tclear: both;\n",
      "\t\t\t\t\twidth: 100%;\n",
      "\t\t\t\t\theight: 0;\n",
      "\t\t\t\t}\n",
      "\t\t\t\t#cse-search-box input[type=\"submit\"] {\n",
      "\t\t\t\t\tdisplay: inline-block;\n",
      "\t\t\t\t\twidth: auto !important;\n",
      "\t\t\t\t\tmargin: 0;\n",
      "\t\t\t\t}\n",
      "\t\t\t\t#cse-search-box input[type=\"text\"] {\n",
      "\t\t\t\t\tpadding: 8px 4px;\n",
      "\t\t\t\t}\n",
      "\t\t\t}\n",
      "\t\t\t@media (max-width: 460px) {\n",
      "\t\t\t\t#cse-search-box input[type=\"submit\"] {\n",
      "\t\t\t\t\twidth: 75px !important;\n",
      "\t\t\t\t\tfloat: right;\n",
      "\t\t\t\t}\n",
      "\t\t\t\t#cse-search-box input[type=\"text\"] {\n",
      "\t\t\t\t\twidth: calc(100% - 80px);\n",
      "\t\t\t\t\tbox-sizing: border-box;\n",
      "\t\t\t\t\tfloat: left;\n",
      "\t\t\t\t}\n",
      "\t\t\t\t.search-form {\n",
      "\t\t\t\t\tfloat: none !important;\n",
      "\t\t\t\t\tpadding-left: 0 !important;\n",
      "\t\t\t\t\ttext-align: center;\n",
      "\t\t\t\t}\n",
      "\t\t\t\t#site-nav {\n",
      "\t\t\t\t\tpadding: 7px 20px 4px;\n",
      "\t\t\t\t\tbackground: #f0eceb;\n",
      "\t\t\t\t\tmargin-right: -20px;\n",
      "\t\t\t\t\tmargin-left: -20px;\n",
      "\t\t\t\t\tborder-bottom: none;\n",
      "\t\t\t\t}\n",
      "\t\t\t    #site-nav .widget {\n",
      "\t\t\t\t    margin-bottom: 0;\n",
      "\t\t\t    }\n",
      "\t\t\t    .logo-wrap {\n",
      "\t\t\t\t    text-align: center;\n",
      "\t\t\t    }\n",
      "\n",
      "\t\t\t}\n",
      "\t\t</style>\n",
      "<nav id=\"site-nav\">\n",
      "<div id=\"burgerMenu\" class=\"burger-menu\">\n",
      "<div class=\"burger\"></div>\n",
      "</div>\n",
      "<div id=\"nav_menu-2\" class=\"widget-1 widget-first widget widget_nav_menu\"><div class=\"menu-menu5-container\"><ul id=\"menu-menu5\" class=\"menu\"><li id=\"menu-item-9726\" class=\"menu-item menu-item-type-custom menu-item-object-custom menu-item-home menu-item-9726\"><a href=\"https://www.biographyonline.net/\">Home</a></li>\n",
      "<li id=\"menu-item-10491\" class=\"menu-item menu-item-type-custom menu-item-object-custom menu-item-has-children menu-item-10491\"><a href=\"/people.html\">Biographies</a>\n",
      "<ul class=\"sub-menu\">\n",
      "<li id=\"menu-item-10536\" class=\"menu-item menu-item-type-custom menu-item-object-custom menu-item-10536\"><a href=\"https://www.biographyonline.net/people/inspirational.html\">Inspirational people</a></li>\n",
      "<li id=\"menu-item-10492\" class=\"menu-item menu-item-type-custom menu-item-object-custom menu-item-10492\"><a href=\"https://www.biographyonline.net/actors.html\">Actors</a></li>\n",
      "<li id=\"menu-item-10493\" class=\"menu-item menu-item-type-custom menu-item-object-custom menu-item-10493\"><a href=\"https://www.biographyonline.net/artists.html\">Artists</a></li>\n",
      "<li id=\"menu-item-10494\" class=\"menu-item menu-item-type-custom menu-item-object-custom menu-item-10494\"><a href=\"https://www.biographyonline.net/business/top-10-entrepreneurs.html\">Entrepreneurs</a></li>\n",
      "<li id=\"menu-item-10495\" class=\"menu-item menu-item-type-custom menu-item-object-custom menu-item-10495\"><a href=\"https://www.biographyonline.net/humanitarian.html\">Humanitarians</a></li>\n",
      "<li id=\"menu-item-9728\" class=\"menu-item menu-item-type-custom menu-item-object-custom menu-item-9728\"><a href=\"/writers/index.html\">Writers</a></li>\n",
      "<li id=\"menu-item-10496\" class=\"menu-item menu-item-type-custom menu-item-object-custom menu-item-10496\"><a href=\"https://www.biographyonline.net/military.html\">Military</a></li>\n",
      "<li id=\"menu-item-10497\" class=\"menu-item menu-item-type-custom menu-item-object-custom menu-item-10497\"><a href=\"https://www.biographyonline.net/music.html\">Musicians</a></li>\n",
      "<li id=\"menu-item-10498\" class=\"menu-item menu-item-type-custom menu-item-object-custom menu-item-10498\"><a href=\"https://www.biographyonline.net/poets.html\">Poets</a></li>\n",
      "<li id=\"menu-item-10499\" class=\"menu-item menu-item-type-custom menu-item-object-custom menu-item-10499\"><a href=\"https://www.biographyonline.net/politicians.html\">Politicians</a></li>\n",
      "<li id=\"menu-item-10500\" class=\"menu-item menu-item-type-custom menu-item-object-custom menu-item-10500\"><a href=\"https://www.biographyonline.net/royalty.html\">Royalty</a></li>\n",
      "<li id=\"menu-item-10501\" class=\"menu-item menu-item-type-custom menu-item-object-custom menu-item-10501\"><a href=\"https://www.biographyonline.net/scientists.html\">Scientists</a></li>\n",
      "<li id=\"menu-item-10502\" class=\"menu-item menu-item-type-custom menu-item-object-custom menu-item-10502\"><a href=\"https://www.biographyonline.net/sport.html\">Sport</a></li>\n",
      "<li id=\"menu-item-13569\" class=\"menu-item menu-item-type-custom menu-item-object-custom menu-item-13569\"><a href=\"https://www.biographyonline.net/famous-religious-figures-and-leaders/\">Religious leaders</a></li>\n",
      "</ul>\n",
      "</li>\n",
      "<li id=\"menu-item-9714\" class=\"menu-item menu-item-type-custom menu-item-object-custom menu-item-9714\"><a href=\"/people/women-who-changed-world.html\">Women</a></li>\n",
      "<li id=\"menu-item-9727\" class=\"menu-item menu-item-type-custom menu-item-object-custom menu-item-9727\"><a href=\"/people/famous-100.html\">100 Famous</a></li>\n",
      "<li id=\"menu-item-9715\" class=\"menu-item menu-item-type-custom menu-item-object-custom menu-item-9715\"><a href=\"https://www.biographyonline.net/blog.html/\">Blog</a></li>\n",
      "<li id=\"menu-item-10503\" class=\"menu-item menu-item-type-custom menu-item-object-custom menu-item-10503\"><a href=\"/contact.html\">About</a></li>\n",
      "</ul></div></div><div id=\"text-5\" class=\"widget-2 widget-last widget widget_text\"> <div class=\"textwidget\">\n",
      "<script async src=\"//pagead2.googlesyndication.com/pagead/js/adsbygoogle.js\"></script>\n",
      "\n",
      "<ins class=\"adsbygoogle\" style=\"display:block\" data-ad-client=\"ca-pub-9224516673945257\" data-ad-slot=\"1581329355\" data-ad-format=\"auto\"></ins>\n",
      "<script>\r\n",
      "(adsbygoogle = window.adsbygoogle || []).push({});\r\n",
      "</script></div>\n",
      "</div> </nav>\n",
      "</header>\n",
      "<div id=\"content\" class=\"page\">\n",
      "<div class=\"row\">\n",
      "<main id=\"content-primary\" role=\"main\">\n",
      "<article class=\"post clear\" id=\"p5572\">\n",
      "<header class=\"post-header\">\n",
      "<h1 class=\"post-title\">Top 10 Artists / Painters of all time</h1>\n",
      "</header>\n",
      "<section class=\"post-content clearfix\">\n",
      "<p>A selection of the greatest top 10 artists of all time.</p>\n",
      "<p> </p>\n",
      "<p><a href=\"https://www.biographyonline.net/scientists/leonardo_da_vinci.html\"><span class=\"floatleft\"><img id=\"artist21\" src=\"/artists/artists-images/leonardo-da-vinci.jpg\" alt=\"artist\" width=\"80\" name=\"artist\"></span></a><a href=\"https://www.biographyonline.net/scientists/leonardo_da_vinci.html\"><strong>1. Leonardo Da Vinci</strong></a> (1452–1519) Renaissance painter, scientist, inventor, and more. Da Vinci is one of most famous painters in the world for his iconic <em>Mona Lisa</em> and <em>Last Supper</em>.</p>\n",
      "<div class=\"clear\"></div>\n",
      "<p><a href=\"/artists/vincent-van-gogh.html\"><span class=\"floatleft\"><img id=\"artist19\" src=\"/artists/artists-images/Van_Gogh-150.jpg\" alt=\"artist\" width=\"80\" name=\"artist\"></span></a><a href=\"/artists/vincent-van-gogh.html\"><strong>2. Vincent Van Gogh</strong></a> (1853–1890). Dutch post-impressionist painter. Famous paintings include; <em>Sunflowers</em>, <em>The Starry night</em>, and <em>Cafe Terrace at Night</em>.</p>\n",
      "<div class=\"clear\"></div>\n",
      "<p><a href=\"/artists/rembrandt.html\"><span class=\"floatleft\"><img id=\"artist16\" src=\"/artists/artists-images/Rembrandt150.jpg\" alt=\"artist\" width=\"80\" name=\"artist\"></span></a><a href=\"/artists/rembrandt.html\"><strong>3. Rembrandt</strong></a> (1606–1669) Dutch Master. One of the greatest painters, admired for his vivid realism. Famous paintings include <em>The Jewish Bride </em>and <em>The Storm of the Sea of Galilee</em>.</p>\n",
      "<div class=\"clear\"></div>\n",
      "<p><a href=\"/artists/michelangelo.html\"><span class=\"floatleft\"><img id=\"artist10\" src=\"/artists/artists-images/Michelangelo-150.jpg\" alt=\"artist\" width=\"80\" name=\"artist\"></span></a><a href=\"/artists/michelangelo.html\"><strong>4. Michelangelo</strong></a> (1475–1564) Renaissance sculptor, painter and architect. Famous paintings include his epic ceiling mural on the Sistine Chapel.</p>\n",
      "<div class=\"clear\"></div>\n",
      "<p><a href=\"/artists/claude-monet.html\"><span class=\"floatleft\"><img id=\"artist11\" src=\"/artists/artists-images/Claude_Monet150.jpg\" alt=\"artist\" width=\"80\" name=\"artist\"></span></a><a href=\"/artists/claude-monet.html\"><strong>5. Claude Monet</strong></a> (1840–1926) French impressionist painter. Famous paintings include <em>Waterlilies</em>, <em>Women in Garden</em>, and <em>Impression Sunrise</em>.</p>\n",
      "<div class=\"clear\"></div>\n",
      "<p><a href=\"/artists/pablo-picasso.html\"><span class=\"floatleft\"><img id=\"artist14\" src=\"/artists/artists-images/picasso150.jpg\" alt=\"artist\" width=\"80\" name=\"artist\"></span></a><a href=\"/artists/pablo-picasso.html\"><strong>6. Pablo Picasso</strong></a> (1881–1973) Spanish, modern ‘cubist’ painter. Famous works include <em>Guernica </em>and <em>Bird of Peace</em>.</p>\n",
      "<div class=\"clear\"></div>\n",
      "<p><a href=\"/artists/raphael.html\"><span class=\"floatleft\"><img id=\"artist15\" src=\"/artists/artists-images/raphael-150.jpg\" alt=\"artist\" width=\"80\" name=\"artist\"></span></a><a href=\"/artists/raphael.html\"><strong>7. Raphael</strong></a> (1483–1520) Italian painter. Raphael, da Vinci and Michelangelo make up the high Renaissance trinity. Famous paintings include <em>Mond Crucifixion </em>and <em>The Wedding of the Virgin</em>.</p>\n",
      "<div class=\"clear\"></div>\n",
      "<p><a href=\"/artists/august-renoir.html\"><span class=\"floatleft\"><img id=\"artist17\" src=\"/artists/artists-images/renoir-150.jpg\" alt=\"artist\" width=\"80\" name=\"artist\"></span></a><a href=\"/artists/august-renoir.html\"><strong>8. August Renoir</strong></a> (1841–1919) French painter, one of the early pioneers of impressionism. Also influenced by Italian renaissance. Famous works include <em>Dance at Le Moulin de la Galette </em>and <em>On the Terrace</em>.</p>\n",
      "<div class=\"clear\"></div>\n",
      "<p><a href=\"/artists/jan-vermeer.html\"><span class=\"floatleft\"><img id=\"artist20\" src=\"/artists/artists-images/jan-vermeer-150.jpg\" alt=\"artist\" width=\"80\" name=\"artist\"></span></a><a href=\"/artists/jan-vermeer.html\"><strong>9. Jan Vermeer</strong></a> (1632–1675) Dutch painter who specialised in genre painting – vivid depictions of still life. Famous paintings include <em>View of Delft, Girl With a Pearl Earring, </em>and<em> The Milkmaid.</em></p>\n",
      "<div class=\"clear\"></div>\n",
      "<p><a href=\"/artists/paul-cezanne.html\"><span class=\"floatleft\"><img id=\"artist5\" src=\"/artists/artists-images/Cezanne_150.jpg\" alt=\"artist\" width=\"80\" name=\"artist\"></span></a><a href=\"/artists/paul-cezanne.html\"><strong>10. Paul Cezanne</strong></a> (1839–1906) French post-impressionist painter. Famous paintings include; <em>The Card Players </em>and <em>Still Life with a Curtain</em>.</p>\n",
      "<div class=\"clear\"></div>\n",
      "<p>Citation: <a href=\"https://www.biographyonline.net/contact.html\">Pettinger, Tejvan</a>. “Top 10 Artists”, Oxford,  UK. www.biographyonline.net, 23rd May 2013. Last updated 1 March 2018.</p>\n",
      "<h3>50 Artists</h3>\n",
      "<p><a href=\"http://www.amazon.com/exec/obidos/ASIN/3791381695/richard06-20\"><span class=\"floatleft\"><img class=\" lazyloaded\" src=\"https://images-na.ssl-images-amazon.com/images/I/51fwJyV3iQL._SX397_BO1,204,203,200_.jpg\" alt=\"Book Cover\" width=\"160\" data-lazy-src=\"https://images-na.ssl-images-amazon.com/images/I/51fwJyV3iQL._SX397_BO1,204,203,200_.jpg\"></span></a></p>\n",
      "<p> </p>\n",
      "<p><a href=\"http://www.amazon.com/exec/obidos/ASIN/3791381695/richard06-20\">50 Artists</a> at Amazon</p><div class=\"biogr-1-paragraph-up\" id=\"biogr-878694989\"><div class=\"clear\"></div>\n",
      "<div style=\"padding-top:5px;\"></div>\n",
      "<script async src=\"//pagead2.googlesyndication.com/pagead/js/adsbygoogle.js\"></script><ins class=\"adsbygoogle\" style=\"display:block; text-align:center;\" data-ad-layout=\"in-article\" data-ad-format=\"fluid\" data-ad-client=\"ca-pub-9224516673945257\" data-ad-slot=\"6756104911\"></ins>\n",
      "<script>\r\n",
      "     (adsbygoogle = window.adsbygoogle || []).push({});\r\n",
      "</script></div>\n",
      "<p> </p>\n",
      "<div class=\"clear\"></div>\n",
      "<p> </p>\n",
      "<p><strong>Related pages</strong></p>\n",
      "<p><span class=\"floatleft\"><img class=\"alignnone size-full wp-image-12619\" src=\"https://www.biographyonline.net/wp-content/uploads/2014/05/mona-lisa.jpg\" alt=\"mona-lisa\" width=\"150\" height=\"166\"></span><a href=\"https://www.biographyonline.net/artists/10-greatest-paintings.html\">10 Greatest paintings</a> of all time. Including the <em>Mona Lisa</em> by Leonardo da Vinci, <em>Creation of Adam</em> – Sistine Chapel by Michelangelo, and <em>Poppies in a Field</em> by Claude Monet.</p>\n",
      "<div class=\"clear\"></div>\n",
      "<p><span class=\"floatleft\"><img class=\"alignnone size-full wp-image-12618\" src=\"https://www.biographyonline.net/wp-content/uploads/2014/05/pieta.jpg\" alt=\"pieta\" width=\"150\" height=\"170\"></span><a href=\"https://www.biographyonline.net/artists/great-works-art.html\">10 Greatest works of art</a> of all time. Including the <em>Pieta</em> and the S<em>tatue of David</em> by Michelangelo, <em>Ecstasy of St Therese</em> by Bernini, and <em>Sunflowers</em> by Vincent Van Gogh.</p>\n",
      "<div class=\"clear\"></div>\n",
      "<p><a title=\"Artists Biographies\" href=\"https://www.biographyonline.net/artists.html\"><span class=\"floatleft\"><img id=\"artist19\" class=\" lazyloaded\" src=\"https://www.biographyonline.net/wp-content/uploads/2014/05/Van_Gogh-1501.jpg\" alt=\"artist\" width=\"100\" name=\"artist\" data-lazy-src=\"https://www.biographyonline.net/wp-content/uploads/2014/05/Van_Gogh-1501.jpg\"></span>Famous artists</a> – From the High Renaissance to impressionists and modern artists. Includes Da Vinci, Van Gogh, Rembrandt and Caravaggio.</p>\n",
      "<div class=\"clear\"></div>\n",
      "<p><a href=\"https://www.biographyonline.net/people/famous/renaissance.html\"><span class=\"floatleft\"><img class=\"alignnone size-full wp-image-3783\" src=\"https://www.biographyonline.net/wp-content/uploads/2014/05/100-leonardo-da-vinci.jpg\" alt=\"leonardo-da-vinci\" width=\"100\"></span>People of the Renaissance</a> (1350s to 1650s) The Renaissance covers the flowering of art and culture in Europe. Primarily in art, but also in science. Includes Leonardo da Vinci, Michelangelo and Raphael.</p>\n",
      "<div class=\"clear\"></div>\n",
      "<div id=\"s-share-buttons\" class=\"horizontal-w-c-circular s-share-w-c\"><a href=\"http://www.facebook.com/sharer.php?u=https://www.biographyonline.net/artists/top-10-painters.html\" target=\"_blank\" title=\"Share to Facebook\" class=\"s3-facebook hint--top\"></a><a href=\"http://twitter.com/intent/tweet?text=Top%2010%20Artists%20/%20Painters%20of%20all%20time&amp;url=https://www.biographyonline.net/artists/top-10-painters.html\" target=\"_blank\" title=\"Share to Twitter\" class=\"s3-twitter hint--top\"></a><a href=\"https://plus.google.com/share?url=https://www.biographyonline.net/artists/top-10-painters.html\" target=\"_blank\" title=\"Share to Google Plus\" class=\"s3-google-plus hint--top\"></a></div>\n",
      "</section>\n",
      "</article>\n",
      "<div id='comments-container'>\n",
      "</div> </main>\n",
      "<aside id=\"sidebar\" role=\"complementary\">\n",
      "<div id=\"text-4\" class=\"widget-1 widget-first widget widget_text\"><h3 class=\"widget-title\">Featured pages</h3> <div class=\"textwidget\"><ul>\n",
      "<li><a href=\"/people/people-who-made-a-difference.html\">People who made a difference</a></li>\n",
      "<li><a href=\"/people/famous/human-rights.html\">People who supported human rights</a></li>\n",
      "<li><a href=\"https://www.biographyonline.net/people/people-who-changed-world.html\">People who changed the world</a></li>\n",
      "<li><a href=\"https://www.biographyonline.net/sport/100-sporting-personalities.html\">Sporting Personalities</a></li>\n",
      "</ul></div>\n",
      "</div><div id=\"text-3\" class=\"widget-2 widget widget_text\"> <div class=\"textwidget\"><hr />\n",
      "<script async src=\"//pagead2.googlesyndication.com/pagead/js/adsbygoogle.js\"></script>\n",
      "\n",
      "<ins class=\"adsbygoogle\" style=\"display:block\" data-ad-client=\"ca-pub-9224516673945257\" data-ad-slot=\"8869836554\" data-ad-format=\"auto\"></ins>\n",
      "<script>\r\n",
      "(adsbygoogle = window.adsbygoogle || []).push({});\r\n",
      "</script></div>\n",
      "</div> <div id=\"recent-posts-4\" class=\"widget-3 widget-last widget widget_recent_entries\"> <h3 class=\"widget-title\">Recent posts</h3> <ul>\n",
      "<li>\n",
      "<a href=\"https://www.biographyonline.net/different-periods-in-history/\">Major periods in world history</a>\n",
      "</li>\n",
      "<li>\n",
      "<a href=\"https://www.biographyonline.net/facts-american-revolution/\">Facts about the American Revolution</a>\n",
      "</li>\n",
      "<li>\n",
      "<a href=\"https://www.biographyonline.net/facts-about-the-industrial-revolution/\">Facts about the Industrial Revolution</a>\n",
      "</li>\n",
      "<li>\n",
      "<a href=\"https://www.biographyonline.net/facts-about-the-renaissance/\">Facts about the Renaissance</a>\n",
      "</li>\n",
      "<li>\n",
      "<a href=\"https://www.biographyonline.net/famous-swedish-people/\">Famous Swedish People</a>\n",
      "</li>\n",
      "</ul>\n",
      "</div></aside> </div>\n",
      "</div>\n",
      "</div>\n",
      "<div id=\"page-bottom\">\n",
      "<footer id=\"page-footer\" class=\"container\" role=\"contentinfo\">\n",
      "<div class=\"row\">\n",
      "<div id=\"text-2\" class=\"widget-1 widget-first widget widget_text six columns\"> <div class=\"textwidget\"> <p>&nbsp;<a href=\"/contact.html\"> Contact</a> | &nbsp;<a href=\"/contact.html\">Copyright </a>| <a href=\"/corrections.html\">Corrections </a> |<a href=\"/privacy.html\"><strong>Privacy &amp; Cookies - How we use cookies on this site</strong></a></p>\n",
      "<script>\r\n",
      "  (function(i,s,o,g,r,a,m){i['GoogleAnalyticsObject']=r;i[r]=i[r]||function(){\r\n",
      "  (i[r].q=i[r].q||[]).push(arguments)},i[r].l=1*new Date();a=s.createElement(o),\r\n",
      "  m=s.getElementsByTagName(o)[0];a.async=1;a.src=g;m.parentNode.insertBefore(a,m)\r\n",
      "  })(window,document,'script','//www.google-analytics.com/analytics.js','ga');\r\n",
      "\r\n",
      "  ga('create', 'UA-1706327-1', 'auto');\r\n",
      "  ga('send', 'pageview');\r\n",
      "\r\n",
      "</script>\n",
      "<div id=\"amzn-assoc-ad-ef9dcb55-e85e-45ed-a28b-31f338d92b60\"></div><script async src=\"//z-na.amazon-adsystem.com/widgets/onejs?MarketPlace=US&adInstanceId=ef9dcb55-e85e-45ed-a28b-31f338d92b60\"></script></div>\n",
      "</div> </div>\n",
      "</footer>\n",
      "</div>\n",
      "<script>\n",
      "\t\tvar advanced_ads_adsense_UID = 'UA-1706327-1';\n",
      "\t\tadvanced_ads_check_adblocker=function(t){function e(t){(window.requestAnimationFrame||window.mozRequestAnimationFrame||window.webkitRequestAnimationFrame||function(t){return setTimeout(t,16)}).call(window,t)}var n=[],a=null;return e(function(){var t=document.createElement(\"div\");t.innerHTML=\"&nbsp;\",t.setAttribute(\"class\",\"ad_unit ad-unit text-ad text_ad pub_300x250\"),t.setAttribute(\"style\",\"width: 1px !important; height: 1px !important; position: absolute !important; left: 0px !important; top: 0px !important; overflow: hidden !important;\"),document.body.appendChild(t),e(function(){var e=window.getComputedStyle&&window.getComputedStyle(t),o=e&&e.getPropertyValue(\"-moz-binding\");a=e&&\"none\"===e.getPropertyValue(\"display\")||\"string\"==typeof o&&-1!==o.indexOf(\"about:\");for(var i=0;i<n.length;i++)n[i](a);n=[]})}),function(t){if(null===a)return void n.push(t);t(a)}}(),function(){var t=function(t,e){this.name=t,this.UID=e,this.analyticsObject=null;var n=this,a={hitType:\"event\",eventCategory:\"Advanced Ads\",eventAction:\"AdBlock\",eventLabel:\"Yes\",nonInteraction:!0,transport:\"beacon\"};this.analyticsObject=\"string\"==typeof GoogleAnalyticsObject&&\"function\"==typeof window[GoogleAnalyticsObject]&&window[GoogleAnalyticsObject],!1===this.analyticsObject?(!function(t,e,n,a,o,i,d){t.GoogleAnalyticsObject=o,t[o]=t[o]||function(){(t[o].q=t[o].q||[]).push(arguments)},t[o].l=1*new Date,i=e.createElement(n),d=e.getElementsByTagName(n)[0],i.async=1,i.src=\"https://www.google-analytics.com/analytics.js\",d.parentNode.insertBefore(i,d)}(window,document,\"script\",0,\"_advads_ga\"),_advads_ga(\"create\",n.UID,\"auto\",this.name),_advads_ga(n.name+\".send\",a)):(window.console&&window.console.log(\"Advanced Ads Analytics >> using other's variable named `\"+GoogleAnalyticsObject+\"`\"),window[GoogleAnalyticsObject](\"create\",n.UID,\"auto\",this.name),window[GoogleAnalyticsObject](n.name+\".send\",a))};advanced_ads_check_adblocker(function(e){e&&\"string\"==typeof advanced_ads_adsense_UID&&advanced_ads_adsense_UID&&new t(\"advadsTracker\",advanced_ads_adsense_UID)})}();\t\t\n",
      "\t\t</script> \n",
      "<script>\r\n",
      "    <!-- \r\n",
      "        var sc_project=2190149; \r\n",
      "        var sc_security=\"b21211d3\"; \r\n",
      "      var sc_invisible=1;\n",
      "        var scJsHost = ((\"https:\" == document.location.protocol) ?\r\n",
      "        \"https://secure.\" : \"http://www.\");\r\n",
      "    //-->\r\n",
      "document.write(\"<sc\"+\"ript src='\" +scJsHost +\"statcounter.com/counter/counter.js'></\"+\"script>\");\r\n",
      "</script>\n",
      "<noscript><div class=\"statcounter\"><a title=\"web analytics\" href=\"https://statcounter.com/\"><img class=\"statcounter\" src=\"https://c.statcounter.com/2190149/0/b21211d3/1/\" alt=\"web analytics\" /></a></div></noscript>\n",
      "\n",
      "<script>\n",
      "\t\t\t\tjQuery(document).ready(function($) {\n",
      "\t            $(\".hint--top\").tooltipster({animation: \"grow\",});\n",
      "\t        \t});\n",
      "\t\t\t</script>\n",
      "<link rel='stylesheet' id='basecss-css' href='https://www.biographyonline.net/wp-content/plugins/eu-cookie-law/css/style.css' type='text/css' media='all' />\n",
      "<script type='text/javascript' src='https://www.biographyonline.net/wp-includes/js/comment-reply.min.js'></script>\n",
      "<script type='text/javascript' src='https://www.biographyonline.net/wp-includes/js/jquery/ui/widget.min.js'></script>\n",
      "<script type='text/javascript' src='https://www.biographyonline.net/wp-includes/js/jquery/ui/core.min.js'></script>\n",
      "<script type='text/javascript' src='https://www.biographyonline.net/wp-includes/js/jquery/ui/mouse.min.js'></script>\n",
      "<script type='text/javascript' src='https://www.biographyonline.net/wp-includes/js/jquery/ui/slider.min.js'></script>\n",
      "<script type='text/javascript' src='https://www.biographyonline.net/wp-includes/js/jquery/ui/button.min.js'></script>\n",
      "<script type='text/javascript' src='https://www.biographyonline.net/wp-includes/js/jquery/ui/spinner.min.js'></script>\n",
      "<script type='text/javascript' src='https://www.biographyonline.net/wp-includes/js/jquery/ui/effect.min.js'></script>\n",
      "<script type='text/javascript' src='https://www.biographyonline.net/wp-includes/js/jquery/ui/effect-shake.min.js'></script>\n",
      "<script type='text/javascript'>\n",
      "/* <![CDATA[ */\n",
      "var advadsTracking = {\"ajaxurl\":\"https:\\/\\/www.biographyonline.net\\/wp-admin\\/admin-ajax.php?action=advanced-ads-tracking-track\",\"method\":null};\n",
      "/* ]]> */\n",
      "</script>\n",
      "<script type='text/javascript' src='https://www.biographyonline.net/wp-content/uploads/384/413/public/assets/js/427.js'></script>\n",
      "<script type='text/javascript' src='https://www.biographyonline.net/wp-includes/js/wp-embed.min.js'></script>\n",
      "<script type='text/javascript'>\n",
      "/* <![CDATA[ */\n",
      "var eucookielaw_data = {\"euCookieSet\":null,\"autoBlock\":\"0\",\"expireTimer\":\"360\",\"scrollConsent\":\"0\",\"networkShareURL\":\"\",\"isCookiePage\":\"\",\"isRefererWebsite\":\"\",\"deleteCookieUrl\":\"https:\\/\\/www.biographyonline.net\\/artists\\/top-10-painters.html?nocookie=1\"};\n",
      "/* ]]> */\n",
      "</script>\n",
      "<script type='text/javascript' src='https://www.biographyonline.net/wp-content/plugins/eu-cookie-law/js/scripts.js'></script>\n",
      "<script>var advads_placement_tests = [];\n",
      "var advads_passive_ads = {};\n",
      "var advads_passive_groups = {};\n",
      "var advads_passive_placements = {};\n",
      "var advads_ajax_queries = [];\n",
      "var advads_has_ads = [[\"15883\",\"ad\",null]];\n",
      "( window.advanced_ads_ready || jQuery( document ).ready ).call( null, function() {if ( window.advanced_ads_pro ) {advanced_ads_pro.process_passive_cb();} else if ( window.console && window.console.log ) {console.log('Advanced Ads Pro: cache-busting can not be initialized');}});</script><script>var advads_tracking_ads = [];</script></body>\n",
      "</html>\n"
     ]
    }
   ],
   "source": [
    "print(resp.text)"
   ]
  },
  {
   "cell_type": "code",
   "execution_count": 134,
   "metadata": {},
   "outputs": [],
   "source": [
    "html = resp.text"
   ]
  },
  {
   "cell_type": "code",
   "execution_count": 135,
   "metadata": {},
   "outputs": [],
   "source": [
    "from bs4 import BeautifulSoup"
   ]
  },
  {
   "cell_type": "code",
   "execution_count": 136,
   "metadata": {},
   "outputs": [],
   "source": [
    "soup = BeautifulSoup(html, 'lxml')"
   ]
  },
  {
   "cell_type": "code",
   "execution_count": 137,
   "metadata": {},
   "outputs": [],
   "source": [
    "#p5572 > section > p:nth-child(3) > a:nth-child(2) > strong"
   ]
  },
  {
   "cell_type": "code",
   "execution_count": 138,
   "metadata": {},
   "outputs": [],
   "source": [
    "artist_name = soup.select('section > p > a > strong')"
   ]
  },
  {
   "cell_type": "code",
   "execution_count": 139,
   "metadata": {},
   "outputs": [
    {
     "data": {
      "text/plain": [
       "[<strong>1. Leonardo Da Vinci</strong>,\n",
       " <strong>2. Vincent Van Gogh</strong>,\n",
       " <strong>3. Rembrandt</strong>,\n",
       " <strong>4. Michelangelo</strong>,\n",
       " <strong>5. Claude Monet</strong>,\n",
       " <strong>6. Pablo Picasso</strong>,\n",
       " <strong>7. Raphael</strong>,\n",
       " <strong>8. August Renoir</strong>,\n",
       " <strong>9. Jan Vermeer</strong>,\n",
       " <strong>10. Paul Cezanne</strong>]"
      ]
     },
     "execution_count": 139,
     "metadata": {},
     "output_type": "execute_result"
    }
   ],
   "source": [
    "artist_name"
   ]
  },
  {
   "cell_type": "code",
   "execution_count": 140,
   "metadata": {},
   "outputs": [],
   "source": [
    "artistname = [i.get_text() for i in artist_name]"
   ]
  },
  {
   "cell_type": "code",
   "execution_count": 164,
   "metadata": {},
   "outputs": [
    {
     "data": {
      "text/plain": [
       "['1. Leonardo Da Vinci',\n",
       " '2. Vincent Van Gogh',\n",
       " '3. Rembrandt',\n",
       " '4. Michelangelo',\n",
       " '5. Claude Monet',\n",
       " '6. Pablo Picasso',\n",
       " '7. Raphael',\n",
       " '8. August Renoir',\n",
       " '9. Jan Vermeer',\n",
       " '10. Paul Cezanne']"
      ]
     },
     "execution_count": 164,
     "metadata": {},
     "output_type": "execute_result"
    }
   ],
   "source": [
    "artistname"
   ]
  },
  {
   "cell_type": "code",
   "execution_count": null,
   "metadata": {},
   "outputs": [],
   "source": [
    "#p5572 > section > p:nth-child(3) > a:nth-child(2)"
   ]
  },
  {
   "cell_type": "code",
   "execution_count": 229,
   "metadata": {},
   "outputs": [],
   "source": [
    "artist_rawdata = soup.select('section > p > a[href]')"
   ]
  },
  {
   "cell_type": "code",
   "execution_count": 234,
   "metadata": {},
   "outputs": [],
   "source": [
    "artist_data = [i for i in artist_rawdata if i.select(\"strong\")]"
   ]
  },
  {
   "cell_type": "code",
   "execution_count": 235,
   "metadata": {},
   "outputs": [
    {
     "data": {
      "text/plain": [
       "[<a href=\"https://www.biographyonline.net/scientists/leonardo_da_vinci.html\"><strong>1. Leonardo Da Vinci</strong></a>,\n",
       " <a href=\"/artists/vincent-van-gogh.html\"><strong>2. Vincent Van Gogh</strong></a>,\n",
       " <a href=\"/artists/rembrandt.html\"><strong>3. Rembrandt</strong></a>,\n",
       " <a href=\"/artists/michelangelo.html\"><strong>4. Michelangelo</strong></a>,\n",
       " <a href=\"/artists/claude-monet.html\"><strong>5. Claude Monet</strong></a>,\n",
       " <a href=\"/artists/pablo-picasso.html\"><strong>6. Pablo Picasso</strong></a>,\n",
       " <a href=\"/artists/raphael.html\"><strong>7. Raphael</strong></a>,\n",
       " <a href=\"/artists/august-renoir.html\"><strong>8. August Renoir</strong></a>,\n",
       " <a href=\"/artists/jan-vermeer.html\"><strong>9. Jan Vermeer</strong></a>,\n",
       " <a href=\"/artists/paul-cezanne.html\"><strong>10. Paul Cezanne</strong></a>]"
      ]
     },
     "execution_count": 235,
     "metadata": {},
     "output_type": "execute_result"
    }
   ],
   "source": [
    "artist_data"
   ]
  },
  {
   "cell_type": "code",
   "execution_count": 249,
   "metadata": {},
   "outputs": [],
   "source": [
    "artist_link = [i.get(\"href\") for i in artist_data]"
   ]
  },
  {
   "cell_type": "code",
   "execution_count": 251,
   "metadata": {},
   "outputs": [
    {
     "data": {
      "text/plain": [
       "['https://www.biographyonline.net/scientists/leonardo_da_vinci.html',\n",
       " '/artists/vincent-van-gogh.html',\n",
       " '/artists/rembrandt.html',\n",
       " '/artists/michelangelo.html',\n",
       " '/artists/claude-monet.html',\n",
       " '/artists/pablo-picasso.html',\n",
       " '/artists/raphael.html',\n",
       " '/artists/august-renoir.html',\n",
       " '/artists/jan-vermeer.html',\n",
       " '/artists/paul-cezanne.html']"
      ]
     },
     "execution_count": 251,
     "metadata": {},
     "output_type": "execute_result"
    }
   ],
   "source": [
    "artist_link"
   ]
  },
  {
   "cell_type": "code",
   "execution_count": 260,
   "metadata": {},
   "outputs": [],
   "source": [
    "import re"
   ]
  },
  {
   "cell_type": "code",
   "execution_count": 286,
   "metadata": {},
   "outputs": [],
   "source": [
    "a = re.compile(r\"/[^/]+?html$\")"
   ]
  },
  {
   "cell_type": "code",
   "execution_count": 288,
   "metadata": {},
   "outputs": [
    {
     "data": {
      "text/plain": [
       "['/leonardo_da_vinci.html']"
      ]
     },
     "execution_count": 288,
     "metadata": {},
     "output_type": "execute_result"
    }
   ],
   "source": [
    "a.findall(artist_link[0]) # 이건되고"
   ]
  },
  {
   "cell_type": "code",
   "execution_count": 289,
   "metadata": {},
   "outputs": [],
   "source": [
    "a = re.compile(r\"/.+?html$\")"
   ]
  },
  {
   "cell_type": "code",
   "execution_count": 295,
   "metadata": {},
   "outputs": [
    {
     "data": {
      "text/plain": [
       "['//www.biographyonline.net/scientists//leonardo_da_vinci.html']"
      ]
     },
     "execution_count": 295,
     "metadata": {},
     "output_type": "execute_result"
    }
   ],
   "source": [
    "a.findall('https://www.biographyonline.net/scientists//leonardo_da_vinci.html') # 이건안된다."
   ]
  },
  {
   "cell_type": "markdown",
   "metadata": {},
   "source": [
    "#### 왜 ??? 아.. [.] 하면은 모든 문자를, 즉 /도 포함하니까 / 만나면 .+이랑 / 중에 뭘 먼저 적용하냐 아마 $때문에 오른쪽에서 왼쪽으로 가는듯? 이건 안확실한데 여튼 그래서 .가 먼저 적용되고... 아닌데 그럼 맨앞에 http는 왜빠지냐 두개라서?? 그것도 아님 와 모르겠다.."
   ]
  },
  {
   "cell_type": "code",
   "execution_count": 297,
   "metadata": {},
   "outputs": [],
   "source": [
    "a = re.compile(r\"/[^/]+?/[^/]+?html$\")"
   ]
  },
  {
   "cell_type": "code",
   "execution_count": 310,
   "metadata": {},
   "outputs": [],
   "source": [
    "artist_link2 = [ a.findall(i)[0] for i in artist_link]"
   ]
  },
  {
   "cell_type": "code",
   "execution_count": 311,
   "metadata": {},
   "outputs": [
    {
     "data": {
      "text/plain": [
       "['/scientists/leonardo_da_vinci.html',\n",
       " '/artists/vincent-van-gogh.html',\n",
       " '/artists/rembrandt.html',\n",
       " '/artists/michelangelo.html',\n",
       " '/artists/claude-monet.html',\n",
       " '/artists/pablo-picasso.html',\n",
       " '/artists/raphael.html',\n",
       " '/artists/august-renoir.html',\n",
       " '/artists/jan-vermeer.html',\n",
       " '/artists/paul-cezanne.html']"
      ]
     },
     "execution_count": 311,
     "metadata": {},
     "output_type": "execute_result"
    }
   ],
   "source": [
    "artist_link2"
   ]
  },
  {
   "cell_type": "code",
   "execution_count": 247,
   "metadata": {},
   "outputs": [],
   "source": [
    "artist_name = [i.select(\"strong\")[0].get_text() for i in artist_data]"
   ]
  },
  {
   "cell_type": "code",
   "execution_count": 248,
   "metadata": {},
   "outputs": [
    {
     "data": {
      "text/plain": [
       "['1. Leonardo Da Vinci',\n",
       " '2. Vincent Van Gogh',\n",
       " '3. Rembrandt',\n",
       " '4. Michelangelo',\n",
       " '5. Claude Monet',\n",
       " '6. Pablo Picasso',\n",
       " '7. Raphael',\n",
       " '8. August Renoir',\n",
       " '9. Jan Vermeer',\n",
       " '10. Paul Cezanne']"
      ]
     },
     "execution_count": 248,
     "metadata": {},
     "output_type": "execute_result"
    }
   ],
   "source": [
    "artist_name"
   ]
  },
  {
   "cell_type": "code",
   "execution_count": 316,
   "metadata": {},
   "outputs": [],
   "source": [
    "url = \"https://www.biographyonline.net\"\n",
    "html_per_artist_page = []\n",
    "for i in artist_link2 :\n",
    "    resp = requests.get(url+i)\n",
    "    html_per_artist_page.append(resp.text)"
   ]
  },
  {
   "cell_type": "markdown",
   "metadata": {},
   "source": [
    "---------------------------------------"
   ]
  },
  {
   "cell_type": "markdown",
   "metadata": {},
   "source": [
    "## Test"
   ]
  },
  {
   "cell_type": "code",
   "execution_count": 241,
   "metadata": {},
   "outputs": [],
   "source": [
    "parsed_text = BeautifulSoup(html_per_artist_page[0], \"lxml\")"
   ]
  },
  {
   "cell_type": "code",
   "execution_count": 206,
   "metadata": {},
   "outputs": [],
   "source": [
    "img = parsed_text.select(\"img\")[0].get(\"src\")"
   ]
  },
  {
   "cell_type": "code",
   "execution_count": 214,
   "metadata": {},
   "outputs": [
    {
     "data": {
      "text/html": [
       "<h1>hello</h1>\n",
       "%%img"
      ],
      "text/plain": [
       "<IPython.core.display.HTML object>"
      ]
     },
     "metadata": {},
     "output_type": "display_data"
    }
   ],
   "source": [
    "%%html\n",
    "<h1>hello</h1>\n",
    "%%img"
   ]
  },
  {
   "cell_type": "code",
   "execution_count": 219,
   "metadata": {},
   "outputs": [
    {
     "data": {
      "text/html": [
       "<h1>Hello, world!</h1>"
      ],
      "text/plain": [
       "<IPython.core.display.HTML object>"
      ]
     },
     "metadata": {},
     "output_type": "display_data"
    },
    {
     "data": {
      "text/html": [
       "<img src=\"https://www.biographyonline.net/wp-content/uploads/2014/06/biography2.jpg\"/>"
      ],
      "text/plain": [
       "<IPython.core.display.HTML object>"
      ]
     },
     "metadata": {},
     "output_type": "display_data"
    }
   ],
   "source": [
    "from IPython.core.display import display, HTML\n",
    "display(HTML('<h1>Hello, world!</h1>'))\n",
    "display(HTML('<img src=\"'+img+'\"/>'))"
   ]
  },
  {
   "cell_type": "markdown",
   "metadata": {},
   "source": [
    "----------------------------------"
   ]
  },
  {
   "cell_type": "markdown",
   "metadata": {},
   "source": [
    "## Working"
   ]
  },
  {
   "cell_type": "code",
   "execution_count": 319,
   "metadata": {},
   "outputs": [],
   "source": [
    "parsedtext_list_per_artist = [ BeautifulSoup(i, \"lxml\") for i in html_per_artist_page ]"
   ]
  },
  {
   "cell_type": "code",
   "execution_count": 320,
   "metadata": {},
   "outputs": [],
   "source": [
    "imgtag_list_per_artist = [i.select(\"img\") for i in parsedtext_list_per_artist]"
   ]
  },
  {
   "cell_type": "code",
   "execution_count": 321,
   "metadata": {},
   "outputs": [
    {
     "data": {
      "text/plain": [
       "[[<img alt=\"Biography\" src=\"https://www.biographyonline.net/wp-content/uploads/2014/06/biography2.jpg\"/>,\n",
       "  <img alt=\"davinci\" class=\"alignleft\" height=\"431\" id=\"davinci\" name=\"davinci\" src=\"../images/150/250-leonardo-da-vinci.jpg\" width=\"200\"/>,\n",
       "  <img alt=\"adoration-of-the-magi-da-vinci\" class=\"size-full wp-image-14778\" height=\"290\" sizes=\"(max-width: 300px) 100vw, 300px\" src=\"https://www.biographyonline.net/wp-content/uploads/2016/05/adoration-of-the-magi-da-vinci.jpg\" srcset=\"https://www.biographyonline.net/wp-content/uploads/2016/05/adoration-of-the-magi-da-vinci.jpg 300w, https://www.biographyonline.net/wp-content/uploads/2016/05/adoration-of-the-magi-da-vinci-150x145.jpg 150w\" width=\"300\"/>,\n",
       "  <img alt=\"last-supper_-_Da_Vinci\" class=\"size-full wp-image-14774\" height=\"338\" sizes=\"(max-width: 600px) 100vw, 600px\" src=\"https://www.biographyonline.net/wp-content/uploads/2016/05/last-supper_-_Da_Vinci_5.jpg\" srcset=\"https://www.biographyonline.net/wp-content/uploads/2016/05/last-supper_-_Da_Vinci_5.jpg 600w, https://www.biographyonline.net/wp-content/uploads/2016/05/last-supper_-_Da_Vinci_5-150x85.jpg 150w, https://www.biographyonline.net/wp-content/uploads/2016/05/last-supper_-_Da_Vinci_5-500x282.jpg 500w, https://www.biographyonline.net/wp-content/uploads/2016/05/last-supper_-_Da_Vinci_5-535x301.jpg 535w\" width=\"600\"/>,\n",
       "  <img alt=\"monalisa\" class=\"alignleft wp-image-3143\" height=\"467\" sizes=\"(max-width: 300px) 100vw, 300px\" src=\"https://www.biographyonline.net/wp-content/uploads/2014/05/monalisa.jpg\" srcset=\"https://www.biographyonline.net/wp-content/uploads/2014/05/monalisa.jpg 334w, https://www.biographyonline.net/wp-content/uploads/2014/05/monalisa-192x300.jpg 192w\" width=\"300\"/>,\n",
       "  <img alt=\"Da-Vinci-glider\" class=\"size-full wp-image-14773\" height=\"228\" sizes=\"(max-width: 300px) 100vw, 300px\" src=\"https://www.biographyonline.net/wp-content/uploads/2016/05/Da-Vinci-glider.jpg\" srcset=\"https://www.biographyonline.net/wp-content/uploads/2016/05/Da-Vinci-glider.jpg 300w, https://www.biographyonline.net/wp-content/uploads/2016/05/Da-Vinci-glider-150x114.jpg 150w\" width=\"300\"/>,\n",
       "  <img alt=\"leonardo_da_vinci-01\" class=\"size-full wp-image-14771\" height=\"300\" sizes=\"(max-width: 300px) 100vw, 300px\" src=\"https://www.biographyonline.net/wp-content/uploads/2016/05/leonardo_da_vinci-01.jpg\" srcset=\"https://www.biographyonline.net/wp-content/uploads/2016/05/leonardo_da_vinci-01.jpg 300w, https://www.biographyonline.net/wp-content/uploads/2016/05/leonardo_da_vinci-01-150x150.jpg 150w\" width=\"300\"/>,\n",
       "  <img alt=\"Madonna of the Rocks by Da Vinci\" class=\"size-full wp-image-14775\" height=\"314\" sizes=\"(max-width: 300px) 100vw, 300px\" src=\"https://www.biographyonline.net/wp-content/uploads/2016/05/Leonardo_Da_Vinci_-_Vergine_delle_Rocce_Louvre-cropped.jpg\" srcset=\"https://www.biographyonline.net/wp-content/uploads/2016/05/Leonardo_Da_Vinci_-_Vergine_delle_Rocce_Louvre-cropped.jpg 300w, https://www.biographyonline.net/wp-content/uploads/2016/05/Leonardo_Da_Vinci_-_Vergine_delle_Rocce_Louvre-cropped-150x157.jpg 150w\" width=\"300\"/>,\n",
       "  <img alt=\"art\" class=\" lazyloaded\" data-lazy-src=\"/imported-static/people/images/small/Michelangelo's_Pieta-130.jpg\" src=\"https://www.biographyonline.net/imported-static/people/images/small/Michelangelo%27s_Pieta-130.jpg\" width=\"100\"/>,\n",
       "  <img alt=\"leonardo-da-vinci\" class=\"alignnone size-full wp-image-3783 lazyloaded\" data-lazy-src=\"https://www.biographyonline.net/wp-content/uploads/2014/05/100-leonardo-da-vinci.jpg\" src=\"https://www.biographyonline.net/wp-content/uploads/2014/05/100-leonardo-da-vinci.jpg\" width=\"100\"/>,\n",
       "  <img alt=\"\" class=\" lazyloaded\" data-lazy-src=\"https://www.biographyonline.net/wp-content/uploads/2014/05/Julius-Caesar-1502.jpg\" height=\"154\" id=\"\" name=\"\" src=\"https://www.biographyonline.net/wp-content/uploads/2014/05/Julius-Caesar-1502.jpg\" width=\"100\"/>,\n",
       "  <img alt=\"pieta\" class=\"alignnone size-full wp-image-12618\" height=\"170\" src=\"https://www.biographyonline.net/wp-content/uploads/2014/05/pieta.jpg\" width=\"150\"/>,\n",
       "  <img alt=\"Book Cover\" src=\"http://images.amazon.com/images/P/1851774874.01.LZZZZZZZ.jpg\" width=\"160\"/>,\n",
       "  <img alt=\"Book Cover\" src=\"http://images.amazon.com/images/P/0199299021.01.LZZZZZZZ.jpg\" width=\"160\"/>,\n",
       "  <img alt=\"web analytics\" class=\"statcounter\" src=\"https://c.statcounter.com/2190149/0/b21211d3/1/\"/>],\n",
       " [<img alt=\"Biography\" src=\"https://www.biographyonline.net/wp-content/uploads/2014/06/biography2.jpg\"/>,\n",
       "  <img alt=\"von gogh\" class=\"alignleft\" height=\"274\" id=\"\" name=\"\" src=\"https://www.biographyonline.net/wp-content/uploads/2014/05/Van_Gogh1.jpg\" title=\"Van Gogh Self Portrait\" width=\"200\"/>,\n",
       "  <img alt=\"starry-night\" height=\"502\" src=\"https://www.biographyonline.net/wp-content/uploads/2014/05/Van_Gogh_starry-night1.jpg\" width=\"400\"/>,\n",
       "  <img alt=\"sunflowers\" height=\"500\" src=\"https://www.biographyonline.net/wp-content/uploads/2014/05/Van_Gogh_sunflowers1.jpg\" width=\"400\"/>,\n",
       "  <img alt=\"yellow-house\" height=\"357\" src=\"https://www.biographyonline.net/wp-content/uploads/2014/05/Van_Gogh_Yellow_House1.jpg\" width=\"450\"/>,\n",
       "  <img alt=\"Book Cover\" src=\"https://images-na.ssl-images-amazon.com/images/I/61Dqb2rI5qL._SX388_BO1,204,203,200_.jpg\" width=\"160\"/>,\n",
       "  <img alt=\"Book Cover\" src=\"https://images-na.ssl-images-amazon.com/images/I/51%2B57Cd8tsL._SX333_BO1,204,203,200_.jpg\" width=\"160\"/>,\n",
       "  <img alt=\"art\" src=\"https://www.biographyonline.net/imported-static/people/images/small/Michelangelo's_Pieta-130.jpg\" width=\"100\"/>,\n",
       "  <img alt=\"Rembrandt150\" class=\"wp-image-5647 lazyloaded alignleft\" data-lazy-src=\"https://www.biographyonline.net/wp-content/uploads/2014/05/Rembrandt1501.jpg\" height=\"112\" src=\"https://www.biographyonline.net/wp-content/uploads/2014/05/Rembrandt1501.jpg\" width=\"100\"/>,\n",
       "  <img alt=\"mona-lisa\" class=\"alignnone size-full wp-image-12619\" height=\"166\" src=\"https://www.biographyonline.net/wp-content/uploads/2014/05/mona-lisa.jpg\" width=\"150\"/>,\n",
       "  <img alt=\"pieta\" class=\"alignnone size-full wp-image-12618\" height=\"170\" src=\"https://www.biographyonline.net/wp-content/uploads/2014/05/pieta.jpg\" width=\"150\"/>,\n",
       "  <img alt=\"web analytics\" class=\"statcounter\" src=\"https://c.statcounter.com/2190149/0/b21211d3/1/\"/>],\n",
       " [<img alt=\"Biography\" src=\"https://www.biographyonline.net/wp-content/uploads/2014/06/biography2.jpg\"/>,\n",
       "  <img alt=\"Rembrandt\" class=\"alignleft\" height=\"266\" id=\"\" name=\"\" src=\"https://www.biographyonline.net/wp-content/uploads/2014/05/Rembrandt1.jpg\" title=\"Rembrandt Self Portrait\" width=\"220\"/>,\n",
       "  <img alt=\"jewishbride\" height=\"325\" src=\"https://www.biographyonline.net/wp-content/uploads/2014/05/Rembrandt_jewish-bride1.jpg\" width=\"450\"/>,\n",
       "  <img alt=\"europa\" height=\"352\" src=\"https://www.biographyonline.net/wp-content/uploads/2014/05/Rembrandt_Abduction_of_Europa1.jpg\" width=\"450\"/>,\n",
       "  <img alt=\"christ\" height=\"474\" src=\"https://www.biographyonline.net/wp-content/uploads/2014/05/Rembrandt_Christ_In_The_Storm_On_The_Sea_Of_Galilee1.jpg\" width=\"375\"/>,\n",
       "  <img alt=\"Book Cover\" class=\"alignleft lazyloaded\" data-lazy-src=\"https://images-na.ssl-images-amazon.com/images/I/518xc7dn27L._SX377_BO1,204,203,200_.jpg\" src=\"https://images-na.ssl-images-amazon.com/images/I/518xc7dn27L._SX377_BO1,204,203,200_.jpg\" width=\"170\"/>,\n",
       "  <img alt=\"art\" class=\"lazyloaded\" data-lazy-src=\"/imported-static/people/images/small/Michelangelo's_Pieta-130.jpg\" src=\"https://www.biographyonline.net/imported-static/people/images/small/Michelangelo's_Pieta-130.jpg\" width=\"100\"/>,\n",
       "  <img alt=\"Rembrandt150\" class=\"wp-image-5647 lazyloaded alignleft\" data-lazy-src=\"https://www.biographyonline.net/wp-content/uploads/2014/05/Rembrandt1501.jpg\" height=\"112\" src=\"https://www.biographyonline.net/wp-content/uploads/2014/05/Rembrandt1501.jpg\" width=\"100\"/>,\n",
       "  <img alt=\"web analytics\" class=\"statcounter\" src=\"https://c.statcounter.com/2190149/0/b21211d3/1/\"/>],\n",
       " [<img alt=\"Biography\" src=\"https://www.biographyonline.net/wp-content/uploads/2014/06/biography2.jpg\"/>,\n",
       "  <img alt=\"artist\" class=\"alignleft\" height=\"161\" id=\"artist10\" name=\"artist\" src=\"https://www.biographyonline.net/wp-content/uploads/2014/05/Michelangelo-1501.jpg\" width=\"80\"/>,\n",
       "  <img alt=\"Madonna of the stairs\" class=\"size-full wp-image-10677\" height=\"425\" sizes=\"(max-width: 300px) 100vw, 300px\" src=\"https://www.biographyonline.net/wp-content/uploads/2014/05/madonna-of-the-stairs.jpg\" srcset=\"https://www.biographyonline.net/wp-content/uploads/2014/05/madonna-of-the-stairs.jpg 300w, https://www.biographyonline.net/wp-content/uploads/2014/05/madonna-of-the-stairs-211x300.jpg 211w\" width=\"300\"/>,\n",
       "  <img alt=\"Michelangelo\" class=\"floatleft alignleft\" height=\"320\" id=\"\" name=\"\" src=\"https://www.biographyonline.net/wp-content/uploads/2014/05/Michelangelo1.jpg\" title=\"Michelangelo \" width=\"250\"/>,\n",
       "  <img alt=\"pieta\" height=\"421\" src=\"https://www.biographyonline.net/imported-static/artists/images/Michelangelo's_Pieta.jpg\" width=\"450\"/>,\n",
       "  <img alt=\"david\" height=\"529\" src=\"https://www.biographyonline.net/wp-content/uploads/2014/05/Michelangelos_David1.jpg\" width=\"448\"/>,\n",
       "  <img alt=\"adam\" height=\"231\" src=\"https://www.biographyonline.net/wp-content/uploads/2014/05/michelangelo-creation-adam1.jpg\" width=\"450\"/>,\n",
       "  <img alt=\"The Sistine Chapel which took Michelangelo four years to pain.\" class=\"wp-image-10676\" height=\"450\" sizes=\"(max-width: 600px) 100vw, 600px\" src=\"https://www.biographyonline.net/wp-content/uploads/2014/05/sistine-chapel.jpg\" srcset=\"https://www.biographyonline.net/wp-content/uploads/2014/05/sistine-chapel.jpg 1024w, https://www.biographyonline.net/wp-content/uploads/2014/05/sistine-chapel-300x225.jpg 300w, https://www.biographyonline.net/wp-content/uploads/2014/05/sistine-chapel-535x401.jpg 535w\" width=\"600\"/>,\n",
       "  <img alt=\"Book Cover\" class=\"alignleft\" src=\"https://images-na.ssl-images-amazon.com/images/I/51y3vBsa7ML._SX354_BO1,204,203,200_.jpg\"/>,\n",
       "  <img alt=\"art\" src=\"https://www.biographyonline.net/imported-static/people/images/small/Michelangelo's_Pieta-130.jpg\" width=\"100\"/>,\n",
       "  <img alt=\"leonardo-da-vinci\" class=\"alignnone size-full wp-image-3783\" src=\"https://www.biographyonline.net/wp-content/uploads/2014/05/100-leonardo-da-vinci.jpg\" width=\"100\"/>,\n",
       "  <img alt=\"\" class=\"lazyloaded\" data-lazy-src=\"https://www.biographyonline.net/wp-content/uploads/2014/05/Julius-Caesar-1502.jpg\" height=\"154\" id=\"\" name=\"\" src=\"https://www.biographyonline.net/wp-content/uploads/2014/05/Julius-Caesar-1502.jpg\" width=\"100\"/>,\n",
       "  <img alt=\"web analytics\" class=\"statcounter\" src=\"https://c.statcounter.com/2190149/0/b21211d3/1/\"/>],\n",
       " [<img alt=\"Biography\" src=\"https://www.biographyonline.net/wp-content/uploads/2014/06/biography2.jpg\"/>,\n",
       "  <img alt=\"Claude Monet\" class=\"alignleft\" height=\"286\" id=\"\" name=\"\" src=\"https://www.biographyonline.net/wp-content/uploads/2014/05/claude_monet_1.jpg\" title=\"Claude Monet\" width=\"200\"/>,\n",
       "  <img alt=\"monet\" height=\"346\" src=\"https://www.biographyonline.net/wp-content/uploads/2014/05/monet-soleil_levant_18721.jpg\" width=\"450\"/>,\n",
       "  <img alt=\"Claude_Monet_-_The_Artist's_House_at_Argenteuil\" class=\"aligncenter size-full wp-image-10652\" height=\"650\" sizes=\"(max-width: 800px) 100vw, 800px\" src=\"https://www.biographyonline.net/wp-content/uploads/2014/05/Claude_Monet_-_The_Artists_House_at_Argenteuil.jpg\" srcset=\"https://www.biographyonline.net/wp-content/uploads/2014/05/Claude_Monet_-_The_Artists_House_at_Argenteuil.jpg 800w, https://www.biographyonline.net/wp-content/uploads/2014/05/Claude_Monet_-_The_Artists_House_at_Argenteuil-300x243.jpg 300w, https://www.biographyonline.net/wp-content/uploads/2014/05/Claude_Monet_-_The_Artists_House_at_Argenteuil-535x434.jpg 535w\" width=\"800\"/>,\n",
       "  <img alt=\"haystacks\" height=\"354\" src=\"https://www.biographyonline.net/wp-content/uploads/2014/05/monet-haystaks_I1.jpg\" width=\"450\"/>,\n",
       "  <img alt=\"Monet_-_Im_Garten_-_1895\" class=\"aligncenter size-full wp-image-10654\" height=\"540\" sizes=\"(max-width: 640px) 100vw, 640px\" src=\"https://www.biographyonline.net/wp-content/uploads/2014/05/Monet_-_Im_Garten_-_1895.jpg\" srcset=\"https://www.biographyonline.net/wp-content/uploads/2014/05/Monet_-_Im_Garten_-_1895.jpg 640w, https://www.biographyonline.net/wp-content/uploads/2014/05/Monet_-_Im_Garten_-_1895-300x253.jpg 300w, https://www.biographyonline.net/wp-content/uploads/2014/05/Monet_-_Im_Garten_-_1895-535x451.jpg 535w\" width=\"640\"/>,\n",
       "  <img alt=\"The willows\" class=\"wp-image-10653\" height=\"404\" sizes=\"(max-width: 500px) 100vw, 500px\" src=\"https://www.biographyonline.net/wp-content/uploads/2014/05/the-willows.jpg\" srcset=\"https://www.biographyonline.net/wp-content/uploads/2014/05/the-willows.jpg 640w, https://www.biographyonline.net/wp-content/uploads/2014/05/the-willows-300x242.jpg 300w, https://www.biographyonline.net/wp-content/uploads/2014/05/the-willows-535x432.jpg 535w\" width=\"500\"/>,\n",
       "  <img alt=\"poppies\" height=\"324\" src=\"https://www.biographyonline.net/wp-content/uploads/2014/05/poppiesClaude_Monet_0371.jpg\" width=\"450\"/>,\n",
       "  <img alt=\"Book Cover\" class=\"alignleft\" src=\"https://images-na.ssl-images-amazon.com/images/I/51Bg-Kbr9PL._SX405_BO1,204,203,200_.jpg\" width=\"200\"/>,\n",
       "  <img alt=\"Book Cover\" class=\"alignleft\" src=\"https://images-na.ssl-images-amazon.com/images/I/51DiWOcVMiL._SX392_BO1,204,203,200_.jpg\" width=\"200\"/>,\n",
       "  <img alt=\"art\" src=\"/imported-static/people/images/small/Michelangelo's_Pieta-130.jpg\" width=\"100\"/>,\n",
       "  <img class=\"lazyloaded alignleft\" data-lazy-src=\"https://www.biographyonline.net/wp-content/uploads/2014/05/Napoleon-1502.jpg\" height=\"142\" id=\"\" name=\"\" src=\"https://www.biographyonline.net/wp-content/uploads/2014/05/Napoleon-1502.jpg\" width=\"100\"/>,\n",
       "  <img alt=\"web analytics\" class=\"statcounter\" src=\"https://c.statcounter.com/2190149/0/b21211d3/1/\"/>],\n",
       " [<img alt=\"Biography\" src=\"https://www.biographyonline.net/wp-content/uploads/2014/06/biography2.jpg\"/>,\n",
       "  <img alt=\"Picasso\" class=\"alignleft size-full wp-image-15236\" height=\"96\" src=\"https://www.biographyonline.net/wp-content/uploads/2014/05/Portrait_de_Picasso_1908-100.jpg\" width=\"100\"/>,\n",
       "  <img alt=\"picasso\" class=\"alignright\" height=\"272\" src=\"https://www.biographyonline.net/wp-content/uploads/2014/05/picasso46021.jpg\" width=\"300\"/>,\n",
       "  <img alt=\"Pablo_Picasso,_1905,_Au_Lapin_Agile_(At_the_Lapin_Agile),_oil_on_canvas,_99.1_x_100.3_cm,_Metropolitan_Museum_of_Art\" class=\"size-full wp-image-15238\" height=\"330\" sizes=\"(max-width: 330px) 100vw, 330px\" src=\"https://www.biographyonline.net/wp-content/uploads/2014/05/Pablo_Picasso_1905_Au_Lapin_Agile_At_the_Lapin_Agile_oil_on_canvas_99.1_x_100.3_cm_Metropolitan_Museum_of_Art.jpg\" srcset=\"https://www.biographyonline.net/wp-content/uploads/2014/05/Pablo_Picasso_1905_Au_Lapin_Agile_At_the_Lapin_Agile_oil_on_canvas_99.1_x_100.3_cm_Metropolitan_Museum_of_Art.jpg 330w, https://www.biographyonline.net/wp-content/uploads/2014/05/Pablo_Picasso_1905_Au_Lapin_Agile_At_the_Lapin_Agile_oil_on_canvas_99.1_x_100.3_cm_Metropolitan_Museum_of_Art-150x150.jpg 150w\" width=\"330\"/>,\n",
       "  <img alt=\"Pablo_Picasso\" class=\"wp-image-15239 size-full\" height=\"405\" sizes=\"(max-width: 500px) 100vw, 500px\" src=\"https://www.biographyonline.net/wp-content/uploads/2014/05/Pablo_Picasso_1914-15_Nature_morte_au_compotier_Still_Life_with_Compote_and_Glass_oil_on_canvas_63.5_x_78.7_cm_25_x_31_in_Columbus_Museum_of_Art_Ohio.jpg\" srcset=\"https://www.biographyonline.net/wp-content/uploads/2014/05/Pablo_Picasso_1914-15_Nature_morte_au_compotier_Still_Life_with_Compote_and_Glass_oil_on_canvas_63.5_x_78.7_cm_25_x_31_in_Columbus_Museum_of_Art_Ohio.jpg 500w, https://www.biographyonline.net/wp-content/uploads/2014/05/Pablo_Picasso_1914-15_Nature_morte_au_compotier_Still_Life_with_Compote_and_Glass_oil_on_canvas_63.5_x_78.7_cm_25_x_31_in_Columbus_Museum_of_Art_Ohio-150x122.jpg 150w\" width=\"500\"/>,\n",
       "  <img alt=\"Picasso-Guernica\" class=\"alignnone size-full wp-image-13377\" height=\"283\" sizes=\"(max-width: 631px) 100vw, 631px\" src=\"https://www.biographyonline.net/wp-content/uploads/2014/05/Picasso-Guernica.jpg\" srcset=\"https://www.biographyonline.net/wp-content/uploads/2014/05/Picasso-Guernica.jpg 631w, https://www.biographyonline.net/wp-content/uploads/2014/05/Picasso-Guernica-150x67.jpg 150w, https://www.biographyonline.net/wp-content/uploads/2014/05/Picasso-Guernica-500x224.jpg 500w, https://www.biographyonline.net/wp-content/uploads/2014/05/Picasso-Guernica-535x240.jpg 535w\" width=\"631\"/>,\n",
       "  <img alt=\"picasso dove peace\" height=\"399\" src=\"https://www.biographyonline.net/wp-content/uploads/2014/05/picasso-peace1.gif\" width=\"465\"/>,\n",
       "  <img alt=\"Book Cover\" src=\"https://www.biographyonline.net/wp-content/uploads/2014/05/0393311074.01.MZZZZZZZ1.jpg\"/>,\n",
       "  <img alt=\"Book Cover\" src=\"https://www.biographyonline.net/wp-content/uploads/2014/05/0307266656.01.MZZZZZZZ1.jpg\"/>,\n",
       "  <img alt=\"Book Cover\" src=\"https://www.biographyonline.net/wp-content/uploads/2014/05/0810991144.01.MZZZZZZZ1.jpg\"/>,\n",
       "  <img alt=\"art\" class=\" lazyloaded\" data-lazy-src=\"/imported-static/people/images/small/Michelangelo's_Pieta-130.jpg\" src=\"https://www.biographyonline.net/imported-static/people/images/small/Michelangelo%27s_Pieta-130.jpg\" width=\"100\"/>,\n",
       "  <img alt=\"pieta\" class=\" lazyloaded alignnone wp-image-12618\" data-lazy-src=\"https://www.biographyonline.net/wp-content/uploads/2014/05/pieta.jpg\" height=\"113\" src=\"https://www.biographyonline.net/wp-content/uploads/2014/05/pieta.jpg\" width=\"100\"/>,\n",
       "  <img alt=\"web analytics\" class=\"statcounter\" src=\"https://c.statcounter.com/2190149/0/b21211d3/1/\"/>],\n",
       " [<img alt=\"Biography\" src=\"https://www.biographyonline.net/wp-content/uploads/2014/06/biography2.jpg\"/>,\n",
       "  <img alt=\"Raphael \" class=\"alignleft\" height=\"297\" id=\"\" name=\"\" src=\"https://www.biographyonline.net/wp-content/uploads/2014/05/raphael1.jpg\" title=\"Raphael \" width=\"220\"/>,\n",
       "  <img alt=\"crucifix\" height=\"557\" src=\"https://www.biographyonline.net/wp-content/uploads/2014/05/Rafael-CrocefissioneRaffaello1.jpg\" width=\"330\"/>,\n",
       "  <img alt=\"athens\" height=\"349\" src=\"https://www.biographyonline.net/wp-content/uploads/2014/05/raphael-school-athens1.jpg\" width=\"450\"/>,\n",
       "  <img alt=\"Book Cover\" src=\"https://images-na.ssl-images-amazon.com/images/I/511Q07DTZHL._SX404_BO1,204,203,200_.jpg\" width=\"160\"/>,\n",
       "  <img alt=\"art\" src=\"https://www.biographyonline.net/imported-static/people/images/small/Michelangelo's_Pieta-130.jpg\" width=\"100\"/>,\n",
       "  <img alt=\"\" class=\"lazyloaded\" data-lazy-src=\"https://www.biographyonline.net/wp-content/uploads/2014/05/Julius-Caesar-1502.jpg\" height=\"154\" id=\"\" name=\"\" src=\"https://www.biographyonline.net/wp-content/uploads/2014/05/Julius-Caesar-1502.jpg\" width=\"100\"/>,\n",
       "  <img alt=\"mona-lisa\" class=\"alignnone size-full wp-image-12619\" height=\"166\" src=\"https://www.biographyonline.net/wp-content/uploads/2014/05/mona-lisa.jpg\" width=\"150\"/>,\n",
       "  <img alt=\"pieta\" class=\"alignnone size-full wp-image-12618\" height=\"170\" src=\"https://www.biographyonline.net/wp-content/uploads/2014/05/pieta.jpg\" width=\"150\"/>,\n",
       "  <img alt=\"the-girl-with-a-pearl-earring-150\" class=\"alignnone size-full wp-image-13009\" height=\"167\" src=\"https://www.biographyonline.net/wp-content/uploads/2014/05/the-girl-with-a-pearl-earring-150.jpg\" width=\"150\"/>,\n",
       "  <img alt=\"web analytics\" class=\"statcounter\" src=\"https://c.statcounter.com/2190149/0/b21211d3/1/\"/>],\n",
       " [<img alt=\"Biography\" src=\"https://www.biographyonline.net/wp-content/uploads/2014/06/biography2.jpg\"/>,\n",
       "  <img alt=\"Renoir\" class=\"alignleft\" height=\"264\" id=\"\" name=\"\" src=\"https://www.biographyonline.net/wp-content/uploads/2014/05/renoir1.jpg\" title=\"Renoir\" width=\"200\"/>,\n",
       "  <img alt=\"moulin\" height=\"335\" src=\"https://www.biographyonline.net/wp-content/uploads/2014/05/Renoir_Le_Moulin_de_la_Galette1.jpg\" width=\"450\"/>,\n",
       "  <img alt=\"girl\" height=\"503\" src=\"https://www.biographyonline.net/wp-content/uploads/2014/05/renoir-Girl_with_a_hoop1.jpg\" width=\"300\"/>,\n",
       "  <img alt=\"bywater\" height=\"380\" src=\"https://www.biographyonline.net/wp-content/uploads/2014/05/Renoir_-_By_the_Water1.jpg\" width=\"450\"/>,\n",
       "  <img alt=\"monet\" height=\"366\" src=\"https://www.biographyonline.net/wp-content/uploads/2014/05/Renoir_083-painting-monet1.jpg\" width=\"450\"/>,\n",
       "  <img alt=\"Book Cover\" class=\" lazyloaded\" data-lazy-src=\"http://images.amazon.com/images/P/0500239576.01.LZZZZZZZ.jpg\" src=\"http://images.amazon.com/images/P/0500239576.01.LZZZZZZZ.jpg\" width=\"160\"/>,\n",
       "  <img alt=\"art\" class=\" lazyloaded\" data-lazy-src=\"/imported-static/people/images/small/Michelangelo's_Pieta-130.jpg\" src=\"https://www.biographyonline.net/imported-static/people/images/small/Michelangelo's_Pieta-130.jpg\" width=\"100\"/>,\n",
       "  <img class=\" lazyloaded alignleft\" data-lazy-src=\"https://www.biographyonline.net/wp-content/uploads/2014/05/Napoleon-1502.jpg\" height=\"142\" id=\"\" name=\"\" src=\"https://www.biographyonline.net/wp-content/uploads/2014/05/Napoleon-1502.jpg\" width=\"100\"/>,\n",
       "  <img alt=\"web analytics\" class=\"statcounter\" src=\"https://c.statcounter.com/2190149/0/b21211d3/1/\"/>],\n",
       " [<img alt=\"Biography\" src=\"https://www.biographyonline.net/wp-content/uploads/2014/06/biography2.jpg\"/>,\n",
       "  <img alt=\"Jan Vermeer\" class=\"alignleft\" height=\"334\" id=\"\" name=\"\" src=\"https://www.biographyonline.net/wp-content/uploads/2014/05/Jan_Vermeer1.jpg\" title=\"Jan Vermeer\" width=\"300\"/>,\n",
       "  <img alt=\"delft\" height=\"376\" src=\"https://www.biographyonline.net/wp-content/uploads/2014/05/Vermeer-view-of-delft1.jpg\" width=\"450\"/>,\n",
       "  <img alt=\"vermeer\" height=\"501\" src=\"https://www.biographyonline.net/wp-content/uploads/2014/05/Vermeer_The_Girl_With_The_Pearl_Earring_16651.jpg\" width=\"350\"/>,\n",
       "  <img alt=\"Book Cover\" class=\"alignleft\" src=\"http://images.amazon.com/images/P/0810927519.01.LZZZZZZZ.jpg\"/>,\n",
       "  <img alt=\"art\" src=\"https://www.biographyonline.net/imported-static/people/images/small/Michelangelo's_Pieta-130.jpg\" width=\"100\"/>,\n",
       "  <img alt=\"Rembrandt150\" class=\"wp-image-5647 lazyloaded alignleft\" data-lazy-src=\"https://www.biographyonline.net/wp-content/uploads/2014/05/Rembrandt1501.jpg\" height=\"112\" src=\"https://www.biographyonline.net/wp-content/uploads/2014/05/Rembrandt1501.jpg\" width=\"100\"/>,\n",
       "  <img alt=\"web analytics\" class=\"statcounter\" src=\"https://c.statcounter.com/2190149/0/b21211d3/1/\"/>],\n",
       " [<img alt=\"Biography\" src=\"https://www.biographyonline.net/wp-content/uploads/2014/06/biography2.jpg\"/>,\n",
       "  <img alt=\"cezanne\" class=\"alignleft\" height=\"356\" src=\"https://www.biographyonline.net/wp-content/uploads/2014/05/Cezanne_-self-portrait1.jpg\" width=\"300\"/>,\n",
       "  <img alt=\"Cézanne, 1882-1883: 'L'Estaque, a View through the Trees',\" class=\"wp-image-15496 size-full\" height=\"628\" sizes=\"(max-width: 800px) 100vw, 800px\" src=\"http://www.biographyonline.net/wp-content/uploads/2018/01/l-estaque-Paul_Ce%CC%81zanne_089.jpg\" srcset=\"https://www.biographyonline.net/wp-content/uploads/2018/01/l-estaque-Paul_Cézanne_089.jpg 800w, https://www.biographyonline.net/wp-content/uploads/2018/01/l-estaque-Paul_Cézanne_089-150x118.jpg 150w, https://www.biographyonline.net/wp-content/uploads/2018/01/l-estaque-Paul_Cézanne_089-500x393.jpg 500w, https://www.biographyonline.net/wp-content/uploads/2018/01/l-estaque-Paul_Cézanne_089-768x603.jpg 768w, https://www.biographyonline.net/wp-content/uploads/2018/01/l-estaque-Paul_Cézanne_089-640x502.jpg 640w, https://www.biographyonline.net/wp-content/uploads/2018/01/l-estaque-Paul_Cézanne_089-535x420.jpg 535w\" width=\"800\"/>,\n",
       "  <img alt=\"cezanne\" height=\"369\" src=\"https://www.biographyonline.net/wp-content/uploads/2014/05/cezzane-Jas_de_bouffan1.jpg\" width=\"450\"/>,\n",
       "  <img alt=\"cezanne\" height=\"362\" src=\"https://www.biographyonline.net/wp-content/uploads/2014/05/Cezanne_villa1.jpg\" width=\"450\"/>,\n",
       "  <img alt=\"Book Cover\" class=\" lazyloaded\" data-lazy-src=\"https://images-na.ssl-images-amazon.com/images/I/51HhZXJ1ykL.jpg\" src=\"https://images-na.ssl-images-amazon.com/images/I/51HhZXJ1ykL.jpg\" width=\"160\"/>,\n",
       "  <img class=\" lazyloaded alignleft\" data-lazy-src=\"https://www.biographyonline.net/wp-content/uploads/2014/05/Napoleon-1502.jpg\" height=\"142\" id=\"\" name=\"\" src=\"https://www.biographyonline.net/wp-content/uploads/2014/05/Napoleon-1502.jpg\" width=\"100\"/>,\n",
       "  <img alt=\"art\" class=\" lazyloaded\" data-lazy-src=\"/imported-static/people/images/small/Michelangelo's_Pieta-130.jpg\" src=\"https://www.biographyonline.net/imported-static/people/images/small/Michelangelo's_Pieta-130.jpg\" width=\"100\"/>,\n",
       "  <img alt=\"web analytics\" class=\"statcounter\" src=\"https://c.statcounter.com/2190149/0/b21211d3/1/\"/>]]"
      ]
     },
     "execution_count": 321,
     "metadata": {},
     "output_type": "execute_result"
    }
   ],
   "source": [
    "imgtag_list_per_artist"
   ]
  },
  {
   "cell_type": "code",
   "execution_count": 326,
   "metadata": {
    "scrolled": false
   },
   "outputs": [
    {
     "data": {
      "text/html": [
       "<h1>Hello, world!</h1>"
      ],
      "text/plain": [
       "<IPython.core.display.HTML object>"
      ]
     },
     "metadata": {},
     "output_type": "display_data"
    },
    {
     "data": {
      "text/html": [
       "<h1><a href=https://www.biographyonline.net/scientists/leonardo_da_vinci.html'>1. Leonardo Da Vinci</a></h1>"
      ],
      "text/plain": [
       "<IPython.core.display.HTML object>"
      ]
     },
     "metadata": {},
     "output_type": "display_data"
    },
    {
     "data": {
      "text/html": [
       "<img src=\"https://www.biographyonline.net/wp-content/uploads/2014/06/biography2.jpg\"/>"
      ],
      "text/plain": [
       "<IPython.core.display.HTML object>"
      ]
     },
     "metadata": {},
     "output_type": "display_data"
    },
    {
     "data": {
      "text/html": [
       "<img src=\"../images/150/250-leonardo-da-vinci.jpg\"/>"
      ],
      "text/plain": [
       "<IPython.core.display.HTML object>"
      ]
     },
     "metadata": {},
     "output_type": "display_data"
    },
    {
     "data": {
      "text/html": [
       "<img src=\"https://www.biographyonline.net/wp-content/uploads/2016/05/adoration-of-the-magi-da-vinci.jpg\"/>"
      ],
      "text/plain": [
       "<IPython.core.display.HTML object>"
      ]
     },
     "metadata": {},
     "output_type": "display_data"
    },
    {
     "data": {
      "text/html": [
       "<img src=\"https://www.biographyonline.net/wp-content/uploads/2016/05/last-supper_-_Da_Vinci_5.jpg\"/>"
      ],
      "text/plain": [
       "<IPython.core.display.HTML object>"
      ]
     },
     "metadata": {},
     "output_type": "display_data"
    },
    {
     "data": {
      "text/html": [
       "<img src=\"https://www.biographyonline.net/wp-content/uploads/2014/05/monalisa.jpg\"/>"
      ],
      "text/plain": [
       "<IPython.core.display.HTML object>"
      ]
     },
     "metadata": {},
     "output_type": "display_data"
    },
    {
     "data": {
      "text/html": [
       "<img src=\"https://www.biographyonline.net/wp-content/uploads/2016/05/Da-Vinci-glider.jpg\"/>"
      ],
      "text/plain": [
       "<IPython.core.display.HTML object>"
      ]
     },
     "metadata": {},
     "output_type": "display_data"
    },
    {
     "data": {
      "text/html": [
       "<img src=\"https://www.biographyonline.net/wp-content/uploads/2016/05/leonardo_da_vinci-01.jpg\"/>"
      ],
      "text/plain": [
       "<IPython.core.display.HTML object>"
      ]
     },
     "metadata": {},
     "output_type": "display_data"
    },
    {
     "data": {
      "text/html": [
       "<img src=\"https://www.biographyonline.net/wp-content/uploads/2016/05/Leonardo_Da_Vinci_-_Vergine_delle_Rocce_Louvre-cropped.jpg\"/>"
      ],
      "text/plain": [
       "<IPython.core.display.HTML object>"
      ]
     },
     "metadata": {},
     "output_type": "display_data"
    },
    {
     "data": {
      "text/html": [
       "<img src=\"https://www.biographyonline.net/imported-static/people/images/small/Michelangelo%27s_Pieta-130.jpg\"/>"
      ],
      "text/plain": [
       "<IPython.core.display.HTML object>"
      ]
     },
     "metadata": {},
     "output_type": "display_data"
    },
    {
     "data": {
      "text/html": [
       "<img src=\"https://www.biographyonline.net/wp-content/uploads/2014/05/100-leonardo-da-vinci.jpg\"/>"
      ],
      "text/plain": [
       "<IPython.core.display.HTML object>"
      ]
     },
     "metadata": {},
     "output_type": "display_data"
    },
    {
     "data": {
      "text/html": [
       "<img src=\"https://www.biographyonline.net/wp-content/uploads/2014/05/Julius-Caesar-1502.jpg\"/>"
      ],
      "text/plain": [
       "<IPython.core.display.HTML object>"
      ]
     },
     "metadata": {},
     "output_type": "display_data"
    },
    {
     "data": {
      "text/html": [
       "<img src=\"https://www.biographyonline.net/wp-content/uploads/2014/05/pieta.jpg\"/>"
      ],
      "text/plain": [
       "<IPython.core.display.HTML object>"
      ]
     },
     "metadata": {},
     "output_type": "display_data"
    },
    {
     "data": {
      "text/html": [
       "<img src=\"http://images.amazon.com/images/P/1851774874.01.LZZZZZZZ.jpg\"/>"
      ],
      "text/plain": [
       "<IPython.core.display.HTML object>"
      ]
     },
     "metadata": {},
     "output_type": "display_data"
    },
    {
     "data": {
      "text/html": [
       "<img src=\"http://images.amazon.com/images/P/0199299021.01.LZZZZZZZ.jpg\"/>"
      ],
      "text/plain": [
       "<IPython.core.display.HTML object>"
      ]
     },
     "metadata": {},
     "output_type": "display_data"
    },
    {
     "data": {
      "text/html": [
       "<img src=\"https://c.statcounter.com/2190149/0/b21211d3/1/\"/>"
      ],
      "text/plain": [
       "<IPython.core.display.HTML object>"
      ]
     },
     "metadata": {},
     "output_type": "display_data"
    },
    {
     "data": {
      "text/html": [
       "<h1><a href=https://www.biographyonline.net/artists/vincent-van-gogh.html'>2. Vincent Van Gogh</a></h1>"
      ],
      "text/plain": [
       "<IPython.core.display.HTML object>"
      ]
     },
     "metadata": {},
     "output_type": "display_data"
    },
    {
     "data": {
      "text/html": [
       "<img src=\"https://www.biographyonline.net/wp-content/uploads/2014/06/biography2.jpg\"/>"
      ],
      "text/plain": [
       "<IPython.core.display.HTML object>"
      ]
     },
     "metadata": {},
     "output_type": "display_data"
    },
    {
     "data": {
      "text/html": [
       "<img src=\"https://www.biographyonline.net/wp-content/uploads/2014/05/Van_Gogh1.jpg\"/>"
      ],
      "text/plain": [
       "<IPython.core.display.HTML object>"
      ]
     },
     "metadata": {},
     "output_type": "display_data"
    },
    {
     "data": {
      "text/html": [
       "<img src=\"https://www.biographyonline.net/wp-content/uploads/2014/05/Van_Gogh_starry-night1.jpg\"/>"
      ],
      "text/plain": [
       "<IPython.core.display.HTML object>"
      ]
     },
     "metadata": {},
     "output_type": "display_data"
    },
    {
     "data": {
      "text/html": [
       "<img src=\"https://www.biographyonline.net/wp-content/uploads/2014/05/Van_Gogh_sunflowers1.jpg\"/>"
      ],
      "text/plain": [
       "<IPython.core.display.HTML object>"
      ]
     },
     "metadata": {},
     "output_type": "display_data"
    },
    {
     "data": {
      "text/html": [
       "<img src=\"https://www.biographyonline.net/wp-content/uploads/2014/05/Van_Gogh_Yellow_House1.jpg\"/>"
      ],
      "text/plain": [
       "<IPython.core.display.HTML object>"
      ]
     },
     "metadata": {},
     "output_type": "display_data"
    },
    {
     "data": {
      "text/html": [
       "<img src=\"https://images-na.ssl-images-amazon.com/images/I/61Dqb2rI5qL._SX388_BO1,204,203,200_.jpg\"/>"
      ],
      "text/plain": [
       "<IPython.core.display.HTML object>"
      ]
     },
     "metadata": {},
     "output_type": "display_data"
    },
    {
     "data": {
      "text/html": [
       "<img src=\"https://images-na.ssl-images-amazon.com/images/I/51%2B57Cd8tsL._SX333_BO1,204,203,200_.jpg\"/>"
      ],
      "text/plain": [
       "<IPython.core.display.HTML object>"
      ]
     },
     "metadata": {},
     "output_type": "display_data"
    },
    {
     "data": {
      "text/html": [
       "<img src=\"https://www.biographyonline.net/imported-static/people/images/small/Michelangelo's_Pieta-130.jpg\"/>"
      ],
      "text/plain": [
       "<IPython.core.display.HTML object>"
      ]
     },
     "metadata": {},
     "output_type": "display_data"
    },
    {
     "data": {
      "text/html": [
       "<img src=\"https://www.biographyonline.net/wp-content/uploads/2014/05/Rembrandt1501.jpg\"/>"
      ],
      "text/plain": [
       "<IPython.core.display.HTML object>"
      ]
     },
     "metadata": {},
     "output_type": "display_data"
    },
    {
     "data": {
      "text/html": [
       "<img src=\"https://www.biographyonline.net/wp-content/uploads/2014/05/mona-lisa.jpg\"/>"
      ],
      "text/plain": [
       "<IPython.core.display.HTML object>"
      ]
     },
     "metadata": {},
     "output_type": "display_data"
    },
    {
     "data": {
      "text/html": [
       "<img src=\"https://www.biographyonline.net/wp-content/uploads/2014/05/pieta.jpg\"/>"
      ],
      "text/plain": [
       "<IPython.core.display.HTML object>"
      ]
     },
     "metadata": {},
     "output_type": "display_data"
    },
    {
     "data": {
      "text/html": [
       "<img src=\"https://c.statcounter.com/2190149/0/b21211d3/1/\"/>"
      ],
      "text/plain": [
       "<IPython.core.display.HTML object>"
      ]
     },
     "metadata": {},
     "output_type": "display_data"
    },
    {
     "data": {
      "text/html": [
       "<h1><a href=https://www.biographyonline.net/artists/rembrandt.html'>3. Rembrandt</a></h1>"
      ],
      "text/plain": [
       "<IPython.core.display.HTML object>"
      ]
     },
     "metadata": {},
     "output_type": "display_data"
    },
    {
     "data": {
      "text/html": [
       "<img src=\"https://www.biographyonline.net/wp-content/uploads/2014/06/biography2.jpg\"/>"
      ],
      "text/plain": [
       "<IPython.core.display.HTML object>"
      ]
     },
     "metadata": {},
     "output_type": "display_data"
    },
    {
     "data": {
      "text/html": [
       "<img src=\"https://www.biographyonline.net/wp-content/uploads/2014/05/Rembrandt1.jpg\"/>"
      ],
      "text/plain": [
       "<IPython.core.display.HTML object>"
      ]
     },
     "metadata": {},
     "output_type": "display_data"
    },
    {
     "data": {
      "text/html": [
       "<img src=\"https://www.biographyonline.net/wp-content/uploads/2014/05/Rembrandt_jewish-bride1.jpg\"/>"
      ],
      "text/plain": [
       "<IPython.core.display.HTML object>"
      ]
     },
     "metadata": {},
     "output_type": "display_data"
    },
    {
     "data": {
      "text/html": [
       "<img src=\"https://www.biographyonline.net/wp-content/uploads/2014/05/Rembrandt_Abduction_of_Europa1.jpg\"/>"
      ],
      "text/plain": [
       "<IPython.core.display.HTML object>"
      ]
     },
     "metadata": {},
     "output_type": "display_data"
    },
    {
     "data": {
      "text/html": [
       "<img src=\"https://www.biographyonline.net/wp-content/uploads/2014/05/Rembrandt_Christ_In_The_Storm_On_The_Sea_Of_Galilee1.jpg\"/>"
      ],
      "text/plain": [
       "<IPython.core.display.HTML object>"
      ]
     },
     "metadata": {},
     "output_type": "display_data"
    },
    {
     "data": {
      "text/html": [
       "<img src=\"https://images-na.ssl-images-amazon.com/images/I/518xc7dn27L._SX377_BO1,204,203,200_.jpg\"/>"
      ],
      "text/plain": [
       "<IPython.core.display.HTML object>"
      ]
     },
     "metadata": {},
     "output_type": "display_data"
    },
    {
     "data": {
      "text/html": [
       "<img src=\"https://www.biographyonline.net/imported-static/people/images/small/Michelangelo's_Pieta-130.jpg\"/>"
      ],
      "text/plain": [
       "<IPython.core.display.HTML object>"
      ]
     },
     "metadata": {},
     "output_type": "display_data"
    },
    {
     "data": {
      "text/html": [
       "<img src=\"https://www.biographyonline.net/wp-content/uploads/2014/05/Rembrandt1501.jpg\"/>"
      ],
      "text/plain": [
       "<IPython.core.display.HTML object>"
      ]
     },
     "metadata": {},
     "output_type": "display_data"
    },
    {
     "data": {
      "text/html": [
       "<img src=\"https://c.statcounter.com/2190149/0/b21211d3/1/\"/>"
      ],
      "text/plain": [
       "<IPython.core.display.HTML object>"
      ]
     },
     "metadata": {},
     "output_type": "display_data"
    },
    {
     "data": {
      "text/html": [
       "<h1><a href=https://www.biographyonline.net/artists/michelangelo.html'>4. Michelangelo</a></h1>"
      ],
      "text/plain": [
       "<IPython.core.display.HTML object>"
      ]
     },
     "metadata": {},
     "output_type": "display_data"
    },
    {
     "data": {
      "text/html": [
       "<img src=\"https://www.biographyonline.net/wp-content/uploads/2014/06/biography2.jpg\"/>"
      ],
      "text/plain": [
       "<IPython.core.display.HTML object>"
      ]
     },
     "metadata": {},
     "output_type": "display_data"
    },
    {
     "data": {
      "text/html": [
       "<img src=\"https://www.biographyonline.net/wp-content/uploads/2014/05/Michelangelo-1501.jpg\"/>"
      ],
      "text/plain": [
       "<IPython.core.display.HTML object>"
      ]
     },
     "metadata": {},
     "output_type": "display_data"
    },
    {
     "data": {
      "text/html": [
       "<img src=\"https://www.biographyonline.net/wp-content/uploads/2014/05/madonna-of-the-stairs.jpg\"/>"
      ],
      "text/plain": [
       "<IPython.core.display.HTML object>"
      ]
     },
     "metadata": {},
     "output_type": "display_data"
    },
    {
     "data": {
      "text/html": [
       "<img src=\"https://www.biographyonline.net/wp-content/uploads/2014/05/Michelangelo1.jpg\"/>"
      ],
      "text/plain": [
       "<IPython.core.display.HTML object>"
      ]
     },
     "metadata": {},
     "output_type": "display_data"
    },
    {
     "data": {
      "text/html": [
       "<img src=\"https://www.biographyonline.net/imported-static/artists/images/Michelangelo's_Pieta.jpg\"/>"
      ],
      "text/plain": [
       "<IPython.core.display.HTML object>"
      ]
     },
     "metadata": {},
     "output_type": "display_data"
    },
    {
     "data": {
      "text/html": [
       "<img src=\"https://www.biographyonline.net/wp-content/uploads/2014/05/Michelangelos_David1.jpg\"/>"
      ],
      "text/plain": [
       "<IPython.core.display.HTML object>"
      ]
     },
     "metadata": {},
     "output_type": "display_data"
    },
    {
     "data": {
      "text/html": [
       "<img src=\"https://www.biographyonline.net/wp-content/uploads/2014/05/michelangelo-creation-adam1.jpg\"/>"
      ],
      "text/plain": [
       "<IPython.core.display.HTML object>"
      ]
     },
     "metadata": {},
     "output_type": "display_data"
    },
    {
     "data": {
      "text/html": [
       "<img src=\"https://www.biographyonline.net/wp-content/uploads/2014/05/sistine-chapel.jpg\"/>"
      ],
      "text/plain": [
       "<IPython.core.display.HTML object>"
      ]
     },
     "metadata": {},
     "output_type": "display_data"
    },
    {
     "data": {
      "text/html": [
       "<img src=\"https://images-na.ssl-images-amazon.com/images/I/51y3vBsa7ML._SX354_BO1,204,203,200_.jpg\"/>"
      ],
      "text/plain": [
       "<IPython.core.display.HTML object>"
      ]
     },
     "metadata": {},
     "output_type": "display_data"
    },
    {
     "data": {
      "text/html": [
       "<img src=\"https://www.biographyonline.net/imported-static/people/images/small/Michelangelo's_Pieta-130.jpg\"/>"
      ],
      "text/plain": [
       "<IPython.core.display.HTML object>"
      ]
     },
     "metadata": {},
     "output_type": "display_data"
    },
    {
     "data": {
      "text/html": [
       "<img src=\"https://www.biographyonline.net/wp-content/uploads/2014/05/100-leonardo-da-vinci.jpg\"/>"
      ],
      "text/plain": [
       "<IPython.core.display.HTML object>"
      ]
     },
     "metadata": {},
     "output_type": "display_data"
    },
    {
     "data": {
      "text/html": [
       "<img src=\"https://www.biographyonline.net/wp-content/uploads/2014/05/Julius-Caesar-1502.jpg\"/>"
      ],
      "text/plain": [
       "<IPython.core.display.HTML object>"
      ]
     },
     "metadata": {},
     "output_type": "display_data"
    },
    {
     "data": {
      "text/html": [
       "<img src=\"https://c.statcounter.com/2190149/0/b21211d3/1/\"/>"
      ],
      "text/plain": [
       "<IPython.core.display.HTML object>"
      ]
     },
     "metadata": {},
     "output_type": "display_data"
    },
    {
     "data": {
      "text/html": [
       "<h1><a href=https://www.biographyonline.net/artists/claude-monet.html'>5. Claude Monet</a></h1>"
      ],
      "text/plain": [
       "<IPython.core.display.HTML object>"
      ]
     },
     "metadata": {},
     "output_type": "display_data"
    },
    {
     "data": {
      "text/html": [
       "<img src=\"https://www.biographyonline.net/wp-content/uploads/2014/06/biography2.jpg\"/>"
      ],
      "text/plain": [
       "<IPython.core.display.HTML object>"
      ]
     },
     "metadata": {},
     "output_type": "display_data"
    },
    {
     "data": {
      "text/html": [
       "<img src=\"https://www.biographyonline.net/wp-content/uploads/2014/05/claude_monet_1.jpg\"/>"
      ],
      "text/plain": [
       "<IPython.core.display.HTML object>"
      ]
     },
     "metadata": {},
     "output_type": "display_data"
    },
    {
     "data": {
      "text/html": [
       "<img src=\"https://www.biographyonline.net/wp-content/uploads/2014/05/monet-soleil_levant_18721.jpg\"/>"
      ],
      "text/plain": [
       "<IPython.core.display.HTML object>"
      ]
     },
     "metadata": {},
     "output_type": "display_data"
    },
    {
     "data": {
      "text/html": [
       "<img src=\"https://www.biographyonline.net/wp-content/uploads/2014/05/Claude_Monet_-_The_Artists_House_at_Argenteuil.jpg\"/>"
      ],
      "text/plain": [
       "<IPython.core.display.HTML object>"
      ]
     },
     "metadata": {},
     "output_type": "display_data"
    },
    {
     "data": {
      "text/html": [
       "<img src=\"https://www.biographyonline.net/wp-content/uploads/2014/05/monet-haystaks_I1.jpg\"/>"
      ],
      "text/plain": [
       "<IPython.core.display.HTML object>"
      ]
     },
     "metadata": {},
     "output_type": "display_data"
    },
    {
     "data": {
      "text/html": [
       "<img src=\"https://www.biographyonline.net/wp-content/uploads/2014/05/Monet_-_Im_Garten_-_1895.jpg\"/>"
      ],
      "text/plain": [
       "<IPython.core.display.HTML object>"
      ]
     },
     "metadata": {},
     "output_type": "display_data"
    },
    {
     "data": {
      "text/html": [
       "<img src=\"https://www.biographyonline.net/wp-content/uploads/2014/05/the-willows.jpg\"/>"
      ],
      "text/plain": [
       "<IPython.core.display.HTML object>"
      ]
     },
     "metadata": {},
     "output_type": "display_data"
    },
    {
     "data": {
      "text/html": [
       "<img src=\"https://www.biographyonline.net/wp-content/uploads/2014/05/poppiesClaude_Monet_0371.jpg\"/>"
      ],
      "text/plain": [
       "<IPython.core.display.HTML object>"
      ]
     },
     "metadata": {},
     "output_type": "display_data"
    },
    {
     "data": {
      "text/html": [
       "<img src=\"https://images-na.ssl-images-amazon.com/images/I/51Bg-Kbr9PL._SX405_BO1,204,203,200_.jpg\"/>"
      ],
      "text/plain": [
       "<IPython.core.display.HTML object>"
      ]
     },
     "metadata": {},
     "output_type": "display_data"
    },
    {
     "data": {
      "text/html": [
       "<img src=\"https://images-na.ssl-images-amazon.com/images/I/51DiWOcVMiL._SX392_BO1,204,203,200_.jpg\"/>"
      ],
      "text/plain": [
       "<IPython.core.display.HTML object>"
      ]
     },
     "metadata": {},
     "output_type": "display_data"
    },
    {
     "data": {
      "text/html": [
       "<img src=\"/imported-static/people/images/small/Michelangelo's_Pieta-130.jpg\"/>"
      ],
      "text/plain": [
       "<IPython.core.display.HTML object>"
      ]
     },
     "metadata": {},
     "output_type": "display_data"
    },
    {
     "data": {
      "text/html": [
       "<img src=\"https://www.biographyonline.net/wp-content/uploads/2014/05/Napoleon-1502.jpg\"/>"
      ],
      "text/plain": [
       "<IPython.core.display.HTML object>"
      ]
     },
     "metadata": {},
     "output_type": "display_data"
    },
    {
     "data": {
      "text/html": [
       "<img src=\"https://c.statcounter.com/2190149/0/b21211d3/1/\"/>"
      ],
      "text/plain": [
       "<IPython.core.display.HTML object>"
      ]
     },
     "metadata": {},
     "output_type": "display_data"
    },
    {
     "data": {
      "text/html": [
       "<h1><a href=https://www.biographyonline.net/artists/pablo-picasso.html'>6. Pablo Picasso</a></h1>"
      ],
      "text/plain": [
       "<IPython.core.display.HTML object>"
      ]
     },
     "metadata": {},
     "output_type": "display_data"
    },
    {
     "data": {
      "text/html": [
       "<img src=\"https://www.biographyonline.net/wp-content/uploads/2014/06/biography2.jpg\"/>"
      ],
      "text/plain": [
       "<IPython.core.display.HTML object>"
      ]
     },
     "metadata": {},
     "output_type": "display_data"
    },
    {
     "data": {
      "text/html": [
       "<img src=\"https://www.biographyonline.net/wp-content/uploads/2014/05/Portrait_de_Picasso_1908-100.jpg\"/>"
      ],
      "text/plain": [
       "<IPython.core.display.HTML object>"
      ]
     },
     "metadata": {},
     "output_type": "display_data"
    },
    {
     "data": {
      "text/html": [
       "<img src=\"https://www.biographyonline.net/wp-content/uploads/2014/05/picasso46021.jpg\"/>"
      ],
      "text/plain": [
       "<IPython.core.display.HTML object>"
      ]
     },
     "metadata": {},
     "output_type": "display_data"
    },
    {
     "data": {
      "text/html": [
       "<img src=\"https://www.biographyonline.net/wp-content/uploads/2014/05/Pablo_Picasso_1905_Au_Lapin_Agile_At_the_Lapin_Agile_oil_on_canvas_99.1_x_100.3_cm_Metropolitan_Museum_of_Art.jpg\"/>"
      ],
      "text/plain": [
       "<IPython.core.display.HTML object>"
      ]
     },
     "metadata": {},
     "output_type": "display_data"
    },
    {
     "data": {
      "text/html": [
       "<img src=\"https://www.biographyonline.net/wp-content/uploads/2014/05/Pablo_Picasso_1914-15_Nature_morte_au_compotier_Still_Life_with_Compote_and_Glass_oil_on_canvas_63.5_x_78.7_cm_25_x_31_in_Columbus_Museum_of_Art_Ohio.jpg\"/>"
      ],
      "text/plain": [
       "<IPython.core.display.HTML object>"
      ]
     },
     "metadata": {},
     "output_type": "display_data"
    },
    {
     "data": {
      "text/html": [
       "<img src=\"https://www.biographyonline.net/wp-content/uploads/2014/05/Picasso-Guernica.jpg\"/>"
      ],
      "text/plain": [
       "<IPython.core.display.HTML object>"
      ]
     },
     "metadata": {},
     "output_type": "display_data"
    },
    {
     "data": {
      "text/html": [
       "<img src=\"https://www.biographyonline.net/wp-content/uploads/2014/05/picasso-peace1.gif\"/>"
      ],
      "text/plain": [
       "<IPython.core.display.HTML object>"
      ]
     },
     "metadata": {},
     "output_type": "display_data"
    },
    {
     "data": {
      "text/html": [
       "<img src=\"https://www.biographyonline.net/wp-content/uploads/2014/05/0393311074.01.MZZZZZZZ1.jpg\"/>"
      ],
      "text/plain": [
       "<IPython.core.display.HTML object>"
      ]
     },
     "metadata": {},
     "output_type": "display_data"
    },
    {
     "data": {
      "text/html": [
       "<img src=\"https://www.biographyonline.net/wp-content/uploads/2014/05/0307266656.01.MZZZZZZZ1.jpg\"/>"
      ],
      "text/plain": [
       "<IPython.core.display.HTML object>"
      ]
     },
     "metadata": {},
     "output_type": "display_data"
    },
    {
     "data": {
      "text/html": [
       "<img src=\"https://www.biographyonline.net/wp-content/uploads/2014/05/0810991144.01.MZZZZZZZ1.jpg\"/>"
      ],
      "text/plain": [
       "<IPython.core.display.HTML object>"
      ]
     },
     "metadata": {},
     "output_type": "display_data"
    },
    {
     "data": {
      "text/html": [
       "<img src=\"https://www.biographyonline.net/imported-static/people/images/small/Michelangelo%27s_Pieta-130.jpg\"/>"
      ],
      "text/plain": [
       "<IPython.core.display.HTML object>"
      ]
     },
     "metadata": {},
     "output_type": "display_data"
    },
    {
     "data": {
      "text/html": [
       "<img src=\"https://www.biographyonline.net/wp-content/uploads/2014/05/pieta.jpg\"/>"
      ],
      "text/plain": [
       "<IPython.core.display.HTML object>"
      ]
     },
     "metadata": {},
     "output_type": "display_data"
    },
    {
     "data": {
      "text/html": [
       "<img src=\"https://c.statcounter.com/2190149/0/b21211d3/1/\"/>"
      ],
      "text/plain": [
       "<IPython.core.display.HTML object>"
      ]
     },
     "metadata": {},
     "output_type": "display_data"
    },
    {
     "data": {
      "text/html": [
       "<h1><a href=https://www.biographyonline.net/artists/raphael.html'>7. Raphael</a></h1>"
      ],
      "text/plain": [
       "<IPython.core.display.HTML object>"
      ]
     },
     "metadata": {},
     "output_type": "display_data"
    },
    {
     "data": {
      "text/html": [
       "<img src=\"https://www.biographyonline.net/wp-content/uploads/2014/06/biography2.jpg\"/>"
      ],
      "text/plain": [
       "<IPython.core.display.HTML object>"
      ]
     },
     "metadata": {},
     "output_type": "display_data"
    },
    {
     "data": {
      "text/html": [
       "<img src=\"https://www.biographyonline.net/wp-content/uploads/2014/05/raphael1.jpg\"/>"
      ],
      "text/plain": [
       "<IPython.core.display.HTML object>"
      ]
     },
     "metadata": {},
     "output_type": "display_data"
    },
    {
     "data": {
      "text/html": [
       "<img src=\"https://www.biographyonline.net/wp-content/uploads/2014/05/Rafael-CrocefissioneRaffaello1.jpg\"/>"
      ],
      "text/plain": [
       "<IPython.core.display.HTML object>"
      ]
     },
     "metadata": {},
     "output_type": "display_data"
    },
    {
     "data": {
      "text/html": [
       "<img src=\"https://www.biographyonline.net/wp-content/uploads/2014/05/raphael-school-athens1.jpg\"/>"
      ],
      "text/plain": [
       "<IPython.core.display.HTML object>"
      ]
     },
     "metadata": {},
     "output_type": "display_data"
    },
    {
     "data": {
      "text/html": [
       "<img src=\"https://images-na.ssl-images-amazon.com/images/I/511Q07DTZHL._SX404_BO1,204,203,200_.jpg\"/>"
      ],
      "text/plain": [
       "<IPython.core.display.HTML object>"
      ]
     },
     "metadata": {},
     "output_type": "display_data"
    },
    {
     "data": {
      "text/html": [
       "<img src=\"https://www.biographyonline.net/imported-static/people/images/small/Michelangelo's_Pieta-130.jpg\"/>"
      ],
      "text/plain": [
       "<IPython.core.display.HTML object>"
      ]
     },
     "metadata": {},
     "output_type": "display_data"
    },
    {
     "data": {
      "text/html": [
       "<img src=\"https://www.biographyonline.net/wp-content/uploads/2014/05/Julius-Caesar-1502.jpg\"/>"
      ],
      "text/plain": [
       "<IPython.core.display.HTML object>"
      ]
     },
     "metadata": {},
     "output_type": "display_data"
    },
    {
     "data": {
      "text/html": [
       "<img src=\"https://www.biographyonline.net/wp-content/uploads/2014/05/mona-lisa.jpg\"/>"
      ],
      "text/plain": [
       "<IPython.core.display.HTML object>"
      ]
     },
     "metadata": {},
     "output_type": "display_data"
    },
    {
     "data": {
      "text/html": [
       "<img src=\"https://www.biographyonline.net/wp-content/uploads/2014/05/pieta.jpg\"/>"
      ],
      "text/plain": [
       "<IPython.core.display.HTML object>"
      ]
     },
     "metadata": {},
     "output_type": "display_data"
    },
    {
     "data": {
      "text/html": [
       "<img src=\"https://www.biographyonline.net/wp-content/uploads/2014/05/the-girl-with-a-pearl-earring-150.jpg\"/>"
      ],
      "text/plain": [
       "<IPython.core.display.HTML object>"
      ]
     },
     "metadata": {},
     "output_type": "display_data"
    },
    {
     "data": {
      "text/html": [
       "<img src=\"https://c.statcounter.com/2190149/0/b21211d3/1/\"/>"
      ],
      "text/plain": [
       "<IPython.core.display.HTML object>"
      ]
     },
     "metadata": {},
     "output_type": "display_data"
    },
    {
     "data": {
      "text/html": [
       "<h1><a href=https://www.biographyonline.net/artists/august-renoir.html'>8. August Renoir</a></h1>"
      ],
      "text/plain": [
       "<IPython.core.display.HTML object>"
      ]
     },
     "metadata": {},
     "output_type": "display_data"
    },
    {
     "data": {
      "text/html": [
       "<img src=\"https://www.biographyonline.net/wp-content/uploads/2014/06/biography2.jpg\"/>"
      ],
      "text/plain": [
       "<IPython.core.display.HTML object>"
      ]
     },
     "metadata": {},
     "output_type": "display_data"
    },
    {
     "data": {
      "text/html": [
       "<img src=\"https://www.biographyonline.net/wp-content/uploads/2014/05/renoir1.jpg\"/>"
      ],
      "text/plain": [
       "<IPython.core.display.HTML object>"
      ]
     },
     "metadata": {},
     "output_type": "display_data"
    },
    {
     "data": {
      "text/html": [
       "<img src=\"https://www.biographyonline.net/wp-content/uploads/2014/05/Renoir_Le_Moulin_de_la_Galette1.jpg\"/>"
      ],
      "text/plain": [
       "<IPython.core.display.HTML object>"
      ]
     },
     "metadata": {},
     "output_type": "display_data"
    },
    {
     "data": {
      "text/html": [
       "<img src=\"https://www.biographyonline.net/wp-content/uploads/2014/05/renoir-Girl_with_a_hoop1.jpg\"/>"
      ],
      "text/plain": [
       "<IPython.core.display.HTML object>"
      ]
     },
     "metadata": {},
     "output_type": "display_data"
    },
    {
     "data": {
      "text/html": [
       "<img src=\"https://www.biographyonline.net/wp-content/uploads/2014/05/Renoir_-_By_the_Water1.jpg\"/>"
      ],
      "text/plain": [
       "<IPython.core.display.HTML object>"
      ]
     },
     "metadata": {},
     "output_type": "display_data"
    },
    {
     "data": {
      "text/html": [
       "<img src=\"https://www.biographyonline.net/wp-content/uploads/2014/05/Renoir_083-painting-monet1.jpg\"/>"
      ],
      "text/plain": [
       "<IPython.core.display.HTML object>"
      ]
     },
     "metadata": {},
     "output_type": "display_data"
    },
    {
     "data": {
      "text/html": [
       "<img src=\"http://images.amazon.com/images/P/0500239576.01.LZZZZZZZ.jpg\"/>"
      ],
      "text/plain": [
       "<IPython.core.display.HTML object>"
      ]
     },
     "metadata": {},
     "output_type": "display_data"
    },
    {
     "data": {
      "text/html": [
       "<img src=\"https://www.biographyonline.net/imported-static/people/images/small/Michelangelo's_Pieta-130.jpg\"/>"
      ],
      "text/plain": [
       "<IPython.core.display.HTML object>"
      ]
     },
     "metadata": {},
     "output_type": "display_data"
    },
    {
     "data": {
      "text/html": [
       "<img src=\"https://www.biographyonline.net/wp-content/uploads/2014/05/Napoleon-1502.jpg\"/>"
      ],
      "text/plain": [
       "<IPython.core.display.HTML object>"
      ]
     },
     "metadata": {},
     "output_type": "display_data"
    },
    {
     "data": {
      "text/html": [
       "<img src=\"https://c.statcounter.com/2190149/0/b21211d3/1/\"/>"
      ],
      "text/plain": [
       "<IPython.core.display.HTML object>"
      ]
     },
     "metadata": {},
     "output_type": "display_data"
    },
    {
     "data": {
      "text/html": [
       "<h1><a href=https://www.biographyonline.net/artists/jan-vermeer.html'>9. Jan Vermeer</a></h1>"
      ],
      "text/plain": [
       "<IPython.core.display.HTML object>"
      ]
     },
     "metadata": {},
     "output_type": "display_data"
    },
    {
     "data": {
      "text/html": [
       "<img src=\"https://www.biographyonline.net/wp-content/uploads/2014/06/biography2.jpg\"/>"
      ],
      "text/plain": [
       "<IPython.core.display.HTML object>"
      ]
     },
     "metadata": {},
     "output_type": "display_data"
    },
    {
     "data": {
      "text/html": [
       "<img src=\"https://www.biographyonline.net/wp-content/uploads/2014/05/Jan_Vermeer1.jpg\"/>"
      ],
      "text/plain": [
       "<IPython.core.display.HTML object>"
      ]
     },
     "metadata": {},
     "output_type": "display_data"
    },
    {
     "data": {
      "text/html": [
       "<img src=\"https://www.biographyonline.net/wp-content/uploads/2014/05/Vermeer-view-of-delft1.jpg\"/>"
      ],
      "text/plain": [
       "<IPython.core.display.HTML object>"
      ]
     },
     "metadata": {},
     "output_type": "display_data"
    },
    {
     "data": {
      "text/html": [
       "<img src=\"https://www.biographyonline.net/wp-content/uploads/2014/05/Vermeer_The_Girl_With_The_Pearl_Earring_16651.jpg\"/>"
      ],
      "text/plain": [
       "<IPython.core.display.HTML object>"
      ]
     },
     "metadata": {},
     "output_type": "display_data"
    },
    {
     "data": {
      "text/html": [
       "<img src=\"http://images.amazon.com/images/P/0810927519.01.LZZZZZZZ.jpg\"/>"
      ],
      "text/plain": [
       "<IPython.core.display.HTML object>"
      ]
     },
     "metadata": {},
     "output_type": "display_data"
    },
    {
     "data": {
      "text/html": [
       "<img src=\"https://www.biographyonline.net/imported-static/people/images/small/Michelangelo's_Pieta-130.jpg\"/>"
      ],
      "text/plain": [
       "<IPython.core.display.HTML object>"
      ]
     },
     "metadata": {},
     "output_type": "display_data"
    },
    {
     "data": {
      "text/html": [
       "<img src=\"https://www.biographyonline.net/wp-content/uploads/2014/05/Rembrandt1501.jpg\"/>"
      ],
      "text/plain": [
       "<IPython.core.display.HTML object>"
      ]
     },
     "metadata": {},
     "output_type": "display_data"
    },
    {
     "data": {
      "text/html": [
       "<img src=\"https://c.statcounter.com/2190149/0/b21211d3/1/\"/>"
      ],
      "text/plain": [
       "<IPython.core.display.HTML object>"
      ]
     },
     "metadata": {},
     "output_type": "display_data"
    },
    {
     "data": {
      "text/html": [
       "<h1><a href=https://www.biographyonline.net/artists/paul-cezanne.html'>10. Paul Cezanne</a></h1>"
      ],
      "text/plain": [
       "<IPython.core.display.HTML object>"
      ]
     },
     "metadata": {},
     "output_type": "display_data"
    },
    {
     "data": {
      "text/html": [
       "<img src=\"https://www.biographyonline.net/wp-content/uploads/2014/06/biography2.jpg\"/>"
      ],
      "text/plain": [
       "<IPython.core.display.HTML object>"
      ]
     },
     "metadata": {},
     "output_type": "display_data"
    },
    {
     "data": {
      "text/html": [
       "<img src=\"https://www.biographyonline.net/wp-content/uploads/2014/05/Cezanne_-self-portrait1.jpg\"/>"
      ],
      "text/plain": [
       "<IPython.core.display.HTML object>"
      ]
     },
     "metadata": {},
     "output_type": "display_data"
    },
    {
     "data": {
      "text/html": [
       "<img src=\"http://www.biographyonline.net/wp-content/uploads/2018/01/l-estaque-Paul_Ce%CC%81zanne_089.jpg\"/>"
      ],
      "text/plain": [
       "<IPython.core.display.HTML object>"
      ]
     },
     "metadata": {},
     "output_type": "display_data"
    },
    {
     "data": {
      "text/html": [
       "<img src=\"https://www.biographyonline.net/wp-content/uploads/2014/05/cezzane-Jas_de_bouffan1.jpg\"/>"
      ],
      "text/plain": [
       "<IPython.core.display.HTML object>"
      ]
     },
     "metadata": {},
     "output_type": "display_data"
    },
    {
     "data": {
      "text/html": [
       "<img src=\"https://www.biographyonline.net/wp-content/uploads/2014/05/Cezanne_villa1.jpg\"/>"
      ],
      "text/plain": [
       "<IPython.core.display.HTML object>"
      ]
     },
     "metadata": {},
     "output_type": "display_data"
    },
    {
     "data": {
      "text/html": [
       "<img src=\"https://images-na.ssl-images-amazon.com/images/I/51HhZXJ1ykL.jpg\"/>"
      ],
      "text/plain": [
       "<IPython.core.display.HTML object>"
      ]
     },
     "metadata": {},
     "output_type": "display_data"
    },
    {
     "data": {
      "text/html": [
       "<img src=\"https://www.biographyonline.net/wp-content/uploads/2014/05/Napoleon-1502.jpg\"/>"
      ],
      "text/plain": [
       "<IPython.core.display.HTML object>"
      ]
     },
     "metadata": {},
     "output_type": "display_data"
    },
    {
     "data": {
      "text/html": [
       "<img src=\"https://www.biographyonline.net/imported-static/people/images/small/Michelangelo's_Pieta-130.jpg\"/>"
      ],
      "text/plain": [
       "<IPython.core.display.HTML object>"
      ]
     },
     "metadata": {},
     "output_type": "display_data"
    },
    {
     "data": {
      "text/html": [
       "<img src=\"https://c.statcounter.com/2190149/0/b21211d3/1/\"/>"
      ],
      "text/plain": [
       "<IPython.core.display.HTML object>"
      ]
     },
     "metadata": {},
     "output_type": "display_data"
    }
   ],
   "source": [
    "from IPython.core.display import display, HTML\n",
    "display(HTML('<h1>Hello, world!</h1>'))\n",
    "for i in range(len(artist_name)) :\n",
    "    display(HTML('<h1><a href='+url+artist_link2[i]+\"'>\"+artist_name[i]+'</a></h1>'))\n",
    "    for k in imgtag_list_per_artist[i] :\n",
    "            display(HTML('<img src=\"'+k.get(\"src\")+'\"/>'))"
   ]
  },
  {
   "cell_type": "code",
   "execution_count": null,
   "metadata": {},
   "outputs": [],
   "source": []
  }
 ],
 "metadata": {
  "kernelspec": {
   "display_name": "Python 3",
   "language": "python",
   "name": "python3"
  },
  "language_info": {
   "codemirror_mode": {
    "name": "ipython",
    "version": 3
   },
   "file_extension": ".py",
   "mimetype": "text/x-python",
   "name": "python",
   "nbconvert_exporter": "python",
   "pygments_lexer": "ipython3",
   "version": "3.6.5"
  }
 },
 "nbformat": 4,
 "nbformat_minor": 2
}
