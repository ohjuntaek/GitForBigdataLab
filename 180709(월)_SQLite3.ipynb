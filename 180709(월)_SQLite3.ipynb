{
 "cells": [
  {
   "cell_type": "code",
   "execution_count": 1,
   "metadata": {},
   "outputs": [],
   "source": [
    "import sqlite3"
   ]
  },
  {
   "cell_type": "code",
   "execution_count": 2,
   "metadata": {},
   "outputs": [
    {
     "data": {
      "text/plain": [
       "['Binary',\n",
       " 'Cache',\n",
       " 'Connection',\n",
       " 'Cursor',\n",
       " 'DataError',\n",
       " 'DatabaseError',\n",
       " 'Date',\n",
       " 'DateFromTicks',\n",
       " 'Error',\n",
       " 'IntegrityError',\n",
       " 'InterfaceError',\n",
       " 'InternalError',\n",
       " 'NotSupportedError',\n",
       " 'OperationalError',\n",
       " 'OptimizedUnicode',\n",
       " 'PARSE_COLNAMES',\n",
       " 'PARSE_DECLTYPES',\n",
       " 'PrepareProtocol',\n",
       " 'ProgrammingError',\n",
       " 'Row',\n",
       " 'SQLITE_ALTER_TABLE',\n",
       " 'SQLITE_ANALYZE',\n",
       " 'SQLITE_ATTACH',\n",
       " 'SQLITE_CREATE_INDEX',\n",
       " 'SQLITE_CREATE_TABLE',\n",
       " 'SQLITE_CREATE_TEMP_INDEX',\n",
       " 'SQLITE_CREATE_TEMP_TABLE',\n",
       " 'SQLITE_CREATE_TEMP_TRIGGER',\n",
       " 'SQLITE_CREATE_TEMP_VIEW',\n",
       " 'SQLITE_CREATE_TRIGGER',\n",
       " 'SQLITE_CREATE_VIEW',\n",
       " 'SQLITE_DELETE',\n",
       " 'SQLITE_DENY',\n",
       " 'SQLITE_DETACH',\n",
       " 'SQLITE_DROP_INDEX',\n",
       " 'SQLITE_DROP_TABLE',\n",
       " 'SQLITE_DROP_TEMP_INDEX',\n",
       " 'SQLITE_DROP_TEMP_TABLE',\n",
       " 'SQLITE_DROP_TEMP_TRIGGER',\n",
       " 'SQLITE_DROP_TEMP_VIEW',\n",
       " 'SQLITE_DROP_TRIGGER',\n",
       " 'SQLITE_DROP_VIEW',\n",
       " 'SQLITE_IGNORE',\n",
       " 'SQLITE_INSERT',\n",
       " 'SQLITE_OK',\n",
       " 'SQLITE_PRAGMA',\n",
       " 'SQLITE_READ',\n",
       " 'SQLITE_REINDEX',\n",
       " 'SQLITE_SELECT',\n",
       " 'SQLITE_TRANSACTION',\n",
       " 'SQLITE_UPDATE',\n",
       " 'Statement',\n",
       " 'Time',\n",
       " 'TimeFromTicks',\n",
       " 'Timestamp',\n",
       " 'TimestampFromTicks',\n",
       " 'Warning',\n",
       " '__builtins__',\n",
       " '__cached__',\n",
       " '__doc__',\n",
       " '__file__',\n",
       " '__loader__',\n",
       " '__name__',\n",
       " '__package__',\n",
       " '__path__',\n",
       " '__spec__',\n",
       " 'adapt',\n",
       " 'adapters',\n",
       " 'apilevel',\n",
       " 'collections',\n",
       " 'complete_statement',\n",
       " 'connect',\n",
       " 'converters',\n",
       " 'datetime',\n",
       " 'dbapi2',\n",
       " 'enable_callback_tracebacks',\n",
       " 'enable_shared_cache',\n",
       " 'paramstyle',\n",
       " 'register_adapter',\n",
       " 'register_converter',\n",
       " 'sqlite_version',\n",
       " 'sqlite_version_info',\n",
       " 'threadsafety',\n",
       " 'time',\n",
       " 'version',\n",
       " 'version_info']"
      ]
     },
     "execution_count": 2,
     "metadata": {},
     "output_type": "execute_result"
    }
   ],
   "source": [
    "dir(sqlite3)"
   ]
  },
  {
   "cell_type": "code",
   "execution_count": 3,
   "metadata": {},
   "outputs": [
    {
     "data": {
      "text/plain": [
       "'2.6.0'"
      ]
     },
     "execution_count": 3,
     "metadata": {},
     "output_type": "execute_result"
    }
   ],
   "source": [
    "sqlite3.version #string"
   ]
  },
  {
   "cell_type": "code",
   "execution_count": 5,
   "metadata": {},
   "outputs": [
    {
     "data": {
      "text/plain": [
       "(2, 6, 0)"
      ]
     },
     "execution_count": 5,
     "metadata": {},
     "output_type": "execute_result"
    }
   ],
   "source": [
    "sqlite3.version_info #tuple"
   ]
  },
  {
   "cell_type": "code",
   "execution_count": 6,
   "metadata": {},
   "outputs": [
    {
     "data": {
      "text/plain": [
       "'3.21.0'"
      ]
     },
     "execution_count": 6,
     "metadata": {},
     "output_type": "execute_result"
    }
   ],
   "source": [
    "sqlite3.sqlite_version"
   ]
  },
  {
   "cell_type": "code",
   "execution_count": 67,
   "metadata": {},
   "outputs": [],
   "source": [
    "conn = sqlite3.connect(\":memory:\")"
   ]
  },
  {
   "cell_type": "code",
   "execution_count": 8,
   "metadata": {},
   "outputs": [
    {
     "data": {
      "text/plain": [
       "<sqlite3.Connection at 0x2aa502e3e30>"
      ]
     },
     "execution_count": 8,
     "metadata": {},
     "output_type": "execute_result"
    }
   ],
   "source": [
    "conn"
   ]
  },
  {
   "cell_type": "code",
   "execution_count": 11,
   "metadata": {},
   "outputs": [],
   "source": [
    "cur = conn.cursor()"
   ]
  },
  {
   "cell_type": "code",
   "execution_count": 13,
   "metadata": {},
   "outputs": [
    {
     "data": {
      "text/plain": [
       "<sqlite3.Cursor at 0x2aa510d6420>"
      ]
     },
     "execution_count": 13,
     "metadata": {},
     "output_type": "execute_result"
    }
   ],
   "source": [
    "cur.execute('create table people (name_last, age)')"
   ]
  },
  {
   "cell_type": "code",
   "execution_count": 20,
   "metadata": {},
   "outputs": [],
   "source": [
    "who = \"Yeltsin\""
   ]
  },
  {
   "cell_type": "code",
   "execution_count": 21,
   "metadata": {},
   "outputs": [],
   "source": [
    "age = 72"
   ]
  },
  {
   "cell_type": "code",
   "execution_count": 22,
   "metadata": {},
   "outputs": [],
   "source": [
    "# 이게 변수에 넣는 qmark 방법 이란다"
   ]
  },
  {
   "cell_type": "code",
   "execution_count": 23,
   "metadata": {},
   "outputs": [
    {
     "data": {
      "text/plain": [
       "<sqlite3.Cursor at 0x2aa510d6420>"
      ]
     },
     "execution_count": 23,
     "metadata": {},
     "output_type": "execute_result"
    }
   ],
   "source": [
    "cur.execute(\"insert into people values (?, ?)\", (who, age)) #아 이래서 투플이구나"
   ]
  },
  {
   "cell_type": "code",
   "execution_count": 24,
   "metadata": {},
   "outputs": [
    {
     "data": {
      "text/plain": [
       "<sqlite3.Cursor at 0x2aa510d6420>"
      ]
     },
     "execution_count": 24,
     "metadata": {},
     "output_type": "execute_result"
    }
   ],
   "source": [
    "cur.execute(\"select * from people where name_last=:who and age=:age\", {\"who\":who, \"age\":age})\n",
    "#이거는 뭐 딕셔너리에 넣는거.. 방법이름 까먹음"
   ]
  },
  {
   "cell_type": "code",
   "execution_count": 25,
   "metadata": {},
   "outputs": [
    {
     "data": {
      "text/plain": [
       "('Yeltsin', 72)"
      ]
     },
     "execution_count": 25,
     "metadata": {},
     "output_type": "execute_result"
    }
   ],
   "source": [
    "cur.fetchone()"
   ]
  },
  {
   "cell_type": "code",
   "execution_count": 29,
   "metadata": {},
   "outputs": [],
   "source": [
    "sql = \"insert into people values (?, ?)\""
   ]
  },
  {
   "cell_type": "code",
   "execution_count": 30,
   "metadata": {},
   "outputs": [],
   "source": [
    "curData = [('A',1),('B',2),('C',3)]"
   ]
  },
  {
   "cell_type": "code",
   "execution_count": 31,
   "metadata": {},
   "outputs": [
    {
     "data": {
      "text/plain": [
       "<sqlite3.Cursor at 0x2aa510d6420>"
      ]
     },
     "execution_count": 31,
     "metadata": {},
     "output_type": "execute_result"
    }
   ],
   "source": [
    "cur.executemany(sql,curData)"
   ]
  },
  {
   "cell_type": "code",
   "execution_count": 32,
   "metadata": {},
   "outputs": [
    {
     "data": {
      "text/plain": [
       "<sqlite3.Cursor at 0x2aa510d6420>"
      ]
     },
     "execution_count": 32,
     "metadata": {},
     "output_type": "execute_result"
    }
   ],
   "source": [
    "cur.executescript(\"\"\"\n",
    "    create table person (\n",
    "        first_name text primary key,\n",
    "        last_name text not null\n",
    "    );\n",
    "    \n",
    "    insert into person values('name', 'kim');\n",
    "\"\"\")"
   ]
  },
  {
   "cell_type": "code",
   "execution_count": 77,
   "metadata": {},
   "outputs": [
    {
     "data": {
      "text/plain": [
       "<sqlite3.Cursor at 0x2aa510d6420>"
      ]
     },
     "execution_count": 77,
     "metadata": {},
     "output_type": "execute_result"
    }
   ],
   "source": [
    "cur.execute('select * from person')"
   ]
  },
  {
   "cell_type": "code",
   "execution_count": 78,
   "metadata": {},
   "outputs": [
    {
     "name": "stdout",
     "output_type": "stream",
     "text": [
      "[('name', 'kim')]\n"
     ]
    }
   ],
   "source": [
    "print(cur.fetchall())"
   ]
  },
  {
   "cell_type": "code",
   "execution_count": 81,
   "metadata": {},
   "outputs": [
    {
     "name": "stdout",
     "output_type": "stream",
     "text": [
      "Opned database successfully\n",
      "Table created successfully\n"
     ]
    }
   ],
   "source": [
    "conn = sqlite3.connect(\"create.db\")\n",
    "print(\"Opned database successfully\")\n",
    "conn.execute('''\n",
    "    CREATE TABLE COMPANY (\n",
    "            ID int primary key not null,\n",
    "            name text not null,\n",
    "            age int not null,\n",
    "            address char(50),\n",
    "            salary real);\n",
    "    ''')\n",
    "\n",
    "print(\"Table created successfully\")"
   ]
  },
  {
   "cell_type": "code",
   "execution_count": 80,
   "metadata": {},
   "outputs": [
    {
     "data": {
      "text/plain": [
       "<sqlite3.Cursor at 0x2aa51186c00>"
      ]
     },
     "execution_count": 80,
     "metadata": {},
     "output_type": "execute_result"
    }
   ],
   "source": [
    "conn.execute('drop table company')"
   ]
  },
  {
   "cell_type": "code",
   "execution_count": 82,
   "metadata": {},
   "outputs": [],
   "source": [
    "conn.execute(\"INSERT INTO COMPANY (ID,NAME,AGE,ADDRESS,SALARY) \\\n",
    "             VALUES (1, 'Paul', 32, 'California', 20000.00)\");\n",
    "conn.execute(\"INSERT INTO COMPANY (ID,NAME,AGE,ADDRESS,SALARY) VALUES (:id, :name, :age, :address, :salary)\", {'id':2, 'name':'Allen', 'age':25,'address':'Texas','salary':15000.00});\n",
    "#data = [(5, 'Teddy', 23, 'Norway', 200000.00), (6, 'Mark', 25,'Rich-Mond',65000.00)]"
   ]
  },
  {
   "cell_type": "code",
   "execution_count": 85,
   "metadata": {},
   "outputs": [],
   "source": [
    "conn.commit()\n",
    "cur = conn.cursor()"
   ]
  },
  {
   "cell_type": "code",
   "execution_count": 86,
   "metadata": {},
   "outputs": [
    {
     "data": {
      "text/plain": [
       "<sqlite3.Cursor at 0x2aa51186b90>"
      ]
     },
     "execution_count": 86,
     "metadata": {},
     "output_type": "execute_result"
    }
   ],
   "source": [
    "cur.execute('select * from company')"
   ]
  },
  {
   "cell_type": "code",
   "execution_count": 87,
   "metadata": {},
   "outputs": [],
   "source": [
    "import sqlite3 as sql"
   ]
  },
  {
   "cell_type": "code",
   "execution_count": 88,
   "metadata": {},
   "outputs": [],
   "source": [
    "con = None"
   ]
  },
  {
   "cell_type": "code",
   "execution_count": 91,
   "metadata": {},
   "outputs": [
    {
     "name": "stdout",
     "output_type": "stream",
     "text": [
      "SQLite Version:  ('3.21.0',)\n"
     ]
    }
   ],
   "source": [
    "try:\n",
    "    con = sql.connect('test.db')\n",
    "    cur = con.cursor()\n",
    "    cur.execute('SELECT SQLITE_VERSION()')\n",
    "    data = cur.fetchone()\n",
    "    print('SQLite Version: ', data)\n",
    "except Exception as e:\n",
    "    print(\"Error: \",e)\n",
    "finally:\n",
    "    if con:\n",
    "        con.close()"
   ]
  },
  {
   "cell_type": "code",
   "execution_count": 92,
   "metadata": {},
   "outputs": [],
   "source": [
    "cars = [\n",
    "    (1, 'Audi', 52642),\n",
    "    (2, 'Mercedes', 57127),\n",
    "    (3, 'Skoda', 9000),\n",
    "    (4, 'Volvo', 29000),\n",
    "    (5, 'Bentley',350000),\n",
    "    (6, 'Hummer', 41400),\n",
    "    (7, 'Volkswagen', 21600)\n",
    "]\n",
    "con = sql.connect('test.db')\n",
    "\n",
    "with con: #Namescope \n",
    "    cur = con.cursor()\n",
    "    cur.execute(\"DROP TABLE IF EXISTS Cars\")\n",
    "    cur.execute(\"CREATE TABLE Cars(Id INT PRIMARY KEY, Name TEXT, Price INT)\")\n",
    "    cur.executemany(\"INSERT INTO Cars VALUES(?, ?, ?)\", cars)"
   ]
  },
  {
   "cell_type": "code",
   "execution_count": 93,
   "metadata": {},
   "outputs": [
    {
     "name": "stdout",
     "output_type": "stream",
     "text": [
      "The last Id of the inserted row is 4\n"
     ]
    }
   ],
   "source": [
    "con = sql.connect(':memory:')\n",
    "\n",
    "with con: #con.close 안해도 됨 \n",
    "    cur = con.cursor()\n",
    "    cur.execute(\"CREATE TABLE Friends(Id INTEGER PRIMARY KEY, Name TEXT);\")\n",
    "    cur.execute(\"INSERT INTO Friends(Name) VALUES ('Tom');\")\n",
    "    cur.execute(\"INSERT INTO Friends(Name) VALUES ('Rebecca');\")\n",
    "    cur.execute(\"INSERT INTO Friends(Name) VALUES ('Jim');\")\n",
    "    cur.execute(\"INSERT INTO Friends(Name) VALUES ('Robert');\")\n",
    "    \n",
    "    lid = cur.lastrowid\n",
    "    print(\"The last Id of the inserted row is\", lid)"
   ]
  },
  {
   "cell_type": "code",
   "execution_count": 99,
   "metadata": {},
   "outputs": [
    {
     "name": "stdout",
     "output_type": "stream",
     "text": [
      "1 Audi 52642\n",
      "2 Mercedes 57127\n",
      "3 Skoda 9000\n",
      "4 Volvo 29000\n",
      "5 Bentley 350000\n",
      "6 Hummer 41400\n",
      "7 Volkswagen 21600\n"
     ]
    }
   ],
   "source": [
    "con = sql.connect('test.db')\n",
    "with con:\n",
    "    cur = con.cursor()\n",
    "    cur.execute(\"SELECT * FROM Cars\")\n",
    "    \n",
    "    while True:\n",
    "        row = cur.fetchone()\n",
    "        \n",
    "        if row == None:\n",
    "            break\n",
    "        print(row[0], row[1], row[2])"
   ]
  },
  {
   "cell_type": "code",
   "execution_count": 101,
   "metadata": {},
   "outputs": [
    {
     "name": "stdout",
     "output_type": "stream",
     "text": [
      "1 Audi 52642\n",
      "2 Mercedes 57127\n",
      "3 Skoda 9000\n",
      "4 Volvo 29000\n",
      "5 Bentley 350000\n",
      "6 Hummer 41400\n",
      "7 Volkswagen 21600\n"
     ]
    }
   ],
   "source": [
    "con = sql.connect('test.db')\n",
    "with con:\n",
    "    con.row_factory = sql.Row\n",
    "    cur = con.cursor()\n",
    "    cur.execute(\"SELECT * FROM Cars\")\n",
    "    \n",
    "    rows = cur.fetchall()\n",
    "    \n",
    "    for row in rows:\n",
    "        print(row[\"Id\"], row[\"Name\"], row[\"Price\"])"
   ]
  },
  {
   "cell_type": "code",
   "execution_count": null,
   "metadata": {},
   "outputs": [],
   "source": []
  }
 ],
 "metadata": {
  "kernelspec": {
   "display_name": "Python 3",
   "language": "python",
   "name": "python3"
  },
  "language_info": {
   "codemirror_mode": {
    "name": "ipython",
    "version": 3
   },
   "file_extension": ".py",
   "mimetype": "text/x-python",
   "name": "python",
   "nbconvert_exporter": "python",
   "pygments_lexer": "ipython3",
   "version": "3.6.5"
  }
 },
 "nbformat": 4,
 "nbformat_minor": 2
}
