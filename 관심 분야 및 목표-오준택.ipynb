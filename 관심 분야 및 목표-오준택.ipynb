{
 "cells": [
  {
   "cell_type": "markdown",
   "metadata": {},
   "source": [
    "# 1. 관심 분야\n",
    "## 데이터 분석\n",
    "- 배운거 : 조사방법론 수업을 통해 전반적인 통계 분석방법에 대해 배웠고 이를 R로 몇 개 해봄(로지스틱, 그냥 회귀분석, 분산분석이였나.., A/B 테스트?)\n",
    "- 관심 : 파이썬으로 이런 분석기법을 이용해 데이터 분석해보는것, 특히 예측 모형 구성에 관심\n",
    "- 분석하고 싶은 데이터 : 여행(만족도, 비용 등), 유통(경로 및 비용), 음악(선호도) 등 비용적인 면이 있는 데이터\n",
    "\n",
    "## 파이썬 웹 프로그래밍\n",
    "- 배운거 : JSP/Servlet, spring 자바 웹 언어 배우고 일반 홈페이지 구축해봄\n",
    "- 관심 : 장고가 뜬다는 말에 파이썬 웹프로그래밍에 관심이 생김 \n",
    "\n",
    "## 빅데이터 처리\n",
    "- 배운거 : 없음\n",
    "- 관심 : 예전부터 너무 많이 들었던 분야라 가장 관심이 가고 배우고 싶은 분야. 분산 처리하는법, 빅데이터와 일반 RDB의 차이와 필요성 등..\n",
    "\n",
    "## 기계학습, 딥러닝\n",
    "- 배운거 : 경영과학에서 휴리스틱 알고리즘, 마코브체인 등과 수리통계를 배우긴 했는데 관련있을거 같은데 있는지 잘 모름\n",
    "- 관심 : 바둑에 관심 좀 있었는데 알파고 때문에 많이 들어봐서 관심이 가고 재미있어보임, 친구가 Kaggle하는데 타이타닉 생존자 구하기? 이런거 봤는데 엄청 재밌어보였습니다.\n",
    "\n",
    "# 2. 목표\n",
    "- 위의 것들을 짬뽕하여 머신러닝과 빅데이터 처리를 해 데이터 분석을 통해 사용자에게 의사결정을 도와주는 시스템을 만들고 싶습니다.\n",
    "\n",
    "\n",
    "# 3. 기타\n",
    "- "
   ]
  },
  {
   "cell_type": "code",
   "execution_count": null,
   "metadata": {},
   "outputs": [],
   "source": []
  }
 ],
 "metadata": {
  "kernelspec": {
   "display_name": "Python 3",
   "language": "python",
   "name": "python3"
  },
  "language_info": {
   "codemirror_mode": {
    "name": "ipython",
    "version": 3
   },
   "file_extension": ".py",
   "mimetype": "text/x-python",
   "name": "python",
   "nbconvert_exporter": "python",
   "pygments_lexer": "ipython3",
   "version": "3.6.5"
  }
 },
 "nbformat": 4,
 "nbformat_minor": 2
}
