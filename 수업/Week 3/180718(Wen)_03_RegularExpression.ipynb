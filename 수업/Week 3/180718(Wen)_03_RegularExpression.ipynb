{
 "cells": [
  {
   "cell_type": "markdown",
   "metadata": {},
   "source": [
    "# Regular Expression\n",
    "* a.b : aab, acb, a?b 다 가능.. abba이건 안되겠지??\n",
    "* ab*c : ac, abc, abbbbc, abbbbbbbbbbbbc 다 가능.. \n",
    "* ab+c : *랑 똑같은데 b가 하나이상 나와야댐. ac 안댐..\n",
    "* ab{1}c == ab+c, ab{0}c == ab*c, ab{2,6}c : b가 2~6번 반복 가능\n",
    "* ab?c == ab{0,1}c.. 즉 ac, abc가능, abbbc 불가능\n",
    "* [abc] == a or b or c 중 하나\n",
    "* [a-z] == a부터 z까지... 중 하나\n",
    "* [^a-z] == a부터 z까지를 제외한 거중 하나\n",
    "* (), ^, $...\n",
    "\n",
    "** s.*o : stackoverflow : greedy : 마지막 o까지 매칭을 시킴\n",
    "** s.*?o : stackoverflow : Lazy : "
   ]
  },
  {
   "cell_type": "markdown",
   "metadata": {},
   "source": [
    "https://www.regexr.com/  \n",
    "https://www.regexper.com/"
   ]
  }
 ],
 "metadata": {
  "kernelspec": {
   "display_name": "Python 3",
   "language": "python",
   "name": "python3"
  },
  "language_info": {
   "codemirror_mode": {
    "name": "ipython",
    "version": 3
   },
   "file_extension": ".py",
   "mimetype": "text/x-python",
   "name": "python",
   "nbconvert_exporter": "python",
   "pygments_lexer": "ipython3",
   "version": "3.6.5"
  }
 },
 "nbformat": 4,
 "nbformat_minor": 2
}
