{
 "cells": [
  {
   "cell_type": "markdown",
   "metadata": {
    "slideshow": {
     "slide_type": "slide"
    }
   },
   "source": [
    "# Persistant"
   ]
  },
  {
   "cell_type": "markdown",
   "metadata": {},
   "source": [
    "## flat file "
   ]
  },
  {
   "cell_type": "markdown",
   "metadata": {},
   "source": [
    "data files that contain records with no structured relationships between the records and there's also no structure for indexing. (txt, csv, tsv)\n",
    "- text\n",
    "  - the new line character (\\n) is default EOL terminator.\n",
    "- binary\n",
    "  - no EOL character"
   ]
  },
  {
   "cell_type": "markdown",
   "metadata": {},
   "source": [
    "## open(file, mode='r', buffering=-1, encoding=None, errors=None, newline=None, closefd=True, opener=None) "
   ]
  },
  {
   "cell_type": "code",
   "execution_count": 1,
   "metadata": {},
   "outputs": [],
   "source": [
    "file = open('hello.txt', 'w')    \n",
    "file.write('Hello, world!')\n",
    "file.write(\"hello, 문근영!\")\n",
    "file.close()               "
   ]
  },
  {
   "cell_type": "code",
   "execution_count": 87,
   "metadata": {},
   "outputs": [
    {
     "data": {
      "text/plain": [
       "'cp949'"
      ]
     },
     "execution_count": 87,
     "metadata": {},
     "output_type": "execute_result"
    }
   ],
   "source": [
    "import sys\n",
    "sys.stdin.encoding"
   ]
  },
  {
   "cell_type": "code",
   "execution_count": 89,
   "metadata": {},
   "outputs": [
    {
     "data": {
      "text/plain": [
       "'UTF-8'"
      ]
     },
     "execution_count": 89,
     "metadata": {},
     "output_type": "execute_result"
    }
   ],
   "source": [
    "sys.stdout.encoding"
   ]
  },
  {
   "cell_type": "code",
   "execution_count": 95,
   "metadata": {},
   "outputs": [],
   "source": [
    "f = open(\"hello.txt\",'r',encoding='utf-8')"
   ]
  },
  {
   "cell_type": "code",
   "execution_count": 98,
   "metadata": {},
   "outputs": [],
   "source": [
    "import requests"
   ]
  },
  {
   "cell_type": "code",
   "execution_count": 136,
   "metadata": {},
   "outputs": [],
   "source": [
    "resp = requests.get(\"http://www.ppompu.co.kr\")"
   ]
  },
  {
   "cell_type": "code",
   "execution_count": 143,
   "metadata": {},
   "outputs": [
    {
     "name": "stdout",
     "output_type": "stream",
     "text": [
      "<html>\n",
      "<head>\n",
      "<meta http-equiv=\"content-type\" content=\"text/html; charset=utf-8\">\n",
      "<title>ì¬ëì´ ì¢ì í¨ê»íëê³³.. ë½ë¿!</title>\n",
      "<script type=\"text/javascript\" src=\"http://code.jquery.com/jquery-1.10.2.min.js\"></script>\n",
      "<script type=\"text/javascript\" src=\"popup/jquery.cookie.js\"></script>\n",
      "<script type=\"text/javascript\" src=\"popup/popup_cfg.js\"></script>\n",
      "<script type=\"text/javascript\" src=\"popup/popup.js\"></script>\n",
      "</head>\n",
      "<body style=\"margin:0;padding:0;overflow:hidden;\">\n",
      "\t<iframe frameborder=\"0\" width=\"100%\" height=\"100%\" src=\"http://www.ppomppu.co.kr/\"></iframe>\n",
      "</body>\n",
      "</html> \n"
     ]
    }
   ],
   "source": [
    "print(resp.text)"
   ]
  },
  {
   "cell_type": "code",
   "execution_count": 133,
   "metadata": {},
   "outputs": [
    {
     "data": {
      "text/plain": [
       "'ISO-8859-1'"
      ]
     },
     "execution_count": 133,
     "metadata": {},
     "output_type": "execute_result"
    }
   ],
   "source": [
    "resp.encoding"
   ]
  },
  {
   "cell_type": "code",
   "execution_count": 134,
   "metadata": {},
   "outputs": [],
   "source": [
    "import chardet"
   ]
  },
  {
   "cell_type": "code",
   "execution_count": 138,
   "metadata": {},
   "outputs": [
    {
     "data": {
      "text/plain": [
       "{'encoding': 'utf-8', 'confidence': 0.99, 'language': ''}"
      ]
     },
     "execution_count": 138,
     "metadata": {},
     "output_type": "execute_result"
    }
   ],
   "source": [
    "chardet.detect(resp.content)"
   ]
  },
  {
   "cell_type": "code",
   "execution_count": 142,
   "metadata": {},
   "outputs": [],
   "source": [
    "resp = requests.get('http://www.ppompu.co.kr', headers={'Accept-Encoding':'False'})"
   ]
  },
  {
   "cell_type": "code",
   "execution_count": 144,
   "metadata": {},
   "outputs": [
    {
     "data": {
      "text/plain": [
       "{'encoding': 'utf-8', 'confidence': 0.99, 'language': ''}"
      ]
     },
     "execution_count": 144,
     "metadata": {},
     "output_type": "execute_result"
    }
   ],
   "source": [
    "chardet.detect(resp.content)"
   ]
  },
  {
   "cell_type": "code",
   "execution_count": 153,
   "metadata": {},
   "outputs": [],
   "source": [
    "resp = requests.get(\"http://www.aistudy.co.kr/\")"
   ]
  },
  {
   "cell_type": "code",
   "execution_count": 154,
   "metadata": {},
   "outputs": [
    {
     "data": {
      "text/plain": [
       "'ISO-8859-1'"
      ]
     },
     "execution_count": 154,
     "metadata": {},
     "output_type": "execute_result"
    }
   ],
   "source": [
    "resp.encoding"
   ]
  },
  {
   "cell_type": "code",
   "execution_count": 149,
   "metadata": {},
   "outputs": [
    {
     "data": {
      "text/plain": [
       "{'encoding': 'EUC-KR', 'confidence': 0.99, 'language': 'Korean'}"
      ]
     },
     "execution_count": 149,
     "metadata": {},
     "output_type": "execute_result"
    }
   ],
   "source": [
    "chardet.detect(resp.content)"
   ]
  },
  {
   "cell_type": "code",
   "execution_count": 152,
   "metadata": {},
   "outputs": [
    {
     "name": "stdout",
     "output_type": "stream",
     "text": [
      "<html>\r\n",
      "<head>\r\n",
      "<meta http-equiv=\"content-type\" content=\"text/html; charset=euc-kr\">\r\n",
      "<meta name=\"viewport\" content=\"width=device-width,initial-scale=1\">\r\n",
      "<title>AI Study</title>\r\n",
      "<meta name=\"generator\" content=\"Namo WebEditor\">\r\n",
      "<style><!--\r\n",
      ".leading200 { line-height:200%; }\r\n",
      ".leading180 { line-height:180%; }\r\n",
      ".leading150 { line-height:150%; }\r\n",
      ".leading100 { line-height:100%; }\r\n",
      "a:link { text-decoration:none; }\r\n",
      "a:hover { color:red; }\r\n",
      "a:visited { text-decoration:none; }\r\n",
      "a:active { text-decoration:none; }\r\n",
      "-->\r\n",
      "</style>\r\n",
      "\r\n",
      "<meta name=\"namo_guide\" content=\"h456\">\r\n",
      "</head>\r\n",
      "\r\n",
      "<body bgcolor=\"#FFFFDF\" text=\"black\" link=\"blue\" vlink=\"purple\" alink=\"red\">\r\n",
      "<p style=\"line-height:150%;\"><font\r\n",
      "             face=\"Times New Roman\"><b><span style=\"font-size:12pt;\">&nbsp;&nbsp;&nbsp;&nbsp;&nbsp;&nbsp;&nbsp;&nbsp;&nbsp;&nbsp;&nbsp;&nbsp;&nbsp;&nbsp;&nbsp;&nbsp;&nbsp;&nbsp;&nbsp;&nbsp;&nbsp;&nbsp;&nbsp;&nbsp;&nbsp;&nbsp;&nbsp;&nbsp;&nbsp;&nbsp;&nbsp;&nbsp;&nbsp;&nbsp;&nbsp;&nbsp;&nbsp;&nbsp;&nbsp;</span></b></font><span style=\"font-size:12pt;\"><b><font face=\"Times New Roman\">&nbsp;&nbsp;</font></b></span><a href=\"http://www.aistudy.com\"><b><span style=\"font-size:12pt;\"><img src=\"images/STUDY.gif\" width=\"342\"\r\n",
      "height=\"65\" border=\"0\" align=\"texttop\"></span></b></a><span style=\"font-size:12pt;\"><b><font face=\"Times New Roman\"><a href=\"about.htm\">about</a> \r\n",
      "&nbsp;</font></b></span></p>\r\n",
      "<p style=\"line-height:150%;\" align=\"left\"><b><span style=\"font-size:12pt; letter-spacing:-0.38pt;\"><font face=\"Times New Roman\">AI \r\n",
      "°øºÎ¸¦ À§ÇØ¼­´Â </font></span><font face=\"Times New Roman\"><a href=\"math/mathematics.htm\"><span style=\"font-size:12pt;\">¼öÇÐ</span></a></font><span style=\"font-size:12pt; letter-spacing:-0.38pt;\"><font face=\"Times New Roman\">, \r\n",
      "Æ¯È÷ </font></span><a href=\"logic/logic.htm\"><font face=\"Times New Roman\"><span style=\"font-size:12pt;\">¼ö¸®³í¸®ÇÐ</span></font></a><span style=\"font-size:12pt; letter-spacing:-0.38pt;\"><font face=\"Times New Roman\">&nbsp;¿¡ \r\n",
      "´ëÇÑ ±íÀÌÀÖ´Â Áö½ÄÀÌ ÇÊ¿äÇÏ´Ù. &nbsp;°úÇÐ °øºÎ´Â ¸¹ÀÌ ÇÒ¼ö·Ï ÁÁÀºµ¥ &nbsp;Æ¯È÷ »ý¹°ÇÐÀû &nbsp;Á¢±ÙÀ»À§ÇØ </font></span><a href=\"psychology/psychology.htm\"><span style=\"font-size:12pt; letter-spacing:-0.38pt;\"><font face=\"Times New Roman\">½É¸®ÇÐ</font></span></a><span style=\"font-size:12pt; letter-spacing:-0.38pt;\"><font face=\"Times New Roman\">&nbsp;°ú \r\n",
      "½Å°æ°èÅëÀÇ </font></span><a href=\"physiology/physiology.htm\"><span style=\"font-size:12pt; letter-spacing:-0.38pt;\"><font face=\"Times New Roman\">»ý¸®ÇÐ</font></span></a><span style=\"font-size:12pt; letter-spacing:-0.38pt;\"><font face=\"Times New Roman\">&nbsp;ÀÌ \r\n",
      "°øºÎµÇ¾î¾ß ÇÑ´Ù. &nbsp;ÃÖ¼ÒÇÑ<a href=\"program/c.htm\"> C</a>, <a href=\"program/lisp/lisp.htm\">Lisp</a>, <a href=\"program/prolog/prolog.htm\">Prolog</a> \r\n",
      "¿Í ±âº»ÀûÀÎ ±â°è¾î¸¦ ¹è¿ö¾ß ÇÏ¸ç, ÃÖ±Ù¿¡´Â <a href=\"program/cpp.htm\">C++</a>, <a href=\"program/java.htm\">Java</a> ¸¦ Æ÷ÇÔ½ÃÄÑ¾ß ÇÒ°ÍÀÌ´Ù. \r\n",
      "( <a href=\"pioneer/McCarthy.J.htm\">Á¸ ¸ÅÄ«½Ã</a>)</font></span></b></p>\r\n",
      "<p align=\"left\" style=\"line-height:150%;\"><B><FONT \r\n",
      "face=\"Times New Roman\"><span style=\"font-size:12pt;\">Mission \r\n",
      "&nbsp;&nbsp;&nbsp;&nbsp;&nbsp;&nbsp;&nbsp;</span></font></b><a href=\"ai/ai.htm\"><b><font face=\"Times New Roman\"><span style=\"font-size:12pt;\">&nbsp;&nbsp;&nbsp;&nbsp;AI ¶õ \r\n",
      "            ¹«¾ùÀÎ°¡</span></font></b></a><b><a href=\"terms/glossary.htm\"><font face=\"Times New Roman\"><span style=\"font-size:12pt;\">&nbsp;&nbsp;&nbsp;&nbsp;&nbsp;&nbsp;&nbsp;</span></font><span style=\"font-size:12pt;\"><font face=\"Times New Roman\" color=\"red\">Glossary(¿ë¾î)</font></span><font face=\"Times New Roman\"><span style=\"font-size:12pt;\">\r\n",
      "            </span></font></a><FONT \r\n",
      "face=\"Times New Roman\"><span style=\"font-size:12pt;\"> &nbsp;&nbsp;&nbsp;&nbsp;&nbsp;</span></font></b><a href=\"history/history.htm\"><b><font face=\"Times New Roman\"><span style=\"font-size:12pt;\">&nbsp;history</span></font></b></a><b><font face=\"Times New Roman\"><a href=\"ÀÎ°øÁö´ÉÀÇ%20¿ª»ç.htm\"><span style=\"font-size:12pt;\"> </span></a><span style=\"font-size:12pt;\">&nbsp;&nbsp;&nbsp;&nbsp;&nbsp;&nbsp;&nbsp;</span></font></b><a href=\"pioneer/pioneers.htm\"><b><font face=\"Times New Roman\"><span style=\"font-size:12pt;\">pioneer(world</span></font></b></a><B><FONT\r\n",
      "\r\n",
      "face=\"Times New Roman\"><span style=\"font-size:12pt;\">            , &nbsp;&nbsp; </span><a href=\"pioneer/pioneers_kor.htm\"><span style=\"font-size:12pt;\">korea)</span></a><span style=\"font-size:12pt;\"> &nbsp;&nbsp;&nbsp;&nbsp;&nbsp;</span></font></b>&nbsp;&nbsp;<font\r\n",
      "             face=\"Times New Roman\"><b><a href=\"lab/lab.htm\"><span style=\"font-size:12pt;\">lab</span></a><span style=\"font-size:12pt;\"> &nbsp;&nbsp;&nbsp;&nbsp;</span><a href=\"life/life.htm\"><span style=\"font-size:12pt;\">&nbsp;life</span></a><span style=\"font-size:12pt;\"> &nbsp;&nbsp;</span><a href=\"ai/branch.htm\"><span style=\"font-size:12pt;\">&nbsp;&nbsp;branch</span></a><span style=\"font-size:12pt;\"> &nbsp;&nbsp;</span></b></font><B><FONT \r\n",
      "face=\"Times New Roman\"><span style=\"font-size:12pt;\"> &nbsp;&nbsp;</span></font></b><font\r\n",
      "             face=\"Times New Roman\"><b><a href=\"demo/demo.htm\"><span style=\"font-size:12pt;\">&nbsp;&nbsp;demo</span></a><span style=\"font-size:12pt;\"> &nbsp;&nbsp;</span></b></font><font\r\n",
      "             face=\"Times New Roman\"><b><span style=\"font-size:12pt;\"> &nbsp;&nbsp;&nbsp;</span></b></font><b><span style=\"font-size:12pt;\"><font face=\"Times New Roman\"><a href=\"default_e.htm\">English</a></font></span></b></p>\r\n",
      "<p align=\"left\" style=\"line-height:150%;\"><B><FONT \r\n",
      "face=\"Times New Roman\"><span style=\"font-size:12pt;\">Key word &nbsp;</span></font></b><font\r\n",
      "             face=\"Times New Roman\"><b><a href=\"philosophy/philosophy.htm\"><span style=\"font-size:12pt;\"> &nbsp;&nbsp;&nbsp;&nbsp;&nbsp;&nbsp;Ã¶ÇÐ</span></a><span style=\"font-size:12pt;\">&nbsp;&nbsp;&nbsp;</span></b></font><a href=\"linguistics/linguistics.htm\"><b><font face=\"Times New Roman\"><span style=\"font-size:12pt;\">¾ð¾îÇÐ</span></font></b></a><B><FONT \r\n",
      "face=\"Times New Roman\"><span style=\"font-size:12pt;\"> &nbsp;&nbsp;</span></font></b><a href=\"robot/robot.htm\"><font face=\"Times New Roman\"><b><span style=\"font-size:12pt;\">·Îº¿</span></b></font></a><font\r\n",
      "             face=\"Times New Roman\"><b><span style=\"font-size:12pt;\"> &nbsp;&nbsp;</span></b></font><a href=\"game/game.htm\"><b><font face=\"Times New Roman\"><span style=\"font-size:12pt;\">°ÔÀÓ</span></font></b></a><B><FONT \r\n",
      "face=\"Times New Roman\"><span style=\"font-size:12pt;\">   &nbsp;&nbsp;</span><a href=\"neural/neural_network.htm\"><span style=\"font-size:12pt;\">½Å°æ¸Á</span></a><span style=\"font-size:12pt;\"> &nbsp;&nbsp;</span><a href=\"fuzzy/fuzzy.htm\"><span style=\"font-size:12pt;\">ÆÛÁö</span></a><span style=\"font-size:12pt;\"> &nbsp;&nbsp;</span><a href=\"pattern/pattern_recognition.htm\"><span style=\"font-size:12pt;\">ÆÐÅÏÀÎ½Ä</span></a><span style=\"font-size:12pt;\"> &nbsp;&nbsp;</span><a href=\"expert/expert_system.htm\"><span style=\"font-size:12pt;\">Àü¹®°¡½Ã½ºÅÛ</span></a><span\r\n",
      "style=\"font-size:12pt;\">&nbsp;&nbsp;&nbsp;&nbsp;&nbsp;</span><a href=\"reasoning/reasoning.htm\"><span style=\"font-size:12pt;\">Ãß·Ð</span></a><span style=\"font-size:12pt;\"> \r\n",
      "            &nbsp;&nbsp;</span></font></b><a href=\"problem/problem_solving.htm\"><b><font face=\"Times New Roman\"><span style=\"font-size:12pt;\">¹®Á¦ÇØ°á</span></font></b></a><B><FONT \r\n",
      "face=\"Times New Roman\"><span style=\"font-size:12pt;\"> &nbsp;&nbsp;&nbsp;</span></font><a href=\"algorithm/algorithm.htm\"><font face=\"Times New Roman\">¾Ë°í¸®Áò</font></a><FONT \r\n",
      "face=\"Times New Roman\"><span style=\"font-size:12pt;\">&nbsp;</span><a href=\"heuristic/heuristic.htm\"><span style=\"font-size:12pt;\">&nbsp;&nbsp;ÈÞ¸®½ºÆ½</span></a><span style=\"font-size:12pt;\"> \r\n",
      "            &nbsp;<a href=\"computer/computer.htm\">&nbsp;ÄÄÇ»ÅÍ</a> &nbsp;<a href=\"physiology/brain/brain.htm\">µÎ³ú</a> \r\n",
      "            &nbsp;</span></font></b></p>\r\n",
      "<p align=\"left\" style=\"line-height:150%;\"><B><span style=\"font-size:12pt;\"><font face=\"Times New Roman\" color=\"red\">Hot Keyword </font></span><a href=\"http://bci.korea.ac.kr/\"><font face=\"Times New Roman\">&nbsp;&nbsp;</font></a><a href=\"demo/alphago.htm\"><font face=\"Times New Roman\">AlphaGo</font></a><span style=\"font-size:12pt;\"><font face=\"Times New Roman\">&nbsp;&nbsp;&nbsp;&nbsp;</font></span><a href=\"learning/machine_learning.htm\"><font face=\"Times New Roman\">¸Ó½Å·¯´×&nbsp;&nbsp;&nbsp;&nbsp;</font></a><a href=\"learning/deep_learning.htm\"><font face=\"Times New Roman\" color=\"blue\">µö ·¯´×</font></a><font color=\"blue\"><a href=\"learning/deep_learning.htm\">&nbsp;&nbsp;&nbsp;</a></font></b><SPAN \r\n",
      "lang=EN-US><b><a href=\"learning/mining/big_data.htm\"><font face=\"Times New Roman\">ºòµ¥ÀÌÅÍ</font></a></b></SPAN><B><font color=\"blue\"><a href=\"learning/deep_learning.htm\">&nbsp;</a></font><a href=\"learning/machine_learning.htm\"><font face=\"Times New Roman\">&nbsp;&nbsp;</font></a><span style=\"font-size:12pt;\"><font face=\"Times New Roman\">&nbsp;</font></span><a href=\"thought/fourth_industrial_revoluiton.htm\"><font face=\"Times New Roman\">4Â÷ »ê¾÷Çõ¸í</font></a><span style=\"font-size:12pt;\"><font face=\"Times New Roman\">&nbsp;&nbsp;&nbsp;</font></span><a href=\"program/tensorflow.htm\"><font face=\"Times New Roman\">TensorFlow</font></a><font face=\"Times New Roman\"> </font><span style=\"font-size:12pt;\"><font face=\"Times New Roman\">&nbsp;&nbsp;</font></span><a href=\"linguistics/natural/chatbot.htm\"><font face=\"Times New Roman\">&nbsp;Chatbot &nbsp;&nbsp;&nbsp;</font></a><a href=\"program/programming.htm\"><font face=\"Times New Roman\">ÇÁ·Î±×·¡¹Ö</font></a></b></p>\r\n",
      "<p align=\"left\" style=\"line-height:150%;\"><B><FONT \r\n",
      "face=\"Times New Roman\"><span style=\"font-size:12pt;\">Site &nbsp;&nbsp;&nbsp;&nbsp;&nbsp;&nbsp;&nbsp;&nbsp;&nbsp;&nbsp;&nbsp;&nbsp;&nbsp;&nbsp;&nbsp;</span></font></b><a href=\"http://aitopics.net/A-ZIndex\"><b><font face=\"Times New Roman\"><span style=\"font-size:12pt;\">&nbsp;&nbsp;&nbsp;</span></font></b></a><b><font face=\"Times New Roman\"><span style=\"font-size:12pt;\"><a href=\"http://www.aaai.org\">AAAI</a></span></font></b><a href=\"http://aitopics.net/A-ZIndex\"><b><font face=\"Times New Roman\"><span style=\"font-size:12pt;\"> &nbsp;&nbsp;&nbsp;&nbsp;            </span></font></b></a><b><font face=\"Times New Roman\"><span style=\"font-size:12pt;\"><a href=\"http://aitopics.org/\">AI \r\n",
      "            Topics</a> &nbsp;&nbsp;&nbsp;</span></font></b><a href=\"lab/best5.htm\"><b><font face=\"Times New Roman\"><span style=\"font-size:12pt;\">&nbsp;                        </span></font></b></a><B><A \r\n",
      "href=\"ai/ai_resource.htm\"><FONT \r\n",
      "face=\"Times New Roman\"><span style=\"font-size:12pt;\">            ¿Ü±¹ÇÐÈ¸</span></FONT></A><FONT \r\n",
      "face=\"Times New Roman\"><span style=\"font-size:12pt;\"> \r\n",
      "            &nbsp;&nbsp;&nbsp;<a href=\"help/society.htm\">ÇÐÈ¸&nbsp;&nbsp;&nbsp;&nbsp;</a><a href=\"help/event.htm\">event</a></span></font><font color=\"#C00000\"> &nbsp;</font><FONT \r\n",
      "face=\"Times New Roman\"><span style=\"font-size:12pt;\">&nbsp;.... </span></font></b></p>\r\n",
      "<p align=\"left\" style=\"line-height:150%;\"><B><FONT \r\n",
      "face=\"Times New Roman\"><span style=\"font-size:12pt;\">Reference \r\n",
      "            &nbsp;&nbsp;&nbsp;&nbsp;&nbsp;&nbsp;&nbsp;</span><a href=\"paper/ai_book.htm\"><span style=\"font-size:12pt;\">book</span></a></font></b><B><FONT \r\n",
      "face=\"Times New Roman\"><span style=\"font-size:12pt;\"> &nbsp;&nbsp;</span></font></b><a href=\"news/news.htm\"><b><font face=\"Times New Roman\"><span style=\"font-size:12pt;\"> &nbsp;&nbsp;news</span></font></b></a><B><FONT \r\n",
      "face=\"Times New Roman\"><span style=\"font-size:12pt;\"> &nbsp;&nbsp;</span></font><a href=\"art/art.htm\"><font face=\"Times New Roman\"><span style=\"font-size:12pt;\"> \r\n",
      "            &nbsp;fiction</span></font></a><FONT \r\n",
      "face=\"Times New Roman\"><span style=\"font-size:12pt;\"> &nbsp;&nbsp;&nbsp;</span></font><a href=\"art/ai_movie.htm\"><font face=\"Times New Roman\">movie</font></a> \r\n",
      "<FONT \r\n",
      "face=\"Times New Roman\"><span style=\"font-size:12pt;\">&nbsp;<a href=\"video/ai_video.htm\">&nbsp;video</a>&nbsp;&nbsp;</span></font></b><a href=\"paper/biblio.htm\"><b><font face=\"Times New Roman\"><span style=\"font-size:12pt;\">&nbsp;&nbsp;bibliography</span></font></b></a><a href=\"humor/humor.htm\"><b><font face=\"Times New Roman\"><span style=\"font-size:12pt;\"> \r\n",
      "            &nbsp;</span></font></b></a><B><FONT \r\n",
      "face=\"Times New Roman\"><span style=\"font-size:12pt;\"> &nbsp;\r\n",
      "            ......</span></font></b>            </p>\r\n",
      "<p style=\"line-height:150%;\"><a href=\"help/help.htm\"><font face=\"Times New Roman\"><b><span style=\"font-size:12pt;\">Help</span></b></font></a><font\r\n",
      "             face=\"Times New Roman\"><b><span style=\"font-size:12pt;\"> &nbsp;&nbsp;&nbsp;&nbsp;&nbsp;&nbsp;&nbsp;&nbsp;&nbsp;&nbsp;&nbsp;&nbsp;&nbsp;</span></b></font><B><FONT \r\n",
      "face=\"Times New Roman\"><span style=\"font-size:12pt;\">&nbsp;&nbsp;&nbsp;<a href=\"https://en.wikipedia.org/wiki/Main_Page\">Wikipedia &nbsp;&nbsp;&nbsp;</a><a href=\"https://ko.wikipedia.org/wiki/%EC%9C%84%ED%82%A4%EB%B0%B1%EA%B3%BC:%EB%8C%80%EB%AC%B8\">À§Å°¹é°ú</a><a href=\"https://en.wikipedia.org/wiki/Main_Page\">&nbsp;</a></span></font></b><b><font face=\"Times New Roman\"><span style=\"font-size:12pt;\">\r\n",
      "            </span></font></b><B><FONT \r\n",
      "face=\"Times New Roman\"><span style=\"font-size:12pt;\">&nbsp;&nbsp;<a href=\"http://www.youtube.com\">&nbsp;YouTube</a> &nbsp;&nbsp;&nbsp;</span></font>\r\n",
      "<a href=\"http://www.etnews.co.kr\">ÀüÀÚ½Å¹®</a> &nbsp;&nbsp;&nbsp;</b><A href=\"http://www.kyobobook.co.kr/\" target=_top><b>±³º¸¹®°í</b></A><B>&nbsp;<FONT \r\n",
      "face=\"Times New Roman\"><span style=\"font-size:12pt;\">&nbsp;</span></font><span style=\"font-size:12pt;\"> \r\n",
      "            &nbsp;<a href=\"help/book_store.htm\">¼­Á¡</a> &nbsp;&nbsp;</span><a href=\"help/press.htm\">¾ð·Ð</a><span style=\"font-size:12pt;\"> \r\n",
      "            &nbsp;&nbsp;&nbsp;</span><FONT \r\n",
      "face=\"Times New Roman\"><span style=\"font-size:12pt;\"><a href=\"http://dl.nanet.go.kr/index.do\">±¹È¸µµ¼­°ü°Ë»ö</a> \r\n",
      "            &nbsp;..... </span></font></b></p>\r\n",
      "<center>\r\n",
      "<FORM method=GET action=\"http://www.google.co.kr/search\">\r\n",
      "<TABLE bgcolor=\"#DDFFDD\" style=\"line-height:150%;\"><tr><td height=\"41\">\r\n",
      "\r\n",
      "                    <p align=\"center\" style=\"line-height:150%;\">\r\n",
      "<b><span style=\"font-size:12pt;\"><INPUT TYPE=text name=q size=31 maxlength=255 value=\"\">\r\n",
      "<INPUT TYPE=hidden name=hl value=ko>\r\n",
      "<INPUT TYPE=hidden name=ie value=euc-kr>\r\n",
      "<INPUT type=submit name=btnG VALUE=\"±¸±Û °Ë»ö\"></span></b><span style=\"font-size:12pt;\">\r\n",
      "\r\n",
      "                    </span><b><span style=\"font-size:12pt;\"><input type=radio name=sitesearch value=\"\" checked>\r\n",
      "</span><span style=\"font-size:10pt;\"><font face=\"Times New Roman\">www </font>°Ë»ö\r\n",
      "<input type=radio name=sitesearch value=\"www.aistudy.com\">\r\n",
      "                    <font face=\"Times New Roman\">www.aistudy.com</font> °Ë»ö</span></b>\r\n",
      "\r\n",
      "</td></tr></TABLE>\r\n",
      "</FORM>\r\n",
      "</center>\r\n",
      "<p style=\"line-height:150%;\">&nbsp;</p>\r\n",
      "<p style=\"line-height:150%;\"><b><span style=\"font-size:12pt;\"><font color=\"red\">¡Ú¡Ú¡Ú</font></span><a href=\"http://bci.korea.ac.kr/\">&nbsp;</a><a href=\"http://nacsi.kr/tutorial/tutorial17.html\">&nbsp;</a><a href=\"http://nacsi.kr/tutorial/tutorial20.html\">½ÉÃþ °­È­ÇÐ½ÀÀ» ÅëÇÑ Ãªº¿ ±¸Çö°ú ÀÀ¿ë : ÇÑ±¹ÀÎÁö°úÇÐ»ê¾÷ÇùÈ¸ ÀÎÁö±â¼ú Æ©Åä¸®¾ó 20</a> : 2018/03/31, ¼­¿ï´ë<span style=\"font-size:12pt;\"> &nbsp;<font color=\"red\">¡Ú¡Ú¡Ú</font></span></b></p>\r\n",
      "<p style=\"line-height:150%;\"><b><span style=\"font-size:12pt;\"><font color=\"red\">¡Ú¡Ú¡Ú</font></span><a href=\"http://bci.korea.ac.kr/\">&nbsp;</a><a href=\"http://nacsi.kr/tutorial/tutorial17.html\">&nbsp;</a><a href=\"http://mhpark.or.kr/index.php?document_srl=286927\">'¹Ú¹®È£ ¹Ú»çÀÇ ³ú°úÇÐ °øºÎ' Ãâ°£&nbsp;- ¹Ú¹®È£ÀÇ ÀÚ¿¬°úÇÐ¼¼»ó</a> <span style=\"font-size:12pt;\">&nbsp;<font color=\"red\">¡Ú¡Ú¡Ú</font></span></b></p>\r\n",
      "<p style=\"line-height:150%;\">&nbsp;</p>\r\n",
      "<p style=\"line-height:150%;\"><b><a href=\"http://tv.naver.com/v/1878677\">Æù ³ëÀÌ¸¸ - Á¤º¸È­½Ã´ë 1ºÎ : °­¿¬</a> : <a href=\"http://openlectures.naver.com/contents?contentsId=132102&rid=2934&lectureType=paradigm\">¿­¸°¿¬´Ü</a> : <font face=\"»õ±¼¸²\"><span style=\"font-size:12pt;\"><A \r\n",
      "href=\"pioneer/Zhang.BT.htm\">Àåº´Å¹</a></span></font>&nbsp;: 2017/07/21</b></p>\r\n",
      "<p style=\"line-height:150%;\">&nbsp;<iframe src='http://serviceapi.rmcnmv.naver.com/flash/outKeyPlayer.nhn?vid=A759FD74B07D7FECC63DB9F35E9BB7398AFC&outKey=V12407c24b6fba7d69b570911b1a8bfa391d43ecdf82f98b2082e0911b1a8bfa391d4&controlBarMovable=true&jsCallable=true&isAutoPlay=true&skinName=tvcast_white' frameborder='no' scrolling='no' marginwidth='0' marginheight='0' WIDTH='300' HEIGHT='169' allowfullscreen></iframe></p>\r\n",
      "<p style=\"line-height:150%;\"><b><a href=\"https://www.youtube.com/watch?v=8Z2eLTSCuBk&t=2079s\">ÀÎ°øÁö´É°ú ¹Ì·¡ - KAIST °­¿¬</a> : <a href=\"https://www.youtube.com/channel/UCEQTSbZJvgkWKiFHirszYZA\">spark</a> : <a href=\"pioneer/Hassabis.D.htm\">Demis Hassabis</a>, 2017/05/27</b></p>\r\n",
      "<p style=\"line-height:150%;\">&nbsp;<iframe width=\"300\" height=\"169\" src=\"https://www.youtube.com/embed/8Z2eLTSCuBk?rel=0\" frameborder=\"0\" allowfullscreen></iframe></p>\r\n",
      "<H1 class=\"text-center\"><A title=\"»õÃ¢À¸·Î ¸ÞÀÏ º¸±â\" class=\"newWindow _ccr(rdh.new) _c1(mrCore|popupRead|11667) _stopDefault\" href=\"https://mail.naver.com/?n=1445866174255&amp;v=f#\"></A></H1>\r\n",
      "<p style=\"line-height:150%;\"><b><a href=\"https://www.youtube.com/watch?v=efWSbITntR0&t=5090s\">³ú°úÇÐÀ¸·Î º» ÀÎ°øÁö´ÉÀÇ ÇöÁÖ¼Ò¿Í ¹Ì·¡ - 1ºÎ</a> : <a href=\"https://www.youtube.com/channel/UCpwh4yRadX0nnGQVqCLdskg\">afoofa Jung</a> : </b><a href=\"pioneer/Park.MH.htm\"><b>¹Ú¹®È£</b></a><b> : 2016/04/07</b></p>\r\n",
      "<p style=\"line-height:150%;\">&nbsp;<iframe width=\"300\" height=\"169\" src=\"https://www.youtube.com/embed/efWSbITntR0?rel=0\" frameborder=\"0\" allowfullscreen></iframe></p>\r\n",
      "<DIV class=\"text\">\r\n",
      "    <P align=\"justify\" style=\"line-height:150%;\">&nbsp;</p>\r\n",
      "</DIV>\r\n",
      "<p style=\"line-height:150%;\">\r\n",
      "\r\n",
      "\r\n",
      "&nbsp;</body>\r\n",
      "\r\n",
      "</html>\n"
     ]
    }
   ],
   "source": [
    "print(resp.text) #와장창 깨짐"
   ]
  },
  {
   "cell_type": "code",
   "execution_count": 156,
   "metadata": {},
   "outputs": [],
   "source": [
    "en = resp.content"
   ]
  },
  {
   "cell_type": "code",
   "execution_count": 159,
   "metadata": {},
   "outputs": [
    {
     "name": "stdout",
     "output_type": "stream",
     "text": [
      "<html>\r\n",
      "<head>\r\n",
      "<meta http-equiv=\"content-type\" content=\"text/html; charset=euc-kr\">\r\n",
      "<meta name=\"viewport\" content=\"width=device-width,initial-scale=1\">\r\n",
      "<title>AI Study</title>\r\n",
      "<meta name=\"generator\" content=\"Namo WebEditor\">\r\n",
      "<style><!--\r\n",
      ".leading200 { line-height:200%; }\r\n",
      ".leading180 { line-height:180%; }\r\n",
      ".leading150 { line-height:150%; }\r\n",
      ".leading100 { line-height:100%; }\r\n",
      "a:link { text-decoration:none; }\r\n",
      "a:hover { color:red; }\r\n",
      "a:visited { text-decoration:none; }\r\n",
      "a:active { text-decoration:none; }\r\n",
      "-->\r\n",
      "</style>\r\n",
      "\r\n",
      "<meta name=\"namo_guide\" content=\"h456\">\r\n",
      "</head>\r\n",
      "\r\n",
      "<body bgcolor=\"#FFFFDF\" text=\"black\" link=\"blue\" vlink=\"purple\" alink=\"red\">\r\n",
      "<p style=\"line-height:150%;\"><font\r\n",
      "             face=\"Times New Roman\"><b><span style=\"font-size:12pt;\">&nbsp;&nbsp;&nbsp;&nbsp;&nbsp;&nbsp;&nbsp;&nbsp;&nbsp;&nbsp;&nbsp;&nbsp;&nbsp;&nbsp;&nbsp;&nbsp;&nbsp;&nbsp;&nbsp;&nbsp;&nbsp;&nbsp;&nbsp;&nbsp;&nbsp;&nbsp;&nbsp;&nbsp;&nbsp;&nbsp;&nbsp;&nbsp;&nbsp;&nbsp;&nbsp;&nbsp;&nbsp;&nbsp;&nbsp;</span></b></font><span style=\"font-size:12pt;\"><b><font face=\"Times New Roman\">&nbsp;&nbsp;</font></b></span><a href=\"http://www.aistudy.com\"><b><span style=\"font-size:12pt;\"><img src=\"images/STUDY.gif\" width=\"342\"\r\n",
      "height=\"65\" border=\"0\" align=\"texttop\"></span></b></a><span style=\"font-size:12pt;\"><b><font face=\"Times New Roman\"><a href=\"about.htm\">about</a> \r\n",
      "&nbsp;</font></b></span></p>\r\n",
      "<p style=\"line-height:150%;\" align=\"left\"><b><span style=\"font-size:12pt; letter-spacing:-0.38pt;\"><font face=\"Times New Roman\">AI \r\n",
      "공부를 위해서는 </font></span><font face=\"Times New Roman\"><a href=\"math/mathematics.htm\"><span style=\"font-size:12pt;\">수학</span></a></font><span style=\"font-size:12pt; letter-spacing:-0.38pt;\"><font face=\"Times New Roman\">, \r\n",
      "특히 </font></span><a href=\"logic/logic.htm\"><font face=\"Times New Roman\"><span style=\"font-size:12pt;\">수리논리학</span></font></a><span style=\"font-size:12pt; letter-spacing:-0.38pt;\"><font face=\"Times New Roman\">&nbsp;에 \r\n",
      "대한 깊이있는 지식이 필요하다. &nbsp;과학 공부는 많이 할수록 좋은데 &nbsp;특히 생물학적 &nbsp;접근을위해 </font></span><a href=\"psychology/psychology.htm\"><span style=\"font-size:12pt; letter-spacing:-0.38pt;\"><font face=\"Times New Roman\">심리학</font></span></a><span style=\"font-size:12pt; letter-spacing:-0.38pt;\"><font face=\"Times New Roman\">&nbsp;과 \r\n",
      "신경계통의 </font></span><a href=\"physiology/physiology.htm\"><span style=\"font-size:12pt; letter-spacing:-0.38pt;\"><font face=\"Times New Roman\">생리학</font></span></a><span style=\"font-size:12pt; letter-spacing:-0.38pt;\"><font face=\"Times New Roman\">&nbsp;이 \r\n",
      "공부되어야 한다. &nbsp;최소한<a href=\"program/c.htm\"> C</a>, <a href=\"program/lisp/lisp.htm\">Lisp</a>, <a href=\"program/prolog/prolog.htm\">Prolog</a> \r\n",
      "와 기본적인 기계어를 배워야 하며, 최근에는 <a href=\"program/cpp.htm\">C++</a>, <a href=\"program/java.htm\">Java</a> 를 포함시켜야 할것이다. \r\n",
      "( <a href=\"pioneer/McCarthy.J.htm\">존 매카시</a>)</font></span></b></p>\r\n",
      "<p align=\"left\" style=\"line-height:150%;\"><B><FONT \r\n",
      "face=\"Times New Roman\"><span style=\"font-size:12pt;\">Mission \r\n",
      "&nbsp;&nbsp;&nbsp;&nbsp;&nbsp;&nbsp;&nbsp;</span></font></b><a href=\"ai/ai.htm\"><b><font face=\"Times New Roman\"><span style=\"font-size:12pt;\">&nbsp;&nbsp;&nbsp;&nbsp;AI 란 \r\n",
      "            무엇인가</span></font></b></a><b><a href=\"terms/glossary.htm\"><font face=\"Times New Roman\"><span style=\"font-size:12pt;\">&nbsp;&nbsp;&nbsp;&nbsp;&nbsp;&nbsp;&nbsp;</span></font><span style=\"font-size:12pt;\"><font face=\"Times New Roman\" color=\"red\">Glossary(용어)</font></span><font face=\"Times New Roman\"><span style=\"font-size:12pt;\">\r\n",
      "            </span></font></a><FONT \r\n",
      "face=\"Times New Roman\"><span style=\"font-size:12pt;\"> &nbsp;&nbsp;&nbsp;&nbsp;&nbsp;</span></font></b><a href=\"history/history.htm\"><b><font face=\"Times New Roman\"><span style=\"font-size:12pt;\">&nbsp;history</span></font></b></a><b><font face=\"Times New Roman\"><a href=\"인공지능의%20역사.htm\"><span style=\"font-size:12pt;\"> </span></a><span style=\"font-size:12pt;\">&nbsp;&nbsp;&nbsp;&nbsp;&nbsp;&nbsp;&nbsp;</span></font></b><a href=\"pioneer/pioneers.htm\"><b><font face=\"Times New Roman\"><span style=\"font-size:12pt;\">pioneer(world</span></font></b></a><B><FONT\r\n",
      "\r\n",
      "face=\"Times New Roman\"><span style=\"font-size:12pt;\">            , &nbsp;&nbsp; </span><a href=\"pioneer/pioneers_kor.htm\"><span style=\"font-size:12pt;\">korea)</span></a><span style=\"font-size:12pt;\"> &nbsp;&nbsp;&nbsp;&nbsp;&nbsp;</span></font></b>&nbsp;&nbsp;<font\r\n",
      "             face=\"Times New Roman\"><b><a href=\"lab/lab.htm\"><span style=\"font-size:12pt;\">lab</span></a><span style=\"font-size:12pt;\"> &nbsp;&nbsp;&nbsp;&nbsp;</span><a href=\"life/life.htm\"><span style=\"font-size:12pt;\">&nbsp;life</span></a><span style=\"font-size:12pt;\"> &nbsp;&nbsp;</span><a href=\"ai/branch.htm\"><span style=\"font-size:12pt;\">&nbsp;&nbsp;branch</span></a><span style=\"font-size:12pt;\"> &nbsp;&nbsp;</span></b></font><B><FONT \r\n",
      "face=\"Times New Roman\"><span style=\"font-size:12pt;\"> &nbsp;&nbsp;</span></font></b><font\r\n",
      "             face=\"Times New Roman\"><b><a href=\"demo/demo.htm\"><span style=\"font-size:12pt;\">&nbsp;&nbsp;demo</span></a><span style=\"font-size:12pt;\"> &nbsp;&nbsp;</span></b></font><font\r\n",
      "             face=\"Times New Roman\"><b><span style=\"font-size:12pt;\"> &nbsp;&nbsp;&nbsp;</span></b></font><b><span style=\"font-size:12pt;\"><font face=\"Times New Roman\"><a href=\"default_e.htm\">English</a></font></span></b></p>\r\n",
      "<p align=\"left\" style=\"line-height:150%;\"><B><FONT \r\n",
      "face=\"Times New Roman\"><span style=\"font-size:12pt;\">Key word &nbsp;</span></font></b><font\r\n",
      "             face=\"Times New Roman\"><b><a href=\"philosophy/philosophy.htm\"><span style=\"font-size:12pt;\"> &nbsp;&nbsp;&nbsp;&nbsp;&nbsp;&nbsp;철학</span></a><span style=\"font-size:12pt;\">&nbsp;&nbsp;&nbsp;</span></b></font><a href=\"linguistics/linguistics.htm\"><b><font face=\"Times New Roman\"><span style=\"font-size:12pt;\">언어학</span></font></b></a><B><FONT \r\n",
      "face=\"Times New Roman\"><span style=\"font-size:12pt;\"> &nbsp;&nbsp;</span></font></b><a href=\"robot/robot.htm\"><font face=\"Times New Roman\"><b><span style=\"font-size:12pt;\">로봇</span></b></font></a><font\r\n",
      "             face=\"Times New Roman\"><b><span style=\"font-size:12pt;\"> &nbsp;&nbsp;</span></b></font><a href=\"game/game.htm\"><b><font face=\"Times New Roman\"><span style=\"font-size:12pt;\">게임</span></font></b></a><B><FONT \r\n",
      "face=\"Times New Roman\"><span style=\"font-size:12pt;\">   &nbsp;&nbsp;</span><a href=\"neural/neural_network.htm\"><span style=\"font-size:12pt;\">신경망</span></a><span style=\"font-size:12pt;\"> &nbsp;&nbsp;</span><a href=\"fuzzy/fuzzy.htm\"><span style=\"font-size:12pt;\">퍼지</span></a><span style=\"font-size:12pt;\"> &nbsp;&nbsp;</span><a href=\"pattern/pattern_recognition.htm\"><span style=\"font-size:12pt;\">패턴인식</span></a><span style=\"font-size:12pt;\"> &nbsp;&nbsp;</span><a href=\"expert/expert_system.htm\"><span style=\"font-size:12pt;\">전문가시스템</span></a><span\r\n",
      "style=\"font-size:12pt;\">&nbsp;&nbsp;&nbsp;&nbsp;&nbsp;</span><a href=\"reasoning/reasoning.htm\"><span style=\"font-size:12pt;\">추론</span></a><span style=\"font-size:12pt;\"> \r\n",
      "            &nbsp;&nbsp;</span></font></b><a href=\"problem/problem_solving.htm\"><b><font face=\"Times New Roman\"><span style=\"font-size:12pt;\">문제해결</span></font></b></a><B><FONT \r\n",
      "face=\"Times New Roman\"><span style=\"font-size:12pt;\"> &nbsp;&nbsp;&nbsp;</span></font><a href=\"algorithm/algorithm.htm\"><font face=\"Times New Roman\">알고리즘</font></a><FONT \r\n",
      "face=\"Times New Roman\"><span style=\"font-size:12pt;\">&nbsp;</span><a href=\"heuristic/heuristic.htm\"><span style=\"font-size:12pt;\">&nbsp;&nbsp;휴리스틱</span></a><span style=\"font-size:12pt;\"> \r\n",
      "            &nbsp;<a href=\"computer/computer.htm\">&nbsp;컴퓨터</a> &nbsp;<a href=\"physiology/brain/brain.htm\">두뇌</a> \r\n",
      "            &nbsp;</span></font></b></p>\r\n",
      "<p align=\"left\" style=\"line-height:150%;\"><B><span style=\"font-size:12pt;\"><font face=\"Times New Roman\" color=\"red\">Hot Keyword </font></span><a href=\"http://bci.korea.ac.kr/\"><font face=\"Times New Roman\">&nbsp;&nbsp;</font></a><a href=\"demo/alphago.htm\"><font face=\"Times New Roman\">AlphaGo</font></a><span style=\"font-size:12pt;\"><font face=\"Times New Roman\">&nbsp;&nbsp;&nbsp;&nbsp;</font></span><a href=\"learning/machine_learning.htm\"><font face=\"Times New Roman\">머신러닝&nbsp;&nbsp;&nbsp;&nbsp;</font></a><a href=\"learning/deep_learning.htm\"><font face=\"Times New Roman\" color=\"blue\">딥 러닝</font></a><font color=\"blue\"><a href=\"learning/deep_learning.htm\">&nbsp;&nbsp;&nbsp;</a></font></b><SPAN \r\n",
      "lang=EN-US><b><a href=\"learning/mining/big_data.htm\"><font face=\"Times New Roman\">빅데이터</font></a></b></SPAN><B><font color=\"blue\"><a href=\"learning/deep_learning.htm\">&nbsp;</a></font><a href=\"learning/machine_learning.htm\"><font face=\"Times New Roman\">&nbsp;&nbsp;</font></a><span style=\"font-size:12pt;\"><font face=\"Times New Roman\">&nbsp;</font></span><a href=\"thought/fourth_industrial_revoluiton.htm\"><font face=\"Times New Roman\">4차 산업혁명</font></a><span style=\"font-size:12pt;\"><font face=\"Times New Roman\">&nbsp;&nbsp;&nbsp;</font></span><a href=\"program/tensorflow.htm\"><font face=\"Times New Roman\">TensorFlow</font></a><font face=\"Times New Roman\"> </font><span style=\"font-size:12pt;\"><font face=\"Times New Roman\">&nbsp;&nbsp;</font></span><a href=\"linguistics/natural/chatbot.htm\"><font face=\"Times New Roman\">&nbsp;Chatbot &nbsp;&nbsp;&nbsp;</font></a><a href=\"program/programming.htm\"><font face=\"Times New Roman\">프로그래밍</font></a></b></p>\r\n",
      "<p align=\"left\" style=\"line-height:150%;\"><B><FONT \r\n",
      "face=\"Times New Roman\"><span style=\"font-size:12pt;\">Site &nbsp;&nbsp;&nbsp;&nbsp;&nbsp;&nbsp;&nbsp;&nbsp;&nbsp;&nbsp;&nbsp;&nbsp;&nbsp;&nbsp;&nbsp;</span></font></b><a href=\"http://aitopics.net/A-ZIndex\"><b><font face=\"Times New Roman\"><span style=\"font-size:12pt;\">&nbsp;&nbsp;&nbsp;</span></font></b></a><b><font face=\"Times New Roman\"><span style=\"font-size:12pt;\"><a href=\"http://www.aaai.org\">AAAI</a></span></font></b><a href=\"http://aitopics.net/A-ZIndex\"><b><font face=\"Times New Roman\"><span style=\"font-size:12pt;\"> &nbsp;&nbsp;&nbsp;&nbsp;            </span></font></b></a><b><font face=\"Times New Roman\"><span style=\"font-size:12pt;\"><a href=\"http://aitopics.org/\">AI \r\n",
      "            Topics</a> &nbsp;&nbsp;&nbsp;</span></font></b><a href=\"lab/best5.htm\"><b><font face=\"Times New Roman\"><span style=\"font-size:12pt;\">&nbsp;                        </span></font></b></a><B><A \r\n",
      "href=\"ai/ai_resource.htm\"><FONT \r\n",
      "face=\"Times New Roman\"><span style=\"font-size:12pt;\">            외국학회</span></FONT></A><FONT \r\n",
      "face=\"Times New Roman\"><span style=\"font-size:12pt;\"> \r\n",
      "            &nbsp;&nbsp;&nbsp;<a href=\"help/society.htm\">학회&nbsp;&nbsp;&nbsp;&nbsp;</a><a href=\"help/event.htm\">event</a></span></font><font color=\"#C00000\"> &nbsp;</font><FONT \r\n",
      "face=\"Times New Roman\"><span style=\"font-size:12pt;\">&nbsp;.... </span></font></b></p>\r\n",
      "<p align=\"left\" style=\"line-height:150%;\"><B><FONT \r\n",
      "face=\"Times New Roman\"><span style=\"font-size:12pt;\">Reference \r\n",
      "            &nbsp;&nbsp;&nbsp;&nbsp;&nbsp;&nbsp;&nbsp;</span><a href=\"paper/ai_book.htm\"><span style=\"font-size:12pt;\">book</span></a></font></b><B><FONT \r\n",
      "face=\"Times New Roman\"><span style=\"font-size:12pt;\"> &nbsp;&nbsp;</span></font></b><a href=\"news/news.htm\"><b><font face=\"Times New Roman\"><span style=\"font-size:12pt;\"> &nbsp;&nbsp;news</span></font></b></a><B><FONT \r\n",
      "face=\"Times New Roman\"><span style=\"font-size:12pt;\"> &nbsp;&nbsp;</span></font><a href=\"art/art.htm\"><font face=\"Times New Roman\"><span style=\"font-size:12pt;\"> \r\n",
      "            &nbsp;fiction</span></font></a><FONT \r\n",
      "face=\"Times New Roman\"><span style=\"font-size:12pt;\"> &nbsp;&nbsp;&nbsp;</span></font><a href=\"art/ai_movie.htm\"><font face=\"Times New Roman\">movie</font></a> \r\n",
      "<FONT \r\n",
      "face=\"Times New Roman\"><span style=\"font-size:12pt;\">&nbsp;<a href=\"video/ai_video.htm\">&nbsp;video</a>&nbsp;&nbsp;</span></font></b><a href=\"paper/biblio.htm\"><b><font face=\"Times New Roman\"><span style=\"font-size:12pt;\">&nbsp;&nbsp;bibliography</span></font></b></a><a href=\"humor/humor.htm\"><b><font face=\"Times New Roman\"><span style=\"font-size:12pt;\"> \r\n",
      "            &nbsp;</span></font></b></a><B><FONT \r\n",
      "face=\"Times New Roman\"><span style=\"font-size:12pt;\"> &nbsp;\r\n",
      "            ......</span></font></b>            </p>\r\n",
      "<p style=\"line-height:150%;\"><a href=\"help/help.htm\"><font face=\"Times New Roman\"><b><span style=\"font-size:12pt;\">Help</span></b></font></a><font\r\n",
      "             face=\"Times New Roman\"><b><span style=\"font-size:12pt;\"> &nbsp;&nbsp;&nbsp;&nbsp;&nbsp;&nbsp;&nbsp;&nbsp;&nbsp;&nbsp;&nbsp;&nbsp;&nbsp;</span></b></font><B><FONT \r\n",
      "face=\"Times New Roman\"><span style=\"font-size:12pt;\">&nbsp;&nbsp;&nbsp;<a href=\"https://en.wikipedia.org/wiki/Main_Page\">Wikipedia &nbsp;&nbsp;&nbsp;</a><a href=\"https://ko.wikipedia.org/wiki/%EC%9C%84%ED%82%A4%EB%B0%B1%EA%B3%BC:%EB%8C%80%EB%AC%B8\">위키백과</a><a href=\"https://en.wikipedia.org/wiki/Main_Page\">&nbsp;</a></span></font></b><b><font face=\"Times New Roman\"><span style=\"font-size:12pt;\">\r\n",
      "            </span></font></b><B><FONT \r\n",
      "face=\"Times New Roman\"><span style=\"font-size:12pt;\">&nbsp;&nbsp;<a href=\"http://www.youtube.com\">&nbsp;YouTube</a> &nbsp;&nbsp;&nbsp;</span></font>\r\n",
      "<a href=\"http://www.etnews.co.kr\">전자신문</a> &nbsp;&nbsp;&nbsp;</b><A href=\"http://www.kyobobook.co.kr/\" target=_top><b>교보문고</b></A><B>&nbsp;<FONT \r\n",
      "face=\"Times New Roman\"><span style=\"font-size:12pt;\">&nbsp;</span></font><span style=\"font-size:12pt;\"> \r\n",
      "            &nbsp;<a href=\"help/book_store.htm\">서점</a> &nbsp;&nbsp;</span><a href=\"help/press.htm\">언론</a><span style=\"font-size:12pt;\"> \r\n",
      "            &nbsp;&nbsp;&nbsp;</span><FONT \r\n",
      "face=\"Times New Roman\"><span style=\"font-size:12pt;\"><a href=\"http://dl.nanet.go.kr/index.do\">국회도서관검색</a> \r\n",
      "            &nbsp;..... </span></font></b></p>\r\n",
      "<center>\r\n",
      "<FORM method=GET action=\"http://www.google.co.kr/search\">\r\n",
      "<TABLE bgcolor=\"#DDFFDD\" style=\"line-height:150%;\"><tr><td height=\"41\">\r\n",
      "\r\n",
      "                    <p align=\"center\" style=\"line-height:150%;\">\r\n",
      "<b><span style=\"font-size:12pt;\"><INPUT TYPE=text name=q size=31 maxlength=255 value=\"\">\r\n",
      "<INPUT TYPE=hidden name=hl value=ko>\r\n",
      "<INPUT TYPE=hidden name=ie value=euc-kr>\r\n",
      "<INPUT type=submit name=btnG VALUE=\"구글 검색\"></span></b><span style=\"font-size:12pt;\">\r\n",
      "\r\n",
      "                    </span><b><span style=\"font-size:12pt;\"><input type=radio name=sitesearch value=\"\" checked>\r\n",
      "</span><span style=\"font-size:10pt;\"><font face=\"Times New Roman\">www </font>검색\r\n",
      "<input type=radio name=sitesearch value=\"www.aistudy.com\">\r\n",
      "                    <font face=\"Times New Roman\">www.aistudy.com</font> 검색</span></b>\r\n",
      "\r\n",
      "</td></tr></TABLE>\r\n",
      "</FORM>\r\n",
      "</center>\r\n",
      "<p style=\"line-height:150%;\">&nbsp;</p>\r\n",
      "<p style=\"line-height:150%;\"><b><span style=\"font-size:12pt;\"><font color=\"red\">★★★</font></span><a href=\"http://bci.korea.ac.kr/\">&nbsp;</a><a href=\"http://nacsi.kr/tutorial/tutorial17.html\">&nbsp;</a><a href=\"http://nacsi.kr/tutorial/tutorial20.html\">심층 강화학습을 통한 챗봇 구현과 응용 : 한국인지과학산업협회 인지기술 튜토리얼 20</a> : 2018/03/31, 서울대<span style=\"font-size:12pt;\"> &nbsp;<font color=\"red\">★★★</font></span></b></p>\r\n",
      "<p style=\"line-height:150%;\"><b><span style=\"font-size:12pt;\"><font color=\"red\">★★★</font></span><a href=\"http://bci.korea.ac.kr/\">&nbsp;</a><a href=\"http://nacsi.kr/tutorial/tutorial17.html\">&nbsp;</a><a href=\"http://mhpark.or.kr/index.php?document_srl=286927\">'박문호 박사의 뇌과학 공부' 출간&nbsp;- 박문호의 자연과학세상</a> <span style=\"font-size:12pt;\">&nbsp;<font color=\"red\">★★★</font></span></b></p>\r\n",
      "<p style=\"line-height:150%;\">&nbsp;</p>\r\n",
      "<p style=\"line-height:150%;\"><b><a href=\"http://tv.naver.com/v/1878677\">폰 노이만 - 정보화시대 1부 : 강연</a> : <a href=\"http://openlectures.naver.com/contents?contentsId=132102&rid=2934&lectureType=paradigm\">열린연단</a> : <font face=\"새굴림\"><span style=\"font-size:12pt;\"><A \r\n",
      "href=\"pioneer/Zhang.BT.htm\">장병탁</a></span></font>&nbsp;: 2017/07/21</b></p>\r\n",
      "<p style=\"line-height:150%;\">&nbsp;<iframe src='http://serviceapi.rmcnmv.naver.com/flash/outKeyPlayer.nhn?vid=A759FD74B07D7FECC63DB9F35E9BB7398AFC&outKey=V12407c24b6fba7d69b570911b1a8bfa391d43ecdf82f98b2082e0911b1a8bfa391d4&controlBarMovable=true&jsCallable=true&isAutoPlay=true&skinName=tvcast_white' frameborder='no' scrolling='no' marginwidth='0' marginheight='0' WIDTH='300' HEIGHT='169' allowfullscreen></iframe></p>\r\n",
      "<p style=\"line-height:150%;\"><b><a href=\"https://www.youtube.com/watch?v=8Z2eLTSCuBk&t=2079s\">인공지능과 미래 - KAIST 강연</a> : <a href=\"https://www.youtube.com/channel/UCEQTSbZJvgkWKiFHirszYZA\">spark</a> : <a href=\"pioneer/Hassabis.D.htm\">Demis Hassabis</a>, 2017/05/27</b></p>\r\n",
      "<p style=\"line-height:150%;\">&nbsp;<iframe width=\"300\" height=\"169\" src=\"https://www.youtube.com/embed/8Z2eLTSCuBk?rel=0\" frameborder=\"0\" allowfullscreen></iframe></p>\r\n",
      "<H1 class=\"text-center\"><A title=\"새창으로 메일 보기\" class=\"newWindow _ccr(rdh.new) _c1(mrCore|popupRead|11667) _stopDefault\" href=\"https://mail.naver.com/?n=1445866174255&amp;v=f#\"></A></H1>\r\n",
      "<p style=\"line-height:150%;\"><b><a href=\"https://www.youtube.com/watch?v=efWSbITntR0&t=5090s\">뇌과학으로 본 인공지능의 현주소와 미래 - 1부</a> : <a href=\"https://www.youtube.com/channel/UCpwh4yRadX0nnGQVqCLdskg\">afoofa Jung</a> : </b><a href=\"pioneer/Park.MH.htm\"><b>박문호</b></a><b> : 2016/04/07</b></p>\r\n",
      "<p style=\"line-height:150%;\">&nbsp;<iframe width=\"300\" height=\"169\" src=\"https://www.youtube.com/embed/efWSbITntR0?rel=0\" frameborder=\"0\" allowfullscreen></iframe></p>\r\n",
      "<DIV class=\"text\">\r\n",
      "    <P align=\"justify\" style=\"line-height:150%;\">&nbsp;</p>\r\n",
      "</DIV>\r\n",
      "<p style=\"line-height:150%;\">\r\n",
      "\r\n",
      "\r\n",
      "&nbsp;</body>\r\n",
      "\r\n",
      "</html>\n"
     ]
    }
   ],
   "source": [
    "print(en.decode('euc-kr')) #euc로 인코딩 되있으니 euc로 디코딩.. 하면뭐 유니코드(str)로 간다나?"
   ]
  },
  {
   "cell_type": "code",
   "execution_count": 161,
   "metadata": {},
   "outputs": [],
   "source": [
    "### 인코딩 : 바이트를 인코드 한 방식이 utf-8, cp949 등등뭐 많단다"
   ]
  },
  {
   "cell_type": "code",
   "execution_count": 162,
   "metadata": {},
   "outputs": [],
   "source": [
    "### 디코딩 : 인코딩 된거를 다시 바이트로 바뀌는것.. 표준화된 방식으로 바뀌는것"
   ]
  },
  {
   "cell_type": "code",
   "execution_count": 163,
   "metadata": {},
   "outputs": [],
   "source": [
    "### 파이썬3은 유니코드가 표준형식 : 세상 모든 문자 다 처리, 2는 바이트 : 아스키코드만.."
   ]
  },
  {
   "cell_type": "code",
   "execution_count": 171,
   "metadata": {},
   "outputs": [
    {
     "data": {
      "text/html": [
       "<img src='data:image/png;base64,3cd1 881c 344b b012 133a c446 0600 0c01\n",
       "aa47 62ca 1db4 45ed 4a87 edc1 aade 827a\n",
       "267a c72b 79e9 ec86 8b6d 117b 42ad e6ad\n",
       "8a89 d38a 67b6 d35e b5d3 4db5 f34f 77d4\n",
       "a203 013c 6113 60f6 9d0f 10ab 39d3 521e\n",
       "a665 90cb c88c 884f 6318 1ca5 a9a0 e413\n",
       "3824 e61e a9c6 6e8b 26a9 1921 7687 34b7\n",
       "182a b02f 88f1 dcbf c787 84ab 5003 19e5\n",
       "5b59 e982 7a27 1494 a139 fef7 c704 13c3\n",
       "d717 ba86 87f6 b2fc b0f5 b30f 2819 9bfc\n",
       "1bf0 dac6 8eff 7ae5 ece3 3e75 cd60 d84d\n",
       "e1a4 19c4 9f72 72de 711a 86b4 87d6 88fa\n",
       "2658 eeee 56cd 487f 01ba bb17 e23d 576f\n",
       "6d9e 9420 e115 4208 fbb2 a7d2 bb93 44d7\n",
       "b5dc 42e0 c150 9b92 3f43 05ab 3b58 14f8\n",
       "a519 010d 286b 1de3 38d4 48bc 112e 86af\n",
       "d1f3 a810 3e04 d40d fbaa 1292 c392 5de8\n",
       "39ef 2215 46c5 03d5 22bc 9aa1 7955 8cb4\n",
       "442a 1931 dfcf 06fe 192d 8395 3afe 4033\n",
       "3db8 ef7f e07b 317a d46b d3c0 1683 2afc\n",
       "a639 099f 5190 f19c fbf2 49fe 6e7b f85d\n",
       "107a d803 e755 2ab6 00f9 d54a ad80 3e75\n",
       "528a ca0f 12d7 8bfa 72b0 4dcb b155 a985\n",
       "e8a5 f335 f3be 2d48 eeed d902 f248 f781\n",
       "b0c2 5ac5 57be 4198 2bcf 2cf4 8da5 7105\n",
       "1c2e 7bed 4647 3161 d374 7dbc e401 30d8\n",
       "d348 5b3e e48c 725a a144 02b3 0db4 b5be\n",
       "dbb3 b522 cc78 eaac ad87 bc37 4a7a 216a\n",
       "7649 eb54 1c56 0c2e 69d4 ec90 6c7e df2a\n",
       "5fe0 96e2 b06c 85f9 f6dc 05e7 edb4 b4ff\n",
       "9ff5 fcf3 c67a ce34 054d 998f 3710 098c\n",
       "2de9 9f03 14e5 7ac8 dd56 24be 33c5 e937\n",
       "8441 443b f846 b576 4ef5 26f8 d8e7 4492\n",
       "886b 51ee 4151 ccb5 3535 8b64 38e8 7e59\n",
       "0083 04e4 0b5a b86c 5326 d86c bded 9800\n",
       "e079 9e2b 4814 1338 c539 c199 a4ed 9970\n",
       "9fa4 6f48 dd51 8612 f8fd 7961 9372 a6b1\n",
       "40fd dafb 0a0e ced1 949a 95ff 8b88 617f\n",
       "28a3 b365 45f1 b919 cb85 927d ed49 e59c\n",
       "9759 a67e 760b 9564 9de2 fc55 e77c 8af0\n",
       "6eaf fddd 9bf2 eef0 0a56 8d1d 2a9d 139d\n",
       "94fa f172 8c71 58a3 02a8 40dd eaa3 2353\n",
       "024a 9582 9ec0 69e6 2967 bedb eb0a 54a3\n",
       "eee8 843e 4e56 ae76 2f32 b9b4 c1bf 88fc\n",
       "d064 24be 3024 9c34 fef6 f82d a029 0bc5\n",
       "125b d787 ffdf 530c 7efa 1f96 745e 726e\n",
       "0e3a f994 3153 716b 300a 4af1 ee8e a981\n",
       "28c7 a771 455f 5ab9 f01b e400 ad33 22ff\n",
       "2739 7185 76d5 4f5e 9a20 022b 5331 8c63\n",
       "aabf 13d2 2f06 3438 ce5c 1599 7fff ed61\n",
       "428f 8304 91cb b4b4 996c d192 2289 2fe0\n",
       "5065 facf e563 fe63 9ea9 782b 68f6 c539\n",
       "6dad 14f6 d602 61d3 ed93 b565 1830 e9a3\n",
       "61e2 3d5b 0ae7 c6d2 5f2f 21a7 f233 177b\n",
       "a95a 1d9d 7b63 18a1 c627 d03f ed41 25ca\n",
       "94f5 a15c 1818 bbed d68c c6bd 81de 08af\n",
       "c891 12fa 50f6 e2c7 ad40 4af3 148a 821c\n",
       "566f eb9a 8cfc c7fd 94c5 f527 c5e5 b616\n",
       "9c08 61e0 f9a2 42a3 95f8 731a be60 5a5b\n",
       "bf37 000d 0a70 f3cf e63d f4bb 3d0a 74dd\n",
       "e411 15b8 1470 bb7d a56b 27dd cc33 1206\n",
       "3330 c9e8 9e3c 3dd2 3004 df14 6568 c72a\n",
       "28cd a290 f665 2b02 f9d3 1ff3 21d7 8fc8\n",
       "2d11 06f5 2357 f5be 3e41 18e0 3a26 7145\n",
       "75a6 349f dae5 8370 28b8 7cbe 28df 4472\n",
       "47c8 be1f 0a0d 9bc8 d6ec 7cc4 07eb c18e\n",
       "03c3 4756 6d6a 047b d4e1 e9fe 8b18 997b\n",
       "584e 5265 cc21 9aec 0d0f ce3b 4624 93f6\n",
       "d9a3 6b8a e8ed 2035 f42f aea6 10bb 7566\n",
       "192a 595f bdec dbfe 9240 4c55 baf9 9df7\n",
       "9308 b4a3 73c0 93b5 66e5 14c1 67e4 ef1c\n",
       "aabb 58eb 8e84 5fa2 9101 d6e9 8c64 4809\n",
       "b40a 118b aeed d359 b3c0 28de 7e19 8049\n",
       "fbf2 9b24 667f bcf2 da7e 2a69 ebd3 93c9\n",
       "c6fd 85d3 8c1e 4c23 1bd3 5526 e6e3 3ea4\n",
       "ce49 f2f8 d586 30aa e7b3 aeef 58bc 0a2d\n",
       "6864 6b2e de2b dd16 3d08 5387 0380 e3d9\n",
       "d699 d038 128b e245 dae0 d191 f2bd 926e\n",
       "ffe0 e49e f48c e6e2 88aa a5ed 21a7 8564\n",
       "e471 d0aa e237 172d 7b08 05c9 12d6 9008\n",
       "737d bfda b7ce 47ff 44de 9eca bfc1 6399\n",
       "a616 5054 d9f7 f8ff ebc3 508b 8ca4 79d6\n",
       "8f56 2f8f f4fb 7c88 3506 31f5 37d3 7b96\n",
       "0acb 7cc9 c4b9 30de e909 2a3b b731 ff48\n",
       "afb9 5819 bba7 fcde 86b7 1cfa 8636 e023\n",
       "f793 a11f 38ad 9776 d2b6 436d 0a2a b544\n",
       "3ad5 b712 ae38 47c8 d984 a9e4 9027 1d84\n",
       "36b7 35bf 9fd2 e5ad efac ed1b 9b46 6f1b\n",
       "5b1d 3e20 bfbc 7ac9 26e7 b836 4555 2ab6\n",
       "23f3 3563 30a9 6037 8469 e214 b27c cd3b\n",
       "a3b3 3ad5 e859 5103 0ae2 eb94 1fa9 11f7\n",
       "d217 23d2 a2ac 8a03 c9eb 9bad 8d3b 9a64\n",
       "c8df fcdc cfa4 f1d0 cc41 f807 5d54 aad8\n",
       "03ef e939 f132 e754 2c64 b041 387e 7f04\n",
       "0e94 ad80 3e77 f798 08ed bb64 ba6d a103\n",
       "acac 8789 a134 1259 5775 b8f3 1868 f00a\n",
       "4ea4 0bf4 c74a 914b 9a8e aa20 040c 7ed2\n",
       "de73 8d33 89c1 6dde 0a0a 9783 ffae 0b05\n",
       "5e8f 5ce2 5eea a219 76a7 cb9b ce5f 87e1\n",
       "9262 be64 2a6e fc14 bc6c a2e7 b4b4 c485\n",
       "b50d 2f5e c1a2 9eca e9f5 9f12 f712 5d88\n",
       "9199 a5f2 3afd be1e a6f9 3b69 1bff e6a1\n",
       "3ec0 923b 59fa 8570 5065 9516 45ac df5b\n",
       "4c5b ed97 a75d e6d4 831d 5d43 3cd6 c2a8\n",
       "ffd2 fef3 4bf6 f56e 28b8 0c99 a4b6 162e\n",
       "b262 6253 0731 04f1 22fa 703f 3576 eb61\n",
       "6828 13a7 c7e3 364f 02c2 f3c8 060b 3be0\n",
       "d3b5 c12f 1a84 8723 7e0c 062d 8afd 8d6b\n",
       "734b 5e7f d0b8 c765 5def 4b6d f954 f692\n",
       "a270 9f16 0321 6eaf f141 d88f a82b 69e0\n",
       "778e c5ee 6801 a107 8adc 092f bf2a fe5f\n",
       "2e28 31dc c88e 32bc 4c9d 4e3d 2704 0f45\n",
       "34cc 0b24 3509 d1f0 df6b 9d50 685b 0173\n",
       "f1d8 4761 041f 82cc 0343 4728 9690 e22a\n",
       "0195 3378 2cde e9c8 1a09 ce64 67d7 7e3d\n",
       "dd9f 166b a3bf 041f 7863 5ba2 72be e55a\n",
       "d130 a6c5 60a8 c1de ba8d 5684 57d6 e73d\n",
       "bcd0 bf04 bdf6 2ee7 e31b 0dd2 be36 d869\n",
       "c0e1 e8ee 36d9 318b e64a c4be 4862 aeeb\n",
       "2ac4 e2ba c028 fecb 322f 6240 a54c af4b\n",
       "ac10 082f 4b2c 6efe a611 d36e d5d1 aecf\n",
       "f29f 00e6 659e fcee 43a2 4a05 7508 ef79\n",
       "0987 4270 ff06 e1b5 53f5 d227 a088 189e\n",
       "23b0 0620 4343'>\n",
       "\n",
       "# 왜안돼.. 몰라 걍 이런게 있다.."
      ],
      "text/plain": [
       "<IPython.core.display.HTML object>"
      ]
     },
     "metadata": {},
     "output_type": "display_data"
    }
   ],
   "source": [
    "%%html\n",
    "<img src='data:image/png;base64,3cd1 881c 344b b012 133a c446 0600 0c01\n",
    "aa47 62ca 1db4 45ed 4a87 edc1 aade 827a\n",
    "267a c72b 79e9 ec86 8b6d 117b 42ad e6ad\n",
    "8a89 d38a 67b6 d35e b5d3 4db5 f34f 77d4\n",
    "a203 013c 6113 60f6 9d0f 10ab 39d3 521e\n",
    "a665 90cb c88c 884f 6318 1ca5 a9a0 e413\n",
    "3824 e61e a9c6 6e8b 26a9 1921 7687 34b7\n",
    "182a b02f 88f1 dcbf c787 84ab 5003 19e5\n",
    "5b59 e982 7a27 1494 a139 fef7 c704 13c3\n",
    "d717 ba86 87f6 b2fc b0f5 b30f 2819 9bfc\n",
    "1bf0 dac6 8eff 7ae5 ece3 3e75 cd60 d84d\n",
    "e1a4 19c4 9f72 72de 711a 86b4 87d6 88fa\n",
    "2658 eeee 56cd 487f 01ba bb17 e23d 576f\n",
    "6d9e 9420 e115 4208 fbb2 a7d2 bb93 44d7\n",
    "b5dc 42e0 c150 9b92 3f43 05ab 3b58 14f8\n",
    "a519 010d 286b 1de3 38d4 48bc 112e 86af\n",
    "d1f3 a810 3e04 d40d fbaa 1292 c392 5de8\n",
    "39ef 2215 46c5 03d5 22bc 9aa1 7955 8cb4\n",
    "442a 1931 dfcf 06fe 192d 8395 3afe 4033\n",
    "3db8 ef7f e07b 317a d46b d3c0 1683 2afc\n",
    "a639 099f 5190 f19c fbf2 49fe 6e7b f85d\n",
    "107a d803 e755 2ab6 00f9 d54a ad80 3e75\n",
    "528a ca0f 12d7 8bfa 72b0 4dcb b155 a985\n",
    "e8a5 f335 f3be 2d48 eeed d902 f248 f781\n",
    "b0c2 5ac5 57be 4198 2bcf 2cf4 8da5 7105\n",
    "1c2e 7bed 4647 3161 d374 7dbc e401 30d8\n",
    "d348 5b3e e48c 725a a144 02b3 0db4 b5be\n",
    "dbb3 b522 cc78 eaac ad87 bc37 4a7a 216a\n",
    "7649 eb54 1c56 0c2e 69d4 ec90 6c7e df2a\n",
    "5fe0 96e2 b06c 85f9 f6dc 05e7 edb4 b4ff\n",
    "9ff5 fcf3 c67a ce34 054d 998f 3710 098c\n",
    "2de9 9f03 14e5 7ac8 dd56 24be 33c5 e937\n",
    "8441 443b f846 b576 4ef5 26f8 d8e7 4492\n",
    "886b 51ee 4151 ccb5 3535 8b64 38e8 7e59\n",
    "0083 04e4 0b5a b86c 5326 d86c bded 9800\n",
    "e079 9e2b 4814 1338 c539 c199 a4ed 9970\n",
    "9fa4 6f48 dd51 8612 f8fd 7961 9372 a6b1\n",
    "40fd dafb 0a0e ced1 949a 95ff 8b88 617f\n",
    "28a3 b365 45f1 b919 cb85 927d ed49 e59c\n",
    "9759 a67e 760b 9564 9de2 fc55 e77c 8af0\n",
    "6eaf fddd 9bf2 eef0 0a56 8d1d 2a9d 139d\n",
    "94fa f172 8c71 58a3 02a8 40dd eaa3 2353\n",
    "024a 9582 9ec0 69e6 2967 bedb eb0a 54a3\n",
    "eee8 843e 4e56 ae76 2f32 b9b4 c1bf 88fc\n",
    "d064 24be 3024 9c34 fef6 f82d a029 0bc5\n",
    "125b d787 ffdf 530c 7efa 1f96 745e 726e\n",
    "0e3a f994 3153 716b 300a 4af1 ee8e a981\n",
    "28c7 a771 455f 5ab9 f01b e400 ad33 22ff\n",
    "2739 7185 76d5 4f5e 9a20 022b 5331 8c63\n",
    "aabf 13d2 2f06 3438 ce5c 1599 7fff ed61\n",
    "428f 8304 91cb b4b4 996c d192 2289 2fe0\n",
    "5065 facf e563 fe63 9ea9 782b 68f6 c539\n",
    "6dad 14f6 d602 61d3 ed93 b565 1830 e9a3\n",
    "61e2 3d5b 0ae7 c6d2 5f2f 21a7 f233 177b\n",
    "a95a 1d9d 7b63 18a1 c627 d03f ed41 25ca\n",
    "94f5 a15c 1818 bbed d68c c6bd 81de 08af\n",
    "c891 12fa 50f6 e2c7 ad40 4af3 148a 821c\n",
    "566f eb9a 8cfc c7fd 94c5 f527 c5e5 b616\n",
    "9c08 61e0 f9a2 42a3 95f8 731a be60 5a5b\n",
    "bf37 000d 0a70 f3cf e63d f4bb 3d0a 74dd\n",
    "e411 15b8 1470 bb7d a56b 27dd cc33 1206\n",
    "3330 c9e8 9e3c 3dd2 3004 df14 6568 c72a\n",
    "28cd a290 f665 2b02 f9d3 1ff3 21d7 8fc8\n",
    "2d11 06f5 2357 f5be 3e41 18e0 3a26 7145\n",
    "75a6 349f dae5 8370 28b8 7cbe 28df 4472\n",
    "47c8 be1f 0a0d 9bc8 d6ec 7cc4 07eb c18e\n",
    "03c3 4756 6d6a 047b d4e1 e9fe 8b18 997b\n",
    "584e 5265 cc21 9aec 0d0f ce3b 4624 93f6\n",
    "d9a3 6b8a e8ed 2035 f42f aea6 10bb 7566\n",
    "192a 595f bdec dbfe 9240 4c55 baf9 9df7\n",
    "9308 b4a3 73c0 93b5 66e5 14c1 67e4 ef1c\n",
    "aabb 58eb 8e84 5fa2 9101 d6e9 8c64 4809\n",
    "b40a 118b aeed d359 b3c0 28de 7e19 8049\n",
    "fbf2 9b24 667f bcf2 da7e 2a69 ebd3 93c9\n",
    "c6fd 85d3 8c1e 4c23 1bd3 5526 e6e3 3ea4\n",
    "ce49 f2f8 d586 30aa e7b3 aeef 58bc 0a2d\n",
    "6864 6b2e de2b dd16 3d08 5387 0380 e3d9\n",
    "d699 d038 128b e245 dae0 d191 f2bd 926e\n",
    "ffe0 e49e f48c e6e2 88aa a5ed 21a7 8564\n",
    "e471 d0aa e237 172d 7b08 05c9 12d6 9008\n",
    "737d bfda b7ce 47ff 44de 9eca bfc1 6399\n",
    "a616 5054 d9f7 f8ff ebc3 508b 8ca4 79d6\n",
    "8f56 2f8f f4fb 7c88 3506 31f5 37d3 7b96\n",
    "0acb 7cc9 c4b9 30de e909 2a3b b731 ff48\n",
    "afb9 5819 bba7 fcde 86b7 1cfa 8636 e023\n",
    "f793 a11f 38ad 9776 d2b6 436d 0a2a b544\n",
    "3ad5 b712 ae38 47c8 d984 a9e4 9027 1d84\n",
    "36b7 35bf 9fd2 e5ad efac ed1b 9b46 6f1b\n",
    "5b1d 3e20 bfbc 7ac9 26e7 b836 4555 2ab6\n",
    "23f3 3563 30a9 6037 8469 e214 b27c cd3b\n",
    "a3b3 3ad5 e859 5103 0ae2 eb94 1fa9 11f7\n",
    "d217 23d2 a2ac 8a03 c9eb 9bad 8d3b 9a64\n",
    "c8df fcdc cfa4 f1d0 cc41 f807 5d54 aad8\n",
    "03ef e939 f132 e754 2c64 b041 387e 7f04\n",
    "0e94 ad80 3e77 f798 08ed bb64 ba6d a103\n",
    "acac 8789 a134 1259 5775 b8f3 1868 f00a\n",
    "4ea4 0bf4 c74a 914b 9a8e aa20 040c 7ed2\n",
    "de73 8d33 89c1 6dde 0a0a 9783 ffae 0b05\n",
    "5e8f 5ce2 5eea a219 76a7 cb9b ce5f 87e1\n",
    "9262 be64 2a6e fc14 bc6c a2e7 b4b4 c485\n",
    "b50d 2f5e c1a2 9eca e9f5 9f12 f712 5d88\n",
    "9199 a5f2 3afd be1e a6f9 3b69 1bff e6a1\n",
    "3ec0 923b 59fa 8570 5065 9516 45ac df5b\n",
    "4c5b ed97 a75d e6d4 831d 5d43 3cd6 c2a8\n",
    "ffd2 fef3 4bf6 f56e 28b8 0c99 a4b6 162e\n",
    "b262 6253 0731 04f1 22fa 703f 3576 eb61\n",
    "6828 13a7 c7e3 364f 02c2 f3c8 060b 3be0\n",
    "d3b5 c12f 1a84 8723 7e0c 062d 8afd 8d6b\n",
    "734b 5e7f d0b8 c765 5def 4b6d f954 f692\n",
    "a270 9f16 0321 6eaf f141 d88f a82b 69e0\n",
    "778e c5ee 6801 a107 8adc 092f bf2a fe5f\n",
    "2e28 31dc c88e 32bc 4c9d 4e3d 2704 0f45\n",
    "34cc 0b24 3509 d1f0 df6b 9d50 685b 0173\n",
    "f1d8 4761 041f 82cc 0343 4728 9690 e22a\n",
    "0195 3378 2cde e9c8 1a09 ce64 67d7 7e3d\n",
    "dd9f 166b a3bf 041f 7863 5ba2 72be e55a\n",
    "d130 a6c5 60a8 c1de ba8d 5684 57d6 e73d\n",
    "bcd0 bf04 bdf6 2ee7 e31b 0dd2 be36 d869\n",
    "c0e1 e8ee 36d9 318b e64a c4be 4862 aeeb\n",
    "2ac4 e2ba c028 fecb 322f 6240 a54c af4b\n",
    "ac10 082f 4b2c 6efe a611 d36e d5d1 aecf\n",
    "f29f 00e6 659e fcee 43a2 4a05 7508 ef79\n",
    "0987 4270 ff06 e1b5 53f5 d227 a088 189e\n",
    "23b0 0620 4343'>\n",
    "\n",
    "# 왜안돼.. 몰라 걍 이런게 있다.."
   ]
  },
  {
   "cell_type": "code",
   "execution_count": null,
   "metadata": {},
   "outputs": [],
   "source": [
    "open('hello.txt','r',encoding='utf-8')"
   ]
  },
  {
   "cell_type": "markdown",
   "metadata": {},
   "source": [
    "| 파일 모드 \t| 기능 \t| 설명 \t|\n",
    "|-----------\t|------------------------\t|-------------------------------------------------------------------------------------------------------------------------------------------\t|\n",
    "| r \t| 읽기 전용 \t| 파일을 읽기 전용으로 열기. 단, 파일이 반드시 있어야 하며 파일이 없으면 에러 발생 \t|\n",
    "| w \t| 쓰기 전용 \t| 쓰기 전용으로 새 파일을 생성. 만약 파일이 있으면 내용을 덮어씀 \t|\n",
    "| a \t| 추가 \t| 파일을 열어 파일 끝에 값을 이어 씀. 만약 파일이 없으면 파일을 생성 \t|\n",
    "| x \t| 배타적 생성(쓰기) \t| 파일을 쓰기 모드로 생성. 파일이 이미 있으면 에러 발생 \t|\n",
    "| r+ \t| 읽기/쓰기 \t| 파일을 읽기/쓰기용으로 열기. 단, 파일이 반드시 있어야 하며 파일이 없으면 에러 발생 \t|\n",
    "| w+ \t| 읽기/쓰기 \t| 파일을 읽기/쓰기용으로 열기. 파일이 없으면 파일을 생성하고, 파일이 있으면 내용을 덮어씀 \t|\n",
    "| a+ \t| 추가(읽기/쓰기) \t| 파일을 열어 파일 끝에 값을 이어 씀. 만약 파일이 없으면 파일을 생성. 읽기는 파일의 모든 구간에서 가능하지만, 쓰기는 파일의 끝에서만 가능함 \t|\n",
    "| x+ \t| 배타적 생성(읽기/쓰기) \t| 파일을 읽기/쓰기 모드로 생성. 파일이 이미 있으면 에러 발생 \t|\n",
    "| t \t| 텍스트 모드 \t| 파일을 읽거나 쓸 때 개행 문자 \\n과 \\r\\n을 서로 변환 \t|\n",
    "| b \t| 바이너리 모드 \t| 파일의 내용을 그대로 읽고, 값을 그대로 씀 \t|"
   ]
  },
  {
   "cell_type": "code",
   "execution_count": 172,
   "metadata": {},
   "outputs": [
    {
     "ename": "ValueError",
     "evalue": "I/O operation on closed file.",
     "output_type": "error",
     "traceback": [
      "\u001b[1;31m---------------------------------------------------------------------------\u001b[0m",
      "\u001b[1;31mValueError\u001b[0m                                Traceback (most recent call last)",
      "\u001b[1;32m<ipython-input-172-7d2c72c1c3af>\u001b[0m in \u001b[0;36m<module>\u001b[1;34m()\u001b[0m\n\u001b[0;32m      1\u001b[0m \u001b[0mfile\u001b[0m \u001b[1;33m=\u001b[0m \u001b[0mopen\u001b[0m\u001b[1;33m(\u001b[0m\u001b[1;34m'hello2.txt'\u001b[0m\u001b[1;33m,\u001b[0m \u001b[1;34m'w'\u001b[0m\u001b[1;33m)\u001b[0m\u001b[1;33m\u001b[0m\u001b[0m\n\u001b[0;32m      2\u001b[0m \u001b[0mfile\u001b[0m\u001b[1;33m.\u001b[0m\u001b[0mclose\u001b[0m\u001b[1;33m(\u001b[0m\u001b[1;33m)\u001b[0m\u001b[1;33m\u001b[0m\u001b[0m\n\u001b[1;32m----> 3\u001b[1;33m \u001b[0mfile\u001b[0m\u001b[1;33m.\u001b[0m\u001b[0mwrite\u001b[0m\u001b[1;33m(\u001b[0m\u001b[1;34m'Hello, world!'\u001b[0m\u001b[1;33m)\u001b[0m\u001b[1;33m\u001b[0m\u001b[0m\n\u001b[0m",
      "\u001b[1;31mValueError\u001b[0m: I/O operation on closed file."
     ]
    }
   ],
   "source": [
    "file = open('hello2.txt', 'w')    \n",
    "file.close() \n",
    "file.write('Hello, world!')      "
   ]
  },
  {
   "cell_type": "code",
   "execution_count": null,
   "metadata": {},
   "outputs": [],
   "source": [
    "# with는 클로즈"
   ]
  },
  {
   "cell_type": "code",
   "execution_count": 29,
   "metadata": {},
   "outputs": [
    {
     "name": "stdout",
     "output_type": "stream",
     "text": [
      "Hello, world!\n"
     ]
    }
   ],
   "source": [
    "file = open('hello.txt', 'r')    \n",
    "s = file.read()                  \n",
    "print(s)                         \n",
    "file.close()                     "
   ]
  },
  {
   "cell_type": "code",
   "execution_count": 30,
   "metadata": {},
   "outputs": [
    {
     "ename": "ValueError",
     "evalue": "I/O operation on closed file.",
     "output_type": "error",
     "traceback": [
      "\u001b[0;31m---------------------------------------------------------------------------\u001b[0m",
      "\u001b[0;31mValueError\u001b[0m                                Traceback (most recent call last)",
      "\u001b[0;32m<ipython-input-30-8b7a8a8beac3>\u001b[0m in \u001b[0;36m<module>\u001b[0;34m()\u001b[0m\n\u001b[1;32m      1\u001b[0m \u001b[0mfile\u001b[0m \u001b[0;34m=\u001b[0m \u001b[0mopen\u001b[0m\u001b[0;34m(\u001b[0m\u001b[0;34m'hello.txt'\u001b[0m\u001b[0;34m,\u001b[0m \u001b[0;34m'r'\u001b[0m\u001b[0;34m)\u001b[0m\u001b[0;34m\u001b[0m\u001b[0m\n\u001b[1;32m      2\u001b[0m \u001b[0mfile\u001b[0m\u001b[0;34m.\u001b[0m\u001b[0mclose\u001b[0m\u001b[0;34m(\u001b[0m\u001b[0;34m)\u001b[0m\u001b[0;34m\u001b[0m\u001b[0m\n\u001b[0;32m----> 3\u001b[0;31m \u001b[0ms\u001b[0m \u001b[0;34m=\u001b[0m \u001b[0mfile\u001b[0m\u001b[0;34m.\u001b[0m\u001b[0mread\u001b[0m\u001b[0;34m(\u001b[0m\u001b[0;34m)\u001b[0m\u001b[0;34m\u001b[0m\u001b[0m\n\u001b[0m\u001b[1;32m      4\u001b[0m \u001b[0mprint\u001b[0m\u001b[0;34m(\u001b[0m\u001b[0ms\u001b[0m\u001b[0;34m)\u001b[0m\u001b[0;34m\u001b[0m\u001b[0m\n",
      "\u001b[0;31mValueError\u001b[0m: I/O operation on closed file."
     ]
    }
   ],
   "source": [
    "file = open('hello.txt', 'r')    \n",
    "file.close()                     \n",
    "s = file.read()                  \n",
    "print(s)                         "
   ]
  },
  {
   "cell_type": "code",
   "execution_count": 31,
   "metadata": {},
   "outputs": [
    {
     "name": "stderr",
     "output_type": "stream",
     "text": [
      "ERROR:root:Internal Python error in the inspect module.\n",
      "Below is the traceback from this internal error.\n",
      "\n"
     ]
    },
    {
     "name": "stdout",
     "output_type": "stream",
     "text": [
      "Traceback (most recent call last):\n",
      "  File \"/usr/local/lib/python3.6/site-packages/IPython/core/interactiveshell.py\", line 2910, in run_code\n",
      "    exec(code_obj, self.user_global_ns, self.user_ns)\n",
      "  File \"<ipython-input-31-bd12c407fa52>\", line 3, in <module>\n",
      "    files.append(open('foo.txt', 'w'))\n",
      "OSError: [Errno 24] Too many open files: 'foo.txt'\n",
      "\n",
      "During handling of the above exception, another exception occurred:\n",
      "\n",
      "Traceback (most recent call last):\n",
      "  File \"/usr/local/lib/python3.6/site-packages/IPython/core/interactiveshell.py\", line 1828, in showtraceback\n",
      "    stb = value._render_traceback_()\n",
      "AttributeError: 'OSError' object has no attribute '_render_traceback_'\n",
      "\n",
      "During handling of the above exception, another exception occurred:\n",
      "\n",
      "Traceback (most recent call last):\n",
      "  File \"/usr/local/lib/python3.6/site-packages/IPython/core/ultratb.py\", line 1090, in get_records\n",
      "  File \"/usr/local/lib/python3.6/site-packages/IPython/core/ultratb.py\", line 311, in wrapped\n",
      "  File \"/usr/local/lib/python3.6/site-packages/IPython/core/ultratb.py\", line 345, in _fixed_getinnerframes\n",
      "  File \"/usr/local/Cellar/python/3.6.4_4/Frameworks/Python.framework/Versions/3.6/lib/python3.6/inspect.py\", line 1483, in getinnerframes\n",
      "  File \"/usr/local/Cellar/python/3.6.4_4/Frameworks/Python.framework/Versions/3.6/lib/python3.6/inspect.py\", line 1441, in getframeinfo\n",
      "  File \"/usr/local/Cellar/python/3.6.4_4/Frameworks/Python.framework/Versions/3.6/lib/python3.6/inspect.py\", line 696, in getsourcefile\n",
      "  File \"/usr/local/Cellar/python/3.6.4_4/Frameworks/Python.framework/Versions/3.6/lib/python3.6/inspect.py\", line 725, in getmodule\n",
      "  File \"/usr/local/Cellar/python/3.6.4_4/Frameworks/Python.framework/Versions/3.6/lib/python3.6/inspect.py\", line 709, in getabsfile\n",
      "  File \"/usr/local/Cellar/python/3.6.4_4/Frameworks/Python.framework/Versions/3.6/lib/python3.6/posixpath.py\", line 374, in abspath\n",
      "OSError: [Errno 24] Too many open files\n"
     ]
    },
    {
     "ename": "OSError",
     "evalue": "[Errno 24] Too many open files: 'foo.txt'",
     "output_type": "error",
     "traceback": [
      "\u001b[0;31m---------------------------------------------------------------------------\u001b[0m"
     ]
    }
   ],
   "source": [
    "files = []\n",
    "for _ in range(100000):\n",
    "    files.append(open('foo.txt', 'w'))"
   ]
  },
  {
   "cell_type": "markdown",
   "metadata": {},
   "source": [
    "파이썬에는 사용이 끝난 메모리를 정리해주는 가비지 컬렉터가 있어서 파일을 닫지 않아도 가비지 컬렉터가 파일을 닫아줍니다. 하지만 프로그래머가 파일을 직접 닫아야 하는 이유는 다음과 같습니다.\n",
    "\n",
    "- 너무 많은 파일을 열어 두면 그만큼 메모리 공간을 차지하므로 성능에 영향을 줄 수 있습니다.\n",
    "- 파일을 닫지 않으면 데이터가 쓰기가 완료되지 않을 수도 있습니다. 운영체제는 파일을 처리할 때 성능을 위해서 데이터를 버퍼(임시 공간)에 저장한 뒤 파일에 씁니다. 때에 따라서는 파일이 닫히는 시점에 버퍼의 내용이 파일에 저장됩니다.\n",
    "- 이론적으로 운영체제에서 열 수 있는 파일의 개수는 한계가 있습니다.\n",
    "- 운영체제에 따라 파일을 열었을 때 파일을 잠금 상태로 처리하는 경우가 있습니다. 실질적으로 파일 처리가 끝났더라도 파일을 닫지 않으면 다른 프로그램에서 파일을 사용할 수 없는 상태가 됩니다.\n",
    "\n",
    "보통은 파일을 닫지 않아도 큰 문제가 없습니다. 하지만 실무에서는 사소한 실수로도 큰 문제가 발생하는 경우가 있으므로 파일을 정확히 닫는 습관을 기르는 것이 좋습니다."
   ]
  },
  {
   "cell_type": "code",
   "execution_count": 174,
   "metadata": {},
   "outputs": [
    {
     "name": "stdout",
     "output_type": "stream",
     "text": [
      "Writing sun.txt\n"
     ]
    }
   ],
   "source": [
    "%%writefile sun.txt\n",
    "When, in disgrace with fortune and men's eyes,\n",
    "I all alone beweep my outcast state,\n",
    "And trouble deaf heaven with my bootless cries,\n",
    "And look upon myself and curse my fate,"
   ]
  },
  {
   "cell_type": "code",
   "execution_count": 175,
   "metadata": {},
   "outputs": [],
   "source": [
    "a = open('sun.txt') # iterator"
   ]
  },
  {
   "cell_type": "code",
   "execution_count": 176,
   "metadata": {},
   "outputs": [
    {
     "data": {
      "text/plain": [
       "\"When, in disgrace with fortune and men's eyes,\\nI all alone beweep my outcast state,\\nAnd trouble deaf heaven with my bootless cries,\\nAnd look upon myself and curse my fate,\""
      ]
     },
     "execution_count": 176,
     "metadata": {},
     "output_type": "execute_result"
    }
   ],
   "source": [
    "a.read()    "
   ]
  },
  {
   "cell_type": "code",
   "execution_count": 22,
   "metadata": {},
   "outputs": [
    {
     "data": {
      "text/plain": [
       "''"
      ]
     },
     "execution_count": 22,
     "metadata": {},
     "output_type": "execute_result"
    }
   ],
   "source": [
    "a.readline()"
   ]
  },
  {
   "cell_type": "code",
   "execution_count": 18,
   "metadata": {},
   "outputs": [
    {
     "data": {
      "text/plain": [
       "['I all alone beweep my outcast state,\\n',\n",
       " 'And trouble deaf heaven with my bootless cries,\\n',\n",
       " 'And look upon myself and curse my fate,']"
      ]
     },
     "execution_count": 18,
     "metadata": {},
     "output_type": "execute_result"
    }
   ],
   "source": [
    "a.readlines()"
   ]
  },
  {
   "cell_type": "code",
   "execution_count": 23,
   "metadata": {},
   "outputs": [],
   "source": [
    "b = open('sun.txt')"
   ]
  },
  {
   "cell_type": "code",
   "execution_count": 26,
   "metadata": {},
   "outputs": [
    {
     "data": {
      "text/plain": [
       "'And trouble deaf heaven with my bootless cries,\\n'"
      ]
     },
     "execution_count": 26,
     "metadata": {},
     "output_type": "execute_result"
    }
   ],
   "source": [
    "b.readline()"
   ]
  },
  {
   "cell_type": "markdown",
   "metadata": {},
   "source": [
    "## with : 엔터랑 exit (뭐 dir해보면) 있으면 쓸수 있따"
   ]
  },
  {
   "cell_type": "code",
   "execution_count": 32,
   "metadata": {},
   "outputs": [
    {
     "name": "stdout",
     "output_type": "stream",
     "text": [
      "When, in disgrace with fortune and men's eyes,\n",
      "I all alone beweep my outcast state,\n",
      "And trouble deaf heaven with my bootless cries,\n",
      "And look upon myself and curse my fate,\n"
     ]
    }
   ],
   "source": [
    "with open('sun.txt', 'r') as file:    \n",
    "    s = file.read()                 \n",
    "    print(s)      "
   ]
  },
  {
   "cell_type": "code",
   "execution_count": 33,
   "metadata": {},
   "outputs": [],
   "source": [
    "with open('sun2.txt', 'w') as file: \n",
    "    for i in range(3):\n",
    "        file.write('Hello, world! {0}\\n'.format(i))"
   ]
  },
  {
   "cell_type": "code",
   "execution_count": 34,
   "metadata": {},
   "outputs": [],
   "source": [
    "lines = ['문근영\\n', 'only one.\\n']\n",
    " \n",
    "with open('moon.txt', 'w') as file: \n",
    "    file.writelines(lines)"
   ]
  },
  {
   "cell_type": "code",
   "execution_count": 35,
   "metadata": {},
   "outputs": [
    {
     "name": "stdout",
     "output_type": "stream",
     "text": [
      "['문근영\\n', 'only one.\\n']\n"
     ]
    }
   ],
   "source": [
    "with open('moon.txt', 'r') as file:    \n",
    "    lines = file.readlines()\n",
    "    print(lines)"
   ]
  },
  {
   "cell_type": "code",
   "execution_count": 37,
   "metadata": {},
   "outputs": [
    {
     "name": "stdout",
     "output_type": "stream",
     "text": [
      "문근영\n",
      "only one.\n",
      "\n"
     ]
    }
   ],
   "source": [
    "with open('moon.txt', 'r') as file:    \n",
    "    line = file.readline()\n",
    "    print(line.strip('\\n'))        \n",
    "    while line != '':\n",
    "        line = file.readline()\n",
    "        print(line.strip('\\n'))    "
   ]
  },
  {
   "cell_type": "code",
   "execution_count": 39,
   "metadata": {},
   "outputs": [
    {
     "name": "stdout",
     "output_type": "stream",
     "text": [
      "문근영\n",
      "only one.\n"
     ]
    }
   ],
   "source": [
    "with open('moon.txt', 'r') as file:   \n",
    "    for i in file:\n",
    "        print(i, end='')"
   ]
  },
  {
   "cell_type": "code",
   "execution_count": 41,
   "metadata": {},
   "outputs": [],
   "source": [
    "class File:\n",
    "    def __init__(self, filename, mode):\n",
    "        self.filename = filename\n",
    "        self.mode = mode\n",
    "\n",
    "    def __enter__(self):\n",
    "        self.open_file = open(self.filename, self.mode)\n",
    "        return self.open_file\n",
    "\n",
    "    def __exit__(self, *args):\n",
    "        self.open_file.close()\n",
    "\n",
    "files = []\n",
    "for _ in range(10000):\n",
    "    with File('foo.txt', 'w') as infile:\n",
    "        infile.write('foo')\n",
    "        files.append(infile)"
   ]
  },
  {
   "cell_type": "markdown",
   "metadata": {},
   "source": [
    "| 메서드 \t| 설명 \t|\n",
    "|--------------------------\t|------------------------------------------------------------------------\t|\n",
    "| read([n]) \t| 파일에서 문자열을 읽음 \t|\n",
    "| write(string or byte_string)\t| 파일에 문자열을 씀 \t|\n",
    "| readline([n]) \t| 파일의 내용을 한 줄 읽음 \t|\n",
    "| readlines() \t| 파일의 내용을 한 줄씩 읽어서 리스트로 가져옴 \t|\n",
    "| writelines(문자열리스트) \t| 파일에 리스트의 문자열을 씀, 리스트의 각 문자열에는 \\n을 붙여주어야 함 \t|"
   ]
  },
  {
   "cell_type": "markdown",
   "metadata": {},
   "source": [
    "## pickle"
   ]
  },
  {
   "cell_type": "code",
   "execution_count": 177,
   "metadata": {},
   "outputs": [],
   "source": [
    "name = '문근영'\n",
    "scores = {'korean': 90, 'english': 95, 'mathematics': 85, 'science': 82}"
   ]
  },
  {
   "cell_type": "code",
   "execution_count": 178,
   "metadata": {},
   "outputs": [],
   "source": [
    "import pickle"
   ]
  },
  {
   "cell_type": "code",
   "execution_count": 179,
   "metadata": {},
   "outputs": [],
   "source": [
    "with open('moon.pickle', 'wb') as file:    # 확장자 마음대로\n",
    "    pickle.dump(name, file)\n",
    "    pickle.dump(scores, file)"
   ]
  },
  {
   "cell_type": "code",
   "execution_count": 182,
   "metadata": {},
   "outputs": [
    {
     "name": "stdout",
     "output_type": "stream",
     "text": [
      "문근영\n",
      "<class 'str'>\n",
      "{'korean': 90, 'english': 95, 'mathematics': 85, 'science': 82}\n",
      "<class 'dict'>\n"
     ]
    }
   ],
   "source": [
    "with open('moon.pickle', 'rb') as file:    \n",
    "    name = pickle.load(file)\n",
    "    scores = pickle.load(file)\n",
    "    print(name)\n",
    "    print(type(name))\n",
    "    print(scores)\n",
    "    print(type(scores))\n",
    "    \n",
    "# 뭐 이런걸 객체 직렬화, 자바에서 Serializalbe 이거랑 똑같은 거란다"
   ]
  },
  {
   "cell_type": "code",
   "execution_count": 47,
   "metadata": {},
   "outputs": [
    {
     "name": "stdout",
     "output_type": "stream",
     "text": [
      "{'korean': 90, 'english': 95, 'mathematics': 85, 'science': 82}\n",
      "문근영\n"
     ]
    }
   ],
   "source": [
    "with open('moon.pickle', 'rb') as file:    \n",
    "    scores = pickle.load(file)\n",
    "    name = pickle.load(file)\n",
    "    print(name)\n",
    "    print(scores)"
   ]
  },
  {
   "cell_type": "code",
   "execution_count": 48,
   "metadata": {},
   "outputs": [
    {
     "name": "stdout",
     "output_type": "stream",
     "text": [
      "{'korean': 90, 'english': 95, 'mathematics': 85, 'science': 82}\n"
     ]
    }
   ],
   "source": [
    "with open('moon.pickle', 'rb') as file:    \n",
    "    scores = pickle.load(file)\n",
    "    print(name)"
   ]
  },
  {
   "cell_type": "markdown",
   "metadata": {},
   "source": [
    "| 메서드 \t| 설명 \t|\n",
    "|-----------------------------\t|-----------------------------\t|\n",
    "| pickle.load(파일객체) \t| 파일에서 파이썬 객체를 읽음 \t|\n",
    "| pickle.dump(객체, 파일객체) \t| 파일에 파이썬 객체를 저장 \t|"
   ]
  },
  {
   "cell_type": "code",
   "execution_count": 3,
   "metadata": {},
   "outputs": [
    {
     "name": "stdout",
     "output_type": "stream",
     "text": [
      "b'\\x80\\x03]q\\x00(X\\x0f\\x00\\x00\\x00write blog postq\\x01X\\x0e\\x00\\x00\\x00reply to emailq\\x02X\\x0e\\x00\\x00\\x00read in a bookq\\x03e.'\n"
     ]
    }
   ],
   "source": [
    "todo = ['write blog post', 'reply to email', 'read in a book']\n",
    "pickled_data = pickle.dumps(todo)\n",
    "print(pickled_data)"
   ]
  },
  {
   "cell_type": "code",
   "execution_count": 4,
   "metadata": {},
   "outputs": [],
   "source": [
    "restored_data = pickle.loads(pickled_data)"
   ]
  },
  {
   "cell_type": "code",
   "execution_count": 5,
   "metadata": {},
   "outputs": [
    {
     "data": {
      "text/plain": [
       "['write blog post', 'reply to email', 'read in a book']"
      ]
     },
     "execution_count": 5,
     "metadata": {},
     "output_type": "execute_result"
    }
   ],
   "source": [
    "restored_data"
   ]
  },
  {
   "cell_type": "code",
   "execution_count": 7,
   "metadata": {},
   "outputs": [],
   "source": [
    "import pickle\n",
    " \n",
    "name = 'Abder'\n",
    "website = 'http://abder.io'\n",
    "english_french = {'paper':'papier', 'pen':'stylo', 'car':'voiture'} # dictionary\n",
    "tup = (31,'abder',4.0) # tuple\n",
    " \n",
    "pickled_file = open('pickled_file.pickle', 'wb')\n",
    "pickle.dump(name, pickled_file)\n",
    "pickle.dump(website, pickled_file)\n",
    "pickle.dump(english_french, pickled_file)\n",
    "pickle.dump(tup, pickled_file)"
   ]
  },
  {
   "cell_type": "code",
   "execution_count": 20,
   "metadata": {},
   "outputs": [],
   "source": [
    "from pickle import Pickler\n",
    " \n",
    "name = 'Abder'\n",
    "website = 'http://abder.io'\n",
    "english_french = {'paper':'papier', 'pen':'stylo', 'car':'voiture'} # dictionary\n",
    "tup = (31,'abder',4.0) # tuple\n",
    " \n",
    "pickled_file = open('pickled_file.pickle', 'wb')\n",
    "p = Pickler(pickled_file)\n",
    "p.dump(name); p.dump(website); p.dump(english_french); p.dump(tup)\n",
    "pickled_file.close()"
   ]
  },
  {
   "cell_type": "code",
   "execution_count": 21,
   "metadata": {},
   "outputs": [
    {
     "name": "stdout",
     "output_type": "stream",
     "text": [
      "Name: \n",
      "Abder\n",
      "Website:\n",
      "http://abder.io\n",
      "Englsh to French:\n",
      "{'paper': 'papier', 'pen': 'stylo', 'car': 'voiture'}\n",
      "Tuple data:\n",
      "(31, 'abder', 4.0)\n"
     ]
    }
   ],
   "source": [
    "import pickle\n",
    " \n",
    "pickled_file = open('pickled_file.pickle', 'rb')\n",
    " \n",
    "name = pickle.load(pickled_file)\n",
    "website = pickle.load(pickled_file)\n",
    "english_french = pickle.load(pickled_file)\n",
    "tup = pickle.load(pickled_file)\n",
    " \n",
    "print('Name: ')\n",
    "print(name)\n",
    "print('Website:')\n",
    "print(website)\n",
    "print('Englsh to French:')\n",
    "print(english_french)\n",
    "print('Tuple data:')\n",
    "print(tup)"
   ]
  },
  {
   "cell_type": "code",
   "execution_count": 17,
   "metadata": {},
   "outputs": [
    {
     "name": "stdout",
     "output_type": "stream",
     "text": [
      "Name: \n",
      "Abder\n",
      "Website:\n",
      "http://abder.io\n",
      "English to French:\n",
      "{'paper': 'papier', 'pen': 'stylo', 'car': 'voiture'}\n",
      "Tuple data:\n",
      "(31, 'abder', 4.0)\n"
     ]
    }
   ],
   "source": [
    "from pickle import Unpickler\n",
    " \n",
    "pickled_file = open('pickled_file.pickle', 'rb')\n",
    "u = Unpickler(pickled_file)\n",
    "name = u.load(); website = u.load(); english_french = u.load(); tup = u.load()\n",
    " \n",
    "print('Name: ')\n",
    "print(name)\n",
    "print('Website:')\n",
    "print(website)\n",
    "print('English to French:')\n",
    "print(english_french)\n",
    "print('Tuple data:')\n",
    "print(tup)"
   ]
  },
  {
   "cell_type": "markdown",
   "metadata": {},
   "source": [
    "# 과제 : 이미지 크롤링.. 르누아르, 샤갈 유명한 화가들 작품 + sqlite로 데이터 넣기 + 이미지 저장(base64로..blob말고)\n",
    "* 사이트 정하고 몽고 디비로 해도되고"
   ]
  },
  {
   "cell_type": "code",
   "execution_count": 184,
   "metadata": {},
   "outputs": [],
   "source": [
    "import base64"
   ]
  },
  {
   "cell_type": "code",
   "execution_count": 186,
   "metadata": {},
   "outputs": [],
   "source": [
    "data = open(\"wt.jpg\",'rb')"
   ]
  },
  {
   "cell_type": "code",
   "execution_count": 187,
   "metadata": {},
   "outputs": [
    {
     "ename": "TypeError",
     "evalue": "expected bytes-like object, not BufferedReader",
     "output_type": "error",
     "traceback": [
      "\u001b[1;31m---------------------------------------------------------------------------\u001b[0m",
      "\u001b[1;31mTypeError\u001b[0m                                 Traceback (most recent call last)",
      "\u001b[1;32m~\\Anaconda3\\lib\\base64.py\u001b[0m in \u001b[0;36m_input_type_check\u001b[1;34m(s)\u001b[0m\n\u001b[0;32m    516\u001b[0m     \u001b[1;32mtry\u001b[0m\u001b[1;33m:\u001b[0m\u001b[1;33m\u001b[0m\u001b[0m\n\u001b[1;32m--> 517\u001b[1;33m         \u001b[0mm\u001b[0m \u001b[1;33m=\u001b[0m \u001b[0mmemoryview\u001b[0m\u001b[1;33m(\u001b[0m\u001b[0ms\u001b[0m\u001b[1;33m)\u001b[0m\u001b[1;33m\u001b[0m\u001b[0m\n\u001b[0m\u001b[0;32m    518\u001b[0m     \u001b[1;32mexcept\u001b[0m \u001b[0mTypeError\u001b[0m \u001b[1;32mas\u001b[0m \u001b[0merr\u001b[0m\u001b[1;33m:\u001b[0m\u001b[1;33m\u001b[0m\u001b[0m\n",
      "\u001b[1;31mTypeError\u001b[0m: memoryview: a bytes-like object is required, not '_io.BufferedReader'",
      "\nThe above exception was the direct cause of the following exception:\n",
      "\u001b[1;31mTypeError\u001b[0m                                 Traceback (most recent call last)",
      "\u001b[1;32m<ipython-input-187-3f7572c3d485>\u001b[0m in \u001b[0;36m<module>\u001b[1;34m()\u001b[0m\n\u001b[1;32m----> 1\u001b[1;33m \u001b[0mdata2\u001b[0m \u001b[1;33m=\u001b[0m \u001b[0mbase64\u001b[0m\u001b[1;33m.\u001b[0m\u001b[0mencodebytes\u001b[0m\u001b[1;33m(\u001b[0m\u001b[0mdata\u001b[0m\u001b[1;33m)\u001b[0m\u001b[1;33m\u001b[0m\u001b[0m\n\u001b[0m",
      "\u001b[1;32m~\\Anaconda3\\lib\\base64.py\u001b[0m in \u001b[0;36mencodebytes\u001b[1;34m(s)\u001b[0m\n\u001b[0;32m    532\u001b[0m     \"\"\"Encode a bytestring into a bytes object containing multiple lines\n\u001b[0;32m    533\u001b[0m     of base-64 data.\"\"\"\n\u001b[1;32m--> 534\u001b[1;33m     \u001b[0m_input_type_check\u001b[0m\u001b[1;33m(\u001b[0m\u001b[0ms\u001b[0m\u001b[1;33m)\u001b[0m\u001b[1;33m\u001b[0m\u001b[0m\n\u001b[0m\u001b[0;32m    535\u001b[0m     \u001b[0mpieces\u001b[0m \u001b[1;33m=\u001b[0m \u001b[1;33m[\u001b[0m\u001b[1;33m]\u001b[0m\u001b[1;33m\u001b[0m\u001b[0m\n\u001b[0;32m    536\u001b[0m     \u001b[1;32mfor\u001b[0m \u001b[0mi\u001b[0m \u001b[1;32min\u001b[0m \u001b[0mrange\u001b[0m\u001b[1;33m(\u001b[0m\u001b[1;36m0\u001b[0m\u001b[1;33m,\u001b[0m \u001b[0mlen\u001b[0m\u001b[1;33m(\u001b[0m\u001b[0ms\u001b[0m\u001b[1;33m)\u001b[0m\u001b[1;33m,\u001b[0m \u001b[0mMAXBINSIZE\u001b[0m\u001b[1;33m)\u001b[0m\u001b[1;33m:\u001b[0m\u001b[1;33m\u001b[0m\u001b[0m\n",
      "\u001b[1;32m~\\Anaconda3\\lib\\base64.py\u001b[0m in \u001b[0;36m_input_type_check\u001b[1;34m(s)\u001b[0m\n\u001b[0;32m    518\u001b[0m     \u001b[1;32mexcept\u001b[0m \u001b[0mTypeError\u001b[0m \u001b[1;32mas\u001b[0m \u001b[0merr\u001b[0m\u001b[1;33m:\u001b[0m\u001b[1;33m\u001b[0m\u001b[0m\n\u001b[0;32m    519\u001b[0m         \u001b[0mmsg\u001b[0m \u001b[1;33m=\u001b[0m \u001b[1;34m\"expected bytes-like object, not %s\"\u001b[0m \u001b[1;33m%\u001b[0m \u001b[0ms\u001b[0m\u001b[1;33m.\u001b[0m\u001b[0m__class__\u001b[0m\u001b[1;33m.\u001b[0m\u001b[0m__name__\u001b[0m\u001b[1;33m\u001b[0m\u001b[0m\n\u001b[1;32m--> 520\u001b[1;33m         \u001b[1;32mraise\u001b[0m \u001b[0mTypeError\u001b[0m\u001b[1;33m(\u001b[0m\u001b[0mmsg\u001b[0m\u001b[1;33m)\u001b[0m \u001b[1;32mfrom\u001b[0m \u001b[0merr\u001b[0m\u001b[1;33m\u001b[0m\u001b[0m\n\u001b[0m\u001b[0;32m    521\u001b[0m     \u001b[1;32mif\u001b[0m \u001b[0mm\u001b[0m\u001b[1;33m.\u001b[0m\u001b[0mformat\u001b[0m \u001b[1;32mnot\u001b[0m \u001b[1;32min\u001b[0m \u001b[1;33m(\u001b[0m\u001b[1;34m'c'\u001b[0m\u001b[1;33m,\u001b[0m \u001b[1;34m'b'\u001b[0m\u001b[1;33m,\u001b[0m \u001b[1;34m'B'\u001b[0m\u001b[1;33m)\u001b[0m\u001b[1;33m:\u001b[0m\u001b[1;33m\u001b[0m\u001b[0m\n\u001b[0;32m    522\u001b[0m         msg = (\"expected single byte elements, not %r from %s\" %\n",
      "\u001b[1;31mTypeError\u001b[0m: expected bytes-like object, not BufferedReader"
     ]
    }
   ],
   "source": [
    "data2 = base64.encodebytes(data)"
   ]
  },
  {
   "cell_type": "code",
   "execution_count": null,
   "metadata": {},
   "outputs": [],
   "source": []
  }
 ],
 "metadata": {
  "kernelspec": {
   "display_name": "Python 3",
   "language": "python",
   "name": "python3"
  },
  "language_info": {
   "codemirror_mode": {
    "name": "ipython",
    "version": 3
   },
   "file_extension": ".py",
   "mimetype": "text/x-python",
   "name": "python",
   "nbconvert_exporter": "python",
   "pygments_lexer": "ipython3",
   "version": "3.6.5"
  }
 },
 "nbformat": 4,
 "nbformat_minor": 2
}
