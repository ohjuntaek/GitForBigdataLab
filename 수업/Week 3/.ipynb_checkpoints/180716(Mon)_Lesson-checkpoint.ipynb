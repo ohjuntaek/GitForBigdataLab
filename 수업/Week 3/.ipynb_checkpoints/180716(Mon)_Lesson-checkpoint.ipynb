{
 "cells": [
  {
   "cell_type": "code",
   "execution_count": 2,
   "metadata": {},
   "outputs": [],
   "source": [
    "import urllib.request\n",
    "from lxml import etree\n",
    "\n"
   ]
  },
  {
   "cell_type": "code",
   "execution_count": 9,
   "metadata": {},
   "outputs": [],
   "source": [
    "url = \"http://openapi.airkorea.or.kr/openapi/services/rest/ArpltnInforInqireSvc/getMsrstnAcctoRltmMesureDnsty\"\n",
    "params={\n",
    "        \"serviceKey\":\"9KqjAP%2FijkI%2Br6dHmHY864VhDsniQmD49ueQBQHm1OMBb34SncJ6L46YkQIiTUvlSdsy00sPVlP1Khgo0WFhvA%3D%3D\",\n",
    "        \"numOfRows\":10,\n",
    "        \"pageNo\":1,\n",
    "        \"dataTerm\":\"daily\",\n",
    "        \"stationName\":None,\n",
    "        \"ver\":\"1.3\"\n",
    "}"
   ]
  },
  {
   "cell_type": "code",
   "execution_count": 10,
   "metadata": {},
   "outputs": [],
   "source": [
    "from urllib import parse\n",
    "params[\"serviceKey\"]=urllib.parse.unquote(params['serviceKey'])"
   ]
  },
  {
   "cell_type": "code",
   "execution_count": 11,
   "metadata": {},
   "outputs": [],
   "source": [
    "params[\"stationName\"]=\"성북구\""
   ]
  },
  {
   "cell_type": "code",
   "execution_count": 12,
   "metadata": {},
   "outputs": [
    {
     "data": {
      "text/plain": [
       "{'serviceKey': '9KqjAP/ijkI+r6dHmHY864VhDsniQmD49ueQBQHm1OMBb34SncJ6L46YkQIiTUvlSdsy00sPVlP1Khgo0WFhvA==',\n",
       " 'numOfRows': 10,\n",
       " 'pageNo': 1,\n",
       " 'dataTerm': 'daily',\n",
       " 'stationName': '성북구',\n",
       " 'ver': '1.3'}"
      ]
     },
     "execution_count": 12,
     "metadata": {},
     "output_type": "execute_result"
    }
   ],
   "source": [
    "params"
   ]
  },
  {
   "cell_type": "code",
   "execution_count": 19,
   "metadata": {},
   "outputs": [
    {
     "data": {
      "text/plain": [
       "{'serviceKey': '9KqjAP/ijkI+r6dHmHY864VhDsniQmD49ueQBQHm1OMBb34SncJ6L46YkQIiTUvlSdsy00sPVlP1Khgo0WFhvA==',\n",
       " 'numOfRows': 10,\n",
       " 'pageNo': 1,\n",
       " 'dataTerm': 'daily',\n",
       " 'stationName': '성북구',\n",
       " 'ver': '1.3'}"
      ]
     },
     "execution_count": 19,
     "metadata": {},
     "output_type": "execute_result"
    }
   ],
   "source": [
    "params"
   ]
  },
  {
   "cell_type": "code",
   "execution_count": 20,
   "metadata": {},
   "outputs": [],
   "source": [
    "params = urllib.parse.urlencode(params)"
   ]
  },
  {
   "cell_type": "code",
   "execution_count": 25,
   "metadata": {
    "collapsed": true
   },
   "outputs": [
    {
     "ename": "AttributeError",
     "evalue": "'bytes' object has no attribute 'encode'",
     "output_type": "error",
     "traceback": [
      "\u001b[1;31m---------------------------------------------------------------------------\u001b[0m",
      "\u001b[1;31mAttributeError\u001b[0m                            Traceback (most recent call last)",
      "\u001b[1;32m<ipython-input-25-4d21f6c8f863>\u001b[0m in \u001b[0;36m<module>\u001b[1;34m()\u001b[0m\n\u001b[1;32m----> 1\u001b[1;33m \u001b[0mparams\u001b[0m \u001b[1;33m=\u001b[0m \u001b[0mparams\u001b[0m\u001b[1;33m.\u001b[0m\u001b[0mencode\u001b[0m\u001b[1;33m(\u001b[0m\u001b[1;34m'utf-8'\u001b[0m\u001b[1;33m)\u001b[0m\u001b[1;33m\u001b[0m\u001b[0m\n\u001b[0m",
      "\u001b[1;31mAttributeError\u001b[0m: 'bytes' object has no attribute 'encode'"
     ]
    }
   ],
   "source": [
    "params = params.encode('utf-8')"
   ]
  },
  {
   "cell_type": "code",
   "execution_count": 26,
   "metadata": {},
   "outputs": [
    {
     "data": {
      "text/plain": [
       "bytes"
      ]
     },
     "execution_count": 26,
     "metadata": {},
     "output_type": "execute_result"
    }
   ],
   "source": [
    "type(params)"
   ]
  },
  {
   "cell_type": "code",
   "execution_count": 23,
   "metadata": {},
   "outputs": [],
   "source": [
    "req = urllib.request.Request(url, data=params)"
   ]
  },
  {
   "cell_type": "code",
   "execution_count": 24,
   "metadata": {},
   "outputs": [],
   "source": [
    "res = urllib.request.urlopen(req)"
   ]
  },
  {
   "cell_type": "code",
   "execution_count": 27,
   "metadata": {},
   "outputs": [],
   "source": [
    "resResult = res.read()"
   ]
  },
  {
   "cell_type": "code",
   "execution_count": 28,
   "metadata": {},
   "outputs": [],
   "source": [
    "xml = etree.fromstring(resResult)"
   ]
  },
  {
   "cell_type": "code",
   "execution_count": 29,
   "metadata": {},
   "outputs": [
    {
     "name": "stdout",
     "output_type": "stream",
     "text": [
      "<response>\n",
      "\t<header>\n",
      "\t\t<resultCode>00</resultCode>\n",
      "\t\t<resultMsg>NORMAL SERVICE.</resultMsg>\n",
      "\t</header>\n",
      "\t<body>\n",
      "\t\t<items>\n",
      "\t\t\t\n",
      "\t\t\t\t<item>\n",
      "\t\t\t\t\t<dataTime>2018-07-16 10:00</dataTime>\n",
      "\t\t\t\t\t\n",
      "                        <mangName>도시대기</mangName>\n",
      "                    \n",
      "\t\t\t\t\t<so2Value>0.003</so2Value>\n",
      "\t\t\t\t\t<coValue>0.5</coValue>\n",
      "\t\t\t\t\t<o3Value>0.009</o3Value>\n",
      "\t\t\t\t\t<no2Value>0.024</no2Value>\n",
      "\t\t\t\t\t<pm10Value>26</pm10Value>\n",
      "\t\t\t\t\t\n",
      "                        <pm10Value24>24</pm10Value24>\n",
      "                    \n",
      "\t\t\t\t\t\n",
      "                        <pm25Value>-</pm25Value>\n",
      "                    \n",
      "                    \n",
      "                        <pm25Value24>12</pm25Value24>\n",
      "                    \n",
      "\t\t\t\t\t<khaiValue>40</khaiValue>\n",
      "\t\t\t\t\t<khaiGrade>1</khaiGrade>\n",
      "\t\t\t\t\t<so2Grade>1</so2Grade>\n",
      "\t\t\t\t\t<coGrade>1</coGrade>\n",
      "\t\t\t\t\t<o3Grade>1</o3Grade>\n",
      "\t\t\t\t\t<no2Grade>1</no2Grade>\n",
      "\t\t\t\t\t<pm10Grade>1</pm10Grade>\n",
      "\t\t\t\t\t\n",
      "                        <pm25Grade>1</pm25Grade>\n",
      "                    \n",
      "                    \n",
      "                        <pm10Grade1h>1</pm10Grade1h>\n",
      "                        <pm25Grade1h/>\n",
      "                    \n",
      "\t\t\t\t</item>\n",
      "\t\t\t\n",
      "\t\t\t\t<item>\n",
      "\t\t\t\t\t<dataTime>2018-07-16 09:00</dataTime>\n",
      "\t\t\t\t\t\n",
      "                        <mangName>도시대기</mangName>\n",
      "                    \n",
      "\t\t\t\t\t<so2Value>0.003</so2Value>\n",
      "\t\t\t\t\t<coValue>0.5</coValue>\n",
      "\t\t\t\t\t<o3Value>0.007</o3Value>\n",
      "\t\t\t\t\t<no2Value>0.023</no2Value>\n",
      "\t\t\t\t\t<pm10Value>35</pm10Value>\n",
      "\t\t\t\t\t\n",
      "                        <pm10Value24>23</pm10Value24>\n",
      "                    \n",
      "\t\t\t\t\t\n",
      "                        <pm25Value>11</pm25Value>\n",
      "                    \n",
      "                    \n",
      "                        <pm25Value24>12</pm25Value24>\n",
      "                    \n",
      "\t\t\t\t\t<khaiValue>40</khaiValue>\n",
      "\t\t\t\t\t<khaiGrade>1</khaiGrade>\n",
      "\t\t\t\t\t<so2Grade>1</so2Grade>\n",
      "\t\t\t\t\t<coGrade>1</coGrade>\n",
      "\t\t\t\t\t<o3Grade>1</o3Grade>\n",
      "\t\t\t\t\t<no2Grade>1</no2Grade>\n",
      "\t\t\t\t\t<pm10Grade>1</pm10Grade>\n",
      "\t\t\t\t\t\n",
      "                        <pm25Grade>1</pm25Grade>\n",
      "                    \n",
      "                    \n",
      "                        <pm10Grade1h>2</pm10Grade1h>\n",
      "                        <pm25Grade1h>1</pm25Grade1h>\n",
      "                    \n",
      "\t\t\t\t</item>\n",
      "\t\t\t\n",
      "\t\t\t\t<item>\n",
      "\t\t\t\t\t<dataTime>2018-07-16 08:00</dataTime>\n",
      "\t\t\t\t\t\n",
      "                        <mangName>도시대기</mangName>\n",
      "                    \n",
      "\t\t\t\t\t<so2Value>0.003</so2Value>\n",
      "\t\t\t\t\t<coValue>0.5</coValue>\n",
      "\t\t\t\t\t<o3Value>0.004</o3Value>\n",
      "\t\t\t\t\t<no2Value>0.019</no2Value>\n",
      "\t\t\t\t\t<pm10Value>23</pm10Value>\n",
      "\t\t\t\t\t\n",
      "                        <pm10Value24>20</pm10Value24>\n",
      "                    \n",
      "\t\t\t\t\t\n",
      "                        <pm25Value>12</pm25Value>\n",
      "                    \n",
      "                    \n",
      "                        <pm25Value24>12</pm25Value24>\n",
      "                    \n",
      "\t\t\t\t\t<khaiValue>40</khaiValue>\n",
      "\t\t\t\t\t<khaiGrade>1</khaiGrade>\n",
      "\t\t\t\t\t<so2Grade>1</so2Grade>\n",
      "\t\t\t\t\t<coGrade>1</coGrade>\n",
      "\t\t\t\t\t<o3Grade>1</o3Grade>\n",
      "\t\t\t\t\t<no2Grade>1</no2Grade>\n",
      "\t\t\t\t\t<pm10Grade>1</pm10Grade>\n",
      "\t\t\t\t\t\n",
      "                        <pm25Grade>1</pm25Grade>\n",
      "                    \n",
      "                    \n",
      "                        <pm10Grade1h>1</pm10Grade1h>\n",
      "                        <pm25Grade1h>1</pm25Grade1h>\n",
      "                    \n",
      "\t\t\t\t</item>\n",
      "\t\t\t\n",
      "\t\t\t\t<item>\n",
      "\t\t\t\t\t<dataTime>2018-07-16 07:00</dataTime>\n",
      "\t\t\t\t\t\n",
      "                        <mangName>도시대기</mangName>\n",
      "                    \n",
      "\t\t\t\t\t<so2Value>0.002</so2Value>\n",
      "\t\t\t\t\t<coValue>0.6</coValue>\n",
      "\t\t\t\t\t<o3Value>0.003</o3Value>\n",
      "\t\t\t\t\t<no2Value>0.016</no2Value>\n",
      "\t\t\t\t\t<pm10Value>17</pm10Value>\n",
      "\t\t\t\t\t\n",
      "                        <pm10Value24>20</pm10Value24>\n",
      "                    \n",
      "\t\t\t\t\t\n",
      "                        <pm25Value>14</pm25Value>\n",
      "                    \n",
      "                    \n",
      "                        <pm25Value24>12</pm25Value24>\n",
      "                    \n",
      "\t\t\t\t\t<khaiValue>40</khaiValue>\n",
      "\t\t\t\t\t<khaiGrade>1</khaiGrade>\n",
      "\t\t\t\t\t<so2Grade>1</so2Grade>\n",
      "\t\t\t\t\t<coGrade>1</coGrade>\n",
      "\t\t\t\t\t<o3Grade>1</o3Grade>\n",
      "\t\t\t\t\t<no2Grade>1</no2Grade>\n",
      "\t\t\t\t\t<pm10Grade>1</pm10Grade>\n",
      "\t\t\t\t\t\n",
      "                        <pm25Grade>1</pm25Grade>\n",
      "                    \n",
      "                    \n",
      "                        <pm10Grade1h>1</pm10Grade1h>\n",
      "                        <pm25Grade1h>1</pm25Grade1h>\n",
      "                    \n",
      "\t\t\t\t</item>\n",
      "\t\t\t\n",
      "\t\t\t\t<item>\n",
      "\t\t\t\t\t<dataTime>2018-07-16 06:00</dataTime>\n",
      "\t\t\t\t\t\n",
      "                        <mangName>도시대기</mangName>\n",
      "                    \n",
      "\t\t\t\t\t<so2Value>0.002</so2Value>\n",
      "\t\t\t\t\t<coValue>0.4</coValue>\n",
      "\t\t\t\t\t<o3Value>0.003</o3Value>\n",
      "\t\t\t\t\t<no2Value>0.013</no2Value>\n",
      "\t\t\t\t\t<pm10Value>22</pm10Value>\n",
      "\t\t\t\t\t\n",
      "                        <pm10Value24>21</pm10Value24>\n",
      "                    \n",
      "\t\t\t\t\t\n",
      "                        <pm25Value>8</pm25Value>\n",
      "                    \n",
      "                    \n",
      "                        <pm25Value24>13</pm25Value24>\n",
      "                    \n",
      "\t\t\t\t\t<khaiValue>43</khaiValue>\n",
      "\t\t\t\t\t<khaiGrade>1</khaiGrade>\n",
      "\t\t\t\t\t<so2Grade>1</so2Grade>\n",
      "\t\t\t\t\t<coGrade>1</coGrade>\n",
      "\t\t\t\t\t<o3Grade>1</o3Grade>\n",
      "\t\t\t\t\t<no2Grade>1</no2Grade>\n",
      "\t\t\t\t\t<pm10Grade>1</pm10Grade>\n",
      "\t\t\t\t\t\n",
      "                        <pm25Grade>1</pm25Grade>\n",
      "                    \n",
      "                    \n",
      "                        <pm10Grade1h>1</pm10Grade1h>\n",
      "                        <pm25Grade1h>1</pm25Grade1h>\n",
      "                    \n",
      "\t\t\t\t</item>\n",
      "\t\t\t\n",
      "\t\t\t\t<item>\n",
      "\t\t\t\t\t<dataTime>2018-07-16 05:00</dataTime>\n",
      "\t\t\t\t\t\n",
      "                        <mangName>도시대기</mangName>\n",
      "                    \n",
      "\t\t\t\t\t<so2Value>0.002</so2Value>\n",
      "\t\t\t\t\t<coValue>0.4</coValue>\n",
      "\t\t\t\t\t<o3Value>0.006</o3Value>\n",
      "\t\t\t\t\t<no2Value>0.008</no2Value>\n",
      "\t\t\t\t\t<pm10Value>19</pm10Value>\n",
      "\t\t\t\t\t\n",
      "                        <pm10Value24>21</pm10Value24>\n",
      "                    \n",
      "\t\t\t\t\t\n",
      "                        <pm25Value>11</pm25Value>\n",
      "                    \n",
      "                    \n",
      "                        <pm25Value24>14</pm25Value24>\n",
      "                    \n",
      "\t\t\t\t\t<khaiValue>47</khaiValue>\n",
      "\t\t\t\t\t<khaiGrade>1</khaiGrade>\n",
      "\t\t\t\t\t<so2Grade>1</so2Grade>\n",
      "\t\t\t\t\t<coGrade>1</coGrade>\n",
      "\t\t\t\t\t<o3Grade>1</o3Grade>\n",
      "\t\t\t\t\t<no2Grade>1</no2Grade>\n",
      "\t\t\t\t\t<pm10Grade>1</pm10Grade>\n",
      "\t\t\t\t\t\n",
      "                        <pm25Grade>1</pm25Grade>\n",
      "                    \n",
      "                    \n",
      "                        <pm10Grade1h>1</pm10Grade1h>\n",
      "                        <pm25Grade1h>1</pm25Grade1h>\n",
      "                    \n",
      "\t\t\t\t</item>\n",
      "\t\t\t\n",
      "\t\t\t\t<item>\n",
      "\t\t\t\t\t<dataTime>2018-07-16 04:00</dataTime>\n",
      "\t\t\t\t\t\n",
      "                        <mangName>도시대기</mangName>\n",
      "                    \n",
      "\t\t\t\t\t<so2Value>0.002</so2Value>\n",
      "\t\t\t\t\t<coValue>0.4</coValue>\n",
      "\t\t\t\t\t<o3Value>0.007</o3Value>\n",
      "\t\t\t\t\t<no2Value>0.009</no2Value>\n",
      "\t\t\t\t\t<pm10Value>16</pm10Value>\n",
      "\t\t\t\t\t\n",
      "                        <pm10Value24>23</pm10Value24>\n",
      "                    \n",
      "\t\t\t\t\t\n",
      "                        <pm25Value>10</pm25Value>\n",
      "                    \n",
      "                    \n",
      "                        <pm25Value24>14</pm25Value24>\n",
      "                    \n",
      "\t\t\t\t\t<khaiValue>47</khaiValue>\n",
      "\t\t\t\t\t<khaiGrade>1</khaiGrade>\n",
      "\t\t\t\t\t<so2Grade>1</so2Grade>\n",
      "\t\t\t\t\t<coGrade>1</coGrade>\n",
      "\t\t\t\t\t<o3Grade>1</o3Grade>\n",
      "\t\t\t\t\t<no2Grade>1</no2Grade>\n",
      "\t\t\t\t\t<pm10Grade>1</pm10Grade>\n",
      "\t\t\t\t\t\n",
      "                        <pm25Grade>1</pm25Grade>\n",
      "                    \n",
      "                    \n",
      "                        <pm10Grade1h>1</pm10Grade1h>\n",
      "                        <pm25Grade1h>1</pm25Grade1h>\n",
      "                    \n",
      "\t\t\t\t</item>\n",
      "\t\t\t\n",
      "\t\t\t\t<item>\n",
      "\t\t\t\t\t<dataTime>2018-07-16 03:00</dataTime>\n",
      "\t\t\t\t\t\n",
      "                        <mangName>도시대기</mangName>\n",
      "                    \n",
      "\t\t\t\t\t<so2Value>0.003</so2Value>\n",
      "\t\t\t\t\t<coValue>0.4</coValue>\n",
      "\t\t\t\t\t<o3Value>0.006</o3Value>\n",
      "\t\t\t\t\t<no2Value>0.012</no2Value>\n",
      "\t\t\t\t\t<pm10Value>23</pm10Value>\n",
      "\t\t\t\t\t\n",
      "                        <pm10Value24>25</pm10Value24>\n",
      "                    \n",
      "\t\t\t\t\t\n",
      "                        <pm25Value>15</pm25Value>\n",
      "                    \n",
      "                    \n",
      "                        <pm25Value24>16</pm25Value24>\n",
      "                    \n",
      "\t\t\t\t\t<khaiValue>51</khaiValue>\n",
      "\t\t\t\t\t<khaiGrade>2</khaiGrade>\n",
      "\t\t\t\t\t<so2Grade>1</so2Grade>\n",
      "\t\t\t\t\t<coGrade>1</coGrade>\n",
      "\t\t\t\t\t<o3Grade>1</o3Grade>\n",
      "\t\t\t\t\t<no2Grade>1</no2Grade>\n",
      "\t\t\t\t\t<pm10Grade>1</pm10Grade>\n",
      "\t\t\t\t\t\n",
      "                        <pm25Grade>2</pm25Grade>\n",
      "                    \n",
      "                    \n",
      "                        <pm10Grade1h>1</pm10Grade1h>\n",
      "                        <pm25Grade1h>1</pm25Grade1h>\n",
      "                    \n",
      "\t\t\t\t</item>\n",
      "\t\t\t\n",
      "\t\t\t\t<item>\n",
      "\t\t\t\t\t<dataTime>2018-07-16 02:00</dataTime>\n",
      "\t\t\t\t\t\n",
      "                        <mangName>도시대기</mangName>\n",
      "                    \n",
      "\t\t\t\t\t<so2Value>0.002</so2Value>\n",
      "\t\t\t\t\t<coValue>0.4</coValue>\n",
      "\t\t\t\t\t<o3Value>0.006</o3Value>\n",
      "\t\t\t\t\t<no2Value>0.014</no2Value>\n",
      "\t\t\t\t\t<pm10Value>21</pm10Value>\n",
      "\t\t\t\t\t\n",
      "                        <pm10Value24>26</pm10Value24>\n",
      "                    \n",
      "\t\t\t\t\t\n",
      "                        <pm25Value>13</pm25Value>\n",
      "                    \n",
      "                    \n",
      "                        <pm25Value24>16</pm25Value24>\n",
      "                    \n",
      "\t\t\t\t\t<khaiValue>51</khaiValue>\n",
      "\t\t\t\t\t<khaiGrade>2</khaiGrade>\n",
      "\t\t\t\t\t<so2Grade>1</so2Grade>\n",
      "\t\t\t\t\t<coGrade>1</coGrade>\n",
      "\t\t\t\t\t<o3Grade>1</o3Grade>\n",
      "\t\t\t\t\t<no2Grade>1</no2Grade>\n",
      "\t\t\t\t\t<pm10Grade>1</pm10Grade>\n",
      "\t\t\t\t\t\n",
      "                        <pm25Grade>2</pm25Grade>\n",
      "                    \n",
      "                    \n",
      "                        <pm10Grade1h>1</pm10Grade1h>\n",
      "                        <pm25Grade1h>1</pm25Grade1h>\n",
      "                    \n",
      "\t\t\t\t</item>\n",
      "\t\t\t\n",
      "\t\t\t\t<item>\n",
      "\t\t\t\t\t<dataTime>2018-07-16 01:00</dataTime>\n",
      "\t\t\t\t\t\n",
      "                        <mangName>도시대기</mangName>\n",
      "                    \n",
      "\t\t\t\t\t<so2Value>0.003</so2Value>\n",
      "\t\t\t\t\t<coValue>0.4</coValue>\n",
      "\t\t\t\t\t<o3Value>0.006</o3Value>\n",
      "\t\t\t\t\t<no2Value>0.018</no2Value>\n",
      "\t\t\t\t\t<pm10Value>27</pm10Value>\n",
      "\t\t\t\t\t\n",
      "                        <pm10Value24>25</pm10Value24>\n",
      "                    \n",
      "\t\t\t\t\t\n",
      "                        <pm25Value>11</pm25Value>\n",
      "                    \n",
      "                    \n",
      "                        <pm25Value24>16</pm25Value24>\n",
      "                    \n",
      "\t\t\t\t\t<khaiValue>51</khaiValue>\n",
      "\t\t\t\t\t<khaiGrade>2</khaiGrade>\n",
      "\t\t\t\t\t<so2Grade>1</so2Grade>\n",
      "\t\t\t\t\t<coGrade>1</coGrade>\n",
      "\t\t\t\t\t<o3Grade>1</o3Grade>\n",
      "\t\t\t\t\t<no2Grade>1</no2Grade>\n",
      "\t\t\t\t\t<pm10Grade>1</pm10Grade>\n",
      "\t\t\t\t\t\n",
      "                        <pm25Grade>2</pm25Grade>\n",
      "                    \n",
      "                    \n",
      "                        <pm10Grade1h>1</pm10Grade1h>\n",
      "                        <pm25Grade1h>1</pm25Grade1h>\n",
      "                    \n",
      "\t\t\t\t</item>\n",
      "\t\t\t\n",
      "\t\t</items>\n",
      "\t\t\t<numOfRows>10</numOfRows>\n",
      "\t\t\t<pageNo>1</pageNo>\n",
      "\t\t\t<totalCount>23</totalCount>\n",
      "\t</body>\n",
      "</response>\n"
     ]
    }
   ],
   "source": [
    "etree.dump(xml)"
   ]
  },
  {
   "cell_type": "code",
   "execution_count": 30,
   "metadata": {},
   "outputs": [],
   "source": [
    "xmlTree = etree.ElementTree(xml)"
   ]
  },
  {
   "cell_type": "code",
   "execution_count": 31,
   "metadata": {},
   "outputs": [
    {
     "data": {
      "text/plain": [
       "lxml.etree._Element"
      ]
     },
     "execution_count": 31,
     "metadata": {},
     "output_type": "execute_result"
    }
   ],
   "source": [
    "type(xml)"
   ]
  },
  {
   "cell_type": "code",
   "execution_count": 32,
   "metadata": {},
   "outputs": [
    {
     "data": {
      "text/plain": [
       "lxml.etree._ElementTree"
      ]
     },
     "execution_count": 32,
     "metadata": {},
     "output_type": "execute_result"
    }
   ],
   "source": [
    "type(xmlTree)"
   ]
  },
  {
   "cell_type": "code",
   "execution_count": 36,
   "metadata": {},
   "outputs": [],
   "source": [
    "root = xmlTree.getroot()"
   ]
  },
  {
   "cell_type": "code",
   "execution_count": 37,
   "metadata": {},
   "outputs": [
    {
     "data": {
      "text/plain": [
       "(lxml.etree._ElementTree, lxml.etree._Element)"
      ]
     },
     "execution_count": 37,
     "metadata": {},
     "output_type": "execute_result"
    }
   ],
   "source": [
    "type(xmlTree), type(root)"
   ]
  },
  {
   "cell_type": "code",
   "execution_count": 39,
   "metadata": {},
   "outputs": [],
   "source": [
    "items = root.findall(\".//item\")"
   ]
  },
  {
   "cell_type": "code",
   "execution_count": 41,
   "metadata": {},
   "outputs": [
    {
     "name": "stdout",
     "output_type": "stream",
     "text": [
      "20\n",
      "dataTime 2018-07-16 10:00\n",
      "mangName 도시대기\n",
      "so2Value 0.003\n",
      "coValue 0.5\n",
      "o3Value 0.009\n",
      "no2Value 0.024\n",
      "pm10Value 26\n",
      "pm10Value24 24\n",
      "pm25Value -\n",
      "pm25Value24 12\n",
      "khaiValue 40\n",
      "khaiGrade 1\n",
      "so2Grade 1\n",
      "coGrade 1\n",
      "o3Grade 1\n",
      "no2Grade 1\n",
      "pm10Grade 1\n",
      "pm25Grade 1\n",
      "pm10Grade1h 1\n",
      "pm25Grade1h None\n",
      "20\n",
      "dataTime 2018-07-16 09:00\n",
      "mangName 도시대기\n",
      "so2Value 0.003\n",
      "coValue 0.5\n",
      "o3Value 0.007\n",
      "no2Value 0.023\n",
      "pm10Value 35\n",
      "pm10Value24 23\n",
      "pm25Value 11\n",
      "pm25Value24 12\n",
      "khaiValue 40\n",
      "khaiGrade 1\n",
      "so2Grade 1\n",
      "coGrade 1\n",
      "o3Grade 1\n",
      "no2Grade 1\n",
      "pm10Grade 1\n",
      "pm25Grade 1\n",
      "pm10Grade1h 2\n",
      "pm25Grade1h 1\n",
      "20\n",
      "dataTime 2018-07-16 08:00\n",
      "mangName 도시대기\n",
      "so2Value 0.003\n",
      "coValue 0.5\n",
      "o3Value 0.004\n",
      "no2Value 0.019\n",
      "pm10Value 23\n",
      "pm10Value24 20\n",
      "pm25Value 12\n",
      "pm25Value24 12\n",
      "khaiValue 40\n",
      "khaiGrade 1\n",
      "so2Grade 1\n",
      "coGrade 1\n",
      "o3Grade 1\n",
      "no2Grade 1\n",
      "pm10Grade 1\n",
      "pm25Grade 1\n",
      "pm10Grade1h 1\n",
      "pm25Grade1h 1\n",
      "20\n",
      "dataTime 2018-07-16 07:00\n",
      "mangName 도시대기\n",
      "so2Value 0.002\n",
      "coValue 0.6\n",
      "o3Value 0.003\n",
      "no2Value 0.016\n",
      "pm10Value 17\n",
      "pm10Value24 20\n",
      "pm25Value 14\n",
      "pm25Value24 12\n",
      "khaiValue 40\n",
      "khaiGrade 1\n",
      "so2Grade 1\n",
      "coGrade 1\n",
      "o3Grade 1\n",
      "no2Grade 1\n",
      "pm10Grade 1\n",
      "pm25Grade 1\n",
      "pm10Grade1h 1\n",
      "pm25Grade1h 1\n",
      "20\n",
      "dataTime 2018-07-16 06:00\n",
      "mangName 도시대기\n",
      "so2Value 0.002\n",
      "coValue 0.4\n",
      "o3Value 0.003\n",
      "no2Value 0.013\n",
      "pm10Value 22\n",
      "pm10Value24 21\n",
      "pm25Value 8\n",
      "pm25Value24 13\n",
      "khaiValue 43\n",
      "khaiGrade 1\n",
      "so2Grade 1\n",
      "coGrade 1\n",
      "o3Grade 1\n",
      "no2Grade 1\n",
      "pm10Grade 1\n",
      "pm25Grade 1\n",
      "pm10Grade1h 1\n",
      "pm25Grade1h 1\n",
      "20\n",
      "dataTime 2018-07-16 05:00\n",
      "mangName 도시대기\n",
      "so2Value 0.002\n",
      "coValue 0.4\n",
      "o3Value 0.006\n",
      "no2Value 0.008\n",
      "pm10Value 19\n",
      "pm10Value24 21\n",
      "pm25Value 11\n",
      "pm25Value24 14\n",
      "khaiValue 47\n",
      "khaiGrade 1\n",
      "so2Grade 1\n",
      "coGrade 1\n",
      "o3Grade 1\n",
      "no2Grade 1\n",
      "pm10Grade 1\n",
      "pm25Grade 1\n",
      "pm10Grade1h 1\n",
      "pm25Grade1h 1\n",
      "20\n",
      "dataTime 2018-07-16 04:00\n",
      "mangName 도시대기\n",
      "so2Value 0.002\n",
      "coValue 0.4\n",
      "o3Value 0.007\n",
      "no2Value 0.009\n",
      "pm10Value 16\n",
      "pm10Value24 23\n",
      "pm25Value 10\n",
      "pm25Value24 14\n",
      "khaiValue 47\n",
      "khaiGrade 1\n",
      "so2Grade 1\n",
      "coGrade 1\n",
      "o3Grade 1\n",
      "no2Grade 1\n",
      "pm10Grade 1\n",
      "pm25Grade 1\n",
      "pm10Grade1h 1\n",
      "pm25Grade1h 1\n",
      "20\n",
      "dataTime 2018-07-16 03:00\n",
      "mangName 도시대기\n",
      "so2Value 0.003\n",
      "coValue 0.4\n",
      "o3Value 0.006\n",
      "no2Value 0.012\n",
      "pm10Value 23\n",
      "pm10Value24 25\n",
      "pm25Value 15\n",
      "pm25Value24 16\n",
      "khaiValue 51\n",
      "khaiGrade 2\n",
      "so2Grade 1\n",
      "coGrade 1\n",
      "o3Grade 1\n",
      "no2Grade 1\n",
      "pm10Grade 1\n",
      "pm25Grade 2\n",
      "pm10Grade1h 1\n",
      "pm25Grade1h 1\n",
      "20\n",
      "dataTime 2018-07-16 02:00\n",
      "mangName 도시대기\n",
      "so2Value 0.002\n",
      "coValue 0.4\n",
      "o3Value 0.006\n",
      "no2Value 0.014\n",
      "pm10Value 21\n",
      "pm10Value24 26\n",
      "pm25Value 13\n",
      "pm25Value24 16\n",
      "khaiValue 51\n",
      "khaiGrade 2\n",
      "so2Grade 1\n",
      "coGrade 1\n",
      "o3Grade 1\n",
      "no2Grade 1\n",
      "pm10Grade 1\n",
      "pm25Grade 2\n",
      "pm10Grade1h 1\n",
      "pm25Grade1h 1\n",
      "20\n",
      "dataTime 2018-07-16 01:00\n",
      "mangName 도시대기\n",
      "so2Value 0.003\n",
      "coValue 0.4\n",
      "o3Value 0.006\n",
      "no2Value 0.018\n",
      "pm10Value 27\n",
      "pm10Value24 25\n",
      "pm25Value 11\n",
      "pm25Value24 16\n",
      "khaiValue 51\n",
      "khaiGrade 2\n",
      "so2Grade 1\n",
      "coGrade 1\n",
      "o3Grade 1\n",
      "no2Grade 1\n",
      "pm10Grade 1\n",
      "pm25Grade 2\n",
      "pm10Grade1h 1\n",
      "pm25Grade1h 1\n"
     ]
    }
   ],
   "source": [
    "for item in items:\n",
    "    print(len(item))\n",
    "    for i in range(len(item)):\n",
    "        print(item[i].tag, item[i].text)"
   ]
  },
  {
   "cell_type": "code",
   "execution_count": 42,
   "metadata": {},
   "outputs": [],
   "source": [
    "pm10List = root.findall(\".//item/pm10Value\")"
   ]
  },
  {
   "cell_type": "code",
   "execution_count": 44,
   "metadata": {},
   "outputs": [
    {
     "name": "stdout",
     "output_type": "stream",
     "text": [
      "pm10Value 26\n",
      "pm10Value 35\n",
      "pm10Value 23\n",
      "pm10Value 17\n",
      "pm10Value 22\n",
      "pm10Value 19\n",
      "pm10Value 16\n",
      "pm10Value 23\n",
      "pm10Value 21\n",
      "pm10Value 27\n"
     ]
    }
   ],
   "source": [
    "for row in pm10List:\n",
    "    print(row.tag, row.text)"
   ]
  },
  {
   "cell_type": "code",
   "execution_count": 52,
   "metadata": {},
   "outputs": [
    {
     "data": {
      "text/plain": [
       "[<Element item at 0x21e7604bb88>,\n",
       " <Element item at 0x21e76051348>,\n",
       " <Element item at 0x21e76051f88>,\n",
       " <Element item at 0x21e76051fc8>,\n",
       " <Element item at 0x21e76051c08>,\n",
       " <Element item at 0x21e7604f488>,\n",
       " <Element item at 0x21e7604f888>,\n",
       " <Element item at 0x21e7604f1c8>,\n",
       " <Element item at 0x21e7604f288>,\n",
       " <Element item at 0x21e7604f048>]"
      ]
     },
     "execution_count": 52,
     "metadata": {},
     "output_type": "execute_result"
    }
   ],
   "source": [
    "xml.cssselect(\"item\")"
   ]
  },
  {
   "cell_type": "code",
   "execution_count": 53,
   "metadata": {},
   "outputs": [],
   "source": [
    "pm10ValueList = xml.cssselect(\"item > pm10Value\")"
   ]
  },
  {
   "cell_type": "code",
   "execution_count": 54,
   "metadata": {},
   "outputs": [
    {
     "name": "stdout",
     "output_type": "stream",
     "text": [
      "pm10Value 26\n",
      "pm10Value 35\n",
      "pm10Value 23\n",
      "pm10Value 17\n",
      "pm10Value 22\n",
      "pm10Value 19\n",
      "pm10Value 16\n",
      "pm10Value 23\n",
      "pm10Value 21\n",
      "pm10Value 27\n"
     ]
    }
   ],
   "source": [
    "for row in pm10ValueList:\n",
    "    print(row.tag, row.text)"
   ]
  },
  {
   "cell_type": "markdown",
   "metadata": {},
   "source": [
    "------------------------------------"
   ]
  },
  {
   "cell_type": "code",
   "execution_count": 1,
   "metadata": {},
   "outputs": [
    {
     "ename": "ModuleNotFoundError",
     "evalue": "No module named 'builtwith'",
     "output_type": "error",
     "traceback": [
      "\u001b[1;31m---------------------------------------------------------------------------\u001b[0m",
      "\u001b[1;31mModuleNotFoundError\u001b[0m                       Traceback (most recent call last)",
      "\u001b[1;32m<ipython-input-1-8fd7509c4588>\u001b[0m in \u001b[0;36m<module>\u001b[1;34m()\u001b[0m\n\u001b[1;32m----> 1\u001b[1;33m \u001b[1;32mimport\u001b[0m \u001b[0mbuiltwith\u001b[0m\u001b[1;33m\u001b[0m\u001b[0m\n\u001b[0m",
      "\u001b[1;31mModuleNotFoundError\u001b[0m: No module named 'builtwith'"
     ]
    }
   ],
   "source": [
    "import builtwith"
   ]
  },
  {
   "cell_type": "code",
   "execution_count": 2,
   "metadata": {},
   "outputs": [
    {
     "name": "stdout",
     "output_type": "stream",
     "text": [
      "Collecting builtwith\n",
      "  Downloading https://files.pythonhosted.org/packages/9b/b8/4a320be83bb3c9c1b3ac3f9469a5d66e02918e20d226aa97a3e86bddd130/builtwith-1.3.3.tar.gz\n",
      "Requirement already satisfied: six in c:\\users\\hangs\\anaconda3\\lib\\site-packages (from builtwith) (1.11.0)\n",
      "Building wheels for collected packages: builtwith\n",
      "  Running setup.py bdist_wheel for builtwith: started\n",
      "  Running setup.py bdist_wheel for builtwith: finished with status 'done'\n",
      "  Stored in directory: C:\\Users\\hangs\\AppData\\Local\\pip\\Cache\\wheels\\2b\\00\\c2\\a96241e7fe520e75093898bf926764a924873e0304f10b2524\n",
      "Successfully built builtwith\n",
      "Installing collected packages: builtwith\n",
      "Successfully installed builtwith-1.3.3\n"
     ]
    },
    {
     "name": "stderr",
     "output_type": "stream",
     "text": [
      "distributed 1.21.8 requires msgpack, which is not installed.\n"
     ]
    }
   ],
   "source": [
    "!pip install builtwith"
   ]
  },
  {
   "cell_type": "code",
   "execution_count": 3,
   "metadata": {},
   "outputs": [],
   "source": [
    "import builtwith"
   ]
  },
  {
   "cell_type": "code",
   "execution_count": 4,
   "metadata": {},
   "outputs": [
    {
     "data": {
      "text/plain": [
       "{'web-servers': ['Google Web Server']}"
      ]
     },
     "execution_count": 4,
     "metadata": {},
     "output_type": "execute_result"
    }
   ],
   "source": [
    "builtwith.parse(\"http://google.com\")"
   ]
  },
  {
   "cell_type": "code",
   "execution_count": 7,
   "metadata": {},
   "outputs": [
    {
     "data": {
      "text/plain": [
       "{'web-servers': ['Nginx'],\n",
       " 'font-scripts': ['Google Font API'],\n",
       " 'ecommerce': ['WooCommerce'],\n",
       " 'cms': ['WordPress'],\n",
       " 'programming-languages': ['PHP'],\n",
       " 'blogs': ['PHP', 'WordPress']}"
      ]
     },
     "execution_count": 7,
     "metadata": {},
     "output_type": "execute_result"
    }
   ],
   "source": [
    "builtwith.parse(\"http://www.wordpress.com\")"
   ]
  },
  {
   "cell_type": "code",
   "execution_count": 27,
   "metadata": {},
   "outputs": [],
   "source": [
    "from urllib.request import urlopen"
   ]
  },
  {
   "cell_type": "code",
   "execution_count": 28,
   "metadata": {},
   "outputs": [],
   "source": [
    "req = urlopen(\"http://python.org\")"
   ]
  },
  {
   "cell_type": "code",
   "execution_count": 29,
   "metadata": {},
   "outputs": [
    {
     "data": {
      "text/plain": [
       "<http.client.HTTPResponse at 0x2779b34e710>"
      ]
     },
     "execution_count": 29,
     "metadata": {},
     "output_type": "execute_result"
    }
   ],
   "source": [
    "req"
   ]
  },
  {
   "cell_type": "code",
   "execution_count": 30,
   "metadata": {},
   "outputs": [
    {
     "data": {
      "text/plain": [
       "http.client.HTTPResponse"
      ]
     },
     "execution_count": 30,
     "metadata": {},
     "output_type": "execute_result"
    }
   ],
   "source": [
    "type(req)"
   ]
  },
  {
   "cell_type": "code",
   "execution_count": 32,
   "metadata": {},
   "outputs": [],
   "source": [
    "text = req.read().decode('utf-8')"
   ]
  },
  {
   "cell_type": "code",
   "execution_count": 37,
   "metadata": {},
   "outputs": [],
   "source": [
    "resp = urlopen(\"http://www.naver.com\")"
   ]
  },
  {
   "cell_type": "code",
   "execution_count": 35,
   "metadata": {},
   "outputs": [
    {
     "data": {
      "text/plain": [
       "''"
      ]
     },
     "execution_count": 35,
     "metadata": {},
     "output_type": "execute_result"
    }
   ],
   "source": [
    "resp.read().decode('utf-8')"
   ]
  },
  {
   "cell_type": "code",
   "execution_count": 41,
   "metadata": {},
   "outputs": [
    {
     "name": "stdout",
     "output_type": "stream",
     "text": [
      "403 Forbidden Date: Mon, 16 Jul 2018 04:31:25 GMT\n",
      "Content-Type: text/html; charset=UTF-8\n",
      "Transfer-Encoding: chunked\n",
      "Connection: close\n",
      "Vary: Accept-Encoding\n",
      "Set-Cookie: page_uid=T0wQFdpVuENsstMpTN0ssssssyN-064399; path=/; domain=.naver.com\n",
      "Set-Cookie: _naver_usersession_=itpre2V0IHj1s29dG/Q5yA==; path=/; expires=Mon, 16-Jul-18 04:36:25 GMT; domain=.naver.com\n",
      "X-Frame-Options: SAMEORIGIN\n",
      "X-XSS-Protection: 1; report=/p/er/post/xss\n",
      "Cache-Control: no-cache, no-store, must-revalidate, max-age=0\n",
      "Pragma: no-cache\n",
      "Vary: Accept-Encoding\n",
      "\n",
      "\n"
     ]
    }
   ],
   "source": [
    "from urllib.error import HTTPError\n",
    "\n",
    "try :\n",
    "    urlopen(\"https://search.naver.com/search.naver?where=nexearch&query=%EC%82%AC%EC%B9%B4%EA%B5%AC%EC%B9%98+%EC%BC%84%ED%83%80%EB%A1%9C&sm=top_lve&ie=utf8\")\n",
    "except HTTPError as e:\n",
    "    print(e.code, e.reason, e.headers)"
   ]
  },
  {
   "cell_type": "code",
   "execution_count": 55,
   "metadata": {},
   "outputs": [],
   "source": [
    "from urllib.request import Request\n",
    "from urllib.error import HTTPError\n",
    "\n",
    "\n",
    "def download(url, agent=\"python.bot\",num_retries=2):\n",
    "    headers = {\"User-agent\":agent}\n",
    "    req = Request(url, headers=headers)\n",
    "    try:\n",
    "        urlopen(url)\n",
    "    except HTTPError as e:\n",
    "        print(e.code, e.reason, e.headers)\n",
    "        if 500 <= e.code < 600 and num_retries > 0:\n",
    "            return downlaod(url, num_retries=num_retries-1)\n",
    "    return resp;"
   ]
  },
  {
   "cell_type": "code",
   "execution_count": 63,
   "metadata": {},
   "outputs": [
    {
     "name": "stdout",
     "output_type": "stream",
     "text": [
      "403 Forbidden Date: Mon, 16 Jul 2018 04:59:50 GMT\n",
      "Content-Type: text/html; charset=UTF-8\n",
      "Transfer-Encoding: chunked\n",
      "Connection: close\n",
      "Vary: Accept-Encoding\n",
      "Set-Cookie: page_uid=T0wEelpVuECssugG/uKssssssmN-301174; path=/; domain=.naver.com\n",
      "Set-Cookie: _naver_usersession_=x/eZ4PBH8Mo4Yb0rqpB99w==; path=/; expires=Mon, 16-Jul-18 05:04:50 GMT; domain=.naver.com\n",
      "X-Frame-Options: SAMEORIGIN\n",
      "X-XSS-Protection: 1; report=/p/er/post/xss\n",
      "Cache-Control: no-cache, no-store, must-revalidate, max-age=0\n",
      "Pragma: no-cache\n",
      "Vary: Accept-Encoding\n",
      "\n",
      "\n"
     ]
    }
   ],
   "source": [
    "agent = \"mozilla/5.0 (windows nt 10.0; win64; x64) applewebkit/537.36 (khtml, like gecko) chrome/67.0.3396.99 safari/537.36\"\n",
    "url = \"https://search.naver.com/search.naver?sm=tab_hty.top&where=nexearch&query=%EB%84%A4%EC%9D%B4%EB%B2%84+D2&oquery=%EC%82%AC%EC%B9%B4%EA%B5%AC%EC%B9%98+%EC%BC%84%ED%83%80%EB%A1%9C&tqi=T0wPmspySEKssvHbcAwssssss%2BV-271799\"\n",
    "html = download(url,agent=agent)"
   ]
  },
  {
   "cell_type": "code",
   "execution_count": 64,
   "metadata": {},
   "outputs": [
    {
     "data": {
      "text/plain": [
       "''"
      ]
     },
     "execution_count": 64,
     "metadata": {},
     "output_type": "execute_result"
    }
   ],
   "source": [
    "html.read().decode(\"utf-8\")"
   ]
  },
  {
   "cell_type": "code",
   "execution_count": null,
   "metadata": {},
   "outputs": [],
   "source": [
    "import requests\n",
    "\n",
    "\n",
    "def download(url, agent=\"python.bot\",num_retries=2):\n",
    "    headers = {\"User-agent\":agent}\n",
    "    req = requests.request(\"get\",url, headers=headers)\n",
    "    \n",
    "    if 500 <= e.code < 600 and num_retries > 0:\n",
    "        print(e.code, e.reason, e.headers)\n",
    "        return downlaod(url, num_retries=num_retries-1)\n",
    "    \n",
    "    return resp;"
   ]
  }
 ],
 "metadata": {
  "kernelspec": {
   "display_name": "Python 3",
   "language": "python",
   "name": "python3"
  },
  "language_info": {
   "codemirror_mode": {
    "name": "ipython",
    "version": 3
   },
   "file_extension": ".py",
   "mimetype": "text/x-python",
   "name": "python",
   "nbconvert_exporter": "python",
   "pygments_lexer": "ipython3",
   "version": "3.6.5"
  }
 },
 "nbformat": 4,
 "nbformat_minor": 2
}
