{
 "cells": [
  {
   "cell_type": "code",
   "execution_count": 1,
   "metadata": {},
   "outputs": [],
   "source": [
    "import sqlite3"
   ]
  },
  {
   "cell_type": "code",
   "execution_count": 2,
   "metadata": {},
   "outputs": [],
   "source": [
    "conn = sqlite3.connect(\":memory:\")"
   ]
  },
  {
   "cell_type": "code",
   "execution_count": 3,
   "metadata": {},
   "outputs": [],
   "source": [
    "cur = conn.cursor()"
   ]
  },
  {
   "cell_type": "code",
   "execution_count": 9,
   "metadata": {},
   "outputs": [
    {
     "data": {
      "text/plain": [
       "<sqlite3.Cursor at 0x1dfbaa06420>"
      ]
     },
     "execution_count": 9,
     "metadata": {},
     "output_type": "execute_result"
    }
   ],
   "source": [
    "cur.executescript(\n",
    "    \"\"\"\n",
    "        drop table artist;\n",
    "        drop table genre;\n",
    "        drop table album;\n",
    "        drop table track;\n",
    "        create table artist (\n",
    "            id integer primary key autoincrement,\n",
    "            name text\n",
    "        );\n",
    "        create table genre (\n",
    "            id integer primary key autoincrement,\n",
    "            name text\n",
    "        );\n",
    "        create table album (\n",
    "            id integer primary key autoincrement,\n",
    "            title text,\n",
    "            artist_id integer\n",
    "        );\n",
    "        create table track (\n",
    "            id integer primary key autoincrement,\n",
    "            title text,\n",
    "            length integer,\n",
    "            count integer,\n",
    "            rating integer,\n",
    "            album_id integer,\n",
    "            genre_id integer\n",
    "        );\n",
    "        insert into artist values(1, 'Led Zepplin');\n",
    "        insert into artist values(2, 'AC/DC');\n",
    "        \n",
    "        insert into genre values(1, 'Rock');\n",
    "        insert into genre values(2, 'Metal');\n",
    "    \"\"\"\n",
    ")"
   ]
  },
  {
   "cell_type": "code",
   "execution_count": 11,
   "metadata": {},
   "outputs": [
    {
     "name": "stdout",
     "output_type": "stream",
     "text": [
      "[(1, 'Led Zepplin'), (2, 'AC/DC')]\n"
     ]
    }
   ],
   "source": [
    "cur.execute(\"select * from artist\")\n",
    "print(cur.fetchall())"
   ]
  },
  {
   "cell_type": "code",
   "execution_count": 12,
   "metadata": {},
   "outputs": [
    {
     "data": {
      "text/plain": [
       "list"
      ]
     },
     "execution_count": 12,
     "metadata": {},
     "output_type": "execute_result"
    }
   ],
   "source": [
    "artist = cur.fetchall()\n",
    "type(artist)"
   ]
  },
  {
   "cell_type": "code",
   "execution_count": null,
   "metadata": {},
   "outputs": [],
   "source": []
  }
 ],
 "metadata": {
  "kernelspec": {
   "display_name": "Python 3",
   "language": "python",
   "name": "python3"
  },
  "language_info": {
   "codemirror_mode": {
    "name": "ipython",
    "version": 3
   },
   "file_extension": ".py",
   "mimetype": "text/x-python",
   "name": "python",
   "nbconvert_exporter": "python",
   "pygments_lexer": "ipython3",
   "version": "3.6.5"
  }
 },
 "nbformat": 4,
 "nbformat_minor": 2
}
