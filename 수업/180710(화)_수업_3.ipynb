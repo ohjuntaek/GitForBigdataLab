{
 "cells": [
  {
   "cell_type": "code",
   "execution_count": 10,
   "metadata": {},
   "outputs": [],
   "source": [
    "from sqlalchemy import create_engine, MetaData"
   ]
  },
  {
   "cell_type": "code",
   "execution_count": 11,
   "metadata": {},
   "outputs": [],
   "source": [
    "engine = create_engine(\"sqlite:///alchemy_core.db\",echo=True)"
   ]
  },
  {
   "cell_type": "code",
   "execution_count": 12,
   "metadata": {},
   "outputs": [
    {
     "name": "stdout",
     "output_type": "stream",
     "text": [
      "2018-07-10 16:38:20,516 INFO sqlalchemy.engine.base.Engine SELECT CAST('test plain returns' AS VARCHAR(60)) AS anon_1\n",
      "2018-07-10 16:38:20,516 INFO sqlalchemy.engine.base.Engine ()\n",
      "2018-07-10 16:38:20,518 INFO sqlalchemy.engine.base.Engine SELECT CAST('test unicode returns' AS VARCHAR(60)) AS anon_1\n",
      "2018-07-10 16:38:20,519 INFO sqlalchemy.engine.base.Engine ()\n"
     ]
    }
   ],
   "source": [
    "conn = engine.connect()"
   ]
  },
  {
   "cell_type": "code",
   "execution_count": 13,
   "metadata": {},
   "outputs": [
    {
     "name": "stdout",
     "output_type": "stream",
     "text": [
      "2018-07-10 16:38:21,487 INFO sqlalchemy.engine.base.Engine SELECT name FROM sqlite_master WHERE type='table' ORDER BY name\n",
      "2018-07-10 16:38:21,488 INFO sqlalchemy.engine.base.Engine ()\n",
      "2018-07-10 16:38:21,490 INFO sqlalchemy.engine.base.Engine PRAGMA table_info(\"Album\")\n",
      "2018-07-10 16:38:21,491 INFO sqlalchemy.engine.base.Engine ()\n",
      "2018-07-10 16:38:21,493 INFO sqlalchemy.engine.base.Engine SELECT sql FROM  (SELECT * FROM sqlite_master UNION ALL   SELECT * FROM sqlite_temp_master) WHERE name = 'Album' AND type = 'table'\n",
      "2018-07-10 16:38:21,494 INFO sqlalchemy.engine.base.Engine ()\n",
      "2018-07-10 16:38:21,496 INFO sqlalchemy.engine.base.Engine PRAGMA foreign_key_list(\"Album\")\n",
      "2018-07-10 16:38:21,497 INFO sqlalchemy.engine.base.Engine ()\n",
      "2018-07-10 16:38:21,499 INFO sqlalchemy.engine.base.Engine SELECT sql FROM  (SELECT * FROM sqlite_master UNION ALL   SELECT * FROM sqlite_temp_master) WHERE name = 'Album' AND type = 'table'\n",
      "2018-07-10 16:38:21,500 INFO sqlalchemy.engine.base.Engine ()\n",
      "2018-07-10 16:38:21,502 INFO sqlalchemy.engine.base.Engine PRAGMA table_info(\"Artist\")\n",
      "2018-07-10 16:38:21,503 INFO sqlalchemy.engine.base.Engine ()\n",
      "2018-07-10 16:38:21,505 INFO sqlalchemy.engine.base.Engine SELECT sql FROM  (SELECT * FROM sqlite_master UNION ALL   SELECT * FROM sqlite_temp_master) WHERE name = 'Artist' AND type = 'table'\n",
      "2018-07-10 16:38:21,505 INFO sqlalchemy.engine.base.Engine ()\n",
      "2018-07-10 16:38:21,507 INFO sqlalchemy.engine.base.Engine PRAGMA foreign_key_list(\"Artist\")\n",
      "2018-07-10 16:38:21,508 INFO sqlalchemy.engine.base.Engine ()\n",
      "2018-07-10 16:38:21,510 INFO sqlalchemy.engine.base.Engine SELECT sql FROM  (SELECT * FROM sqlite_master UNION ALL   SELECT * FROM sqlite_temp_master) WHERE name = 'Artist' AND type = 'table'\n",
      "2018-07-10 16:38:21,511 INFO sqlalchemy.engine.base.Engine ()\n",
      "2018-07-10 16:38:21,512 INFO sqlalchemy.engine.base.Engine PRAGMA index_list(\"Artist\")\n",
      "2018-07-10 16:38:21,513 INFO sqlalchemy.engine.base.Engine ()\n",
      "2018-07-10 16:38:21,514 INFO sqlalchemy.engine.base.Engine PRAGMA index_list(\"Artist\")\n",
      "2018-07-10 16:38:21,515 INFO sqlalchemy.engine.base.Engine ()\n",
      "2018-07-10 16:38:21,517 INFO sqlalchemy.engine.base.Engine SELECT sql FROM  (SELECT * FROM sqlite_master UNION ALL   SELECT * FROM sqlite_temp_master) WHERE name = 'Artist' AND type = 'table'\n",
      "2018-07-10 16:38:21,518 INFO sqlalchemy.engine.base.Engine ()\n",
      "2018-07-10 16:38:21,520 INFO sqlalchemy.engine.base.Engine PRAGMA index_list(\"Album\")\n",
      "2018-07-10 16:38:21,521 INFO sqlalchemy.engine.base.Engine ()\n",
      "2018-07-10 16:38:21,522 INFO sqlalchemy.engine.base.Engine PRAGMA index_list(\"Album\")\n",
      "2018-07-10 16:38:21,523 INFO sqlalchemy.engine.base.Engine ()\n",
      "2018-07-10 16:38:21,525 INFO sqlalchemy.engine.base.Engine SELECT sql FROM  (SELECT * FROM sqlite_master UNION ALL   SELECT * FROM sqlite_temp_master) WHERE name = 'Album' AND type = 'table'\n",
      "2018-07-10 16:38:21,525 INFO sqlalchemy.engine.base.Engine ()\n",
      "2018-07-10 16:38:21,527 INFO sqlalchemy.engine.base.Engine PRAGMA table_info(\"Genre\")\n",
      "2018-07-10 16:38:21,528 INFO sqlalchemy.engine.base.Engine ()\n",
      "2018-07-10 16:38:21,530 INFO sqlalchemy.engine.base.Engine SELECT sql FROM  (SELECT * FROM sqlite_master UNION ALL   SELECT * FROM sqlite_temp_master) WHERE name = 'Genre' AND type = 'table'\n",
      "2018-07-10 16:38:21,531 INFO sqlalchemy.engine.base.Engine ()\n",
      "2018-07-10 16:38:21,533 INFO sqlalchemy.engine.base.Engine PRAGMA foreign_key_list(\"Genre\")\n",
      "2018-07-10 16:38:21,534 INFO sqlalchemy.engine.base.Engine ()\n",
      "2018-07-10 16:38:21,536 INFO sqlalchemy.engine.base.Engine SELECT sql FROM  (SELECT * FROM sqlite_master UNION ALL   SELECT * FROM sqlite_temp_master) WHERE name = 'Genre' AND type = 'table'\n",
      "2018-07-10 16:38:21,537 INFO sqlalchemy.engine.base.Engine ()\n",
      "2018-07-10 16:38:21,539 INFO sqlalchemy.engine.base.Engine PRAGMA index_list(\"Genre\")\n",
      "2018-07-10 16:38:21,540 INFO sqlalchemy.engine.base.Engine ()\n",
      "2018-07-10 16:38:21,542 INFO sqlalchemy.engine.base.Engine PRAGMA index_list(\"Genre\")\n",
      "2018-07-10 16:38:21,543 INFO sqlalchemy.engine.base.Engine ()\n",
      "2018-07-10 16:38:21,545 INFO sqlalchemy.engine.base.Engine SELECT sql FROM  (SELECT * FROM sqlite_master UNION ALL   SELECT * FROM sqlite_temp_master) WHERE name = 'Genre' AND type = 'table'\n",
      "2018-07-10 16:38:21,546 INFO sqlalchemy.engine.base.Engine ()\n",
      "2018-07-10 16:38:21,548 INFO sqlalchemy.engine.base.Engine PRAGMA table_info(\"Track\")\n",
      "2018-07-10 16:38:21,553 INFO sqlalchemy.engine.base.Engine ()\n",
      "2018-07-10 16:38:21,555 INFO sqlalchemy.engine.base.Engine SELECT sql FROM  (SELECT * FROM sqlite_master UNION ALL   SELECT * FROM sqlite_temp_master) WHERE name = 'Track' AND type = 'table'\n",
      "2018-07-10 16:38:21,556 INFO sqlalchemy.engine.base.Engine ()\n",
      "2018-07-10 16:38:21,563 INFO sqlalchemy.engine.base.Engine PRAGMA foreign_key_list(\"Track\")\n",
      "2018-07-10 16:38:21,564 INFO sqlalchemy.engine.base.Engine ()\n",
      "2018-07-10 16:38:21,566 INFO sqlalchemy.engine.base.Engine SELECT sql FROM  (SELECT * FROM sqlite_master UNION ALL   SELECT * FROM sqlite_temp_master) WHERE name = 'Track' AND type = 'table'\n",
      "2018-07-10 16:38:21,567 INFO sqlalchemy.engine.base.Engine ()\n",
      "2018-07-10 16:38:21,569 INFO sqlalchemy.engine.base.Engine PRAGMA index_list(\"Track\")\n",
      "2018-07-10 16:38:21,570 INFO sqlalchemy.engine.base.Engine ()\n",
      "2018-07-10 16:38:21,572 INFO sqlalchemy.engine.base.Engine PRAGMA index_list(\"Track\")\n",
      "2018-07-10 16:38:21,573 INFO sqlalchemy.engine.base.Engine ()\n",
      "2018-07-10 16:38:21,575 INFO sqlalchemy.engine.base.Engine SELECT sql FROM  (SELECT * FROM sqlite_master UNION ALL   SELECT * FROM sqlite_temp_master) WHERE name = 'Track' AND type = 'table'\n",
      "2018-07-10 16:38:21,576 INFO sqlalchemy.engine.base.Engine ()\n"
     ]
    },
    {
     "name": "stderr",
     "output_type": "stream",
     "text": [
      "C:\\Users\\hangs\\Anaconda3\\lib\\site-packages\\ipykernel_launcher.py:1: SADeprecationWarning: reflect=True is deprecate; please use the reflect() method.\n",
      "  \"\"\"Entry point for launching an IPython kernel.\n"
     ]
    }
   ],
   "source": [
    "metadata = MetaData(bind = engine, reflect= True)"
   ]
  },
  {
   "cell_type": "code",
   "execution_count": 14,
   "metadata": {},
   "outputs": [
    {
     "name": "stdout",
     "output_type": "stream",
     "text": [
      "2018-07-10 16:38:26,444 INFO sqlalchemy.engine.base.Engine SELECT name FROM sqlite_master WHERE type='table' ORDER BY name\n",
      "2018-07-10 16:38:26,446 INFO sqlalchemy.engine.base.Engine ()\n"
     ]
    }
   ],
   "source": [
    "metadata.reflect(bind = engine)"
   ]
  },
  {
   "cell_type": "code",
   "execution_count": 15,
   "metadata": {},
   "outputs": [
    {
     "name": "stdout",
     "output_type": "stream",
     "text": [
      "Album\n",
      "Artist\n",
      "Genre\n",
      "Track\n"
     ]
    }
   ],
   "source": [
    "for row in metadata.tables:\n",
    "    print(row)"
   ]
  },
  {
   "cell_type": "code",
   "execution_count": 17,
   "metadata": {},
   "outputs": [],
   "source": [
    "album = metadata.tables[\"Album\"]"
   ]
  },
  {
   "cell_type": "code",
   "execution_count": 18,
   "metadata": {},
   "outputs": [
    {
     "name": "stdout",
     "output_type": "stream",
     "text": [
      "2018-07-10 16:38:41,584 INFO sqlalchemy.engine.base.Engine SELECT \"Album\".id, \"Album\".title, \"Album\".artist_id \n",
      "FROM \"Album\"\n",
      "2018-07-10 16:38:41,585 INFO sqlalchemy.engine.base.Engine ()\n"
     ]
    }
   ],
   "source": [
    "result = conn.execute(album.select())"
   ]
  },
  {
   "cell_type": "code",
   "execution_count": 19,
   "metadata": {},
   "outputs": [
    {
     "name": "stdout",
     "output_type": "stream",
     "text": [
      "(1, 'IV', 1)\n",
      "(2, 'Who Made Who', 2)\n"
     ]
    }
   ],
   "source": [
    "for row in result:\n",
    "    print(row)"
   ]
  },
  {
   "cell_type": "markdown",
   "metadata": {},
   "source": [
    "# 이제 진짜 ORM Practical Using"
   ]
  },
  {
   "cell_type": "code",
   "execution_count": 1,
   "metadata": {},
   "outputs": [],
   "source": [
    "from sqlalchemy import create_engine"
   ]
  },
  {
   "cell_type": "code",
   "execution_count": 2,
   "metadata": {},
   "outputs": [],
   "source": [
    "engine = create_engine(\"sqlite://\", echo=True)"
   ]
  },
  {
   "cell_type": "code",
   "execution_count": 3,
   "metadata": {},
   "outputs": [],
   "source": [
    "from sqlalchemy.ext.declarative import declarative_base"
   ]
  },
  {
   "cell_type": "code",
   "execution_count": 4,
   "metadata": {},
   "outputs": [],
   "source": [
    "Base = declarative_base()"
   ]
  },
  {
   "cell_type": "code",
   "execution_count": 5,
   "metadata": {},
   "outputs": [],
   "source": [
    "from sqlalchemy import Column, Integer, String, ForeignKey"
   ]
  },
  {
   "cell_type": "code",
   "execution_count": 7,
   "metadata": {},
   "outputs": [],
   "source": [
    "\n",
    "class Artist(Base):\n",
    "    __tablename__=\"artist\"\n",
    "    \n",
    "    id = Column(Integer, primary_key = True)\n",
    "    name = Column(String)\n",
    "    \n",
    "    def __repr__(self):\n",
    "        return \"<T'artist(name='%s')> \" %(self.name)\n",
    "\n",
    "class Album(Base):\n",
    "    __tablename__=\"album\"\n",
    "    \n",
    "    id = Column(Integer, primary_key = True)\n",
    "    title = Column(String)\n",
    "    artist_id = Column(Integer, ForeignKey(\"artist.id\"))\n",
    "    \n",
    "class Genre(Base) :\n",
    "    __tablename__ = \"genre\"\n",
    "    \n",
    "    id = Column(Integer, primary_key=True)\n",
    "    name = Column(String)\n",
    "\n",
    "class Track(Base) :\n",
    "    __tablename__ = \"track\"\n",
    "    \n",
    "    id = Column(Integer, primary_key=True)\n",
    "    title = Column(String)\n",
    "    album_id = Column(Integer, ForeignKey(\"album.id\"))\n",
    "    genre_id = Column(Integer, ForeignKey(\"genre.id\"))\n",
    "    \n",
    "    \n",
    "    \n",
    "    "
   ]
  },
  {
   "cell_type": "code",
   "execution_count": 8,
   "metadata": {},
   "outputs": [
    {
     "name": "stdout",
     "output_type": "stream",
     "text": [
      "2018-07-10 17:23:14,437 INFO sqlalchemy.engine.base.Engine SELECT CAST('test plain returns' AS VARCHAR(60)) AS anon_1\n",
      "2018-07-10 17:23:14,440 INFO sqlalchemy.engine.base.Engine ()\n",
      "2018-07-10 17:23:14,442 INFO sqlalchemy.engine.base.Engine SELECT CAST('test unicode returns' AS VARCHAR(60)) AS anon_1\n",
      "2018-07-10 17:23:14,443 INFO sqlalchemy.engine.base.Engine ()\n",
      "2018-07-10 17:23:14,445 INFO sqlalchemy.engine.base.Engine PRAGMA table_info(\"artist\")\n",
      "2018-07-10 17:23:14,446 INFO sqlalchemy.engine.base.Engine ()\n",
      "2018-07-10 17:23:14,448 INFO sqlalchemy.engine.base.Engine PRAGMA table_info(\"album\")\n",
      "2018-07-10 17:23:14,449 INFO sqlalchemy.engine.base.Engine ()\n",
      "2018-07-10 17:23:14,450 INFO sqlalchemy.engine.base.Engine PRAGMA table_info(\"genre\")\n",
      "2018-07-10 17:23:14,451 INFO sqlalchemy.engine.base.Engine ()\n",
      "2018-07-10 17:23:14,452 INFO sqlalchemy.engine.base.Engine PRAGMA table_info(\"track\")\n",
      "2018-07-10 17:23:14,453 INFO sqlalchemy.engine.base.Engine ()\n",
      "2018-07-10 17:23:14,455 INFO sqlalchemy.engine.base.Engine \n",
      "CREATE TABLE artist (\n",
      "\tid INTEGER NOT NULL, \n",
      "\tname VARCHAR, \n",
      "\tPRIMARY KEY (id)\n",
      ")\n",
      "\n",
      "\n",
      "2018-07-10 17:23:14,456 INFO sqlalchemy.engine.base.Engine ()\n",
      "2018-07-10 17:23:14,457 INFO sqlalchemy.engine.base.Engine COMMIT\n",
      "2018-07-10 17:23:14,459 INFO sqlalchemy.engine.base.Engine \n",
      "CREATE TABLE genre (\n",
      "\tid INTEGER NOT NULL, \n",
      "\tname VARCHAR, \n",
      "\tPRIMARY KEY (id)\n",
      ")\n",
      "\n",
      "\n",
      "2018-07-10 17:23:14,460 INFO sqlalchemy.engine.base.Engine ()\n",
      "2018-07-10 17:23:14,461 INFO sqlalchemy.engine.base.Engine COMMIT\n",
      "2018-07-10 17:23:14,462 INFO sqlalchemy.engine.base.Engine \n",
      "CREATE TABLE album (\n",
      "\tid INTEGER NOT NULL, \n",
      "\ttitle VARCHAR, \n",
      "\tartist_id INTEGER, \n",
      "\tPRIMARY KEY (id), \n",
      "\tFOREIGN KEY(artist_id) REFERENCES artist (id)\n",
      ")\n",
      "\n",
      "\n",
      "2018-07-10 17:23:14,463 INFO sqlalchemy.engine.base.Engine ()\n",
      "2018-07-10 17:23:14,464 INFO sqlalchemy.engine.base.Engine COMMIT\n",
      "2018-07-10 17:23:14,465 INFO sqlalchemy.engine.base.Engine \n",
      "CREATE TABLE track (\n",
      "\tid INTEGER NOT NULL, \n",
      "\ttitle VARCHAR, \n",
      "\talbum_id INTEGER, \n",
      "\tgenre_id INTEGER, \n",
      "\tPRIMARY KEY (id), \n",
      "\tFOREIGN KEY(album_id) REFERENCES album (id), \n",
      "\tFOREIGN KEY(genre_id) REFERENCES genre (id)\n",
      ")\n",
      "\n",
      "\n",
      "2018-07-10 17:23:14,466 INFO sqlalchemy.engine.base.Engine ()\n",
      "2018-07-10 17:23:14,467 INFO sqlalchemy.engine.base.Engine COMMIT\n"
     ]
    }
   ],
   "source": [
    "Base.metadata.create_all(engine)"
   ]
  },
  {
   "cell_type": "code",
   "execution_count": 9,
   "metadata": {},
   "outputs": [],
   "source": [
    "artist1 = Artist(name=\"Led\")\n",
    "artist2 = Artist(name=\"Led2\")"
   ]
  },
  {
   "cell_type": "code",
   "execution_count": 10,
   "metadata": {},
   "outputs": [
    {
     "data": {
      "text/plain": [
       "<T'artist(name='Led')> "
      ]
     },
     "execution_count": 10,
     "metadata": {},
     "output_type": "execute_result"
    }
   ],
   "source": [
    "artist1"
   ]
  },
  {
   "cell_type": "code",
   "execution_count": 11,
   "metadata": {},
   "outputs": [],
   "source": [
    "from sqlalchemy.orm import sessionmaker"
   ]
  },
  {
   "cell_type": "code",
   "execution_count": 12,
   "metadata": {},
   "outputs": [],
   "source": [
    "Session = sessionmaker(bind=engine)"
   ]
  },
  {
   "cell_type": "code",
   "execution_count": 13,
   "metadata": {},
   "outputs": [],
   "source": [
    "session = Session()"
   ]
  },
  {
   "cell_type": "code",
   "execution_count": 14,
   "metadata": {},
   "outputs": [],
   "source": [
    "session.add_all([artist1, artist2])"
   ]
  },
  {
   "cell_type": "code",
   "execution_count": 15,
   "metadata": {},
   "outputs": [
    {
     "name": "stdout",
     "output_type": "stream",
     "text": [
      "2018-07-10 17:23:20,576 INFO sqlalchemy.engine.base.Engine BEGIN (implicit)\n",
      "2018-07-10 17:23:20,579 INFO sqlalchemy.engine.base.Engine INSERT INTO artist (name) VALUES (?)\n",
      "2018-07-10 17:23:20,580 INFO sqlalchemy.engine.base.Engine ('Led',)\n",
      "2018-07-10 17:23:20,581 INFO sqlalchemy.engine.base.Engine INSERT INTO artist (name) VALUES (?)\n",
      "2018-07-10 17:23:20,582 INFO sqlalchemy.engine.base.Engine ('Led2',)\n",
      "2018-07-10 17:23:20,584 INFO sqlalchemy.engine.base.Engine COMMIT\n"
     ]
    }
   ],
   "source": [
    "session.commit()"
   ]
  },
  {
   "cell_type": "code",
   "execution_count": 44,
   "metadata": {},
   "outputs": [
    {
     "data": {
      "text/plain": [
       "IdentitySet([])"
      ]
     },
     "execution_count": 44,
     "metadata": {},
     "output_type": "execute_result"
    }
   ],
   "source": [
    "session.dirty"
   ]
  },
  {
   "cell_type": "code",
   "execution_count": 26,
   "metadata": {},
   "outputs": [
    {
     "data": {
      "text/plain": [
       "IdentitySet([<__main__.Album object at 0x000001EAF2D8C518>, <__main__.Album object at 0x000001EAF2D8C9B0>])"
      ]
     },
     "execution_count": 26,
     "metadata": {},
     "output_type": "execute_result"
    }
   ],
   "source": [
    "session.new"
   ]
  },
  {
   "cell_type": "code",
   "execution_count": 21,
   "metadata": {},
   "outputs": [],
   "source": [
    "artist1.name = 'xyz'"
   ]
  },
  {
   "cell_type": "code",
   "execution_count": 22,
   "metadata": {},
   "outputs": [
    {
     "data": {
      "text/plain": [
       "IdentitySet([<T'artist(name='xyz')> ])"
      ]
     },
     "execution_count": 22,
     "metadata": {},
     "output_type": "execute_result"
    }
   ],
   "source": [
    "session.dirty"
   ]
  },
  {
   "cell_type": "code",
   "execution_count": 24,
   "metadata": {},
   "outputs": [],
   "source": [
    "session.add_all([\n",
    "    Album(title=\"1\", artist_id=1),\n",
    "    Album(title=\"2\", artist_id=2),\n",
    "])"
   ]
  },
  {
   "cell_type": "code",
   "execution_count": 30,
   "metadata": {},
   "outputs": [],
   "source": [
    "session.add_all([\n",
    "    Genre(name=\"Rock\"),\n",
    "    Genre(name=\"Metal\")\n",
    "])"
   ]
  },
  {
   "cell_type": "code",
   "execution_count": 31,
   "metadata": {},
   "outputs": [],
   "source": [
    "session.add_all([\n",
    "    Track(title=\"1-1\",album_id=1,genre_id=1),\n",
    "    Track(title=\"1-2\",album_id=1,genre_id=2),\n",
    "    Track(title=\"1-3\",album_id=1,genre_id=3),\n",
    "    Track(title=\"1-4\",album_id=1,genre_id=4),\n",
    "])"
   ]
  },
  {
   "cell_type": "code",
   "execution_count": 32,
   "metadata": {},
   "outputs": [
    {
     "data": {
      "text/plain": [
       "IdentitySet([<__main__.Album object at 0x000001EAF2D8C518>, <__main__.Album object at 0x000001EAF2D8C9B0>, <__main__.Genre object at 0x000001EAF2DC9358>, <__main__.Genre object at 0x000001EAF2DC93C8>, <__main__.Track object at 0x000001EAF2DC9B00>, <__main__.Track object at 0x000001EAF2DC9B70>, <__main__.Track object at 0x000001EAF2DC9BE0>, <__main__.Track object at 0x000001EAF2DC9C50>])"
      ]
     },
     "execution_count": 32,
     "metadata": {},
     "output_type": "execute_result"
    }
   ],
   "source": [
    "session.new"
   ]
  },
  {
   "cell_type": "code",
   "execution_count": 33,
   "metadata": {},
   "outputs": [
    {
     "name": "stdout",
     "output_type": "stream",
     "text": [
      "2018-07-10 17:29:25,344 INFO sqlalchemy.engine.base.Engine BEGIN (implicit)\n",
      "2018-07-10 17:29:25,346 INFO sqlalchemy.engine.base.Engine INSERT INTO genre (name) VALUES (?)\n",
      "2018-07-10 17:29:25,347 INFO sqlalchemy.engine.base.Engine ('Rock',)\n",
      "2018-07-10 17:29:25,349 INFO sqlalchemy.engine.base.Engine INSERT INTO genre (name) VALUES (?)\n",
      "2018-07-10 17:29:25,350 INFO sqlalchemy.engine.base.Engine ('Metal',)\n",
      "2018-07-10 17:29:25,352 INFO sqlalchemy.engine.base.Engine INSERT INTO album (title, artist_id) VALUES (?, ?)\n",
      "2018-07-10 17:29:25,353 INFO sqlalchemy.engine.base.Engine ('1', 1)\n",
      "2018-07-10 17:29:25,354 INFO sqlalchemy.engine.base.Engine INSERT INTO album (title, artist_id) VALUES (?, ?)\n",
      "2018-07-10 17:29:25,355 INFO sqlalchemy.engine.base.Engine ('2', 2)\n",
      "2018-07-10 17:29:25,358 INFO sqlalchemy.engine.base.Engine SELECT artist.id AS artist_id \n",
      "FROM artist \n",
      "WHERE artist.id = ?\n",
      "2018-07-10 17:29:25,359 INFO sqlalchemy.engine.base.Engine (1,)\n",
      "2018-07-10 17:29:25,361 INFO sqlalchemy.engine.base.Engine UPDATE artist SET name=? WHERE artist.id = ?\n",
      "2018-07-10 17:29:25,362 INFO sqlalchemy.engine.base.Engine ('xyz', 1)\n",
      "2018-07-10 17:29:25,364 INFO sqlalchemy.engine.base.Engine INSERT INTO track (title, album_id, genre_id) VALUES (?, ?, ?)\n",
      "2018-07-10 17:29:25,365 INFO sqlalchemy.engine.base.Engine ('1-1', 1, 1)\n",
      "2018-07-10 17:29:25,367 INFO sqlalchemy.engine.base.Engine INSERT INTO track (title, album_id, genre_id) VALUES (?, ?, ?)\n",
      "2018-07-10 17:29:25,368 INFO sqlalchemy.engine.base.Engine ('1-2', 1, 2)\n",
      "2018-07-10 17:29:25,369 INFO sqlalchemy.engine.base.Engine INSERT INTO track (title, album_id, genre_id) VALUES (?, ?, ?)\n",
      "2018-07-10 17:29:25,370 INFO sqlalchemy.engine.base.Engine ('1-3', 1, 3)\n",
      "2018-07-10 17:29:25,371 INFO sqlalchemy.engine.base.Engine INSERT INTO track (title, album_id, genre_id) VALUES (?, ?, ?)\n",
      "2018-07-10 17:29:25,372 INFO sqlalchemy.engine.base.Engine ('1-4', 1, 4)\n",
      "2018-07-10 17:29:25,373 INFO sqlalchemy.engine.base.Engine COMMIT\n"
     ]
    }
   ],
   "source": [
    "session.commit()"
   ]
  },
  {
   "cell_type": "code",
   "execution_count": 34,
   "metadata": {},
   "outputs": [],
   "source": [
    "temp = Track(title=\"3-1\",album_id=3,genre_id=3)"
   ]
  },
  {
   "cell_type": "code",
   "execution_count": 41,
   "metadata": {},
   "outputs": [
    {
     "name": "stdout",
     "output_type": "stream",
     "text": [
      "2018-07-10 17:31:32,016 INFO sqlalchemy.engine.base.Engine BEGIN (implicit)\n",
      "2018-07-10 17:31:32,019 INFO sqlalchemy.engine.base.Engine SELECT track.id AS track_id, track.title AS track_title, track.album_id AS track_album_id, track.genre_id AS track_genre_id \n",
      "FROM track \n",
      "WHERE track.id = ?\n",
      "2018-07-10 17:31:32,020 INFO sqlalchemy.engine.base.Engine (5,)\n",
      "5\n"
     ]
    }
   ],
   "source": [
    "print(temp.id)"
   ]
  },
  {
   "cell_type": "code",
   "execution_count": 37,
   "metadata": {},
   "outputs": [],
   "source": [
    "session.add(temp)"
   ]
  },
  {
   "cell_type": "code",
   "execution_count": 40,
   "metadata": {},
   "outputs": [
    {
     "data": {
      "text/plain": [
       "IdentitySet([])"
      ]
     },
     "execution_count": 40,
     "metadata": {},
     "output_type": "execute_result"
    }
   ],
   "source": [
    "session.new"
   ]
  },
  {
   "cell_type": "code",
   "execution_count": 39,
   "metadata": {},
   "outputs": [
    {
     "name": "stdout",
     "output_type": "stream",
     "text": [
      "2018-07-10 17:31:16,537 INFO sqlalchemy.engine.base.Engine BEGIN (implicit)\n",
      "2018-07-10 17:31:16,539 INFO sqlalchemy.engine.base.Engine INSERT INTO track (title, album_id, genre_id) VALUES (?, ?, ?)\n",
      "2018-07-10 17:31:16,540 INFO sqlalchemy.engine.base.Engine ('3-1', 3, 3)\n",
      "2018-07-10 17:31:16,542 INFO sqlalchemy.engine.base.Engine COMMIT\n"
     ]
    }
   ],
   "source": [
    "session.commit()"
   ]
  },
  {
   "cell_type": "code",
   "execution_count": 45,
   "metadata": {},
   "outputs": [
    {
     "name": "stdout",
     "output_type": "stream",
     "text": [
      "2018-07-10 17:34:56,148 INFO sqlalchemy.engine.base.Engine SELECT artist.id AS artist_id, artist.name AS artist_name \n",
      "FROM artist \n",
      "WHERE artist.id = ?\n",
      "2018-07-10 17:34:56,149 INFO sqlalchemy.engine.base.Engine (1,)\n",
      "1 xyz\n"
     ]
    }
   ],
   "source": [
    "for row in session.query(Artist).filter(Artist.id==1):\n",
    "    print(row.id, row.name)"
   ]
  },
  {
   "cell_type": "code",
   "execution_count": null,
   "metadata": {},
   "outputs": [],
   "source": []
  }
 ],
 "metadata": {
  "kernelspec": {
   "display_name": "Python 3",
   "language": "python",
   "name": "python3"
  },
  "language_info": {
   "codemirror_mode": {
    "name": "ipython",
    "version": 3
   },
   "file_extension": ".py",
   "mimetype": "text/x-python",
   "name": "python",
   "nbconvert_exporter": "python",
   "pygments_lexer": "ipython3",
   "version": "3.6.5"
  }
 },
 "nbformat": 4,
 "nbformat_minor": 2
}
