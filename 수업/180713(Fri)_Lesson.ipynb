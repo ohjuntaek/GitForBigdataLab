{
 "cells": [
  {
   "cell_type": "code",
   "execution_count": 45,
   "metadata": {},
   "outputs": [
    {
     "name": "stdout",
     "output_type": "stream",
     "text": [
      "Overwriting test4.html\n"
     ]
    }
   ],
   "source": [
    "%%writefile test4.html\n",
    "<!docktype html>\n",
    "<html lang=\"ko\">\n",
    "    <head>\n",
    "        <meta charset=\"UTF-8\"/>\n",
    "        <title>예제1</title>\n",
    "        <meta name=\"viewport\" content=\"width=device-width, initial-scale=1.0\" />\n",
    "        <meta name=\"keywords\" content=\"실습, 데이터진흥원, 노잼\" />\n",
    "        <script>\n",
    "            var car = {\n",
    "                \"make\":\"volkswagen\",\n",
    "                \"year\":2013,\n",
    "                \"car\":{\n",
    "                    \"name\":\"abc\",\n",
    "                    \"aaaa\":\"bddr\"\n",
    "                }\n",
    "            }\n",
    "            car.list = [\"a\",\"b\"];\n",
    "            console.log(car);\n",
    "        </script>\n",
    "        <style>\n",
    "            * {margin:0;padding:0}\n",
    "            main {width:800px;margin:0 auto;}\n",
    "            header, footer {background-color:#f1f1f1; text-align:center;}\n",
    "            header > h1 , footer > h1{padding:20px}\n",
    "            nav {overflow:hidden;background-color:#333;}\n",
    "            nav li {float:left;display:block;color:#f2f2f2;text-align:center;padding:14px 16px;} \n",
    "            nav li:hover {background-color:#ddd; color:black;}\n",
    "            main > section {float:left;width:520px;}\n",
    "            main > aside {float:right;width:200px;}\n",
    "            main > section, main > aside {background-color:#aaa; margin-top:20px; padding:10px;}\n",
    "            article, section {background-color:white;padding:20px;margin:20px;}\n",
    "            article > section {background-color:#aaa;}\n",
    "            section > p {border:1px solid #000;}\n",
    "            .clearfix:after {clear:both;content:\"\"};\n",
    "        </style>\n",
    "    </head>\n",
    "    <body>\n",
    "        <main>\n",
    "            <header>\n",
    "                <h1>Header</h1>\n",
    "            </header>\n",
    "            <nav>\n",
    "                <ul>\n",
    "                    <li>News</li>\n",
    "                    <li>Contact</li>\n",
    "                    <li>About</li>\n",
    "                </ul>\n",
    "            </nav>\n",
    "            <aside>\n",
    "                <section>\n",
    "                    <h1>Advertisement</h1>\n",
    "                    <p>Content</p>\n",
    "                </section>\n",
    "                <section>\n",
    "                    <h1>Advertisement</h1>\n",
    "                    <p>Content</p>\n",
    "                </section>\n",
    "            </aside>\n",
    "            <section>\n",
    "                <article>\n",
    "                    <h1>1. Title</h1>\n",
    "                    <p>Content</p>\n",
    "                </article>\n",
    "                <article>\n",
    "                    <h1>2. Title</h1>\n",
    "                    <section>\n",
    "                        <h1>2.1 Sub Title1</h1>\n",
    "                        <p>Sub Content1</p>\n",
    "                    </section>\n",
    "                    <section>\n",
    "                        <h1>2.2 Sub Title2</h1>\n",
    "                        <p>Sub content2</p>\n",
    "                    </section>\n",
    "                </article>\n",
    "            </section>\n",
    "            <footer class=\"clearfix\">\n",
    "                <h1>Footer</h1>\n",
    "            </footer>\n",
    "        </main>\n",
    "    </body>\n",
    "</html>"
   ]
  },
  {
   "cell_type": "code",
   "execution_count": 46,
   "metadata": {},
   "outputs": [],
   "source": [
    "import json"
   ]
  },
  {
   "cell_type": "code",
   "execution_count": 47,
   "metadata": {},
   "outputs": [
    {
     "data": {
      "text/plain": [
       "['JSONDecodeError',\n",
       " 'JSONDecoder',\n",
       " 'JSONEncoder',\n",
       " '__all__',\n",
       " '__author__',\n",
       " '__builtins__',\n",
       " '__cached__',\n",
       " '__doc__',\n",
       " '__file__',\n",
       " '__loader__',\n",
       " '__name__',\n",
       " '__package__',\n",
       " '__path__',\n",
       " '__spec__',\n",
       " '__version__',\n",
       " '_default_decoder',\n",
       " '_default_encoder',\n",
       " 'codecs',\n",
       " 'decoder',\n",
       " 'detect_encoding',\n",
       " 'dump',\n",
       " 'dumps',\n",
       " 'encoder',\n",
       " 'load',\n",
       " 'loads',\n",
       " 'scanner']"
      ]
     },
     "execution_count": 47,
     "metadata": {},
     "output_type": "execute_result"
    }
   ],
   "source": [
    "dir(json)"
   ]
  },
  {
   "cell_type": "code",
   "execution_count": 48,
   "metadata": {},
   "outputs": [],
   "source": [
    "name =(\"kim\", \"lee\",\"park\")"
   ]
  },
  {
   "cell_type": "code",
   "execution_count": 51,
   "metadata": {},
   "outputs": [],
   "source": [
    "age = [28, 32, 25]"
   ]
  },
  {
   "cell_type": "code",
   "execution_count": 52,
   "metadata": {},
   "outputs": [],
   "source": [
    "person = {\"name\":\"kim\", \"age\":28, \"car\":False}"
   ]
  },
  {
   "cell_type": "code",
   "execution_count": 54,
   "metadata": {},
   "outputs": [],
   "source": [
    "nameStr = json.dumps(name)"
   ]
  },
  {
   "cell_type": "code",
   "execution_count": 55,
   "metadata": {},
   "outputs": [
    {
     "data": {
      "text/plain": [
       "str"
      ]
     },
     "execution_count": 55,
     "metadata": {},
     "output_type": "execute_result"
    }
   ],
   "source": [
    "type(nameStr)"
   ]
  },
  {
   "cell_type": "code",
   "execution_count": 72,
   "metadata": {},
   "outputs": [
    {
     "data": {
      "text/plain": [
       "'[\"kim\", \"lee\", \"park\"]'"
      ]
     },
     "execution_count": 72,
     "metadata": {},
     "output_type": "execute_result"
    }
   ],
   "source": [
    "nameStr #투플이 제이슨형 문자형으로 바뀜"
   ]
  },
  {
   "cell_type": "code",
   "execution_count": 68,
   "metadata": {},
   "outputs": [],
   "source": [
    "personStr = json.dumps(person, indent=\"    \")"
   ]
  },
  {
   "cell_type": "code",
   "execution_count": 69,
   "metadata": {},
   "outputs": [
    {
     "data": {
      "text/plain": [
       "str"
      ]
     },
     "execution_count": 69,
     "metadata": {},
     "output_type": "execute_result"
    }
   ],
   "source": [
    "type(personStr)"
   ]
  },
  {
   "cell_type": "code",
   "execution_count": 70,
   "metadata": {},
   "outputs": [
    {
     "name": "stdout",
     "output_type": "stream",
     "text": [
      "{\n",
      "    \"name\": \"kim\",\n",
      "    \"age\": 28,\n",
      "    \"car\": false\n",
      "}\n"
     ]
    }
   ],
   "source": [
    "print(personStr)"
   ]
  },
  {
   "cell_type": "code",
   "execution_count": 73,
   "metadata": {},
   "outputs": [],
   "source": [
    "korean = (\"김\",\"이\",\"박\")"
   ]
  },
  {
   "cell_type": "code",
   "execution_count": 78,
   "metadata": {},
   "outputs": [],
   "source": [
    "koreanStr = json.dumps(korean,ensure_ascii=False) #전송시에는 아스키변환값없애야한다"
   ]
  },
  {
   "cell_type": "code",
   "execution_count": 79,
   "metadata": {},
   "outputs": [
    {
     "name": "stdout",
     "output_type": "stream",
     "text": [
      "[\"김\", \"이\", \"박\"]\n"
     ]
    }
   ],
   "source": [
    "print(koreanStr)"
   ]
  },
  {
   "cell_type": "code",
   "execution_count": 80,
   "metadata": {},
   "outputs": [],
   "source": [
    "personObj = json.loads(personStr)"
   ]
  },
  {
   "cell_type": "code",
   "execution_count": 81,
   "metadata": {},
   "outputs": [
    {
     "data": {
      "text/plain": [
       "dict"
      ]
     },
     "execution_count": 81,
     "metadata": {},
     "output_type": "execute_result"
    }
   ],
   "source": [
    "type(personObj)"
   ]
  },
  {
   "cell_type": "code",
   "execution_count": 82,
   "metadata": {},
   "outputs": [
    {
     "data": {
      "text/plain": [
       "'kim'"
      ]
     },
     "execution_count": 82,
     "metadata": {},
     "output_type": "execute_result"
    }
   ],
   "source": [
    "personObj[\"name\"]"
   ]
  },
  {
   "cell_type": "code",
   "execution_count": 83,
   "metadata": {},
   "outputs": [
    {
     "data": {
      "text/plain": [
       "True"
      ]
     },
     "execution_count": 83,
     "metadata": {},
     "output_type": "execute_result"
    }
   ],
   "source": [
    "person == personObj"
   ]
  },
  {
   "cell_type": "code",
   "execution_count": 84,
   "metadata": {},
   "outputs": [
    {
     "data": {
      "text/plain": [
       "{'name': 'kim', 'age': 28, 'car': False}"
      ]
     },
     "execution_count": 84,
     "metadata": {},
     "output_type": "execute_result"
    }
   ],
   "source": [
    "personObj"
   ]
  },
  {
   "cell_type": "code",
   "execution_count": 85,
   "metadata": {},
   "outputs": [],
   "source": [
    "with open(\"test.json\",\"w\") as fp:\n",
    "    json.dump(personObj, fp)"
   ]
  },
  {
   "cell_type": "code",
   "execution_count": 86,
   "metadata": {},
   "outputs": [],
   "source": [
    "with open(\"test.json\",\"r\") as fp:\n",
    "    loadObj = json.load(fp)"
   ]
  },
  {
   "cell_type": "code",
   "execution_count": 87,
   "metadata": {},
   "outputs": [
    {
     "data": {
      "text/plain": [
       "{'name': 'kim', 'age': 28, 'car': False}"
      ]
     },
     "execution_count": 87,
     "metadata": {},
     "output_type": "execute_result"
    }
   ],
   "source": [
    "loadObj"
   ]
  },
  {
   "cell_type": "code",
   "execution_count": 185,
   "metadata": {},
   "outputs": [
    {
     "data": {
      "text/plain": [
       "True"
      ]
     },
     "execution_count": 185,
     "metadata": {},
     "output_type": "execute_result"
    }
   ],
   "source": [
    "personObj == loadObj"
   ]
  },
  {
   "cell_type": "markdown",
   "metadata": {},
   "source": [
    "----------------"
   ]
  },
  {
   "cell_type": "code",
   "execution_count": 132,
   "metadata": {},
   "outputs": [],
   "source": [
    "import urllib.request"
   ]
  },
  {
   "cell_type": "code",
   "execution_count": 133,
   "metadata": {},
   "outputs": [],
   "source": [
    "resp = urllib.request.urlopen(\"https://jsonplaceholder.typicode.com/posts/1\")"
   ]
  },
  {
   "cell_type": "code",
   "execution_count": 134,
   "metadata": {},
   "outputs": [],
   "source": [
    "text = resp.read()"
   ]
  },
  {
   "cell_type": "code",
   "execution_count": 135,
   "metadata": {},
   "outputs": [
    {
     "data": {
      "text/plain": [
       "bytes"
      ]
     },
     "execution_count": 135,
     "metadata": {},
     "output_type": "execute_result"
    }
   ],
   "source": [
    "type(text)"
   ]
  },
  {
   "cell_type": "code",
   "execution_count": 136,
   "metadata": {},
   "outputs": [],
   "source": [
    "textStr = text.decode(\"utf-8\")"
   ]
  },
  {
   "cell_type": "code",
   "execution_count": 137,
   "metadata": {},
   "outputs": [
    {
     "data": {
      "text/plain": [
       "str"
      ]
     },
     "execution_count": 137,
     "metadata": {},
     "output_type": "execute_result"
    }
   ],
   "source": [
    "type(textStr)"
   ]
  },
  {
   "cell_type": "code",
   "execution_count": 142,
   "metadata": {},
   "outputs": [],
   "source": [
    "respObj = json.loads(textStr) #뭐야이게 제이슨 파싱해서 딕셔너리로 저장한건가.."
   ]
  },
  {
   "cell_type": "code",
   "execution_count": 141,
   "metadata": {},
   "outputs": [
    {
     "data": {
      "text/plain": [
       "dict"
      ]
     },
     "execution_count": 141,
     "metadata": {},
     "output_type": "execute_result"
    }
   ],
   "source": [
    "type(respObj)"
   ]
  },
  {
   "cell_type": "code",
   "execution_count": 139,
   "metadata": {},
   "outputs": [
    {
     "name": "stdout",
     "output_type": "stream",
     "text": [
      "{'userId': 1, 'id': 1, 'title': 'sunt aut facere repellat provident occaecati excepturi optio reprehenderit', 'body': 'quia et suscipit\\nsuscipit recusandae consequuntur expedita et cum\\nreprehenderit molestiae ut ut quas totam\\nnostrum rerum est autem sunt rem eveniet architecto'}\n"
     ]
    }
   ],
   "source": [
    "print(respObj)"
   ]
  },
  {
   "cell_type": "code",
   "execution_count": 109,
   "metadata": {},
   "outputs": [
    {
     "data": {
      "text/plain": [
       "'sunt aut facere repellat provident occaecati excepturi optio reprehenderit'"
      ]
     },
     "execution_count": 109,
     "metadata": {},
     "output_type": "execute_result"
    }
   ],
   "source": [
    "respObj[\"title\"]"
   ]
  },
  {
   "cell_type": "code",
   "execution_count": 188,
   "metadata": {},
   "outputs": [
    {
     "name": "stdout",
     "output_type": "stream",
     "text": [
      "userId 1\n",
      "<class 'int'>\n",
      "id 1\n",
      "<class 'int'>\n",
      "title sunt aut facere repellat provident occaecati excepturi optio reprehenderit\n",
      "<class 'str'>\n",
      "body quia et suscipit\n",
      "suscipit recusandae consequuntur expedita et cum\n",
      "reprehenderit molestiae ut ut quas totam\n",
      "nostrum rerum est autem sunt rem eveniet architecto\n",
      "<class 'str'>\n"
     ]
    }
   ],
   "source": [
    "for (k,v) in respObj.items():\n",
    "    print(k,v)\n",
    "    print(type(v))"
   ]
  },
  {
   "cell_type": "markdown",
   "metadata": {},
   "source": [
    "----------------------------------------"
   ]
  },
  {
   "cell_type": "markdown",
   "metadata": {},
   "source": [
    "http://openapi.airkorea.or.kr/openapi/services/rest/ArpltnInforInqireSvc/getCtprvnRltmMesureDnsty?serviceKey=ckzCRkQ0HOEcHoV%2BZ5N0fDqDm6Jyp4oTXIZdL5NduqXd%2BbEs%2BZOvsAgOmvuR2YgF5uNI88ARNfA726SEAAAHKA%3D%3D&numOfRows=10&pageSize=10&pageNo=1&startPage=1&sidoName=%EC%9D%B8%EC%B2%9C&ver=1.3&_returnType=json"
   ]
  },
  {
   "cell_type": "code",
   "execution_count": 144,
   "metadata": {},
   "outputs": [],
   "source": [
    "params = {\"serviceKey\":\"ckzCRkQ0HOEcHoV%2BZ5N0fDqDm6Jyp4oTXIZdL5NduqXd%2BbEs%2BZOvsAgOmvuR2YgF5uNI88ARNfA726SEAAAHKA%3D%3D\",\n",
    "         \"numOfRows\":10,\n",
    "         \"pageSize\":10,\n",
    "         \"pageNo\":1,\n",
    "         \"startPage\":1,\n",
    "         \"sidoName\":None,\n",
    "         \"ver\":\"1.3\",\n",
    "         \"_returnType\":\"json\"\n",
    "}"
   ]
  },
  {
   "cell_type": "code",
   "execution_count": 145,
   "metadata": {},
   "outputs": [
    {
     "data": {
      "text/plain": [
       "{'serviceKey': 'ckzCRkQ0HOEcHoV%2BZ5N0fDqDm6Jyp4oTXIZdL5NduqXd%2BbEs%2BZOvsAgOmvuR2YgF5uNI88ARNfA726SEAAAHKA%3D%3D',\n",
       " 'numOfRows': 10,\n",
       " 'pageSize': 10,\n",
       " 'pageNo': 1,\n",
       " 'startPage': 1,\n",
       " 'sidoName': None,\n",
       " 'ver': '1.3',\n",
       " '_returnType': 'json'}"
      ]
     },
     "execution_count": 145,
     "metadata": {},
     "output_type": "execute_result"
    }
   ],
   "source": [
    "params"
   ]
  },
  {
   "cell_type": "code",
   "execution_count": 146,
   "metadata": {},
   "outputs": [],
   "source": [
    "params[\"sidoName\"]=\"서울\""
   ]
  },
  {
   "cell_type": "code",
   "execution_count": null,
   "metadata": {},
   "outputs": [],
   "source": [
    "url=\"http://openapi.airkorea.or.kr/openapi/services/rest/ArpltnInforInqireSvc/getCtprvnRltmMesureDnsty\""
   ]
  },
  {
   "cell_type": "code",
   "execution_count": 163,
   "metadata": {},
   "outputs": [],
   "source": [
    "from urllib import parse"
   ]
  },
  {
   "cell_type": "code",
   "execution_count": 164,
   "metadata": {},
   "outputs": [
    {
     "data": {
      "text/plain": [
       "'ckzCRkQ0HOEcHoV+Z5N0fDqDm6Jyp4oTXIZdL5NduqXd+bEs+ZOvsAgOmvuR2YgF5uNI88ARNfA726SEAAAHKA=='"
      ]
     },
     "execution_count": 164,
     "metadata": {},
     "output_type": "execute_result"
    }
   ],
   "source": [
    "params[\"serviceKey\"] = urllib.parse.unquote(params[\"serviceKey\"]) #밑에서 바이트변환 에러를 막기 위해 바이트를 스트링로 바꿔줌..\n",
    "params[\"serviceKey\"]"
   ]
  },
  {
   "cell_type": "code",
   "execution_count": 165,
   "metadata": {},
   "outputs": [],
   "source": [
    "paramUrl = parse.urlencode(params) #Url String으로 바꿈"
   ]
  },
  {
   "cell_type": "code",
   "execution_count": 166,
   "metadata": {},
   "outputs": [
    {
     "data": {
      "text/plain": [
       "'serviceKey=ckzCRkQ0HOEcHoV%2BZ5N0fDqDm6Jyp4oTXIZdL5NduqXd%2BbEs%2BZOvsAgOmvuR2YgF5uNI88ARNfA726SEAAAHKA%3D%3D&numOfRows=10&pageSize=10&pageNo=1&startPage=1&sidoName=%EC%84%9C%EC%9A%B8&ver=1.3&_returnType=json'"
      ]
     },
     "execution_count": 166,
     "metadata": {},
     "output_type": "execute_result"
    }
   ],
   "source": [
    "paramUrl"
   ]
  },
  {
   "cell_type": "code",
   "execution_count": 167,
   "metadata": {},
   "outputs": [],
   "source": [
    "paramBytes = paramUrl.encode(\"utf-8\") #전송을 위해 바이트로 바꿈 -> 근데 서비스키는 바이트로되있어서 바이트를 다른바이트로 바꾸니 에러남.."
   ]
  },
  {
   "cell_type": "code",
   "execution_count": 168,
   "metadata": {},
   "outputs": [
    {
     "data": {
      "text/plain": [
       "bytes"
      ]
     },
     "execution_count": 168,
     "metadata": {},
     "output_type": "execute_result"
    }
   ],
   "source": [
    "type(paramBytes)"
   ]
  },
  {
   "cell_type": "code",
   "execution_count": 169,
   "metadata": {},
   "outputs": [
    {
     "name": "stdout",
     "output_type": "stream",
     "text": [
      "b'serviceKey=ckzCRkQ0HOEcHoV%2BZ5N0fDqDm6Jyp4oTXIZdL5NduqXd%2BbEs%2BZOvsAgOmvuR2YgF5uNI88ARNfA726SEAAAHKA%3D%3D&numOfRows=10&pageSize=10&pageNo=1&startPage=1&sidoName=%EC%84%9C%EC%9A%B8&ver=1.3&_returnType=json'\n"
     ]
    }
   ],
   "source": [
    "print(paramBytes)"
   ]
  },
  {
   "cell_type": "code",
   "execution_count": 170,
   "metadata": {},
   "outputs": [],
   "source": [
    "req = urllib.request.Request(url,data=paramBytes)"
   ]
  },
  {
   "cell_type": "code",
   "execution_count": 171,
   "metadata": {},
   "outputs": [],
   "source": [
    "res = urllib.request.urlopen(req)"
   ]
  },
  {
   "cell_type": "code",
   "execution_count": 172,
   "metadata": {},
   "outputs": [],
   "source": [
    "result = res.read()"
   ]
  },
  {
   "cell_type": "code",
   "execution_count": 175,
   "metadata": {},
   "outputs": [
    {
     "data": {
      "text/plain": [
       "b'{\"list\":[{\"_returnType\":\"json\",\"coGrade\":\"1\",\"coValue\":\"0.3\",\"dataTerm\":\"\",\"dataTime\":\"2018-07-13 15:00\",\"khaiGrade\":\"1\",\"khaiValue\":\"43\",\"mangName\":\"\\xeb\\x8f\\x84\\xec\\x8b\\x9c\\xeb\\x8c\\x80\\xea\\xb8\\xb0\",\"no2Grade\":\"1\",\"no2Value\":\"0.015\",\"numOfRows\":\"10\",\"o3Grade\":\"1\",\"o3Value\":\"0.024\",\"pageNo\":\"1\",\"pm10Grade\":\"1\",\"pm10Grade1h\":\"1\",\"pm10Value\":\"17\",\"pm10Value24\":\"21\",\"pm25Grade\":\"1\",\"pm25Grade1h\":\"1\",\"pm25Value\":\"10\",\"pm25Value24\":\"13\",\"resultCode\":\"\",\"resultMsg\":\"\",\"rnum\":0,\"serviceKey\":\"\",\"sidoName\":\"\",\"so2Grade\":\"1\",\"so2Value\":\"0.003\",\"stationCode\":\"\",\"stationName\":\"\\xec\\xa4\\x91\\xea\\xb5\\xac\",\"totalCount\":\"\",\"ver\":\"\"},{\"_returnType\":\"json\",\"coGrade\":\"1\",\"coValue\":\"0.5\",\"dataTerm\":\"\",\"dataTime\":\"2018-07-13 15:00\",\"khaiGrade\":\"2\",\"khaiValue\":\"53\",\"mangName\":\"\\xeb\\x8f\\x84\\xeb\\xa1\\x9c\\xeb\\xb3\\x80\\xeb\\x8c\\x80\\xea\\xb8\\xb0\",\"no2Grade\":\"1\",\"no2Value\":\"0.027\",\"numOfRows\":\"10\",\"o3Grade\":\"1\",\"o3Value\":\"0.019\",\"pageNo\":\"1\",\"pm10Grade\":\"2\",\"pm10Grade1h\":\"1\",\"pm10Value\":\"28\",\"pm10Value24\":\"33\",\"pm25Grade\":\"1\",\"pm25Grade1h\":\"1\",\"pm25Value\":\"8\",\"pm25Value24\":\"14\",\"resultCode\":\"\",\"resultMsg\":\"\",\"rnum\":0,\"serviceKey\":\"\",\"sidoName\":\"\",\"so2Grade\":\"1\",\"so2Value\":\"0.005\",\"stationCode\":\"\",\"stationName\":\"\\xed\\x95\\x9c\\xea\\xb0\\x95\\xeb\\x8c\\x80\\xeb\\xa1\\x9c\",\"totalCount\":\"\",\"ver\":\"\"},{\"_returnType\":\"json\",\"coGrade\":\"1\",\"coValue\":\"0.3\",\"dataTerm\":\"\",\"dataTime\":\"2018-07-13 15:00\",\"khaiGrade\":\"2\",\"khaiValue\":\"51\",\"mangName\":\"\\xeb\\x8f\\x84\\xec\\x8b\\x9c\\xeb\\x8c\\x80\\xea\\xb8\\xb0\",\"no2Grade\":\"1\",\"no2Value\":\"0.019\",\"numOfRows\":\"10\",\"o3Grade\":\"1\",\"o3Value\":\"0.020\",\"pageNo\":\"1\",\"pm10Grade\":\"1\",\"pm10Grade1h\":\"1\",\"pm10Value\":\"17\",\"pm10Value24\":\"20\",\"pm25Grade\":\"2\",\"pm25Grade1h\":\"1\",\"pm25Value\":\"14\",\"pm25Value24\":\"16\",\"resultCode\":\"\",\"resultMsg\":\"\",\"rnum\":0,\"serviceKey\":\"\",\"sidoName\":\"\",\"so2Grade\":\"\",\"so2Value\":\"-\",\"stationCode\":\"\",\"stationName\":\"\\xec\\xa2\\x85\\xeb\\xa1\\x9c\\xea\\xb5\\xac\",\"totalCount\":\"\",\"ver\":\"\"},{\"_returnType\":\"json\",\"coGrade\":\"1\",\"coValue\":\"0.5\",\"dataTerm\":\"\",\"dataTime\":\"2018-07-13 15:00\",\"khaiGrade\":\"2\",\"khaiValue\":\"59\",\"mangName\":\"\\xeb\\x8f\\x84\\xeb\\xa1\\x9c\\xeb\\xb3\\x80\\xeb\\x8c\\x80\\xea\\xb8\\xb0\",\"no2Grade\":\"1\",\"no2Value\":\"0.028\",\"numOfRows\":\"10\",\"o3Grade\":\"1\",\"o3Value\":\"0.020\",\"pageNo\":\"1\",\"pm10Grade\":\"1\",\"pm10Grade1h\":\"1\",\"pm10Value\":\"20\",\"pm10Value24\":\"25\",\"pm25Grade\":\"2\",\"pm25Grade1h\":\"2\",\"pm25Value\":\"17\",\"pm25Value24\":\"19\",\"resultCode\":\"\",\"resultMsg\":\"\",\"rnum\":0,\"serviceKey\":\"\",\"sidoName\":\"\",\"so2Grade\":\"1\",\"so2Value\":\"0.005\",\"stationCode\":\"\",\"stationName\":\"\\xec\\xb2\\xad\\xea\\xb3\\x84\\xec\\xb2\\x9c\\xeb\\xa1\\x9c\",\"totalCount\":\"\",\"ver\":\"\"},{\"_returnType\":\"json\",\"coGrade\":\"1\",\"coValue\":\"0.3\",\"dataTerm\":\"\",\"dataTime\":\"2018-07-13 15:00\",\"khaiGrade\":\"1\",\"khaiValue\":\"43\",\"mangName\":\"\\xeb\\x8f\\x84\\xeb\\xa1\\x9c\\xeb\\xb3\\x80\\xeb\\x8c\\x80\\xea\\xb8\\xb0\",\"no2Grade\":\"1\",\"no2Value\":\"0.020\",\"numOfRows\":\"10\",\"o3Grade\":\"1\",\"o3Value\":\"0.019\",\"pageNo\":\"1\",\"pm10Grade\":\"1\",\"pm10Grade1h\":\"1\",\"pm10Value\":\"13\",\"pm10Value24\":\"21\",\"pm25Grade\":\"1\",\"pm25Grade1h\":\"1\",\"pm25Value\":\"11\",\"pm25Value24\":\"13\",\"resultCode\":\"\",\"resultMsg\":\"\",\"rnum\":0,\"serviceKey\":\"\",\"sidoName\":\"\",\"so2Grade\":\"1\",\"so2Value\":\"0.003\",\"stationCode\":\"\",\"stationName\":\"\\xec\\xa2\\x85\\xeb\\xa1\\x9c\",\"totalCount\":\"\",\"ver\":\"\"},{\"_returnType\":\"json\",\"coGrade\":\"1\",\"coValue\":\"0.2\",\"dataTerm\":\"\",\"dataTime\":\"2018-07-13 15:00\",\"khaiGrade\":\"1\",\"khaiValue\":\"42\",\"mangName\":\"\\xeb\\x8f\\x84\\xec\\x8b\\x9c\\xeb\\x8c\\x80\\xea\\xb8\\xb0\",\"no2Grade\":\"1\",\"no2Value\":\"0.017\",\"numOfRows\":\"10\",\"o3Grade\":\"1\",\"o3Value\":\"0.025\",\"pageNo\":\"1\",\"pm10Grade\":\"1\",\"pm10Grade1h\":\"\",\"pm10Value\":\"-\",\"pm10Value24\":\"18\",\"pm25Grade\":\"1\",\"pm25Grade1h\":\"1\",\"pm25Value\":\"12\",\"pm25Value24\":\"12\",\"resultCode\":\"\",\"resultMsg\":\"\",\"rnum\":0,\"serviceKey\":\"\",\"sidoName\":\"\",\"so2Grade\":\"1\",\"so2Value\":\"0.003\",\"stationCode\":\"\",\"stationName\":\"\\xec\\x9a\\xa9\\xec\\x82\\xb0\\xea\\xb5\\xac\",\"totalCount\":\"\",\"ver\":\"\"},{\"_returnType\":\"json\",\"coGrade\":\"1\",\"coValue\":\"0.5\",\"dataTerm\":\"\",\"dataTime\":\"2018-07-13 15:00\",\"khaiGrade\":\"1\",\"khaiValue\":\"43\",\"mangName\":\"\\xeb\\x8f\\x84\\xec\\x8b\\x9c\\xeb\\x8c\\x80\\xea\\xb8\\xb0\",\"no2Grade\":\"1\",\"no2Value\":\"0.010\",\"numOfRows\":\"10\",\"o3Grade\":\"1\",\"o3Value\":\"0.026\",\"pageNo\":\"1\",\"pm10Grade\":\"1\",\"pm10Grade1h\":\"1\",\"pm10Value\":\"16\",\"pm10Value24\":\"20\",\"pm25Grade\":\"1\",\"pm25Grade1h\":\"1\",\"pm25Value\":\"5\",\"pm25Value24\":\"13\",\"resultCode\":\"\",\"resultMsg\":\"\",\"rnum\":0,\"serviceKey\":\"\",\"sidoName\":\"\",\"so2Grade\":\"1\",\"so2Value\":\"0.006\",\"stationCode\":\"\",\"stationName\":\"\\xea\\xb4\\x91\\xec\\xa7\\x84\\xea\\xb5\\xac\",\"totalCount\":\"\",\"ver\":\"\"},{\"_returnType\":\"json\",\"coGrade\":\"1\",\"coValue\":\"0.3\",\"dataTerm\":\"\",\"dataTime\":\"2018-07-13 15:00\",\"khaiGrade\":\"1\",\"khaiValue\":\"40\",\"mangName\":\"\\xeb\\x8f\\x84\\xec\\x8b\\x9c\\xeb\\x8c\\x80\\xea\\xb8\\xb0\",\"no2Grade\":\"1\",\"no2Value\":\"0.011\",\"numOfRows\":\"10\",\"o3Grade\":\"1\",\"o3Value\":\"0.016\",\"pageNo\":\"1\",\"pm10Grade\":\"1\",\"pm10Grade1h\":\"1\",\"pm10Value\":\"19\",\"pm10Value24\":\"20\",\"pm25Grade\":\"1\",\"pm25Grade1h\":\"1\",\"pm25Value\":\"7\",\"pm25Value24\":\"12\",\"resultCode\":\"\",\"resultMsg\":\"\",\"rnum\":0,\"serviceKey\":\"\",\"sidoName\":\"\",\"so2Grade\":\"1\",\"so2Value\":\"0.005\",\"stationCode\":\"\",\"stationName\":\"\\xec\\x84\\xb1\\xeb\\x8f\\x99\\xea\\xb5\\xac\",\"totalCount\":\"\",\"ver\":\"\"},{\"_returnType\":\"json\",\"coGrade\":\"1\",\"coValue\":\"0.4\",\"dataTerm\":\"\",\"dataTime\":\"2018-07-13 15:00\",\"khaiGrade\":\"2\",\"khaiValue\":\"98\",\"mangName\":\"\\xeb\\x8f\\x84\\xeb\\xa1\\x9c\\xeb\\xb3\\x80\\xeb\\x8c\\x80\\xea\\xb8\\xb0\",\"no2Grade\":\"2\",\"no2Value\":\"0.059\",\"numOfRows\":\"10\",\"o3Grade\":\"1\",\"o3Value\":\"0.011\",\"pageNo\":\"1\",\"pm10Grade\":\"1\",\"pm10Grade1h\":\"1\",\"pm10Value\":\"17\",\"pm10Value24\":\"22\",\"pm25Grade\":\"1\",\"pm25Grade1h\":\"1\",\"pm25Value\":\"11\",\"pm25Value24\":\"12\",\"resultCode\":\"\",\"resultMsg\":\"\",\"rnum\":0,\"serviceKey\":\"\",\"sidoName\":\"\",\"so2Grade\":\"1\",\"so2Value\":\"0.003\",\"stationCode\":\"\",\"stationName\":\"\\xea\\xb0\\x95\\xeb\\xb3\\x80\\xeb\\xb6\\x81\\xeb\\xa1\\x9c\",\"totalCount\":\"\",\"ver\":\"\"},{\"_returnType\":\"json\",\"coGrade\":\"1\",\"coValue\":\"0.3\",\"dataTerm\":\"\",\"dataTime\":\"2018-07-13 15:00\",\"khaiGrade\":\"1\",\"khaiValue\":\"37\",\"mangName\":\"\\xeb\\x8f\\x84\\xec\\x8b\\x9c\\xeb\\x8c\\x80\\xea\\xb8\\xb0\",\"no2Grade\":\"1\",\"no2Value\":\"0.014\",\"numOfRows\":\"10\",\"o3Grade\":\"1\",\"o3Value\":\"0.021\",\"pageNo\":\"1\",\"pm10Grade\":\"1\",\"pm10Grade1h\":\"1\",\"pm10Value\":\"12\",\"pm10Value24\":\"14\",\"pm25Grade\":\"1\",\"pm25Grade1h\":\"1\",\"pm25Value\":\"9\",\"pm25Value24\":\"11\",\"resultCode\":\"\",\"resultMsg\":\"\",\"rnum\":0,\"serviceKey\":\"\",\"sidoName\":\"\",\"so2Grade\":\"1\",\"so2Value\":\"0.006\",\"stationCode\":\"\",\"stationName\":\"\\xec\\xa4\\x91\\xeb\\x9e\\x91\\xea\\xb5\\xac\",\"totalCount\":\"\",\"ver\":\"\"}],\"parm\":{\"_returnType\":\"json\",\"coGrade\":\"\",\"coValue\":\"\",\"dataTerm\":\"\",\"dataTime\":\"\",\"khaiGrade\":\"\",\"khaiValue\":\"\",\"mangName\":\"\",\"no2Grade\":\"\",\"no2Value\":\"\",\"numOfRows\":\"10\",\"o3Grade\":\"\",\"o3Value\":\"\",\"pageNo\":\"1\",\"pm10Grade\":\"\",\"pm10Grade1h\":\"\",\"pm10Value\":\"\",\"pm10Value24\":\"\",\"pm25Grade\":\"\",\"pm25Grade1h\":\"\",\"pm25Value\":\"\",\"pm25Value24\":\"\",\"resultCode\":\"\",\"resultMsg\":\"\",\"rnum\":0,\"serviceKey\":\"ckzCRkQ0HOEcHoV+Z5N0fDqDm6Jyp4oTXIZdL5NduqXd+bEs+ZOvsAgOmvuR2YgF5uNI88ARNfA726SEAAAHKA==\",\"sidoName\":\"\\xec\\x84\\x9c\\xec\\x9a\\xb8\",\"so2Grade\":\"\",\"so2Value\":\"\",\"stationCode\":\"\",\"stationName\":\"\",\"totalCount\":\"\",\"ver\":\"1.3\"},\"ArpltnInforInqireSvcVo\":{\"_returnType\":\"json\",\"coGrade\":\"\",\"coValue\":\"\",\"dataTerm\":\"\",\"dataTime\":\"\",\"khaiGrade\":\"\",\"khaiValue\":\"\",\"mangName\":\"\",\"no2Grade\":\"\",\"no2Value\":\"\",\"numOfRows\":\"10\",\"o3Grade\":\"\",\"o3Value\":\"\",\"pageNo\":\"1\",\"pm10Grade\":\"\",\"pm10Grade1h\":\"\",\"pm10Value\":\"\",\"pm10Value24\":\"\",\"pm25Grade\":\"\",\"pm25Grade1h\":\"\",\"pm25Value\":\"\",\"pm25Value24\":\"\",\"resultCode\":\"\",\"resultMsg\":\"\",\"rnum\":0,\"serviceKey\":\"ckzCRkQ0HOEcHoV+Z5N0fDqDm6Jyp4oTXIZdL5NduqXd+bEs+ZOvsAgOmvuR2YgF5uNI88ARNfA726SEAAAHKA==\",\"sidoName\":\"\\xec\\x84\\x9c\\xec\\x9a\\xb8\",\"so2Grade\":\"\",\"so2Value\":\"\",\"stationCode\":\"\",\"stationName\":\"\",\"totalCount\":\"\",\"ver\":\"1.3\"},\"totalCount\":39}'"
      ]
     },
     "execution_count": 175,
     "metadata": {},
     "output_type": "execute_result"
    }
   ],
   "source": [
    "result"
   ]
  },
  {
   "cell_type": "code",
   "execution_count": 177,
   "metadata": {},
   "outputs": [],
   "source": [
    "resultStr = result.decode(\"utf-8\")"
   ]
  },
  {
   "cell_type": "code",
   "execution_count": 178,
   "metadata": {},
   "outputs": [],
   "source": [
    "resultObj = json.loads(resultStr)"
   ]
  },
  {
   "cell_type": "code",
   "execution_count": 184,
   "metadata": {},
   "outputs": [
    {
     "name": "stdout",
     "output_type": "stream",
     "text": [
      "list [{'_returnType': 'json', 'coGrade': '1', 'coValue': '0.3', 'dataTerm': '', 'dataTime': '2018-07-13 15:00', 'khaiGrade': '1', 'khaiValue': '43', 'mangName': '도시대기', 'no2Grade': '1', 'no2Value': '0.015', 'numOfRows': '10', 'o3Grade': '1', 'o3Value': '0.024', 'pageNo': '1', 'pm10Grade': '1', 'pm10Grade1h': '1', 'pm10Value': '17', 'pm10Value24': '21', 'pm25Grade': '1', 'pm25Grade1h': '1', 'pm25Value': '10', 'pm25Value24': '13', 'resultCode': '', 'resultMsg': '', 'rnum': 0, 'serviceKey': '', 'sidoName': '', 'so2Grade': '1', 'so2Value': '0.003', 'stationCode': '', 'stationName': '중구', 'totalCount': '', 'ver': ''}, {'_returnType': 'json', 'coGrade': '1', 'coValue': '0.5', 'dataTerm': '', 'dataTime': '2018-07-13 15:00', 'khaiGrade': '2', 'khaiValue': '53', 'mangName': '도로변대기', 'no2Grade': '1', 'no2Value': '0.027', 'numOfRows': '10', 'o3Grade': '1', 'o3Value': '0.019', 'pageNo': '1', 'pm10Grade': '2', 'pm10Grade1h': '1', 'pm10Value': '28', 'pm10Value24': '33', 'pm25Grade': '1', 'pm25Grade1h': '1', 'pm25Value': '8', 'pm25Value24': '14', 'resultCode': '', 'resultMsg': '', 'rnum': 0, 'serviceKey': '', 'sidoName': '', 'so2Grade': '1', 'so2Value': '0.005', 'stationCode': '', 'stationName': '한강대로', 'totalCount': '', 'ver': ''}, {'_returnType': 'json', 'coGrade': '1', 'coValue': '0.3', 'dataTerm': '', 'dataTime': '2018-07-13 15:00', 'khaiGrade': '2', 'khaiValue': '51', 'mangName': '도시대기', 'no2Grade': '1', 'no2Value': '0.019', 'numOfRows': '10', 'o3Grade': '1', 'o3Value': '0.020', 'pageNo': '1', 'pm10Grade': '1', 'pm10Grade1h': '1', 'pm10Value': '17', 'pm10Value24': '20', 'pm25Grade': '2', 'pm25Grade1h': '1', 'pm25Value': '14', 'pm25Value24': '16', 'resultCode': '', 'resultMsg': '', 'rnum': 0, 'serviceKey': '', 'sidoName': '', 'so2Grade': '', 'so2Value': '-', 'stationCode': '', 'stationName': '종로구', 'totalCount': '', 'ver': ''}, {'_returnType': 'json', 'coGrade': '1', 'coValue': '0.5', 'dataTerm': '', 'dataTime': '2018-07-13 15:00', 'khaiGrade': '2', 'khaiValue': '59', 'mangName': '도로변대기', 'no2Grade': '1', 'no2Value': '0.028', 'numOfRows': '10', 'o3Grade': '1', 'o3Value': '0.020', 'pageNo': '1', 'pm10Grade': '1', 'pm10Grade1h': '1', 'pm10Value': '20', 'pm10Value24': '25', 'pm25Grade': '2', 'pm25Grade1h': '2', 'pm25Value': '17', 'pm25Value24': '19', 'resultCode': '', 'resultMsg': '', 'rnum': 0, 'serviceKey': '', 'sidoName': '', 'so2Grade': '1', 'so2Value': '0.005', 'stationCode': '', 'stationName': '청계천로', 'totalCount': '', 'ver': ''}, {'_returnType': 'json', 'coGrade': '1', 'coValue': '0.3', 'dataTerm': '', 'dataTime': '2018-07-13 15:00', 'khaiGrade': '1', 'khaiValue': '43', 'mangName': '도로변대기', 'no2Grade': '1', 'no2Value': '0.020', 'numOfRows': '10', 'o3Grade': '1', 'o3Value': '0.019', 'pageNo': '1', 'pm10Grade': '1', 'pm10Grade1h': '1', 'pm10Value': '13', 'pm10Value24': '21', 'pm25Grade': '1', 'pm25Grade1h': '1', 'pm25Value': '11', 'pm25Value24': '13', 'resultCode': '', 'resultMsg': '', 'rnum': 0, 'serviceKey': '', 'sidoName': '', 'so2Grade': '1', 'so2Value': '0.003', 'stationCode': '', 'stationName': '종로', 'totalCount': '', 'ver': ''}, {'_returnType': 'json', 'coGrade': '1', 'coValue': '0.2', 'dataTerm': '', 'dataTime': '2018-07-13 15:00', 'khaiGrade': '1', 'khaiValue': '42', 'mangName': '도시대기', 'no2Grade': '1', 'no2Value': '0.017', 'numOfRows': '10', 'o3Grade': '1', 'o3Value': '0.025', 'pageNo': '1', 'pm10Grade': '1', 'pm10Grade1h': '', 'pm10Value': '-', 'pm10Value24': '18', 'pm25Grade': '1', 'pm25Grade1h': '1', 'pm25Value': '12', 'pm25Value24': '12', 'resultCode': '', 'resultMsg': '', 'rnum': 0, 'serviceKey': '', 'sidoName': '', 'so2Grade': '1', 'so2Value': '0.003', 'stationCode': '', 'stationName': '용산구', 'totalCount': '', 'ver': ''}, {'_returnType': 'json', 'coGrade': '1', 'coValue': '0.5', 'dataTerm': '', 'dataTime': '2018-07-13 15:00', 'khaiGrade': '1', 'khaiValue': '43', 'mangName': '도시대기', 'no2Grade': '1', 'no2Value': '0.010', 'numOfRows': '10', 'o3Grade': '1', 'o3Value': '0.026', 'pageNo': '1', 'pm10Grade': '1', 'pm10Grade1h': '1', 'pm10Value': '16', 'pm10Value24': '20', 'pm25Grade': '1', 'pm25Grade1h': '1', 'pm25Value': '5', 'pm25Value24': '13', 'resultCode': '', 'resultMsg': '', 'rnum': 0, 'serviceKey': '', 'sidoName': '', 'so2Grade': '1', 'so2Value': '0.006', 'stationCode': '', 'stationName': '광진구', 'totalCount': '', 'ver': ''}, {'_returnType': 'json', 'coGrade': '1', 'coValue': '0.3', 'dataTerm': '', 'dataTime': '2018-07-13 15:00', 'khaiGrade': '1', 'khaiValue': '40', 'mangName': '도시대기', 'no2Grade': '1', 'no2Value': '0.011', 'numOfRows': '10', 'o3Grade': '1', 'o3Value': '0.016', 'pageNo': '1', 'pm10Grade': '1', 'pm10Grade1h': '1', 'pm10Value': '19', 'pm10Value24': '20', 'pm25Grade': '1', 'pm25Grade1h': '1', 'pm25Value': '7', 'pm25Value24': '12', 'resultCode': '', 'resultMsg': '', 'rnum': 0, 'serviceKey': '', 'sidoName': '', 'so2Grade': '1', 'so2Value': '0.005', 'stationCode': '', 'stationName': '성동구', 'totalCount': '', 'ver': ''}, {'_returnType': 'json', 'coGrade': '1', 'coValue': '0.4', 'dataTerm': '', 'dataTime': '2018-07-13 15:00', 'khaiGrade': '2', 'khaiValue': '98', 'mangName': '도로변대기', 'no2Grade': '2', 'no2Value': '0.059', 'numOfRows': '10', 'o3Grade': '1', 'o3Value': '0.011', 'pageNo': '1', 'pm10Grade': '1', 'pm10Grade1h': '1', 'pm10Value': '17', 'pm10Value24': '22', 'pm25Grade': '1', 'pm25Grade1h': '1', 'pm25Value': '11', 'pm25Value24': '12', 'resultCode': '', 'resultMsg': '', 'rnum': 0, 'serviceKey': '', 'sidoName': '', 'so2Grade': '1', 'so2Value': '0.003', 'stationCode': '', 'stationName': '강변북로', 'totalCount': '', 'ver': ''}, {'_returnType': 'json', 'coGrade': '1', 'coValue': '0.3', 'dataTerm': '', 'dataTime': '2018-07-13 15:00', 'khaiGrade': '1', 'khaiValue': '37', 'mangName': '도시대기', 'no2Grade': '1', 'no2Value': '0.014', 'numOfRows': '10', 'o3Grade': '1', 'o3Value': '0.021', 'pageNo': '1', 'pm10Grade': '1', 'pm10Grade1h': '1', 'pm10Value': '12', 'pm10Value24': '14', 'pm25Grade': '1', 'pm25Grade1h': '1', 'pm25Value': '9', 'pm25Value24': '11', 'resultCode': '', 'resultMsg': '', 'rnum': 0, 'serviceKey': '', 'sidoName': '', 'so2Grade': '1', 'so2Value': '0.006', 'stationCode': '', 'stationName': '중랑구', 'totalCount': '', 'ver': ''}]\n",
      "parm {'_returnType': 'json', 'coGrade': '', 'coValue': '', 'dataTerm': '', 'dataTime': '', 'khaiGrade': '', 'khaiValue': '', 'mangName': '', 'no2Grade': '', 'no2Value': '', 'numOfRows': '10', 'o3Grade': '', 'o3Value': '', 'pageNo': '1', 'pm10Grade': '', 'pm10Grade1h': '', 'pm10Value': '', 'pm10Value24': '', 'pm25Grade': '', 'pm25Grade1h': '', 'pm25Value': '', 'pm25Value24': '', 'resultCode': '', 'resultMsg': '', 'rnum': 0, 'serviceKey': 'ckzCRkQ0HOEcHoV+Z5N0fDqDm6Jyp4oTXIZdL5NduqXd+bEs+ZOvsAgOmvuR2YgF5uNI88ARNfA726SEAAAHKA==', 'sidoName': '서울', 'so2Grade': '', 'so2Value': '', 'stationCode': '', 'stationName': '', 'totalCount': '', 'ver': '1.3'}\n",
      "ArpltnInforInqireSvcVo {'_returnType': 'json', 'coGrade': '', 'coValue': '', 'dataTerm': '', 'dataTime': '', 'khaiGrade': '', 'khaiValue': '', 'mangName': '', 'no2Grade': '', 'no2Value': '', 'numOfRows': '10', 'o3Grade': '', 'o3Value': '', 'pageNo': '1', 'pm10Grade': '', 'pm10Grade1h': '', 'pm10Value': '', 'pm10Value24': '', 'pm25Grade': '', 'pm25Grade1h': '', 'pm25Value': '', 'pm25Value24': '', 'resultCode': '', 'resultMsg': '', 'rnum': 0, 'serviceKey': 'ckzCRkQ0HOEcHoV+Z5N0fDqDm6Jyp4oTXIZdL5NduqXd+bEs+ZOvsAgOmvuR2YgF5uNI88ARNfA726SEAAAHKA==', 'sidoName': '서울', 'so2Grade': '', 'so2Value': '', 'stationCode': '', 'stationName': '', 'totalCount': '', 'ver': '1.3'}\n",
      "totalCount 39\n"
     ]
    }
   ],
   "source": [
    "for (k,v) in resultObj.items():\n",
    "    print(k, v)"
   ]
  },
  {
   "cell_type": "markdown",
   "metadata": {},
   "source": [
    "-------------------"
   ]
  },
  {
   "cell_type": "markdown",
   "metadata": {},
   "source": [
    "# 수업 미션"
   ]
  },
  {
   "cell_type": "code",
   "execution_count": 186,
   "metadata": {},
   "outputs": [],
   "source": [
    "import urllib.request"
   ]
  },
  {
   "cell_type": "code",
   "execution_count": 187,
   "metadata": {},
   "outputs": [],
   "source": [
    "import urllib.parse"
   ]
  },
  {
   "cell_type": "markdown",
   "metadata": {},
   "source": [
    "http://openapi.airkorea.or.kr/openapi/services/rest/ArpltnInforInqireSvc/getCtprvnMesureSidoLIst?serviceKey=9KqjAP%2FijkI%2Br6dHmHY864VhDsniQmD49ueQBQHm1OMBb34SncJ6L46YkQIiTUvlSdsy00sPVlP1Khgo0WFhvA%3D%3D&numOfRows=10&pageSize=10&pageNo=1&startPage=1&sidoName=%EC%84%9C%EC%9A%B8&searchCondition=DAILY&_returnType=json"
   ]
  },
  {
   "cell_type": "code",
   "execution_count": 189,
   "metadata": {},
   "outputs": [],
   "source": [
    "resp = urllib.request.urlopen(\"http://openapi.airkorea.or.kr/openapi/services/rest/ArpltnInforInqireSvc/getCtprvnMesureSidoLIst?serviceKey=9KqjAP%2FijkI%2Br6dHmHY864VhDsniQmD49ueQBQHm1OMBb34SncJ6L46YkQIiTUvlSdsy00sPVlP1Khgo0WFhvA%3D%3D&numOfRows=10&pageSize=10&pageNo=1&startPage=1&sidoName=%EC%84%9C%EC%9A%B8&searchCondition=DAILY&_returnType=json\")"
   ]
  },
  {
   "cell_type": "code",
   "execution_count": 190,
   "metadata": {},
   "outputs": [],
   "source": [
    "text = resp.read()"
   ]
  },
  {
   "cell_type": "code",
   "execution_count": 191,
   "metadata": {},
   "outputs": [
    {
     "data": {
      "text/plain": [
       "bytes"
      ]
     },
     "execution_count": 191,
     "metadata": {},
     "output_type": "execute_result"
    }
   ],
   "source": [
    "type(text)"
   ]
  },
  {
   "cell_type": "code",
   "execution_count": 192,
   "metadata": {},
   "outputs": [],
   "source": [
    "textStr = text.decode(\"UTF-8\")"
   ]
  },
  {
   "cell_type": "code",
   "execution_count": 195,
   "metadata": {},
   "outputs": [],
   "source": [
    "respObj = json.loads(textStr)"
   ]
  },
  {
   "cell_type": "code",
   "execution_count": 196,
   "metadata": {},
   "outputs": [
    {
     "name": "stdout",
     "output_type": "stream",
     "text": [
      "{'list': [{'_returnType': 'json', 'cityName': '강남구', 'cityNameEng': 'Gangnam-gu', 'coValue': '0.3', 'dataGubun': '', 'dataTime': '2018-07-13 15:00', 'districtCode': '02', 'districtNumSeq': '001', 'itemCode': '', 'khaiValue': '', 'no2Value': '0.016', 'numOfRows': '10', 'o3Value': '0.022', 'pageNo': '1', 'pm10Value': '15', 'pm25Value': '8', 'resultCode': '', 'resultMsg': '', 'searchCondition': '', 'serviceKey': '', 'sidoName': '서울', 'so2Value': '0.005', 'totalCount': ''}, {'_returnType': 'json', 'cityName': '강동구', 'cityNameEng': 'Gangdong-gu', 'coValue': '0.3', 'dataGubun': '', 'dataTime': '2018-07-13 15:00', 'districtCode': '02', 'districtNumSeq': '002', 'itemCode': '', 'khaiValue': '', 'no2Value': '0.014', 'numOfRows': '10', 'o3Value': '0.021', 'pageNo': '1', 'pm10Value': '17', 'pm25Value': '12', 'resultCode': '', 'resultMsg': '', 'searchCondition': '', 'serviceKey': '', 'sidoName': '서울', 'so2Value': '0.004', 'totalCount': ''}, {'_returnType': 'json', 'cityName': '강북구', 'cityNameEng': 'Gangbuk-gu', 'coValue': '0.2', 'dataGubun': '', 'dataTime': '2018-07-13 15:00', 'districtCode': '02', 'districtNumSeq': '003', 'itemCode': '', 'khaiValue': '', 'no2Value': '0.010', 'numOfRows': '10', 'o3Value': '0.028', 'pageNo': '1', 'pm10Value': '19', 'pm25Value': '13', 'resultCode': '', 'resultMsg': '', 'searchCondition': '', 'serviceKey': '', 'sidoName': '서울', 'so2Value': '0.003', 'totalCount': ''}, {'_returnType': 'json', 'cityName': '강서구', 'cityNameEng': 'Gangseo-gu', 'coValue': '0.2', 'dataGubun': '', 'dataTime': '2018-07-13 15:00', 'districtCode': '02', 'districtNumSeq': '004', 'itemCode': '', 'khaiValue': '', 'no2Value': '0.014', 'numOfRows': '10', 'o3Value': '0.025', 'pageNo': '1', 'pm10Value': '19', 'pm25Value': '7', 'resultCode': '', 'resultMsg': '', 'searchCondition': '', 'serviceKey': '', 'sidoName': '서울', 'so2Value': '0.002', 'totalCount': ''}, {'_returnType': 'json', 'cityName': '관악구', 'cityNameEng': 'Gwanak-gu', 'coValue': '0.2', 'dataGubun': '', 'dataTime': '2018-07-13 15:00', 'districtCode': '02', 'districtNumSeq': '005', 'itemCode': '', 'khaiValue': '', 'no2Value': '0.011', 'numOfRows': '10', 'o3Value': '0.037', 'pageNo': '1', 'pm10Value': '20', 'pm25Value': '9', 'resultCode': '', 'resultMsg': '', 'searchCondition': '', 'serviceKey': '', 'sidoName': '서울', 'so2Value': '0.003', 'totalCount': ''}, {'_returnType': 'json', 'cityName': '광진구', 'cityNameEng': 'Gwangjin-gu', 'coValue': '0.5', 'dataGubun': '', 'dataTime': '2018-07-13 15:00', 'districtCode': '02', 'districtNumSeq': '006', 'itemCode': '', 'khaiValue': '', 'no2Value': '0.010', 'numOfRows': '10', 'o3Value': '0.026', 'pageNo': '1', 'pm10Value': '16', 'pm25Value': '5', 'resultCode': '', 'resultMsg': '', 'searchCondition': '', 'serviceKey': '', 'sidoName': '서울', 'so2Value': '0.006', 'totalCount': ''}, {'_returnType': 'json', 'cityName': '구로구', 'cityNameEng': 'Guro-gu', 'coValue': '', 'dataGubun': '', 'dataTime': '2018-07-13 15:00', 'districtCode': '02', 'districtNumSeq': '007', 'itemCode': '', 'khaiValue': '', 'no2Value': '', 'numOfRows': '10', 'o3Value': '', 'pageNo': '1', 'pm10Value': '15', 'pm25Value': '8', 'resultCode': '', 'resultMsg': '', 'searchCondition': '', 'serviceKey': '', 'sidoName': '서울', 'so2Value': '', 'totalCount': ''}, {'_returnType': 'json', 'cityName': '금천구', 'cityNameEng': 'Geumcheon-gu', 'coValue': '0.2', 'dataGubun': '', 'dataTime': '2018-07-13 15:00', 'districtCode': '02', 'districtNumSeq': '008', 'itemCode': '', 'khaiValue': '', 'no2Value': '0.014', 'numOfRows': '10', 'o3Value': '0.036', 'pageNo': '1', 'pm10Value': '20', 'pm25Value': '15', 'resultCode': '', 'resultMsg': '', 'searchCondition': '', 'serviceKey': '', 'sidoName': '서울', 'so2Value': '0.004', 'totalCount': ''}, {'_returnType': 'json', 'cityName': '노원구', 'cityNameEng': 'Nowon-gu', 'coValue': '0.3', 'dataGubun': '', 'dataTime': '2018-07-13 15:00', 'districtCode': '02', 'districtNumSeq': '009', 'itemCode': '', 'khaiValue': '', 'no2Value': '0.011', 'numOfRows': '10', 'o3Value': '0.026', 'pageNo': '1', 'pm10Value': '22', 'pm25Value': '16', 'resultCode': '', 'resultMsg': '', 'searchCondition': '', 'serviceKey': '', 'sidoName': '서울', 'so2Value': '0.005', 'totalCount': ''}, {'_returnType': 'json', 'cityName': '도봉구', 'cityNameEng': 'Dobong-gu', 'coValue': '0.6', 'dataGubun': '', 'dataTime': '2018-07-13 15:00', 'districtCode': '02', 'districtNumSeq': '010', 'itemCode': '', 'khaiValue': '', 'no2Value': '0.011', 'numOfRows': '10', 'o3Value': '0.027', 'pageNo': '1', 'pm10Value': '21', 'pm25Value': '12', 'resultCode': '', 'resultMsg': '', 'searchCondition': '', 'serviceKey': '', 'sidoName': '서울', 'so2Value': '0.004', 'totalCount': ''}], 'parm': {'_returnType': 'json', 'cityName': '', 'cityNameEng': '', 'coValue': '', 'dataGubun': '', 'dataTime': '', 'districtCode': '', 'districtNumSeq': '', 'itemCode': '', 'khaiValue': '', 'no2Value': '', 'numOfRows': '10', 'o3Value': '', 'pageNo': '1', 'pm10Value': '', 'pm25Value': '', 'resultCode': '', 'resultMsg': '', 'searchCondition': 'DAILY', 'serviceKey': '9KqjAP/ijkI+r6dHmHY864VhDsniQmD49ueQBQHm1OMBb34SncJ6L46YkQIiTUvlSdsy00sPVlP1Khgo0WFhvA==', 'sidoName': '서울', 'so2Value': '', 'totalCount': ''}, 'CtprvnMesureLIstVo2': {'_returnType': 'json', 'cityName': '', 'cityNameEng': '', 'coValue': '', 'dataGubun': '', 'dataTime': '', 'districtCode': '', 'districtNumSeq': '', 'itemCode': '', 'khaiValue': '', 'no2Value': '', 'numOfRows': '10', 'o3Value': '', 'pageNo': '1', 'pm10Value': '', 'pm25Value': '', 'resultCode': '', 'resultMsg': '', 'searchCondition': 'DAILY', 'serviceKey': '9KqjAP/ijkI+r6dHmHY864VhDsniQmD49ueQBQHm1OMBb34SncJ6L46YkQIiTUvlSdsy00sPVlP1Khgo0WFhvA==', 'sidoName': '서울', 'so2Value': '', 'totalCount': ''}, 'totalCount': 625}\n"
     ]
    }
   ],
   "source": [
    "print(respObj)"
   ]
  },
  {
   "cell_type": "code",
   "execution_count": 197,
   "metadata": {},
   "outputs": [
    {
     "name": "stdout",
     "output_type": "stream",
     "text": [
      "list [{'_returnType': 'json', 'cityName': '강남구', 'cityNameEng': 'Gangnam-gu', 'coValue': '0.3', 'dataGubun': '', 'dataTime': '2018-07-13 15:00', 'districtCode': '02', 'districtNumSeq': '001', 'itemCode': '', 'khaiValue': '', 'no2Value': '0.016', 'numOfRows': '10', 'o3Value': '0.022', 'pageNo': '1', 'pm10Value': '15', 'pm25Value': '8', 'resultCode': '', 'resultMsg': '', 'searchCondition': '', 'serviceKey': '', 'sidoName': '서울', 'so2Value': '0.005', 'totalCount': ''}, {'_returnType': 'json', 'cityName': '강동구', 'cityNameEng': 'Gangdong-gu', 'coValue': '0.3', 'dataGubun': '', 'dataTime': '2018-07-13 15:00', 'districtCode': '02', 'districtNumSeq': '002', 'itemCode': '', 'khaiValue': '', 'no2Value': '0.014', 'numOfRows': '10', 'o3Value': '0.021', 'pageNo': '1', 'pm10Value': '17', 'pm25Value': '12', 'resultCode': '', 'resultMsg': '', 'searchCondition': '', 'serviceKey': '', 'sidoName': '서울', 'so2Value': '0.004', 'totalCount': ''}, {'_returnType': 'json', 'cityName': '강북구', 'cityNameEng': 'Gangbuk-gu', 'coValue': '0.2', 'dataGubun': '', 'dataTime': '2018-07-13 15:00', 'districtCode': '02', 'districtNumSeq': '003', 'itemCode': '', 'khaiValue': '', 'no2Value': '0.010', 'numOfRows': '10', 'o3Value': '0.028', 'pageNo': '1', 'pm10Value': '19', 'pm25Value': '13', 'resultCode': '', 'resultMsg': '', 'searchCondition': '', 'serviceKey': '', 'sidoName': '서울', 'so2Value': '0.003', 'totalCount': ''}, {'_returnType': 'json', 'cityName': '강서구', 'cityNameEng': 'Gangseo-gu', 'coValue': '0.2', 'dataGubun': '', 'dataTime': '2018-07-13 15:00', 'districtCode': '02', 'districtNumSeq': '004', 'itemCode': '', 'khaiValue': '', 'no2Value': '0.014', 'numOfRows': '10', 'o3Value': '0.025', 'pageNo': '1', 'pm10Value': '19', 'pm25Value': '7', 'resultCode': '', 'resultMsg': '', 'searchCondition': '', 'serviceKey': '', 'sidoName': '서울', 'so2Value': '0.002', 'totalCount': ''}, {'_returnType': 'json', 'cityName': '관악구', 'cityNameEng': 'Gwanak-gu', 'coValue': '0.2', 'dataGubun': '', 'dataTime': '2018-07-13 15:00', 'districtCode': '02', 'districtNumSeq': '005', 'itemCode': '', 'khaiValue': '', 'no2Value': '0.011', 'numOfRows': '10', 'o3Value': '0.037', 'pageNo': '1', 'pm10Value': '20', 'pm25Value': '9', 'resultCode': '', 'resultMsg': '', 'searchCondition': '', 'serviceKey': '', 'sidoName': '서울', 'so2Value': '0.003', 'totalCount': ''}, {'_returnType': 'json', 'cityName': '광진구', 'cityNameEng': 'Gwangjin-gu', 'coValue': '0.5', 'dataGubun': '', 'dataTime': '2018-07-13 15:00', 'districtCode': '02', 'districtNumSeq': '006', 'itemCode': '', 'khaiValue': '', 'no2Value': '0.010', 'numOfRows': '10', 'o3Value': '0.026', 'pageNo': '1', 'pm10Value': '16', 'pm25Value': '5', 'resultCode': '', 'resultMsg': '', 'searchCondition': '', 'serviceKey': '', 'sidoName': '서울', 'so2Value': '0.006', 'totalCount': ''}, {'_returnType': 'json', 'cityName': '구로구', 'cityNameEng': 'Guro-gu', 'coValue': '', 'dataGubun': '', 'dataTime': '2018-07-13 15:00', 'districtCode': '02', 'districtNumSeq': '007', 'itemCode': '', 'khaiValue': '', 'no2Value': '', 'numOfRows': '10', 'o3Value': '', 'pageNo': '1', 'pm10Value': '15', 'pm25Value': '8', 'resultCode': '', 'resultMsg': '', 'searchCondition': '', 'serviceKey': '', 'sidoName': '서울', 'so2Value': '', 'totalCount': ''}, {'_returnType': 'json', 'cityName': '금천구', 'cityNameEng': 'Geumcheon-gu', 'coValue': '0.2', 'dataGubun': '', 'dataTime': '2018-07-13 15:00', 'districtCode': '02', 'districtNumSeq': '008', 'itemCode': '', 'khaiValue': '', 'no2Value': '0.014', 'numOfRows': '10', 'o3Value': '0.036', 'pageNo': '1', 'pm10Value': '20', 'pm25Value': '15', 'resultCode': '', 'resultMsg': '', 'searchCondition': '', 'serviceKey': '', 'sidoName': '서울', 'so2Value': '0.004', 'totalCount': ''}, {'_returnType': 'json', 'cityName': '노원구', 'cityNameEng': 'Nowon-gu', 'coValue': '0.3', 'dataGubun': '', 'dataTime': '2018-07-13 15:00', 'districtCode': '02', 'districtNumSeq': '009', 'itemCode': '', 'khaiValue': '', 'no2Value': '0.011', 'numOfRows': '10', 'o3Value': '0.026', 'pageNo': '1', 'pm10Value': '22', 'pm25Value': '16', 'resultCode': '', 'resultMsg': '', 'searchCondition': '', 'serviceKey': '', 'sidoName': '서울', 'so2Value': '0.005', 'totalCount': ''}, {'_returnType': 'json', 'cityName': '도봉구', 'cityNameEng': 'Dobong-gu', 'coValue': '0.6', 'dataGubun': '', 'dataTime': '2018-07-13 15:00', 'districtCode': '02', 'districtNumSeq': '010', 'itemCode': '', 'khaiValue': '', 'no2Value': '0.011', 'numOfRows': '10', 'o3Value': '0.027', 'pageNo': '1', 'pm10Value': '21', 'pm25Value': '12', 'resultCode': '', 'resultMsg': '', 'searchCondition': '', 'serviceKey': '', 'sidoName': '서울', 'so2Value': '0.004', 'totalCount': ''}]\n",
      "\n",
      "parm {'_returnType': 'json', 'cityName': '', 'cityNameEng': '', 'coValue': '', 'dataGubun': '', 'dataTime': '', 'districtCode': '', 'districtNumSeq': '', 'itemCode': '', 'khaiValue': '', 'no2Value': '', 'numOfRows': '10', 'o3Value': '', 'pageNo': '1', 'pm10Value': '', 'pm25Value': '', 'resultCode': '', 'resultMsg': '', 'searchCondition': 'DAILY', 'serviceKey': '9KqjAP/ijkI+r6dHmHY864VhDsniQmD49ueQBQHm1OMBb34SncJ6L46YkQIiTUvlSdsy00sPVlP1Khgo0WFhvA==', 'sidoName': '서울', 'so2Value': '', 'totalCount': ''}\n",
      "\n",
      "CtprvnMesureLIstVo2 {'_returnType': 'json', 'cityName': '', 'cityNameEng': '', 'coValue': '', 'dataGubun': '', 'dataTime': '', 'districtCode': '', 'districtNumSeq': '', 'itemCode': '', 'khaiValue': '', 'no2Value': '', 'numOfRows': '10', 'o3Value': '', 'pageNo': '1', 'pm10Value': '', 'pm25Value': '', 'resultCode': '', 'resultMsg': '', 'searchCondition': 'DAILY', 'serviceKey': '9KqjAP/ijkI+r6dHmHY864VhDsniQmD49ueQBQHm1OMBb34SncJ6L46YkQIiTUvlSdsy00sPVlP1Khgo0WFhvA==', 'sidoName': '서울', 'so2Value': '', 'totalCount': ''}\n",
      "\n",
      "totalCount 625\n",
      "\n"
     ]
    }
   ],
   "source": [
    "for (k, v) in respObj.items():\n",
    "    print(k, v, end=\"\\n\\n\")"
   ]
  },
  {
   "cell_type": "markdown",
   "metadata": {},
   "source": [
    "----------------------------------------------"
   ]
  },
  {
   "cell_type": "code",
   "execution_count": 198,
   "metadata": {},
   "outputs": [],
   "source": [
    "from lxml import etree"
   ]
  },
  {
   "cell_type": "code",
   "execution_count": 199,
   "metadata": {},
   "outputs": [
    {
     "data": {
      "text/plain": [
       "['AncestorsIterator',\n",
       " 'AttributeBasedElementClassLookup',\n",
       " 'C14NError',\n",
       " 'CDATA',\n",
       " 'Comment',\n",
       " 'CommentBase',\n",
       " 'CustomElementClassLookup',\n",
       " 'DEBUG',\n",
       " 'DTD',\n",
       " 'DTDError',\n",
       " 'DTDParseError',\n",
       " 'DTDValidateError',\n",
       " 'DocInfo',\n",
       " 'DocumentInvalid',\n",
       " 'ETCompatXMLParser',\n",
       " 'ETXPath',\n",
       " 'Element',\n",
       " 'ElementBase',\n",
       " 'ElementChildIterator',\n",
       " 'ElementClassLookup',\n",
       " 'ElementDefaultClassLookup',\n",
       " 'ElementDepthFirstIterator',\n",
       " 'ElementNamespaceClassLookup',\n",
       " 'ElementTextIterator',\n",
       " 'ElementTree',\n",
       " 'Entity',\n",
       " 'EntityBase',\n",
       " 'Error',\n",
       " 'ErrorDomains',\n",
       " 'ErrorLevels',\n",
       " 'ErrorTypes',\n",
       " 'Extension',\n",
       " 'FallbackElementClassLookup',\n",
       " 'FunctionNamespace',\n",
       " 'HTML',\n",
       " 'HTMLParser',\n",
       " 'HTMLPullParser',\n",
       " 'LIBXML_COMPILED_VERSION',\n",
       " 'LIBXML_VERSION',\n",
       " 'LIBXSLT_COMPILED_VERSION',\n",
       " 'LIBXSLT_VERSION',\n",
       " 'LXML_VERSION',\n",
       " 'LxmlError',\n",
       " 'LxmlRegistryError',\n",
       " 'LxmlSyntaxError',\n",
       " 'NamespaceRegistryError',\n",
       " 'PI',\n",
       " 'PIBase',\n",
       " 'ParseError',\n",
       " 'ParserBasedElementClassLookup',\n",
       " 'ParserError',\n",
       " 'ProcessingInstruction',\n",
       " 'PyErrorLog',\n",
       " 'PythonElementClassLookup',\n",
       " 'QName',\n",
       " 'RelaxNG',\n",
       " 'RelaxNGError',\n",
       " 'RelaxNGErrorTypes',\n",
       " 'RelaxNGParseError',\n",
       " 'RelaxNGValidateError',\n",
       " 'Resolver',\n",
       " 'Schematron',\n",
       " 'SchematronError',\n",
       " 'SchematronParseError',\n",
       " 'SchematronValidateError',\n",
       " 'SerialisationError',\n",
       " 'SiblingsIterator',\n",
       " 'SubElement',\n",
       " 'TreeBuilder',\n",
       " 'XInclude',\n",
       " 'XIncludeError',\n",
       " 'XML',\n",
       " 'XMLDTDID',\n",
       " 'XMLID',\n",
       " 'XMLParser',\n",
       " 'XMLPullParser',\n",
       " 'XMLSchema',\n",
       " 'XMLSchemaError',\n",
       " 'XMLSchemaParseError',\n",
       " 'XMLSchemaValidateError',\n",
       " 'XMLSyntaxError',\n",
       " 'XMLTreeBuilder',\n",
       " 'XPath',\n",
       " 'XPathDocumentEvaluator',\n",
       " 'XPathElementEvaluator',\n",
       " 'XPathError',\n",
       " 'XPathEvalError',\n",
       " 'XPathEvaluator',\n",
       " 'XPathFunctionError',\n",
       " 'XPathResultError',\n",
       " 'XPathSyntaxError',\n",
       " 'XSLT',\n",
       " 'XSLTAccessControl',\n",
       " 'XSLTApplyError',\n",
       " 'XSLTError',\n",
       " 'XSLTExtension',\n",
       " 'XSLTExtensionError',\n",
       " 'XSLTParseError',\n",
       " 'XSLTSaveError',\n",
       " '_Attrib',\n",
       " '_BaseErrorLog',\n",
       " '_Comment',\n",
       " '_Document',\n",
       " '_DomainErrorLog',\n",
       " '_Element',\n",
       " '_ElementIterator',\n",
       " '_ElementMatchIterator',\n",
       " '_ElementStringResult',\n",
       " '_ElementTagMatcher',\n",
       " '_ElementTree',\n",
       " '_ElementUnicodeResult',\n",
       " '_Entity',\n",
       " '_ErrorLog',\n",
       " '_FeedParser',\n",
       " '_IDDict',\n",
       " '_ListErrorLog',\n",
       " '_LogEntry',\n",
       " '_ProcessingInstruction',\n",
       " '_RotatingErrorLog',\n",
       " '_SaxParserTarget',\n",
       " '_TargetParserResult',\n",
       " '_Validator',\n",
       " '_XPathEvaluatorBase',\n",
       " '_XSLTProcessingInstruction',\n",
       " '_XSLTResultTree',\n",
       " '__all__',\n",
       " '__builtins__',\n",
       " '__doc__',\n",
       " '__docformat__',\n",
       " '__file__',\n",
       " '__loader__',\n",
       " '__name__',\n",
       " '__package__',\n",
       " '__pyx_capi__',\n",
       " '__spec__',\n",
       " '__test__',\n",
       " '__version__',\n",
       " 'adopt_external_document',\n",
       " 'cleanup_namespaces',\n",
       " 'clear_error_log',\n",
       " 'dump',\n",
       " 'fromstring',\n",
       " 'fromstringlist',\n",
       " 'get_default_parser',\n",
       " 'htmlfile',\n",
       " 'iselement',\n",
       " 'iterparse',\n",
       " 'iterwalk',\n",
       " 'memory_debugger',\n",
       " 'parse',\n",
       " 'parseid',\n",
       " 'register_namespace',\n",
       " 'set_default_parser',\n",
       " 'set_element_class_lookup',\n",
       " 'strip_attributes',\n",
       " 'strip_elements',\n",
       " 'strip_tags',\n",
       " 'tostring',\n",
       " 'tostringlist',\n",
       " 'tounicode',\n",
       " 'use_global_python_log',\n",
       " 'xmlfile']"
      ]
     },
     "execution_count": 199,
     "metadata": {},
     "output_type": "execute_result"
    }
   ],
   "source": [
    "dir(etree)"
   ]
  },
  {
   "cell_type": "code",
   "execution_count": 200,
   "metadata": {},
   "outputs": [],
   "source": [
    "bookstore= etree.Element(\"bookstore\")"
   ]
  },
  {
   "cell_type": "code",
   "execution_count": 202,
   "metadata": {},
   "outputs": [],
   "source": [
    "book1 = etree.SubElement(bookstore, \"book\")"
   ]
  },
  {
   "cell_type": "code",
   "execution_count": 204,
   "metadata": {},
   "outputs": [],
   "source": [
    "book2 = etree.SubElement(bookstore, \"book\", attrib={\"category\":\"children\"})"
   ]
  },
  {
   "cell_type": "code",
   "execution_count": 206,
   "metadata": {},
   "outputs": [
    {
     "data": {
      "text/plain": [
       "lxml.etree._Element"
      ]
     },
     "execution_count": 206,
     "metadata": {},
     "output_type": "execute_result"
    }
   ],
   "source": [
    "type(book1)"
   ]
  },
  {
   "cell_type": "code",
   "execution_count": 208,
   "metadata": {},
   "outputs": [],
   "source": [
    "book1.attrib[\"category\"] = \"cooking\""
   ]
  },
  {
   "cell_type": "code",
   "execution_count": 209,
   "metadata": {},
   "outputs": [
    {
     "name": "stdout",
     "output_type": "stream",
     "text": [
      "<Element bookstore at 0x27c0e8a10c8>\n"
     ]
    }
   ],
   "source": [
    "print(bookstore)"
   ]
  },
  {
   "cell_type": "code",
   "execution_count": 211,
   "metadata": {},
   "outputs": [
    {
     "name": "stdout",
     "output_type": "stream",
     "text": [
      "<bookstore>\n",
      "  <book/>\n",
      "  <book category=\"cooking\"/>\n",
      "  <book category=\"children\"/>\n",
      "</bookstore>\n"
     ]
    }
   ],
   "source": [
    "etree.dump(bookstore)"
   ]
  },
  {
   "cell_type": "code",
   "execution_count": 212,
   "metadata": {},
   "outputs": [],
   "source": [
    "title1 = etree.Element(\"title\")"
   ]
  },
  {
   "cell_type": "code",
   "execution_count": 213,
   "metadata": {},
   "outputs": [],
   "source": [
    "title1.text = \"Harry Potter\""
   ]
  },
  {
   "cell_type": "code",
   "execution_count": 214,
   "metadata": {},
   "outputs": [
    {
     "name": "stdout",
     "output_type": "stream",
     "text": [
      "<title>Harry Potter</title>\n"
     ]
    }
   ],
   "source": [
    "etree.dump(title1)"
   ]
  },
  {
   "cell_type": "code",
   "execution_count": 215,
   "metadata": {},
   "outputs": [],
   "source": [
    "title1.attrib[\"lang\"]=\"en\""
   ]
  },
  {
   "cell_type": "code",
   "execution_count": 216,
   "metadata": {},
   "outputs": [
    {
     "name": "stdout",
     "output_type": "stream",
     "text": [
      "<title lang=\"en\">Harry Potter</title>\n"
     ]
    }
   ],
   "source": [
    "etree.dump(title1)"
   ]
  },
  {
   "cell_type": "code",
   "execution_count": 217,
   "metadata": {},
   "outputs": [],
   "source": [
    "book2.append(title1)"
   ]
  },
  {
   "cell_type": "code",
   "execution_count": 218,
   "metadata": {},
   "outputs": [
    {
     "name": "stdout",
     "output_type": "stream",
     "text": [
      "<bookstore>\n",
      "  <book/>\n",
      "  <book category=\"cooking\"/>\n",
      "  <book category=\"children\">\n",
      "    <title lang=\"en\">Harry Potter</title>\n",
      "  </book>\n",
      "</bookstore>\n"
     ]
    }
   ],
   "source": [
    "etree.dump(bookstore)"
   ]
  },
  {
   "cell_type": "code",
   "execution_count": 219,
   "metadata": {},
   "outputs": [
    {
     "data": {
      "text/plain": [
       "<Element title at 0x27c0e8a1908>"
      ]
     },
     "execution_count": 219,
     "metadata": {},
     "output_type": "execute_result"
    }
   ],
   "source": [
    "etree.SubElement(book1, \"title\", attrib={\"lang\":title1.get(\"lang\")})"
   ]
  },
  {
   "cell_type": "code",
   "execution_count": 220,
   "metadata": {},
   "outputs": [
    {
     "name": "stdout",
     "output_type": "stream",
     "text": [
      "<bookstore>\n",
      "  <book/>\n",
      "  <book category=\"cooking\">\n",
      "    <title lang=\"en\"/>\n",
      "  </book>\n",
      "  <book category=\"children\">\n",
      "    <title lang=\"en\">Harry Potter</title>\n",
      "  </book>\n",
      "</bookstore>\n"
     ]
    }
   ],
   "source": [
    "etree.dump(bookstore)"
   ]
  },
  {
   "cell_type": "code",
   "execution_count": 221,
   "metadata": {},
   "outputs": [],
   "source": [
    "xmlByte = etree.tostring(bookstore)"
   ]
  },
  {
   "cell_type": "code",
   "execution_count": 222,
   "metadata": {},
   "outputs": [
    {
     "data": {
      "text/plain": [
       "bytes"
      ]
     },
     "execution_count": 222,
     "metadata": {},
     "output_type": "execute_result"
    }
   ],
   "source": [
    "type(xmlByte)"
   ]
  },
  {
   "cell_type": "code",
   "execution_count": 223,
   "metadata": {},
   "outputs": [
    {
     "name": "stdout",
     "output_type": "stream",
     "text": [
      "b'<bookstore><book/><book category=\"cooking\"><title lang=\"en\"/></book><book category=\"children\"><title lang=\"en\">Harry Potter</title></book></bookstore>'\n"
     ]
    }
   ],
   "source": [
    "print(xmlByte)"
   ]
  },
  {
   "cell_type": "code",
   "execution_count": 254,
   "metadata": {},
   "outputs": [],
   "source": [
    "temp = etree.fromstring(xmlByte.decode(\"UTF-8\"))"
   ]
  },
  {
   "cell_type": "code",
   "execution_count": 255,
   "metadata": {},
   "outputs": [
    {
     "name": "stdout",
     "output_type": "stream",
     "text": [
      "<bookstore>\n",
      "  <book/>\n",
      "  <book category=\"cooking\">\n",
      "    <title lang=\"en\"/>\n",
      "  </book>\n",
      "  <book category=\"children\">\n",
      "    <title lang=\"en\">Harry Potter</title>\n",
      "  </book>\n",
      "</bookstore>\n"
     ]
    }
   ],
   "source": [
    "etree.dump(temp)"
   ]
  },
  {
   "cell_type": "code",
   "execution_count": 227,
   "metadata": {},
   "outputs": [],
   "source": [
    "tree = etree.ElementTree(temp)"
   ]
  },
  {
   "cell_type": "code",
   "execution_count": 228,
   "metadata": {},
   "outputs": [],
   "source": [
    "root = tree.getroot()"
   ]
  },
  {
   "cell_type": "code",
   "execution_count": 229,
   "metadata": {},
   "outputs": [
    {
     "name": "stdout",
     "output_type": "stream",
     "text": [
      "<bookstore>\n",
      "  <book/>\n",
      "  <book category=\"cooking\">\n",
      "    <title lang=\"en\"/>\n",
      "  </book>\n",
      "  <book category=\"children\">\n",
      "    <title lang=\"en\">Harry Potter</title>\n",
      "  </book>\n",
      "</bookstore>\n"
     ]
    }
   ],
   "source": [
    "etree.dump(root)"
   ]
  },
  {
   "cell_type": "code",
   "execution_count": 230,
   "metadata": {},
   "outputs": [
    {
     "data": {
      "text/plain": [
       "'1.0'"
      ]
     },
     "execution_count": 230,
     "metadata": {},
     "output_type": "execute_result"
    }
   ],
   "source": [
    "tree.docinfo.xml_version"
   ]
  },
  {
   "cell_type": "code",
   "execution_count": 231,
   "metadata": {},
   "outputs": [
    {
     "data": {
      "text/plain": [
       "'ISO-8859-1'"
      ]
     },
     "execution_count": 231,
     "metadata": {},
     "output_type": "execute_result"
    }
   ],
   "source": [
    "tree.docinfo.encoding"
   ]
  },
  {
   "cell_type": "code",
   "execution_count": 232,
   "metadata": {},
   "outputs": [
    {
     "name": "stdout",
     "output_type": "stream",
     "text": [
      "None\n"
     ]
    }
   ],
   "source": [
    "print(root.getparent())"
   ]
  },
  {
   "cell_type": "code",
   "execution_count": 234,
   "metadata": {},
   "outputs": [],
   "source": [
    "children = root.getchildren()"
   ]
  },
  {
   "cell_type": "code",
   "execution_count": 235,
   "metadata": {},
   "outputs": [
    {
     "data": {
      "text/plain": [
       "3"
      ]
     },
     "execution_count": 235,
     "metadata": {},
     "output_type": "execute_result"
    }
   ],
   "source": [
    "len(children)"
   ]
  },
  {
   "cell_type": "code",
   "execution_count": null,
   "metadata": {},
   "outputs": [],
   "source": [
    "for child in children:\n",
    "    print(child.tag ,child.get(\"category\"))"
   ]
  },
  {
   "cell_type": "markdown",
   "metadata": {},
   "source": [
    "---------------------------------"
   ]
  },
  {
   "cell_type": "code",
   "execution_count": 5,
   "metadata": {},
   "outputs": [],
   "source": [
    "import urllib.request"
   ]
  },
  {
   "cell_type": "code",
   "execution_count": null,
   "metadata": {},
   "outputs": [],
   "source": [
    "resp = urllib.request.urlopen(\"http://openapi.airkorea.or.kr/openapi/services/rest/ArpltnInforInqireSvc/getCtprvnMesureSidoLIst?serviceKey=9KqjAP%2FijkI%2Br6dHmHY864VhDsniQmD49ueQBQHm1OMBb34SncJ6L46YkQIiTUvlSdsy00sPVlP1Khgo0WFhvA%3D%3D&numOfRows=10&pageSize=10&pageNo=1&startPage=1&sidoName=%EC%84%9C%EC%9A%B8&searchCondition=DAILY\")"
   ]
  },
  {
   "cell_type": "code",
   "execution_count": null,
   "metadata": {},
   "outputs": [],
   "source": [
    "text = resp.read()"
   ]
  },
  {
   "cell_type": "code",
   "execution_count": null,
   "metadata": {},
   "outputs": [],
   "source": [
    "result = text.decode(\"UTF-8\")"
   ]
  },
  {
   "cell_type": "code",
   "execution_count": null,
   "metadata": {},
   "outputs": [],
   "source": [
    "apiTree = etree.fromstring(text)"
   ]
  },
  {
   "cell_type": "code",
   "execution_count": null,
   "metadata": {},
   "outputs": [],
   "source": [
    "etree.dump(apiTree)"
   ]
  },
  {
   "cell_type": "code",
   "execution_count": null,
   "metadata": {},
   "outputs": [],
   "source": []
  }
 ],
 "metadata": {
  "kernelspec": {
   "display_name": "Python 3",
   "language": "python",
   "name": "python3"
  },
  "language_info": {
   "codemirror_mode": {
    "name": "ipython",
    "version": 3
   },
   "file_extension": ".py",
   "mimetype": "text/x-python",
   "name": "python",
   "nbconvert_exporter": "python",
   "pygments_lexer": "ipython3",
   "version": "3.6.5"
  }
 },
 "nbformat": 4,
 "nbformat_minor": 2
}
