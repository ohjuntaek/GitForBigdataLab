{
 "cells": [
  {
   "cell_type": "markdown",
   "metadata": {},
   "source": [
    "# Exercise 61 : Average\n",
    "* 값의 collection의 평균을 구하는 프로그램 작성하라\n",
    "* 0은 종료 표시다\n",
    "* 만약에 처음 입력이 0 이면 에러 메세지 출력하라"
   ]
  },
  {
   "cell_type": "code",
   "execution_count": 31,
   "metadata": {},
   "outputs": [
    {
     "name": "stdout",
     "output_type": "stream",
     "text": [
      "0\n",
      "error! you have to enter value again except 0\n",
      "3\n",
      "4\n",
      "5\n",
      "0\n",
      "4.0\n"
     ]
    }
   ],
   "source": [
    "L = []\n",
    "while(True) :\n",
    "    a = input()\n",
    "    if int(a) == 0 :\n",
    "        try : \n",
    "            b = sum(L)/len(L)\n",
    "        except:\n",
    "            print(\"error! you have to enter value again except 0\")\n",
    "            continue\n",
    "        break\n",
    "    else :\n",
    "        L.append(int(a))\n",
    "print(b)\n",
    "        \n",
    "        "
   ]
  },
  {
   "cell_type": "markdown",
   "metadata": {},
   "source": [
    "# Excercise 63: Temperature Conversion Table\n",
    "* C와 F 테이블 작성하라.\n",
    "* C는 0 100 사이, 10의 배수인거 표시\n",
    "* 적절한 칼럼의 이름 넣고 해라\n",
    "* 32화씨 = 0섭씨\n",
    "* °F = °C × 1.8 + 32"
   ]
  },
  {
   "cell_type": "code",
   "execution_count": 29,
   "metadata": {},
   "outputs": [
    {
     "name": "stdout",
     "output_type": "stream",
     "text": [
      "°C\t|\t°F\n",
      "0\t|\t32.0\n",
      "10\t|\t50.0\n",
      "20\t|\t68.0\n",
      "30\t|\t86.0\n",
      "40\t|\t104.0\n",
      "50\t|\t122.0\n",
      "60\t|\t140.0\n",
      "70\t|\t158.0\n",
      "80\t|\t176.0\n",
      "90\t|\t194.0\n",
      "100\t|\t212.0\n"
     ]
    }
   ],
   "source": [
    "print(\"°C\\t|\\t°F\")\n",
    "for i in range(0,11):\n",
    "    C = 10*i\n",
    "    F = C*1.8+32\n",
    "    print(str(C)+\"\\t|\\t\"+str(F))"
   ]
  },
  {
   "cell_type": "markdown",
   "metadata": {},
   "source": [
    "# Exercise 66: Compute a grade Point Average\n",
    "* 학점 입력하는 건데 블랭크 입력하면 다 입력된거\n",
    "* A+ : 4.0, A:4.0, A- : 3.7, B+ : 3.3, B:3.0, B-:2.7, C+:2.3, C:2.0, C-:1.7, D+:1.3, D : 1.0, F:0, 평균 계산\n",
    "* 이상한거 입력하면 오류메세지 출력하게\n",
    "* map? hash? dict 쓰고, 값 있는지 없는지 보고 in 이였나 있으면 밸류 더해줘서 평균 구하기"
   ]
  },
  {
   "cell_type": "code",
   "execution_count": 2,
   "metadata": {},
   "outputs": [
    {
     "name": "stdout",
     "output_type": "stream",
     "text": [
      "a\n",
      "retry\n",
      "g\n",
      "retry\n",
      "3\n",
      "retry\n",
      "4\n",
      "retry\n",
      "A\n",
      "A+\n",
      "B\n",
      "B+\n",
      "F\n",
      "D\n",
      "\n",
      "2.5500000000000003\n"
     ]
    }
   ],
   "source": [
    "D = dict()\n",
    "D = {'A+' : 4.0, 'A':4.0, 'A-' : 3.7, 'B+' : 3.3, 'B':3.0, 'B-':2.7, 'C+':2.3, 'C':2.0, 'C-':1.7, 'D+':1.3, 'D' : 1.0, 'F':0}\n",
    "s = 0\n",
    "i = 0\n",
    "while(True):\n",
    "    try :\n",
    "        a = input()\n",
    "        if(a == \"\") :\n",
    "            break\n",
    "        s += D[str(a)]\n",
    "        i += 1\n",
    "    except : \n",
    "        print(\"retry\")\n",
    "print(s/i)\n"
   ]
  },
  {
   "cell_type": "markdown",
   "metadata": {},
   "source": [
    "# Excercise 67: Admission Price\n",
    "* 특정 동물원은 나이에 따라 입장료를 계산한다\n",
    "* 2살 이하는 공짜, 3~12세 14달러, 65 이상 18달러, 나머지 23달러\n",
    "* 블랭크 입력 끝\n",
    "* 소수점이하 두자리"
   ]
  },
  {
   "cell_type": "code",
   "execution_count": 15,
   "metadata": {},
   "outputs": [
    {
     "name": "stdout",
     "output_type": "stream",
     "text": [
      "15\n",
      "14\n",
      "1\n",
      "2\n",
      "3\n",
      "\n",
      "60.00\n"
     ]
    }
   ],
   "source": [
    "s = float()\n",
    "while(True) :\n",
    "    a = input()\n",
    "    if a == \"\" :\n",
    "        break\n",
    "    if int(a) <= 2 :\n",
    "        pass\n",
    "    elif 3 <= int(a) < 12 :\n",
    "        s += 14\n",
    "    elif int(a) >= 65 :\n",
    "        s += 18\n",
    "    else :\n",
    "        s += 23\n",
    "print('%.2f' % s)\n",
    "        \n",
    "    "
   ]
  },
  {
   "cell_type": "markdown",
   "metadata": {},
   "source": [
    "# is a String a Palindrome?\n",
    "* palindrome이 뭐냐.. 포워드랑 백워드랑 같으면 이효리 같은거네\n",
    "* 그래서 palindrome이면 맞다고 하고 아니면 아니라고 해라"
   ]
  },
  {
   "cell_type": "code",
   "execution_count": null,
   "metadata": {},
   "outputs": [],
   "source": [
    "while(True) :\n",
    "    a = input()\n",
    "    l = 0\n",
    "    flag = True\n",
    "    if a == \"\" : break\n",
    "    for i in a :\n",
    "        if(i == a[len(a)-1-l]) :\n",
    "           pass\n",
    "        else :\n",
    "            flag = False\n",
    "            break\n",
    "        l += 1\n",
    "    if flag == True :\n",
    "        print(\"Palindrome\")\n",
    "    else :\n",
    "        print(\"Nope\")\n",
    "        \n",
    "        \n",
    "        \n",
    "        "
   ]
  }
 ],
 "metadata": {
  "kernelspec": {
   "display_name": "Python 3",
   "language": "python",
   "name": "python3"
  },
  "language_info": {
   "codemirror_mode": {
    "name": "ipython",
    "version": 3
   },
   "file_extension": ".py",
   "mimetype": "text/x-python",
   "name": "python",
   "nbconvert_exporter": "python",
   "pygments_lexer": "ipython3",
   "version": "3.6.5"
  }
 },
 "nbformat": 4,
 "nbformat_minor": 2
}
